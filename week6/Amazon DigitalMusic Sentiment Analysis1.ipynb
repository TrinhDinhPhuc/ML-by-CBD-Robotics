{
 "cells": [
  {
   "cell_type": "code",
   "execution_count": 1,
   "metadata": {
    "collapsed": true
   },
   "outputs": [],
   "source": [
    "# import neccessary libraries\n",
    "import numpy as np\n",
    "import pandas as pd\n",
    "import matplotlib.pyplot as plt\n",
    "%matplotlib inline\n",
    "\n",
    "# disable some warnings\n",
    "import warnings\n",
    "warnings.simplefilter(action = \"ignore\")"
   ]
  },
  {
   "cell_type": "code",
   "execution_count": 2,
   "metadata": {
    "collapsed": false
   },
   "outputs": [],
   "source": [
    "df = pd.read_csv('perfectly_DigitalMusic.csv',sep=\"\\t\")\n",
    "df.drop(df[df.reviewText_new.isnull()].index, inplace=True)\n",
    "df = df.drop(df.columns[df.columns.str.contains('unnamed',case = False)],axis = 1)"
   ]
  },
  {
   "cell_type": "code",
   "execution_count": 3,
   "metadata": {
    "collapsed": false
   },
   "outputs": [
    {
     "data": {
      "text/html": [
       "<div>\n",
       "<table border=\"1\" class=\"dataframe\">\n",
       "  <thead>\n",
       "    <tr style=\"text-align: right;\">\n",
       "      <th></th>\n",
       "      <th>asin</th>\n",
       "      <th>overall</th>\n",
       "      <th>summary</th>\n",
       "      <th>reviewText</th>\n",
       "      <th>reviewText_new</th>\n",
       "    </tr>\n",
       "  </thead>\n",
       "  <tbody>\n",
       "    <tr>\n",
       "      <th>0</th>\n",
       "      <td>5555991584</td>\n",
       "      <td>5.0</td>\n",
       "      <td>Enya's last great album</td>\n",
       "      <td>It's hard to believe \"Memory of Trees\" came ou...</td>\n",
       "      <td>hard believe \"memory trees\" came 11 years ago;...</td>\n",
       "    </tr>\n",
       "    <tr>\n",
       "      <th>1</th>\n",
       "      <td>5555991584</td>\n",
       "      <td>5.0</td>\n",
       "      <td>Enya at her most elegant</td>\n",
       "      <td>A clasically-styled and introverted album, Mem...</td>\n",
       "      <td>clasically-styled introverted album, memory tr...</td>\n",
       "    </tr>\n",
       "  </tbody>\n",
       "</table>\n",
       "</div>"
      ],
      "text/plain": [
       "         asin  overall                   summary  \\\n",
       "0  5555991584      5.0   Enya's last great album   \n",
       "1  5555991584      5.0  Enya at her most elegant   \n",
       "\n",
       "                                          reviewText  \\\n",
       "0  It's hard to believe \"Memory of Trees\" came ou...   \n",
       "1  A clasically-styled and introverted album, Mem...   \n",
       "\n",
       "                                      reviewText_new  \n",
       "0  hard believe \"memory trees\" came 11 years ago;...  \n",
       "1  clasically-styled introverted album, memory tr...  "
      ]
     },
     "execution_count": 3,
     "metadata": {},
     "output_type": "execute_result"
    }
   ],
   "source": [
    "df.head(2)"
   ]
  },
  {
   "cell_type": "code",
   "execution_count": 4,
   "metadata": {
    "collapsed": false
   },
   "outputs": [],
   "source": [
    "data=df[['reviewText_new','summary','overall']]\n",
    "# ignore all 3* reviews\n",
    "data = data[data[\"overall\"] != 3]\n",
    "# positive sentiment = 4* or 5* reviews\n",
    "data[\"sentiment\"] = data[\"overall\"] >= 4\n",
    "data= data.drop(['overall'], axis=1)"
   ]
  },
  {
   "cell_type": "markdown",
   "metadata": {},
   "source": [
    "### tf-idf vectorizer"
   ]
  },
  {
   "cell_type": "code",
   "execution_count": 14,
   "metadata": {
    "collapsed": false
   },
   "outputs": [],
   "source": [
    "from sklearn.model_selection import train_test_split\n",
    "from sklearn.feature_extraction.text import TfidfVectorizer\n",
    "\n",
    "reviewText_new, summary, sentiment = (data.reviewText_new, data.summary, data.sentiment)\n",
    "review_x_train, review_x_test, review_y_train, review_y_test = train_test_split(\n",
    "    reviewText_new, sentiment, test_size=0.2, random_state=42)\n",
    "summary_x_train, summary_x_test, summary_y_train, summary_y_test = train_test_split(\n",
    "    summary, sentiment, test_size=0.2, random_state=42)\n",
    "\n",
    "# using tf-idf vectorizer\n",
    "vectorizer = TfidfVectorizer(max_df = 0.5,             #max_df is used for removing terms that appear too frequently, also known as \"corpus-specific stop words\". For example:\n",
    "                                                       #max_df = 0.50 means \"ignore terms that appear in more than 50% of the documents\".\n",
    "                                                       #max_df = 25 means \"ignore terms that appear in more than 25 documents\".\n",
    "                             stop_words='english',\n",
    "                             sublinear_tf=True, \n",
    "                             use_idf=True,\n",
    "                             lowercase=True)\n",
    "#*------Hold-out and Cross Validation--------*\n",
    "# using k-fold validation\n",
    "REVIEW_x_vectors = vectorizer.fit_transform(reviewText_new)\n",
    "SUMMARY_x_vectors = vectorizer.fit_transform(summary)\n",
    "\n",
    "# The fit_transform method applies to feature extraction objects such as CountVectorizer and TfidfTransformer. \n",
    "# The \"fit\" part applies to the feature extractor itself: it determines what features it will base future transformations on. \n",
    "#The \"transform\" part is what takes the data and spits some transformed data back at you. \n",
    "REVIEW_x_train_vectors = vectorizer.fit_transform(review_x_train)\n",
    "REVIEW_x_test_vectors  = vectorizer.transform(review_x_test)\n",
    "\n",
    "#fit_transform() joins these two steps and is used for the initial fitting of parameters on the training set xx, but it also returns a transformed x′x′. Internally, it just calls first fit() and then transform() on the same data.\n",
    "SUMMARY_x_train_vectors = vectorizer.fit_transform(summary_x_train)\n",
    "SUMMARY_x_test_vectors  = vectorizer.transform(summary_x_test)\n"
   ]
  },
  {
   "cell_type": "markdown",
   "metadata": {},
   "source": [
    "# Time to classify by applying some models"
   ]
  },
  {
   "cell_type": "markdown",
   "metadata": {},
   "source": [
    "## Doing with meaningful_review feature"
   ]
  },
  {
   "cell_type": "code",
   "execution_count": null,
   "metadata": {
    "collapsed": false
   },
   "outputs": [
    {
     "name": "stdout",
     "output_type": "stream",
     "text": [
      "Training MultinomialNB classifier...\n",
      "Doing Houd-out...\n",
      "Doing K-fold cross validation...\n",
      "Training Linear SVM classifier...\n",
      "Doing Houd-out...\n"
     ]
    }
   ],
   "source": [
    "from sklearn.naive_bayes import MultinomialNB\n",
    "from sklearn.svm import SVC\n",
    "from sklearn.model_selection import cross_val_score\n",
    "from operator import itemgetter\n",
    "\n",
    "names = [\"MultinomialNB\", \"Linear SVM\"]\n",
    "classifiers = [\n",
    "    MultinomialNB(),\n",
    "    SVC(kernel=\"linear\", C=0.025)\n",
    "    ]\n",
    "\n",
    "# iterate over classifiers\n",
    "results = {}\n",
    "k_fold_results = {}\n",
    "\n",
    "for name, clf in zip(names, classifiers):\n",
    "    print (\"Training \" + name + \" classifier...\")\n",
    "    print(\"Doing Houd-out...\")\n",
    "    clf.fit(REVIEW_x_train_vectors, review_y_train)\n",
    "    score = clf.score(REVIEW_x_test_vectors, review_y_test)\n",
    "    results[name] = score\n",
    "    print(\"Doing K-fold cross validation...\")\n",
    "    value_cross_val_score = cross_val_score(clf, REVIEW_x_vectors, sentiment, cv=5).mean()\n",
    "    k_fold_results[name]= value_cross_val_score\n",
    "\n",
    "print (\"---------------------------\")\n",
    "print (\"Evaluation results\")\n",
    "print (\"---------------------------\")\n",
    "\n",
    "# sorting results and print out\n",
    "sorted(results.items(), key=itemgetter(1))\n",
    "for name in results:\n",
    "    print (\"Hold-out: \",name + \" accuracy: %0.3f\" % results[name])\n",
    "    print (\"Cross validation 5-fold: \",name + \" accuracy: %0.3f\" % k_fold_results[name])"
   ]
  },
  {
   "cell_type": "code",
   "execution_count": 12,
   "metadata": {
    "collapsed": false
   },
   "outputs": [
    {
     "name": "stdout",
     "output_type": "stream",
     "text": [
      "Value after using hold-out:  0.904005524862\n",
      "Value after using cross validation with 10-fold: 0.899321460302\n"
     ]
    }
   ],
   "source": [
    "from sklearn.naive_bayes import MultinomialNB\n",
    "# Train the model\n",
    "REVIEW_gauss_clf = MultinomialNB()\n",
    "REVIEW_gauss_clf.fit(REVIEW_x_train_vectors, review_y_train)\n",
    "print('Value after using hold-out: ', REVIEW_gauss_clf.score(REVIEW_x_test_vectors, review_y_test))\n",
    "\n",
    "from sklearn.model_selection import cross_val_score\n",
    "print('Value after using cross validation with 10-fold:', \n",
    "      cross_val_score(REVIEW_gauss_clf, REVIEW_x_vectors, sentiment, cv=10).mean())"
   ]
  },
  {
   "cell_type": "markdown",
   "metadata": {},
   "source": [
    "## Doing with summary feature"
   ]
  },
  {
   "cell_type": "code",
   "execution_count": null,
   "metadata": {
    "collapsed": false
   },
   "outputs": [],
   "source": [
    "from sklearn.naive_bayes import MultinomialNB\n",
    "from sklearn.svm import SVC\n",
    "from sklearn.model_selection import cross_val_score\n",
    "\n",
    "names = [\"MultinomialNB\", \"Linear SVM\"]\n",
    "classifiers = [\n",
    "    MultinomialNB(),\n",
    "    SVC(kernel=\"linear\", C=0.025)\n",
    "    ]\n",
    "\n",
    "# iterate over classifiers\n",
    "results = {}\n",
    "k_fold_results = {}\n",
    "\n",
    "for name, clf in zip(names, classifiers):\n",
    "    print (\"Training \" + name + \" classifier...\")\n",
    "    print(\"Doing Houd-out...\")\n",
    "    clf.fit(SUMMARY_x_train_vectors, summary_y_train)\n",
    "    score = clf.score(SUMMARY_x_test_vectors, summary_y_test)\n",
    "    results[name] = score\n",
    "    print(\"Doing K-fold cross validation...\")\n",
    "    value_cross_val_score = cross_val_score(SUMMARY_gauss_clf, SUMMARY_x_vectors, sentiment, cv=5).mean()\n",
    "    k_fold_results[name]= value_cross_val_score\n",
    "\n",
    "print (\"---------------------------\")\n",
    "print (\"Evaluation results\")\n",
    "print (\"---------------------------\")\n",
    "\n",
    "# sorting results and print out\n",
    "sorted(results.items(), key=itemgetter(1))\n",
    "for name in results:\n",
    "    print (\"Hold-out: \",name + \" accuracy: %0.3f\" % results[name])\n",
    "    print (\"Cross validation 5-fold: \",name + \" accuracy: %0.3f\" % k_fold_results[name])"
   ]
  },
  {
   "cell_type": "code",
   "execution_count": 16,
   "metadata": {
    "collapsed": false
   },
   "outputs": [
    {
     "name": "stdout",
     "output_type": "stream",
     "text": [
      "Value after using hold-out:  0.913328729282\n",
      "Value after using cross validation with 10-fold: 0.907591890467\n"
     ]
    }
   ],
   "source": [
    "from sklearn.naive_bayes import MultinomialNB\n",
    "# Train the model\n",
    "SUMMARY_gauss_clf = MultinomialNB()\n",
    "SUMMARY_gauss_clf.fit(SUMMARY_x_train_vectors, summary_y_train)\n",
    "print('Value after using hold-out: ', SUMMARY_gauss_clf.score(SUMMARY_x_test_vectors, summary_y_test))\n",
    "\n",
    "from sklearn.model_selection import cross_val_score\n",
    "print('Value after using cross validation with 10-fold:', \n",
    "      cross_val_score(SUMMARY_gauss_clf, SUMMARY_x_vectors, sentiment, cv=10).mean())"
   ]
  },
  {
   "cell_type": "code",
   "execution_count": null,
   "metadata": {
    "collapsed": true
   },
   "outputs": [],
   "source": []
  }
 ],
 "metadata": {
  "kernelspec": {
   "display_name": "Python 3",
   "language": "python",
   "name": "python3"
  },
  "language_info": {
   "codemirror_mode": {
    "name": "ipython",
    "version": 3
   },
   "file_extension": ".py",
   "mimetype": "text/x-python",
   "name": "python",
   "nbconvert_exporter": "python",
   "pygments_lexer": "ipython3",
   "version": "3.6.0"
  }
 },
 "nbformat": 4,
 "nbformat_minor": 2
}
