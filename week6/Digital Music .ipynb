{
 "cells": [
  {
   "cell_type": "code",
   "execution_count": 1,
   "metadata": {
    "collapsed": true
   },
   "outputs": [],
   "source": [
    "import pandas as pd\n",
    "import matplotlib.pyplot as plt\n",
    "import numpy as np\n",
    "%matplotlib inline\n",
    "import seaborn as sns"
   ]
  },
  {
   "cell_type": "code",
   "execution_count": 2,
   "metadata": {
    "collapsed": false
   },
   "outputs": [],
   "source": [
    "df= pd.read_csv(\"../../data/perfectly_DigitalMusic.csv\",sep=\"\\t\")"
   ]
  },
  {
   "cell_type": "code",
   "execution_count": 3,
   "metadata": {
    "collapsed": false
   },
   "outputs": [
    {
     "data": {
      "text/html": [
       "<div>\n",
       "<table border=\"1\" class=\"dataframe\">\n",
       "  <thead>\n",
       "    <tr style=\"text-align: right;\">\n",
       "      <th></th>\n",
       "      <th>Unnamed: 0</th>\n",
       "      <th>asin</th>\n",
       "      <th>overall</th>\n",
       "      <th>summary</th>\n",
       "      <th>reviewText</th>\n",
       "      <th>reviewText_new</th>\n",
       "    </tr>\n",
       "  </thead>\n",
       "  <tbody>\n",
       "    <tr>\n",
       "      <th>0</th>\n",
       "      <td>0</td>\n",
       "      <td>5555991584</td>\n",
       "      <td>5.0</td>\n",
       "      <td>Enya's last great album</td>\n",
       "      <td>It's hard to believe \"Memory of Trees\" came ou...</td>\n",
       "      <td>hard believe \"memory trees\" came 11 years ago;...</td>\n",
       "    </tr>\n",
       "    <tr>\n",
       "      <th>1</th>\n",
       "      <td>1</td>\n",
       "      <td>5555991584</td>\n",
       "      <td>5.0</td>\n",
       "      <td>Enya at her most elegant</td>\n",
       "      <td>A clasically-styled and introverted album, Mem...</td>\n",
       "      <td>clasically-styled introverted album, memory tr...</td>\n",
       "    </tr>\n",
       "  </tbody>\n",
       "</table>\n",
       "</div>"
      ],
      "text/plain": [
       "   Unnamed: 0        asin  overall                   summary  \\\n",
       "0           0  5555991584      5.0   Enya's last great album   \n",
       "1           1  5555991584      5.0  Enya at her most elegant   \n",
       "\n",
       "                                          reviewText  \\\n",
       "0  It's hard to believe \"Memory of Trees\" came ou...   \n",
       "1  A clasically-styled and introverted album, Mem...   \n",
       "\n",
       "                                      reviewText_new  \n",
       "0  hard believe \"memory trees\" came 11 years ago;...  \n",
       "1  clasically-styled introverted album, memory tr...  "
      ]
     },
     "execution_count": 3,
     "metadata": {},
     "output_type": "execute_result"
    }
   ],
   "source": [
    "df.head(2)"
   ]
  },
  {
   "cell_type": "markdown",
   "metadata": {},
   "source": [
    "# Data Cleaning"
   ]
  },
  {
   "cell_type": "code",
   "execution_count": 4,
   "metadata": {
    "collapsed": false
   },
   "outputs": [
    {
     "data": {
      "text/plain": [
       "Unnamed: 0        0\n",
       "asin              0\n",
       "overall           0\n",
       "summary           0\n",
       "reviewText        1\n",
       "reviewText_new    1\n",
       "dtype: int64"
      ]
     },
     "execution_count": 4,
     "metadata": {},
     "output_type": "execute_result"
    }
   ],
   "source": [
    "df.isnull().sum()"
   ]
  },
  {
   "cell_type": "code",
   "execution_count": 5,
   "metadata": {
    "collapsed": false
   },
   "outputs": [],
   "source": [
    "df=df.drop(df.columns[df.columns.str.contains('unnamed',case=False)],axis=1)"
   ]
  },
  {
   "cell_type": "code",
   "execution_count": 6,
   "metadata": {
    "collapsed": true
   },
   "outputs": [],
   "source": [
    "df.drop(df[df.reviewText.isnull()].index,inplace=True)\n",
    "df.drop(df[df.reviewText_new.isnull()].index,inplace=True)"
   ]
  },
  {
   "cell_type": "code",
   "execution_count": 7,
   "metadata": {
    "collapsed": false
   },
   "outputs": [
    {
     "data": {
      "text/plain": [
       "asin              0\n",
       "overall           0\n",
       "summary           0\n",
       "reviewText        0\n",
       "reviewText_new    0\n",
       "dtype: int64"
      ]
     },
     "execution_count": 7,
     "metadata": {},
     "output_type": "execute_result"
    }
   ],
   "source": [
    "df.isnull().sum()"
   ]
  },
  {
   "cell_type": "code",
   "execution_count": 8,
   "metadata": {
    "collapsed": false
   },
   "outputs": [
    {
     "data": {
      "text/html": [
       "<div>\n",
       "<table border=\"1\" class=\"dataframe\">\n",
       "  <thead>\n",
       "    <tr style=\"text-align: right;\">\n",
       "      <th></th>\n",
       "      <th>asin</th>\n",
       "      <th>overall</th>\n",
       "      <th>summary</th>\n",
       "      <th>reviewText</th>\n",
       "      <th>reviewText_new</th>\n",
       "    </tr>\n",
       "  </thead>\n",
       "  <tbody>\n",
       "    <tr>\n",
       "      <th>64703</th>\n",
       "      <td>B00KILDVEI</td>\n",
       "      <td>5.0</td>\n",
       "      <td>Five Stars</td>\n",
       "      <td>I absolutely love this song, it downloaded fin...</td>\n",
       "      <td>absolutely love song, downloaded fine, would r...</td>\n",
       "    </tr>\n",
       "    <tr>\n",
       "      <th>64704</th>\n",
       "      <td>B00KILDVEI</td>\n",
       "      <td>3.0</td>\n",
       "      <td>Well-crafted song</td>\n",
       "      <td>Reggae, island beats aren't really my cup of t...</td>\n",
       "      <td>reggae, island beats really cup team. so, part...</td>\n",
       "    </tr>\n",
       "    <tr>\n",
       "      <th>64705</th>\n",
       "      <td>B00KILDVEI</td>\n",
       "      <td>1.0</td>\n",
       "      <td>Souless Reggae</td>\n",
       "      <td>Magic! is a Canadian band that incorporates re...</td>\n",
       "      <td>magic! canadian band incorporates reggae pop s...</td>\n",
       "    </tr>\n",
       "  </tbody>\n",
       "</table>\n",
       "</div>"
      ],
      "text/plain": [
       "             asin  overall            summary  \\\n",
       "64703  B00KILDVEI      5.0         Five Stars   \n",
       "64704  B00KILDVEI      3.0  Well-crafted song   \n",
       "64705  B00KILDVEI      1.0     Souless Reggae   \n",
       "\n",
       "                                              reviewText  \\\n",
       "64703  I absolutely love this song, it downloaded fin...   \n",
       "64704  Reggae, island beats aren't really my cup of t...   \n",
       "64705  Magic! is a Canadian band that incorporates re...   \n",
       "\n",
       "                                          reviewText_new  \n",
       "64703  absolutely love song, downloaded fine, would r...  \n",
       "64704  reggae, island beats really cup team. so, part...  \n",
       "64705  magic! canadian band incorporates reggae pop s...  "
      ]
     },
     "execution_count": 8,
     "metadata": {},
     "output_type": "execute_result"
    }
   ],
   "source": [
    "df.tail(3)"
   ]
  },
  {
   "cell_type": "markdown",
   "metadata": {},
   "source": [
    "---------------------------------"
   ]
  },
  {
   "cell_type": "markdown",
   "metadata": {},
   "source": [
    "# Classify overall feature into 3 types of sentiment: negative,neutral,positive "
   ]
  },
  {
   "cell_type": "code",
   "execution_count": 9,
   "metadata": {
    "collapsed": false
   },
   "outputs": [],
   "source": [
    "df.loc[df.overall==3,'overall']='neutral'\n",
    "df.loc[df.overall==1,'overall']='negative'\n",
    "df.loc[df.overall==2,'overall']='negative'\n",
    "df.loc[df.overall==4,'overall']='postive'\n",
    "df.loc[df.overall==5,'overall']='postive'"
   ]
  },
  {
   "cell_type": "code",
   "execution_count": 10,
   "metadata": {
    "collapsed": false
   },
   "outputs": [
    {
     "data": {
      "text/html": [
       "<div>\n",
       "<table border=\"1\" class=\"dataframe\">\n",
       "  <thead>\n",
       "    <tr style=\"text-align: right;\">\n",
       "      <th></th>\n",
       "      <th>asin</th>\n",
       "      <th>overall</th>\n",
       "      <th>summary</th>\n",
       "      <th>reviewText</th>\n",
       "      <th>reviewText_new</th>\n",
       "    </tr>\n",
       "  </thead>\n",
       "  <tbody>\n",
       "    <tr>\n",
       "      <th>0</th>\n",
       "      <td>5555991584</td>\n",
       "      <td>postive</td>\n",
       "      <td>Enya's last great album</td>\n",
       "      <td>It's hard to believe \"Memory of Trees\" came ou...</td>\n",
       "      <td>hard believe \"memory trees\" came 11 years ago;...</td>\n",
       "    </tr>\n",
       "    <tr>\n",
       "      <th>1</th>\n",
       "      <td>5555991584</td>\n",
       "      <td>postive</td>\n",
       "      <td>Enya at her most elegant</td>\n",
       "      <td>A clasically-styled and introverted album, Mem...</td>\n",
       "      <td>clasically-styled introverted album, memory tr...</td>\n",
       "    </tr>\n",
       "    <tr>\n",
       "      <th>2</th>\n",
       "      <td>5555991584</td>\n",
       "      <td>postive</td>\n",
       "      <td>The best so far</td>\n",
       "      <td>I never thought Enya would reach the sublime h...</td>\n",
       "      <td>never thought enya would reach sublime heights...</td>\n",
       "    </tr>\n",
       "  </tbody>\n",
       "</table>\n",
       "</div>"
      ],
      "text/plain": [
       "         asin  overall                   summary  \\\n",
       "0  5555991584  postive   Enya's last great album   \n",
       "1  5555991584  postive  Enya at her most elegant   \n",
       "2  5555991584  postive           The best so far   \n",
       "\n",
       "                                          reviewText  \\\n",
       "0  It's hard to believe \"Memory of Trees\" came ou...   \n",
       "1  A clasically-styled and introverted album, Mem...   \n",
       "2  I never thought Enya would reach the sublime h...   \n",
       "\n",
       "                                      reviewText_new  \n",
       "0  hard believe \"memory trees\" came 11 years ago;...  \n",
       "1  clasically-styled introverted album, memory tr...  \n",
       "2  never thought enya would reach sublime heights...  "
      ]
     },
     "execution_count": 10,
     "metadata": {},
     "output_type": "execute_result"
    }
   ],
   "source": [
    "df.head(3)"
   ]
  },
  {
   "cell_type": "code",
   "execution_count": 11,
   "metadata": {
    "collapsed": false
   },
   "outputs": [
    {
     "data": {
      "image/png": "[encoded data removed]",
      "text/plain": [
       "<matplotlib.figure.Figure at 0x6e1d52fef0>"
      ]
     },
     "metadata": {},
     "output_type": "display_data"
    }
   ],
   "source": [
    "sns.countplot(x=\"overall\", data=df, palette=\"Paired\");"
   ]
  },
  {
   "cell_type": "code",
   "execution_count": 12,
   "metadata": {
    "collapsed": false
   },
   "outputs": [
    {
     "data": {
      "text/plain": [
       "overall\n",
       "negative     5801\n",
       "neutral      6788\n",
       "postive     52116\n",
       "dtype: int64"
      ]
     },
     "execution_count": 12,
     "metadata": {},
     "output_type": "execute_result"
    }
   ],
   "source": [
    "df.groupby('overall').size()"
   ]
  },
  {
   "cell_type": "markdown",
   "metadata": {},
   "source": [
    "### => Class Imbalance in severe. Positive/Negative = 52116/5801 = 8.9 times"
   ]
  },
  {
   "cell_type": "markdown",
   "metadata": {},
   "source": [
    "-------------------------------"
   ]
  },
  {
   "cell_type": "markdown",
   "metadata": {},
   "source": [
    "# Class Imbalance"
   ]
  },
  {
   "cell_type": "markdown",
   "metadata": {},
   "source": [
    "### Feature selection"
   ]
  },
  {
   "cell_type": "code",
   "execution_count": 13,
   "metadata": {
    "collapsed": false
   },
   "outputs": [],
   "source": [
    "feature_columns = ['reviewText_new','summary']\n",
    "X = df[feature_columns]\n",
    "Y = df.overall"
   ]
  },
  {
   "cell_type": "markdown",
   "metadata": {},
   "source": [
    "### Vectorizer with Tf-Idf"
   ]
  },
  {
   "cell_type": "code",
   "execution_count": 14,
   "metadata": {
    "collapsed": false
   },
   "outputs": [],
   "source": [
    "from sklearn.feature_extraction.text import TfidfVectorizer\n",
    "\n",
    "vectorizer = TfidfVectorizer(max_df = 0.3,#max_df is used for removing terms that appear too frequently, also known as \"corpus-specific stop words\". For example:\n",
    "                                          #max_df = 0.50 means \"ignore terms that appear in more than 50% of the documents\".\n",
    "                                          #max_df = 25 means \"ignore terms that appear in more than 25 documents\".\n",
    "                             stop_words='english',\n",
    "                             sublinear_tf=True, \n",
    "                             use_idf=True,\n",
    "                             lowercase=True)"
   ]
  },
  {
   "cell_type": "markdown",
   "metadata": {},
   "source": [
    "### Transform"
   ]
  },
  {
   "cell_type": "code",
   "execution_count": 15,
   "metadata": {
    "collapsed": false
   },
   "outputs": [],
   "source": [
    "from scipy.sparse import hstack\n",
    "xreview_tfidf = vectorizer.fit_transform(X['reviewText_new'])\n",
    "xsummary_tfidf = vectorizer.fit_transform(X['summary'])\n",
    "x_review_summary_tfidf = hstack([xsummary_tfidf,xreview_tfidf])"
   ]
  },
  {
   "cell_type": "code",
   "execution_count": 16,
   "metadata": {
    "collapsed": false
   },
   "outputs": [
    {
     "name": "stdout",
     "output_type": "stream",
     "text": [
      "xreview_tfidf's shape =            (64705, 116089)\n",
      "xsummary_tfidf's shape =           (64705, 17574)\n",
      "x_review_summary_tfidf's shape =   (64705, 133663)\n"
     ]
    }
   ],
   "source": [
    "print(\"xreview_tfidf's shape =            {}\\nxsummary_tfidf's shape =           {}\\nx_review_summary_tfidf's shape =   {}\"\n",
    "      .format(xreview_tfidf.shape,xsummary_tfidf.shape,x_review_summary_tfidf.shape))"
   ]
  },
  {
   "cell_type": "markdown",
   "metadata": {},
   "source": [
    "### Train test split"
   ]
  },
  {
   "cell_type": "code",
   "execution_count": 17,
   "metadata": {
    "collapsed": false
   },
   "outputs": [],
   "source": [
    "from sklearn.model_selection import train_test_split\n",
    "x_review_train, x_review_test, y_review_train, y_review_test = train_test_split(\n",
    "    xreview_tfidf, df.overall, test_size=0.2, random_state=42)\n",
    "x_summary_train, x_summary_test, y_summary_train, y_summary_test = train_test_split(\n",
    "    xsummary_tfidf, df.overall, test_size=0.2, random_state=42)\n",
    "x_review_summary_train, x_review_summary_test, y_review_summary_train, y_review_summary_test = train_test_split(\n",
    "    x_review_summary_tfidf, df.overall, test_size=0.2, random_state=42)"
   ]
  },
  {
   "cell_type": "markdown",
   "metadata": {},
   "source": [
    "# Time to classify using Review feature"
   ]
  },
  {
   "cell_type": "code",
   "execution_count": 18,
   "metadata": {
    "collapsed": false
   },
   "outputs": [
    {
     "name": "stdout",
     "output_type": "stream",
     "text": [
      "Training MultinomialNB classifier...\n",
      "Doing Houd-out...\n",
      "Doing K-fold cross validation...\n",
      "---------------------------\n",
      "Evaluation results\n",
      "---------------------------\n",
      "Hold-out:  MultinomialNB accuracy: 0.804\n",
      "Cross validation 5-fold:  MultinomialNB accuracy: 0.805\n"
     ]
    }
   ],
   "source": [
    "from sklearn.naive_bayes import MultinomialNB\n",
    "from sklearn.svm import SVC\n",
    "from sklearn.model_selection import cross_val_score\n",
    "from operator import itemgetter\n",
    "\n",
    "names = [\"MultinomialNB\" ] #\"Linear SVM\"\n",
    "classifiers = [\n",
    "    MultinomialNB()\n",
    "    #SVC(kernel=\"linear\", C=0.025)\n",
    "    ]\n",
    "\n",
    "# iterate over classifiers\n",
    "results = {}\n",
    "k_fold_results = {}\n",
    "\n",
    "for name, clf in zip(names, classifiers):\n",
    "    print (\"Training \" + name + \" classifier...\")\n",
    "    print(\"Doing Houd-out...\")\n",
    "    clf.fit(x_review_train, y_review_train)\n",
    "    score = clf.score(x_review_test,y_review_test)\n",
    "    results[name] = score\n",
    "    print(\"Doing K-fold cross validation...\")\n",
    "    value_cross_val_score = cross_val_score(clf, xreview_tfidf, df.overall, cv=5).mean()\n",
    "    k_fold_results[name]= value_cross_val_score\n",
    "\n",
    "print (\"---------------------------\")\n",
    "print (\"Evaluation results\")\n",
    "print (\"---------------------------\")\n",
    "\n",
    "# sorting results and print out\n",
    "sorted(results.items(), key=itemgetter(1)) #The key= parameter of sort requires a key function (to be applied to be objects to be sorted) rather than a single key value and\n",
    "#that is just what operator.itemgetter(1) will give you: A function that grabs the first item from a list-like object.\n",
    "for name in results:\n",
    "    print (\"Hold-out: \",name + \" accuracy: %0.3f\" % results[name])\n",
    "    print (\"Cross validation 5-fold: \",name + \" accuracy: %0.3f\" % k_fold_results[name])\n",
    "feature= []\n",
    "performance = []\n",
    "feature.append(\"review\")\n",
    "performance.append(list(results.values())[0])"
   ]
  },
  {
   "cell_type": "markdown",
   "metadata": {},
   "source": [
    "# Time to classify using Summary feature"
   ]
  },
  {
   "cell_type": "code",
   "execution_count": 19,
   "metadata": {
    "collapsed": false
   },
   "outputs": [
    {
     "name": "stdout",
     "output_type": "stream",
     "text": [
      "Training MultinomialNB classifier...\n",
      "Doing Houd-out...\n",
      "Doing K-fold cross validation...\n",
      "---------------------------\n",
      "Evaluation results\n",
      "---------------------------\n",
      "Hold-out:  MultinomialNB accuracy: 0.813\n",
      "Cross validation 5-fold:  MultinomialNB accuracy: 0.811\n"
     ]
    }
   ],
   "source": [
    "from sklearn.naive_bayes import MultinomialNB\n",
    "from sklearn.svm import SVC\n",
    "from sklearn.model_selection import cross_val_score\n",
    "from operator import itemgetter\n",
    "\n",
    "names = [\"MultinomialNB\" ] #\"Linear SVM\"\n",
    "classifiers = [\n",
    "    MultinomialNB()\n",
    "    #SVC(kernel=\"linear\", C=0.025)\n",
    "    ]\n",
    "\n",
    "# iterate over classifiers\n",
    "results = {}\n",
    "k_fold_results = {}\n",
    "\n",
    "for name, clf in zip(names, classifiers):\n",
    "    print (\"Training \" + name + \" classifier...\")\n",
    "    print(\"Doing Houd-out...\")\n",
    "    clf.fit(x_summary_train,y_summary_train)\n",
    "    score = clf.score(x_summary_test,y_summary_test)\n",
    "    results[name] = score\n",
    "    print(\"Doing K-fold cross validation...\")\n",
    "    value_cross_val_score = cross_val_score(clf, xsummary_tfidf, df.overall, cv=5).mean()\n",
    "    k_fold_results[name]= value_cross_val_score\n",
    "\n",
    "print (\"---------------------------\")\n",
    "print (\"Evaluation results\")\n",
    "print (\"---------------------------\")\n",
    "\n",
    "# sorting results and print out\n",
    "sorted(results.items(), key=itemgetter(1)) #The key= parameter of sort requires a key function (to be applied to be objects to be sorted) rather than a single key value and\n",
    "#that is just what operator.itemgetter(1) will give you: A function that grabs the first item from a list-like object.\n",
    "for name in results:\n",
    "    print (\"Hold-out: \",name + \" accuracy: %0.3f\" % results[name])\n",
    "    print (\"Cross validation 5-fold: \",name + \" accuracy: %0.3f\" % k_fold_results[name])\n",
    "feature.append(\"summary\")\n",
    "performance.append(list(results.values())[0])"
   ]
  },
  {
   "cell_type": "markdown",
   "metadata": {},
   "source": [
    "# Time to classify using Summary and Review features"
   ]
  },
  {
   "cell_type": "code",
   "execution_count": 20,
   "metadata": {
    "collapsed": false
   },
   "outputs": [
    {
     "name": "stdout",
     "output_type": "stream",
     "text": [
      "Training MultinomialNB classifier...\n",
      "Doing Houd-out...\n",
      "Doing K-fold cross validation...\n",
      "---------------------------\n",
      "Evaluation results\n",
      "---------------------------\n",
      "Hold-out:  MultinomialNB accuracy: 0.805\n",
      "Cross validation 5-fold:  MultinomialNB accuracy: 0.806\n"
     ]
    }
   ],
   "source": [
    "from sklearn.naive_bayes import MultinomialNB\n",
    "from sklearn.svm import SVC\n",
    "from sklearn.model_selection import cross_val_score\n",
    "from operator import itemgetter\n",
    "\n",
    "names = [\"MultinomialNB\" ] #\"Linear SVM\"\n",
    "classifiers = [\n",
    "    MultinomialNB()\n",
    "    #SVC(kernel=\"linear\", C=0.025)\n",
    "    ]\n",
    "\n",
    "# iterate over classifiers\n",
    "results = {}\n",
    "k_fold_results = {}\n",
    "\n",
    "for name, clf in zip(names, classifiers):\n",
    "    print (\"Training \" + name + \" classifier...\")\n",
    "    print(\"Doing Houd-out...\")\n",
    "    clf.fit(x_review_summary_train,  y_review_summary_train)\n",
    "    score = clf.score(x_review_summary_test,y_review_summary_test)\n",
    "    results[name] = score\n",
    "    print(\"Doing K-fold cross validation...\")\n",
    "    value_cross_val_score = cross_val_score(clf, x_review_summary_tfidf, df.overall, cv=5).mean()\n",
    "    k_fold_results[name]= value_cross_val_score\n",
    "\n",
    "print (\"---------------------------\")\n",
    "print (\"Evaluation results\")\n",
    "print (\"---------------------------\")\n",
    "\n",
    "# sorting results and print out\n",
    "sorted(results.items(), key=itemgetter(1)) #The key= parameter of sort requires a key function (to be applied to be objects to be sorted) rather than a single key value and\n",
    "#that is just what operator.itemgetter(1) will give you: A function that grabs the first item from a list-like object.\n",
    "for name in results:\n",
    "    print (\"Hold-out: \",name + \" accuracy: %0.3f\" % results[name])\n",
    "    print (\"Cross validation 5-fold: \",name + \" accuracy: %0.3f\" % k_fold_results[name])\n",
    "feature.append(\"review + summary\")\n",
    "performance.append(list(results.values())[0])"
   ]
  },
  {
   "cell_type": "code",
   "execution_count": 21,
   "metadata": {
    "collapsed": false
   },
   "outputs": [
    {
     "data": {
      "text/plain": [
       "<matplotlib.axes._subplots.AxesSubplot at 0x6e1bd66c18>"
      ]
     },
     "execution_count": 21,
     "metadata": {},
     "output_type": "execute_result"
    },
    {
     "data": {
      "image/png": "[encoded data removed]",
      "text/plain": [
       "<matplotlib.figure.Figure at 0x6e236de6a0>"
      ]
     },
     "metadata": {},
     "output_type": "display_data"
    }
   ],
   "source": [
    "f,ax = plt.subplots(figsize=(7,6))\n",
    "sns.barplot(x=feature, y=performance, hue=feature)"
   ]
  },
  {
   "cell_type": "markdown",
   "metadata": {},
   "source": [
    "------------------------------"
   ]
  },
  {
   "cell_type": "markdown",
   "metadata": {},
   "source": [
    "# Class Balance"
   ]
  },
  {
   "cell_type": "code",
   "execution_count": 22,
   "metadata": {
    "collapsed": false
   },
   "outputs": [
    {
     "data": {
      "text/plain": [
       "postive     52116\n",
       "neutral      6788\n",
       "negative     5801\n",
       "Name: overall, dtype: int64"
      ]
     },
     "execution_count": 22,
     "metadata": {},
     "output_type": "execute_result"
    }
   ],
   "source": [
    "df.overall.value_counts()"
   ]
  },
  {
   "cell_type": "code",
   "execution_count": 23,
   "metadata": {
    "collapsed": false
   },
   "outputs": [
    {
     "data": {
      "text/plain": [
       "array(['postive', 'neutral', 'negative'], dtype=object)"
      ]
     },
     "execution_count": 23,
     "metadata": {},
     "output_type": "execute_result"
    }
   ],
   "source": [
    "df.overall.unique()"
   ]
  },
  {
   "cell_type": "code",
   "execution_count": 24,
   "metadata": {
    "collapsed": true
   },
   "outputs": [],
   "source": [
    "overall_pos = df[df['overall']=='postive'].sample(n=6000,random_state=100)\n",
    "overall_nev = df[df['overall']=='negative']\n",
    "overall_neu = df[df['overall']=='neutral']\n",
    "new_overall = overall_pos.append(overall_nev).append(overall_neu)"
   ]
  },
  {
   "cell_type": "code",
   "execution_count": 25,
   "metadata": {
    "collapsed": false
   },
   "outputs": [
    {
     "data": {
      "image/png": "[encoded data removed]",
      "text/plain": [
       "<matplotlib.figure.Figure at 0x6e23509f60>"
      ]
     },
     "metadata": {},
     "output_type": "display_data"
    }
   ],
   "source": [
    "sns.countplot(x=\"overall\", data=new_overall, palette=\"Paired\");"
   ]
  },
  {
   "cell_type": "code",
   "execution_count": 26,
   "metadata": {
    "collapsed": false
   },
   "outputs": [
    {
     "data": {
      "text/html": [
       "<div>\n",
       "<table border=\"1\" class=\"dataframe\">\n",
       "  <thead>\n",
       "    <tr style=\"text-align: right;\">\n",
       "      <th></th>\n",
       "      <th>asin</th>\n",
       "      <th>overall</th>\n",
       "      <th>summary</th>\n",
       "      <th>reviewText</th>\n",
       "      <th>reviewText_new</th>\n",
       "    </tr>\n",
       "  </thead>\n",
       "  <tbody>\n",
       "    <tr>\n",
       "      <th>26199</th>\n",
       "      <td>B000009S3Z</td>\n",
       "      <td>postive</td>\n",
       "      <td>Amazing Voice</td>\n",
       "      <td>Deborah Cox is one of Canada's best talents ou...</td>\n",
       "      <td>deborah cox one canada's best talents there. c...</td>\n",
       "    </tr>\n",
       "    <tr>\n",
       "      <th>45075</th>\n",
       "      <td>B00018D44U</td>\n",
       "      <td>postive</td>\n",
       "      <td>Love it!</td>\n",
       "      <td>It's different from Come Away with Me, but it ...</td>\n",
       "      <td>different come away me, grew me. definitely di...</td>\n",
       "    </tr>\n",
       "    <tr>\n",
       "      <th>6895</th>\n",
       "      <td>B0000024WG</td>\n",
       "      <td>postive</td>\n",
       "      <td>Laura Nyro, a truly under-appreciated genius</td>\n",
       "      <td>I hesitate to introduce Nyro to my musical fri...</td>\n",
       "      <td>hesitate introduce nyro musical friends. genya...</td>\n",
       "    </tr>\n",
       "  </tbody>\n",
       "</table>\n",
       "</div>"
      ],
      "text/plain": [
       "             asin  overall                                       summary  \\\n",
       "26199  B000009S3Z  postive                                 Amazing Voice   \n",
       "45075  B00018D44U  postive                                      Love it!   \n",
       "6895   B0000024WG  postive  Laura Nyro, a truly under-appreciated genius   \n",
       "\n",
       "                                              reviewText  \\\n",
       "26199  Deborah Cox is one of Canada's best talents ou...   \n",
       "45075  It's different from Come Away with Me, but it ...   \n",
       "6895   I hesitate to introduce Nyro to my musical fri...   \n",
       "\n",
       "                                          reviewText_new  \n",
       "26199  deborah cox one canada's best talents there. c...  \n",
       "45075  different come away me, grew me. definitely di...  \n",
       "6895   hesitate introduce nyro musical friends. genya...  "
      ]
     },
     "execution_count": 26,
     "metadata": {},
     "output_type": "execute_result"
    }
   ],
   "source": [
    "new_overall.head(3)"
   ]
  },
  {
   "cell_type": "markdown",
   "metadata": {},
   "source": [
    "## Feature Selection"
   ]
  },
  {
   "cell_type": "code",
   "execution_count": 27,
   "metadata": {
    "collapsed": false
   },
   "outputs": [],
   "source": [
    "feature_columns = ['reviewText_new','summary']\n",
    "X = new_overall[feature_columns]\n",
    "Y = new_overall.overall"
   ]
  },
  {
   "cell_type": "markdown",
   "metadata": {},
   "source": [
    "## Vectorizer with Tf-Idf"
   ]
  },
  {
   "cell_type": "code",
   "execution_count": 28,
   "metadata": {
    "collapsed": true
   },
   "outputs": [],
   "source": [
    "from sklearn.feature_extraction.text import TfidfVectorizer\n",
    "\n",
    "vectorizer = TfidfVectorizer(max_df = 0.3,#max_df is used for removing terms that appear too frequently, also known as \"corpus-specific stop words\". For example:\n",
    "                                          #max_df = 0.50 means \"ignore terms that appear in more than 50% of the documents\".\n",
    "                                          #max_df = 25 means \"ignore terms that appear in more than 25 documents\".\n",
    "                             stop_words='english',\n",
    "                             sublinear_tf=True, \n",
    "                             use_idf=True,\n",
    "                             lowercase=True)"
   ]
  },
  {
   "cell_type": "markdown",
   "metadata": {},
   "source": [
    "## Transform"
   ]
  },
  {
   "cell_type": "code",
   "execution_count": 29,
   "metadata": {
    "collapsed": true
   },
   "outputs": [],
   "source": [
    "from scipy.sparse import hstack\n",
    "xreview_tfidf = vectorizer.fit_transform(X['reviewText_new'])\n",
    "xsummary_tfidf = vectorizer.fit_transform(X['summary'])\n",
    "x_review_summary_tfidf = hstack([xsummary_tfidf,xreview_tfidf])"
   ]
  },
  {
   "cell_type": "code",
   "execution_count": 30,
   "metadata": {
    "collapsed": false
   },
   "outputs": [
    {
     "name": "stdout",
     "output_type": "stream",
     "text": [
      "xreview_tfidf's shape =            (18589, 59595)\n",
      "xsummary_tfidf's shape =           (18589, 9524)\n",
      "x_review_summary_tfidf's shape =   (18589, 69119)\n"
     ]
    }
   ],
   "source": [
    "print(\"xreview_tfidf's shape =            {}\\nxsummary_tfidf's shape =           {}\\nx_review_summary_tfidf's shape =   {}\"\n",
    "      .format(xreview_tfidf.shape,xsummary_tfidf.shape,x_review_summary_tfidf.shape))"
   ]
  },
  {
   "cell_type": "markdown",
   "metadata": {},
   "source": [
    "## Train Test Split"
   ]
  },
  {
   "cell_type": "code",
   "execution_count": 31,
   "metadata": {
    "collapsed": true
   },
   "outputs": [],
   "source": [
    "from sklearn.model_selection import train_test_split\n",
    "x_review_train, x_review_test, y_review_train, y_review_test = train_test_split(\n",
    "    xreview_tfidf, new_overall.overall, test_size=0.2, random_state=42)\n",
    "x_summary_train, x_summary_test, y_summary_train, y_summary_test = train_test_split(\n",
    "    xsummary_tfidf, new_overall.overall, test_size=0.2, random_state=42)\n",
    "x_review_summary_train, x_review_summary_test, y_review_summary_train, y_review_summary_test = train_test_split(\n",
    "    x_review_summary_tfidf, new_overall.overall, test_size=0.2, random_state=42)"
   ]
  },
  {
   "cell_type": "markdown",
   "metadata": {},
   "source": [
    "# Time to classify using Review feature"
   ]
  },
  {
   "cell_type": "code",
   "execution_count": 32,
   "metadata": {
    "collapsed": false
   },
   "outputs": [
    {
     "name": "stdout",
     "output_type": "stream",
     "text": [
      "Training MultinomialNB classifier...\n",
      "Doing Houd-out...\n",
      "Doing K-fold cross validation...\n",
      "---------------------------\n",
      "Evaluation results\n",
      "---------------------------\n",
      "Hold-out:  MultinomialNB accuracy: 0.569\n",
      "Cross validation 5-fold:  MultinomialNB accuracy: 0.522\n"
     ]
    }
   ],
   "source": [
    "from sklearn.naive_bayes import MultinomialNB\n",
    "from sklearn.svm import SVC\n",
    "from sklearn.model_selection import cross_val_score\n",
    "from operator import itemgetter\n",
    "\n",
    "names = [\"MultinomialNB\" ] #\"Linear SVM\"\n",
    "classifiers = [\n",
    "    MultinomialNB()\n",
    "    #SVC(kernel=\"linear\", C=0.025)\n",
    "    ]\n",
    "\n",
    "# iterate over classifiers\n",
    "results = {}\n",
    "k_fold_results = {}\n",
    "\n",
    "for name, clf in zip(names, classifiers):\n",
    "    print (\"Training \" + name + \" classifier...\")\n",
    "    print(\"Doing Houd-out...\")\n",
    "    clf.fit(x_review_train, y_review_train)\n",
    "    score = clf.score(x_review_test,y_review_test)\n",
    "    results[name] = score\n",
    "    print(\"Doing K-fold cross validation...\")\n",
    "    value_cross_val_score = cross_val_score(clf, xreview_tfidf, new_overall.overall, cv=5).mean()\n",
    "    k_fold_results[name]= value_cross_val_score\n",
    "\n",
    "print (\"---------------------------\")\n",
    "print (\"Evaluation results\")\n",
    "print (\"---------------------------\")\n",
    "\n",
    "# sorting results and print out\n",
    "sorted(results.items(), key=itemgetter(1)) #The key= parameter of sort requires a key function (to be applied to be objects to be sorted) rather than a single key value and\n",
    "#that is just what operator.itemgetter(1) will give you: A function that grabs the first item from a list-like object.\n",
    "for name in results:\n",
    "    print (\"Hold-out: \",name + \" accuracy: %0.3f\" % results[name])\n",
    "    print (\"Cross validation 5-fold: \",name + \" accuracy: %0.3f\" % k_fold_results[name])\n",
    "feature= []\n",
    "performance = []\n",
    "feature.append(\"review\")\n",
    "performance.append(list(results.values())[0])"
   ]
  },
  {
   "cell_type": "markdown",
   "metadata": {},
   "source": [
    "# Time to classify using Summary feature"
   ]
  },
  {
   "cell_type": "code",
   "execution_count": 33,
   "metadata": {
    "collapsed": false
   },
   "outputs": [
    {
     "name": "stdout",
     "output_type": "stream",
     "text": [
      "Training MultinomialNB classifier...\n",
      "Doing Houd-out...\n",
      "Doing K-fold cross validation...\n",
      "---------------------------\n",
      "Evaluation results\n",
      "---------------------------\n",
      "Hold-out:  MultinomialNB accuracy: 0.550\n",
      "Cross validation 5-fold:  MultinomialNB accuracy: 0.531\n"
     ]
    }
   ],
   "source": [
    "from sklearn.naive_bayes import MultinomialNB\n",
    "from sklearn.svm import SVC\n",
    "from sklearn.model_selection import cross_val_score\n",
    "from operator import itemgetter\n",
    "\n",
    "names = [\"MultinomialNB\" ] #\"Linear SVM\"\n",
    "classifiers = [\n",
    "    MultinomialNB()\n",
    "    #SVC(kernel=\"linear\", C=0.025)\n",
    "    ]\n",
    "\n",
    "# iterate over classifiers\n",
    "results = {}\n",
    "k_fold_results = {}\n",
    "\n",
    "for name, clf in zip(names, classifiers):\n",
    "    print (\"Training \" + name + \" classifier...\")\n",
    "    print(\"Doing Houd-out...\")\n",
    "    clf.fit(x_summary_train,y_summary_train)\n",
    "    score = clf.score(x_summary_test,y_summary_test)\n",
    "    results[name] = score\n",
    "    print(\"Doing K-fold cross validation...\")\n",
    "    value_cross_val_score = cross_val_score(clf, xsummary_tfidf, new_overall.overall, cv=5).mean()\n",
    "    k_fold_results[name]= value_cross_val_score\n",
    "\n",
    "print (\"---------------------------\")\n",
    "print (\"Evaluation results\")\n",
    "print (\"---------------------------\")\n",
    "\n",
    "# sorting results and print out\n",
    "sorted(results.items(), key=itemgetter(1)) #The key= parameter of sort requires a key function (to be applied to be objects to be sorted) rather than a single key value and\n",
    "#that is just what operator.itemgetter(1) will give you: A function that grabs the first item from a list-like object.\n",
    "for name in results:\n",
    "    print (\"Hold-out: \",name + \" accuracy: %0.3f\" % results[name])\n",
    "    print (\"Cross validation 5-fold: \",name + \" accuracy: %0.3f\" % k_fold_results[name])\n",
    "feature.append(\"summary\")\n",
    "performance.append(list(results.values())[0])"
   ]
  },
  {
   "cell_type": "markdown",
   "metadata": {},
   "source": [
    "# Time to classify using Review and Summary features"
   ]
  },
  {
   "cell_type": "code",
   "execution_count": 34,
   "metadata": {
    "collapsed": false
   },
   "outputs": [
    {
     "name": "stdout",
     "output_type": "stream",
     "text": [
      "Training MultinomialNB classifier...\n",
      "Doing Houd-out...\n",
      "Doing K-fold cross validation...\n",
      "---------------------------\n",
      "Evaluation results\n",
      "---------------------------\n",
      "Hold-out:  MultinomialNB accuracy: 0.617\n",
      "Cross validation 5-fold:  MultinomialNB accuracy: 0.580\n"
     ]
    }
   ],
   "source": [
    "from sklearn.naive_bayes import MultinomialNB\n",
    "from sklearn.svm import SVC\n",
    "from sklearn.model_selection import cross_val_score\n",
    "from operator import itemgetter\n",
    "\n",
    "names = [\"MultinomialNB\" ] #\"Linear SVM\"\n",
    "classifiers = [\n",
    "    MultinomialNB()\n",
    "    #SVC(kernel=\"linear\", C=0.025)\n",
    "    ]\n",
    "\n",
    "# iterate over classifiers\n",
    "results = {}\n",
    "k_fold_results = {}\n",
    "\n",
    "for name, clf in zip(names, classifiers):\n",
    "    print (\"Training \" + name + \" classifier...\")\n",
    "    print(\"Doing Houd-out...\")\n",
    "    clf.fit(x_review_summary_train,  y_review_summary_train)\n",
    "    score = clf.score(x_review_summary_test,y_review_summary_test)\n",
    "    results[name] = score\n",
    "    print(\"Doing K-fold cross validation...\")\n",
    "    value_cross_val_score = cross_val_score(clf, x_review_summary_tfidf, new_overall.overall, cv=5).mean()\n",
    "    k_fold_results[name]= value_cross_val_score\n",
    "\n",
    "print (\"---------------------------\")\n",
    "print (\"Evaluation results\")\n",
    "print (\"---------------------------\")\n",
    "\n",
    "# sorting results and print out\n",
    "sorted(results.items(), key=itemgetter(1)) #The key= parameter of sort requires a key function (to be applied to be objects to be sorted) rather than a single key value and\n",
    "#that is just what operator.itemgetter(1) will give you: A function that grabs the first item from a list-like object.\n",
    "for name in results:\n",
    "    print (\"Hold-out: \",name + \" accuracy: %0.3f\" % results[name])\n",
    "    print (\"Cross validation 5-fold: \",name + \" accuracy: %0.3f\" % k_fold_results[name])\n",
    "feature.append(\"review + summary\")\n",
    "performance.append(list(results.values())[0])"
   ]
  },
  {
   "cell_type": "code",
   "execution_count": 35,
   "metadata": {
    "collapsed": false
   },
   "outputs": [
    {
     "data": {
      "text/plain": [
       "<matplotlib.axes._subplots.AxesSubplot at 0x6e1be26a58>"
      ]
     },
     "execution_count": 35,
     "metadata": {},
     "output_type": "execute_result"
    },
    {
     "data": {
      "image/png": "[encoded data removed]",
      "text/plain": [
       "<matplotlib.figure.Figure at 0x6e1be23b70>"
      ]
     },
     "metadata": {},
     "output_type": "display_data"
    }
   ],
   "source": [
    "f,ax = plt.subplots(figsize=(7,6))\n",
    "sns.barplot(x=feature, y=performance, hue=feature)"
   ]
  },
  {
   "cell_type": "code",
   "execution_count": null,
   "metadata": {
    "collapsed": true
   },
   "outputs": [],
   "source": []
  },
  {
   "cell_type": "code",
   "execution_count": null,
   "metadata": {
    "collapsed": true
   },
   "outputs": [],
   "source": []
  }
 ],
 "metadata": {
  "kernelspec": {
   "display_name": "Python 3",
   "language": "python",
   "name": "python3"
  },
  "language_info": {
   "codemirror_mode": {
    "name": "ipython",
    "version": 3
   },
   "file_extension": ".py",
   "mimetype": "text/x-python",
   "name": "python",
   "nbconvert_exporter": "python",
   "pygments_lexer": "ipython3",
   "version": "3.6.0"
  }
 },
 "nbformat": 4,
 "nbformat_minor": 2
}
