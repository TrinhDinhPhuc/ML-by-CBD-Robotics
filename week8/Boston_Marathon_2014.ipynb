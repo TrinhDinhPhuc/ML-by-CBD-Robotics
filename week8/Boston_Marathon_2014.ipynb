{
 "cells": [
  {
   "cell_type": "markdown",
   "metadata": {
    "colab_type": "text",
    "id": "GWD6pBWwvA6e"
   },
   "source": [
    "# <center style=\"color:red\">Boston Marathon 2014 </center>"
   ]
  },
  {
   "cell_type": "markdown",
   "metadata": {
    "colab_type": "text",
    "id": "YlZ9ZPcOrbc3"
   },
   "source": [
    "# Import some necessary libraries"
   ]
  },
  {
   "cell_type": "code",
   "execution_count": 1,
   "metadata": {
    "colab": {
     "autoexec": {
      "startup": false,
      "wait_interval": 0
     }
    },
    "colab_type": "code",
    "id": "-QqdrfLIrX8D"
   },
   "outputs": [],
   "source": [
    "import pandas as pd\n",
    "import numpy as np\n",
    "import matplotlib.pyplot as plt\n",
    "plt.style.use('default')\n",
    "import seaborn as sns\n",
    "import warnings\n",
    "import pickle\n",
    "from sklearn.cluster import KMeans\n",
    "plt.rcParams['figure.figsize'] = (15, 5)\n",
    "warnings.simplefilter(action=\"ignore\")\n",
    "pd.set_option(\"display.max_columns\",None)\n",
    "%matplotlib inline"
   ]
  },
  {
   "cell_type": "code",
   "execution_count": 2,
   "metadata": {
    "colab": {
     "autoexec": {
      "startup": false,
      "wait_interval": 0
     }
    },
    "colab_type": "code",
    "id": "WbgWXHiisEsw"
   },
   "outputs": [],
   "source": [
    "data = pd.read_csv('runners.csv')"
   ]
  },
  {
   "cell_type": "markdown",
   "metadata": {
    "colab_type": "text",
    "id": "aI5IHAHbrng3"
   },
   "source": [
    "# At first glance"
   ]
  },
  {
   "cell_type": "code",
   "execution_count": 3,
   "metadata": {},
   "outputs": [
    {
     "data": {
      "text/html": [
       "<div>\n",
       "<style scoped>\n",
       "    .dataframe tbody tr th:only-of-type {\n",
       "        vertical-align: middle;\n",
       "    }\n",
       "\n",
       "    .dataframe tbody tr th {\n",
       "        vertical-align: top;\n",
       "    }\n",
       "\n",
       "    .dataframe thead th {\n",
       "        text-align: right;\n",
       "    }\n",
       "</style>\n",
       "<table border=\"1\" class=\"dataframe\">\n",
       "  <thead>\n",
       "    <tr style=\"text-align: right;\">\n",
       "      <th></th>\n",
       "      <th>10k</th>\n",
       "      <th>name</th>\n",
       "      <th>division</th>\n",
       "      <th>25k</th>\n",
       "      <th>gender</th>\n",
       "      <th>age</th>\n",
       "      <th>official</th>\n",
       "      <th>bib</th>\n",
       "      <th>genderdiv</th>\n",
       "      <th>ctz</th>\n",
       "      <th>35k</th>\n",
       "      <th>overall</th>\n",
       "      <th>pace</th>\n",
       "      <th>state</th>\n",
       "      <th>30k</th>\n",
       "      <th>5k</th>\n",
       "      <th>half</th>\n",
       "      <th>20k</th>\n",
       "      <th>country</th>\n",
       "      <th>city</th>\n",
       "      <th>40k</th>\n",
       "    </tr>\n",
       "  </thead>\n",
       "  <tbody>\n",
       "    <tr>\n",
       "      <th>0</th>\n",
       "      <td>17.37</td>\n",
       "      <td>Yamamoto, Hiroyuki</td>\n",
       "      <td>8</td>\n",
       "      <td>47.67</td>\n",
       "      <td>M</td>\n",
       "      <td>47</td>\n",
       "      <td>85.25</td>\n",
       "      <td>W1</td>\n",
       "      <td>8</td>\n",
       "      <td>NaN</td>\n",
       "      <td>71.40</td>\n",
       "      <td>8</td>\n",
       "      <td>3.27</td>\n",
       "      <td>NaN</td>\n",
       "      <td>59.18</td>\n",
       "      <td>8.02</td>\n",
       "      <td>39.72</td>\n",
       "      <td>37.65</td>\n",
       "      <td>JPN</td>\n",
       "      <td>Fukuoka</td>\n",
       "      <td>80.43</td>\n",
       "    </tr>\n",
       "    <tr>\n",
       "      <th>1</th>\n",
       "      <td>32.58</td>\n",
       "      <td>Jeptoo, Rita</td>\n",
       "      <td>1</td>\n",
       "      <td>82.43</td>\n",
       "      <td>F</td>\n",
       "      <td>33</td>\n",
       "      <td>138.95</td>\n",
       "      <td>F1</td>\n",
       "      <td>1</td>\n",
       "      <td>NaN</td>\n",
       "      <td>116.37</td>\n",
       "      <td>21</td>\n",
       "      <td>5.30</td>\n",
       "      <td>NaN</td>\n",
       "      <td>99.33</td>\n",
       "      <td>16.22</td>\n",
       "      <td>69.47</td>\n",
       "      <td>65.83</td>\n",
       "      <td>KEN</td>\n",
       "      <td>Eldoret</td>\n",
       "      <td>132.10</td>\n",
       "    </tr>\n",
       "    <tr>\n",
       "      <th>2</th>\n",
       "      <td>16.62</td>\n",
       "      <td>Van Dyk, Ernst F.</td>\n",
       "      <td>1</td>\n",
       "      <td>45.80</td>\n",
       "      <td>M</td>\n",
       "      <td>41</td>\n",
       "      <td>80.60</td>\n",
       "      <td>W2</td>\n",
       "      <td>1</td>\n",
       "      <td>NaN</td>\n",
       "      <td>67.42</td>\n",
       "      <td>1</td>\n",
       "      <td>3.08</td>\n",
       "      <td>NaN</td>\n",
       "      <td>56.45</td>\n",
       "      <td>7.75</td>\n",
       "      <td>38.03</td>\n",
       "      <td>36.10</td>\n",
       "      <td>RSA</td>\n",
       "      <td>Paarl</td>\n",
       "      <td>76.10</td>\n",
       "    </tr>\n",
       "    <tr>\n",
       "      <th>3</th>\n",
       "      <td>32.57</td>\n",
       "      <td>Dibaba, Mare</td>\n",
       "      <td>3</td>\n",
       "      <td>82.43</td>\n",
       "      <td>F</td>\n",
       "      <td>24</td>\n",
       "      <td>140.58</td>\n",
       "      <td>F2</td>\n",
       "      <td>3</td>\n",
       "      <td>NaN</td>\n",
       "      <td>116.37</td>\n",
       "      <td>27</td>\n",
       "      <td>5.37</td>\n",
       "      <td>NaN</td>\n",
       "      <td>99.33</td>\n",
       "      <td>16.20</td>\n",
       "      <td>69.47</td>\n",
       "      <td>65.83</td>\n",
       "      <td>ETH</td>\n",
       "      <td>Shoa</td>\n",
       "      <td>132.95</td>\n",
       "    </tr>\n",
       "    <tr>\n",
       "      <th>4</th>\n",
       "      <td>17.12</td>\n",
       "      <td>Hokinoue, Kota</td>\n",
       "      <td>2</td>\n",
       "      <td>46.37</td>\n",
       "      <td>M</td>\n",
       "      <td>40</td>\n",
       "      <td>81.23</td>\n",
       "      <td>W3</td>\n",
       "      <td>2</td>\n",
       "      <td>NaN</td>\n",
       "      <td>67.83</td>\n",
       "      <td>2</td>\n",
       "      <td>3.10</td>\n",
       "      <td>NaN</td>\n",
       "      <td>57.03</td>\n",
       "      <td>8.02</td>\n",
       "      <td>38.60</td>\n",
       "      <td>36.58</td>\n",
       "      <td>JPN</td>\n",
       "      <td>Nogata Fukuoka</td>\n",
       "      <td>76.72</td>\n",
       "    </tr>\n",
       "  </tbody>\n",
       "</table>\n",
       "</div>"
      ],
      "text/plain": [
       "     10k                name  division    25k gender  age  official bib  \\\n",
       "0  17.37  Yamamoto, Hiroyuki         8  47.67      M   47     85.25  W1   \n",
       "1  32.58        Jeptoo, Rita         1  82.43      F   33    138.95  F1   \n",
       "2  16.62   Van Dyk, Ernst F.         1  45.80      M   41     80.60  W2   \n",
       "3  32.57        Dibaba, Mare         3  82.43      F   24    140.58  F2   \n",
       "4  17.12      Hokinoue, Kota         2  46.37      M   40     81.23  W3   \n",
       "\n",
       "   genderdiv  ctz     35k  overall  pace state    30k     5k   half    20k  \\\n",
       "0          8  NaN   71.40        8  3.27   NaN  59.18   8.02  39.72  37.65   \n",
       "1          1  NaN  116.37       21  5.30   NaN  99.33  16.22  69.47  65.83   \n",
       "2          1  NaN   67.42        1  3.08   NaN  56.45   7.75  38.03  36.10   \n",
       "3          3  NaN  116.37       27  5.37   NaN  99.33  16.20  69.47  65.83   \n",
       "4          2  NaN   67.83        2  3.10   NaN  57.03   8.02  38.60  36.58   \n",
       "\n",
       "  country            city     40k  \n",
       "0     JPN         Fukuoka   80.43  \n",
       "1     KEN         Eldoret  132.10  \n",
       "2     RSA           Paarl   76.10  \n",
       "3     ETH            Shoa  132.95  \n",
       "4     JPN  Nogata Fukuoka   76.72  "
      ]
     },
     "execution_count": 3,
     "metadata": {},
     "output_type": "execute_result"
    }
   ],
   "source": [
    "data.head()"
   ]
  },
  {
   "cell_type": "code",
   "execution_count": 4,
   "metadata": {
    "colab": {
     "autoexec": {
      "startup": false,
      "wait_interval": 0
     },
     "base_uri": "https://localhost:8080/",
     "height": 238
    },
    "colab_type": "code",
    "executionInfo": {
     "elapsed": 775,
     "status": "ok",
     "timestamp": 1527498427801,
     "user": {
      "displayName": "Trinh Phuc",
      "photoUrl": "https://lh3.googleusercontent.com/a/default-user=s128",
      "userId": "117763058204935570065"
     },
     "user_tz": -420
    },
    "id": "i6MtRCCureXC",
    "outputId": "38a6c2f1-2a95-4284-c1f7-f46667612bd4"
   },
   "outputs": [
    {
     "name": "stdout",
     "output_type": "stream",
     "text": [
      "Dataframe dimensions: (31984, 21)\n"
     ]
    },
    {
     "data": {
      "text/html": [
       "<div>\n",
       "<style scoped>\n",
       "    .dataframe tbody tr th:only-of-type {\n",
       "        vertical-align: middle;\n",
       "    }\n",
       "\n",
       "    .dataframe tbody tr th {\n",
       "        vertical-align: top;\n",
       "    }\n",
       "\n",
       "    .dataframe thead th {\n",
       "        text-align: right;\n",
       "    }\n",
       "</style>\n",
       "<table border=\"1\" class=\"dataframe\">\n",
       "  <thead>\n",
       "    <tr style=\"text-align: right;\">\n",
       "      <th></th>\n",
       "      <th>10k</th>\n",
       "      <th>name</th>\n",
       "      <th>division</th>\n",
       "      <th>25k</th>\n",
       "      <th>gender</th>\n",
       "      <th>age</th>\n",
       "      <th>official</th>\n",
       "      <th>bib</th>\n",
       "      <th>genderdiv</th>\n",
       "      <th>ctz</th>\n",
       "      <th>35k</th>\n",
       "      <th>overall</th>\n",
       "      <th>pace</th>\n",
       "      <th>state</th>\n",
       "      <th>30k</th>\n",
       "      <th>5k</th>\n",
       "      <th>half</th>\n",
       "      <th>20k</th>\n",
       "      <th>country</th>\n",
       "      <th>city</th>\n",
       "      <th>40k</th>\n",
       "    </tr>\n",
       "  </thead>\n",
       "  <tbody>\n",
       "    <tr>\n",
       "      <th>column type</th>\n",
       "      <td>object</td>\n",
       "      <td>object</td>\n",
       "      <td>int64</td>\n",
       "      <td>object</td>\n",
       "      <td>object</td>\n",
       "      <td>int64</td>\n",
       "      <td>float64</td>\n",
       "      <td>object</td>\n",
       "      <td>int64</td>\n",
       "      <td>object</td>\n",
       "      <td>object</td>\n",
       "      <td>int64</td>\n",
       "      <td>float64</td>\n",
       "      <td>object</td>\n",
       "      <td>object</td>\n",
       "      <td>object</td>\n",
       "      <td>object</td>\n",
       "      <td>object</td>\n",
       "      <td>object</td>\n",
       "      <td>object</td>\n",
       "      <td>object</td>\n",
       "    </tr>\n",
       "    <tr>\n",
       "      <th>null values (nb)</th>\n",
       "      <td>0</td>\n",
       "      <td>0</td>\n",
       "      <td>0</td>\n",
       "      <td>0</td>\n",
       "      <td>0</td>\n",
       "      <td>0</td>\n",
       "      <td>0</td>\n",
       "      <td>0</td>\n",
       "      <td>0</td>\n",
       "      <td>30740</td>\n",
       "      <td>0</td>\n",
       "      <td>0</td>\n",
       "      <td>0</td>\n",
       "      <td>2576</td>\n",
       "      <td>0</td>\n",
       "      <td>0</td>\n",
       "      <td>0</td>\n",
       "      <td>0</td>\n",
       "      <td>0</td>\n",
       "      <td>1</td>\n",
       "      <td>0</td>\n",
       "    </tr>\n",
       "    <tr>\n",
       "      <th>null values (%)</th>\n",
       "      <td>0</td>\n",
       "      <td>0</td>\n",
       "      <td>0</td>\n",
       "      <td>0</td>\n",
       "      <td>0</td>\n",
       "      <td>0</td>\n",
       "      <td>0</td>\n",
       "      <td>0</td>\n",
       "      <td>0</td>\n",
       "      <td>96.1106</td>\n",
       "      <td>0</td>\n",
       "      <td>0</td>\n",
       "      <td>0</td>\n",
       "      <td>8.05403</td>\n",
       "      <td>0</td>\n",
       "      <td>0</td>\n",
       "      <td>0</td>\n",
       "      <td>0</td>\n",
       "      <td>0</td>\n",
       "      <td>0.00312656</td>\n",
       "      <td>0</td>\n",
       "    </tr>\n",
       "  </tbody>\n",
       "</table>\n",
       "</div>"
      ],
      "text/plain": [
       "                     10k    name division     25k  gender    age official  \\\n",
       "column type       object  object    int64  object  object  int64  float64   \n",
       "null values (nb)       0       0        0       0       0      0        0   \n",
       "null values (%)        0       0        0       0       0      0        0   \n",
       "\n",
       "                     bib genderdiv      ctz     35k overall     pace    state  \\\n",
       "column type       object     int64   object  object   int64  float64   object   \n",
       "null values (nb)       0         0    30740       0       0        0     2576   \n",
       "null values (%)        0         0  96.1106       0       0        0  8.05403   \n",
       "\n",
       "                     30k      5k    half     20k country        city     40k  \n",
       "column type       object  object  object  object  object      object  object  \n",
       "null values (nb)       0       0       0       0       0           1       0  \n",
       "null values (%)        0       0       0       0       0  0.00312656       0  "
      ]
     },
     "execution_count": 4,
     "metadata": {},
     "output_type": "execute_result"
    }
   ],
   "source": [
    "r0=(float(data.shape[0]))\n",
    "print('Dataframe dimensions:', data.shape)\n",
    "#____________________________________________________________\n",
    "# gives some infos on columns types and number of null values\n",
    "tab_info=pd.DataFrame(data.dtypes).T.rename(index={0:'column type'})\n",
    "tab_info=tab_info.append(pd.DataFrame(data.isnull().sum()).T.rename(index={0:'null values (nb)'}))\n",
    "tab_info=tab_info.append(pd.DataFrame(data.isnull().sum()/data.shape[0]*100)\n",
    "                         .T.rename(index={0:'null values (%)'}))\n",
    "tab_info"
   ]
  },
  {
   "cell_type": "markdown",
   "metadata": {
    "colab_type": "text",
    "id": "MJkFt2y-y-Qm"
   },
   "source": [
    "    In general,our data dont have much missing values. \n",
    "    The number of columns are \"object\" datatype quite a lot. \n",
    "    These cols such as 5k,10k,15k,20k,half,25k,30k,35k,40k can convert to numeric"
   ]
  },
  {
   "cell_type": "markdown",
   "metadata": {
    "colab_type": "text",
    "id": "ffqUuMMVsR23"
   },
   "source": [
    "# Delete timing rows have invalid values"
   ]
  },
  {
   "cell_type": "code",
   "execution_count": 5,
   "metadata": {
    "colab": {
     "autoexec": {
      "startup": false,
      "wait_interval": 0
     },
     "base_uri": "https://localhost:8080/",
     "height": 497
    },
    "colab_type": "code",
    "executionInfo": {
     "elapsed": 937,
     "status": "ok",
     "timestamp": 1527498432425,
     "user": {
      "displayName": "Trinh Phuc",
      "photoUrl": "https://lh3.googleusercontent.com/a/default-user=s128",
      "userId": "117763058204935570065"
     },
     "user_tz": -420
    },
    "id": "kC2dRMdfrpJJ",
    "outputId": "7dd5370a-7220-4ea1-d6fa-bfc34501e6d7"
   },
   "outputs": [
    {
     "data": {
      "text/html": [
       "<div>\n",
       "<style scoped>\n",
       "    .dataframe tbody tr th:only-of-type {\n",
       "        vertical-align: middle;\n",
       "    }\n",
       "\n",
       "    .dataframe tbody tr th {\n",
       "        vertical-align: top;\n",
       "    }\n",
       "\n",
       "    .dataframe thead th {\n",
       "        text-align: right;\n",
       "    }\n",
       "</style>\n",
       "<table border=\"1\" class=\"dataframe\">\n",
       "  <thead>\n",
       "    <tr style=\"text-align: right;\">\n",
       "      <th></th>\n",
       "      <th>5k</th>\n",
       "      <th>10k</th>\n",
       "      <th>half</th>\n",
       "      <th>20k</th>\n",
       "      <th>25k</th>\n",
       "      <th>30k</th>\n",
       "      <th>40k</th>\n",
       "    </tr>\n",
       "  </thead>\n",
       "  <tbody>\n",
       "    <tr>\n",
       "      <th>31974</th>\n",
       "      <td>35.63</td>\n",
       "      <td>76.45</td>\n",
       "      <td>183.28</td>\n",
       "      <td>166.43</td>\n",
       "      <td>-</td>\n",
       "      <td>279.47</td>\n",
       "      <td>-</td>\n",
       "    </tr>\n",
       "    <tr>\n",
       "      <th>31975</th>\n",
       "      <td>37.72</td>\n",
       "      <td>75.80</td>\n",
       "      <td>170.82</td>\n",
       "      <td>162.13</td>\n",
       "      <td>-</td>\n",
       "      <td>268.23</td>\n",
       "      <td>366.37</td>\n",
       "    </tr>\n",
       "    <tr>\n",
       "      <th>31976</th>\n",
       "      <td>31.60</td>\n",
       "      <td>63.95</td>\n",
       "      <td>135.50</td>\n",
       "      <td>128.43</td>\n",
       "      <td>161.75</td>\n",
       "      <td>200.45</td>\n",
       "      <td>275.02</td>\n",
       "    </tr>\n",
       "    <tr>\n",
       "      <th>31977</th>\n",
       "      <td>29.82</td>\n",
       "      <td>63.33</td>\n",
       "      <td>136.98</td>\n",
       "      <td>130.45</td>\n",
       "      <td>165.40</td>\n",
       "      <td>208.53</td>\n",
       "      <td>286.62</td>\n",
       "    </tr>\n",
       "    <tr>\n",
       "      <th>31978</th>\n",
       "      <td>37.10</td>\n",
       "      <td>76.75</td>\n",
       "      <td>173.45</td>\n",
       "      <td>163.78</td>\n",
       "      <td>210.07</td>\n",
       "      <td>257.60</td>\n",
       "      <td>352.18</td>\n",
       "    </tr>\n",
       "    <tr>\n",
       "      <th>31979</th>\n",
       "      <td>26.13</td>\n",
       "      <td>50.72</td>\n",
       "      <td>104.78</td>\n",
       "      <td>99.55</td>\n",
       "      <td>124.02</td>\n",
       "      <td>148.65</td>\n",
       "      <td>200.22</td>\n",
       "    </tr>\n",
       "    <tr>\n",
       "      <th>31980</th>\n",
       "      <td>31.07</td>\n",
       "      <td>61.28</td>\n",
       "      <td>135.85</td>\n",
       "      <td>128.37</td>\n",
       "      <td>165.02</td>\n",
       "      <td>203.43</td>\n",
       "      <td>285.47</td>\n",
       "    </tr>\n",
       "    <tr>\n",
       "      <th>31981</th>\n",
       "      <td>28.18</td>\n",
       "      <td>59.00</td>\n",
       "      <td>130.57</td>\n",
       "      <td>123.33</td>\n",
       "      <td>157.02</td>\n",
       "      <td>192.65</td>\n",
       "      <td>266.30</td>\n",
       "    </tr>\n",
       "    <tr>\n",
       "      <th>31982</th>\n",
       "      <td>30.98</td>\n",
       "      <td>63.75</td>\n",
       "      <td>137.03</td>\n",
       "      <td>129.90</td>\n",
       "      <td>167.82</td>\n",
       "      <td>207.52</td>\n",
       "      <td>285.87</td>\n",
       "    </tr>\n",
       "    <tr>\n",
       "      <th>31983</th>\n",
       "      <td>26.92</td>\n",
       "      <td>53.63</td>\n",
       "      <td>114.13</td>\n",
       "      <td>108.03</td>\n",
       "      <td>135.02</td>\n",
       "      <td>161.83</td>\n",
       "      <td>216.48</td>\n",
       "    </tr>\n",
       "  </tbody>\n",
       "</table>\n",
       "</div>"
      ],
      "text/plain": [
       "          5k    10k    half     20k     25k     30k     40k\n",
       "31974  35.63  76.45  183.28  166.43       -  279.47       -\n",
       "31975  37.72  75.80  170.82  162.13       -  268.23  366.37\n",
       "31976  31.60  63.95  135.50  128.43  161.75  200.45  275.02\n",
       "31977  29.82  63.33  136.98  130.45  165.40  208.53  286.62\n",
       "31978  37.10  76.75  173.45  163.78  210.07  257.60  352.18\n",
       "31979  26.13  50.72  104.78   99.55  124.02  148.65  200.22\n",
       "31980  31.07  61.28  135.85  128.37  165.02  203.43  285.47\n",
       "31981  28.18  59.00  130.57  123.33  157.02  192.65  266.30\n",
       "31982  30.98  63.75  137.03  129.90  167.82  207.52  285.87\n",
       "31983  26.92  53.63  114.13  108.03  135.02  161.83  216.48"
      ]
     },
     "execution_count": 5,
     "metadata": {},
     "output_type": "execute_result"
    }
   ],
   "source": [
    "data[['5k','10k','half','20k','25k','30k','40k']].tail(10)"
   ]
  },
  {
   "cell_type": "markdown",
   "metadata": {
    "colab_type": "text",
    "id": "JuTzm5yssUPX"
   },
   "source": [
    "We can see some cells contain Nan value by containing \"-\". I am gonna delete all those rows"
   ]
  },
  {
   "cell_type": "code",
   "execution_count": 6,
   "metadata": {
    "colab": {
     "autoexec": {
      "startup": false,
      "wait_interval": 0
     },
     "base_uri": "https://localhost:8080/",
     "height": 34
    },
    "colab_type": "code",
    "executionInfo": {
     "elapsed": 694,
     "status": "ok",
     "timestamp": 1527498434055,
     "user": {
      "displayName": "Trinh Phuc",
      "photoUrl": "https://lh3.googleusercontent.com/a/default-user=s128",
      "userId": "117763058204935570065"
     },
     "user_tz": -420
    },
    "id": "Y67rYEaksWVj",
    "outputId": "1ad335c7-15d1-491f-b826-aa8a99f7f2fb"
   },
   "outputs": [
    {
     "name": "stdout",
     "output_type": "stream",
     "text": [
      "The number of rows after deleting those rows containing '-': 335 /31984 in total\n"
     ]
    }
   ],
   "source": [
    "data.drop(data[data['10k']=='-'].index, axis=0, inplace=True)\n",
    "data.drop(data[data['25k']=='-'].index, axis=0, inplace=True)\n",
    "data.drop(data[data['35k']=='-'].index, axis=0, inplace=True)\n",
    "data.drop(data[data['30k']=='-'].index, axis=0, inplace=True)\n",
    "data.drop(data[data['half']=='-'].index, axis=0, inplace=True)\n",
    "data.drop(data[data['20k']=='-'].index, axis=0, inplace=True)\n",
    "data.drop(data[data['40k']=='-'].index, axis=0, inplace=True)\n",
    "data.drop(data[data['5k']=='-'].index, axis=0, inplace=True)\n",
    "r1=(float(data.shape[0]))\n",
    "print(\"The number of rows after deleting those rows containing '-': {} /31984 in total\".format(int(r0-r1)))"
   ]
  },
  {
   "cell_type": "markdown",
   "metadata": {
    "colab_type": "text",
    "id": "tDsEPTD6saNP"
   },
   "source": [
    "# Types of Datatype"
   ]
  },
  {
   "cell_type": "code",
   "execution_count": 7,
   "metadata": {
    "colab": {
     "autoexec": {
      "startup": false,
      "wait_interval": 0
     }
    },
    "colab_type": "code",
    "id": "USyPNJjwscTq"
   },
   "outputs": [],
   "source": [
    "data.drop(['bib','ctz','name'],axis=1, inplace=True) # irrelavant features"
   ]
  },
  {
   "cell_type": "code",
   "execution_count": 8,
   "metadata": {
    "colab": {
     "autoexec": {
      "startup": false,
      "wait_interval": 0
     }
    },
    "colab_type": "code",
    "id": "ic4Em_rSshg3"
   },
   "outputs": [],
   "source": [
    "numeric = ['10k','25k','age','official','35k','overall','pace','30k','5k','half','20k','40k']\n",
    "data[numeric] = data[numeric].apply(pd.to_numeric, errors = 'coerce', axis=1)"
   ]
  },
  {
   "cell_type": "markdown",
   "metadata": {
    "colab_type": "text",
    "id": "CPZXPOVlsscw"
   },
   "source": [
    "# Histograms and Density Plots "
   ]
  },
  {
   "cell_type": "code",
   "execution_count": 9,
   "metadata": {
    "colab": {
     "autoexec": {
      "startup": false,
      "wait_interval": 0
     },
     "base_uri": "https://localhost:8080/",
     "height": 296
    },
    "colab_type": "code",
    "executionInfo": {
     "elapsed": 1013,
     "status": "ok",
     "timestamp": 1526999688681,
     "user": {
      "displayName": "Trinh Phuc",
      "photoUrl": "https://lh3.googleusercontent.com/a/default-user=s128",
      "userId": "117763058204935570065"
     },
     "user_tz": -420
    },
    "id": "pQmjkPWlsohp",
    "outputId": "8f415757-9c93-49d5-f2ea-0e5263a76b5a"
   },
   "outputs": [
    {
     "data": {
      "text/plain": [
       "<matplotlib.axes._subplots.AxesSubplot at 0x4fdc32e208>"
      ]
     },
     "execution_count": 9,
     "metadata": {},
     "output_type": "execute_result"
    },
    {
     "data": {
      "image/png": "[encoded data removed]",
      "text/plain": [
       "<Figure size 432x288 with 1 Axes>"
      ]
     },
     "metadata": {},
     "output_type": "display_data"
    }
   ],
   "source": [
    "from scipy.stats import norm\n",
    "sns.distplot(data.age,fit=norm, kde=False)"
   ]
  },
  {
   "cell_type": "code",
   "execution_count": 10,
   "metadata": {
    "colab": {
     "autoexec": {
      "startup": false,
      "wait_interval": 0
     },
     "base_uri": "https://localhost:8080/",
     "height": 296
    },
    "colab_type": "code",
    "executionInfo": {
     "elapsed": 821,
     "status": "ok",
     "timestamp": 1527069884540,
     "user": {
      "displayName": "Trinh Phuc",
      "photoUrl": "https://lh3.googleusercontent.com/a/default-user=s128",
      "userId": "117763058204935570065"
     },
     "user_tz": -420
    },
    "id": "NWnbj_KZdQQ3",
    "outputId": "fdadd110-ad0c-4460-e7d5-e75022c2b34b"
   },
   "outputs": [
    {
     "data": {
      "text/plain": [
       "<matplotlib.axes._subplots.AxesSubplot at 0x4fe11ba6d8>"
      ]
     },
     "execution_count": 10,
     "metadata": {},
     "output_type": "execute_result"
    },
    {
     "data": {
      "image/png": "[encoded data removed]",
      "text/plain": [
       "<Figure size 432x288 with 1 Axes>"
      ]
     },
     "metadata": {},
     "output_type": "display_data"
    }
   ],
   "source": [
    "from scipy.stats import norm\n",
    "sns.distplot(data.pace,fit=norm, kde=False)"
   ]
  },
  {
   "cell_type": "markdown",
   "metadata": {
    "colab_type": "text",
    "id": "IMTfsKx0K5fK"
   },
   "source": [
    "The majority competitors who participates the competition is distributed from 38 to 52 year old"
   ]
  },
  {
   "cell_type": "code",
   "execution_count": 11,
   "metadata": {
    "colab": {
     "autoexec": {
      "startup": false,
      "wait_interval": 0
     },
     "base_uri": "https://localhost:8080/",
     "height": 296
    },
    "colab_type": "code",
    "executionInfo": {
     "elapsed": 1899,
     "status": "ok",
     "timestamp": 1527069906052,
     "user": {
      "displayName": "Trinh Phuc",
      "photoUrl": "https://lh3.googleusercontent.com/a/default-user=s128",
      "userId": "117763058204935570065"
     },
     "user_tz": -420
    },
    "id": "dH6VIFrra3KP",
    "outputId": "93e35cd8-c871-4c4f-c39f-6b370d971945"
   },
   "outputs": [
    {
     "data": {
      "text/plain": [
       "<matplotlib.axes._subplots.AxesSubplot at 0x4fdf111e10>"
      ]
     },
     "execution_count": 11,
     "metadata": {},
     "output_type": "execute_result"
    },
    {
     "data": {
      "image/png": "[encoded data removed]",
      "text/plain": [
       "<Figure size 432x288 with 1 Axes>"
      ]
     },
     "metadata": {},
     "output_type": "display_data"
    }
   ],
   "source": [
    "data['pace'].groupby(pd.cut(data['age'], range(15,90,5))).aggregate(np.average).plot(kind=\"bar\", title=\"Average pace by age group\")"
   ]
  },
  {
   "cell_type": "code",
   "execution_count": 12,
   "metadata": {},
   "outputs": [
    {
     "data": {
      "text/plain": [
       "<matplotlib.axes._subplots.AxesSubplot at 0x4fdc4476a0>"
      ]
     },
     "execution_count": 12,
     "metadata": {},
     "output_type": "execute_result"
    },
    {
     "data": {
      "image/png": "[encoded data removed]",
      "text/plain": [
       "<Figure size 432x288 with 1 Axes>"
      ]
     },
     "metadata": {},
     "output_type": "display_data"
    }
   ],
   "source": [
    "data['overall'].groupby(pd.cut(data['age'], range(15,90,5))).aggregate(len).plot(kind=\"bar\", title=\"overall of runners by age group\")"
   ]
  },
  {
   "cell_type": "markdown",
   "metadata": {
    "colab_type": "text",
    "id": "Ane2pQx6s95A"
   },
   "source": [
    "# Handling missing values - One Hot Encode - Standardscaler"
   ]
  },
  {
   "cell_type": "code",
   "execution_count": 13,
   "metadata": {
    "colab": {
     "autoexec": {
      "startup": false,
      "wait_interval": 0
     },
     "base_uri": "https://localhost:8080/",
     "height": 334
    },
    "colab_type": "code",
    "executionInfo": {
     "elapsed": 2004,
     "status": "ok",
     "timestamp": 1527233517767,
     "user": {
      "displayName": "Trinh Phuc",
      "photoUrl": "https://lh3.googleusercontent.com/a/default-user=s128",
      "userId": "117763058204935570065"
     },
     "user_tz": -420
    },
    "id": "MCU8QTCctA8B",
    "outputId": "284f7852-b04c-421e-98e4-3375843217b9"
   },
   "outputs": [
    {
     "name": "stdout",
     "output_type": "stream",
     "text": [
      "2546\n"
     ]
    },
    {
     "data": {
      "text/plain": [
       "<matplotlib.axes._subplots.AxesSubplot at 0x4fdc8be4a8>"
      ]
     },
     "execution_count": 13,
     "metadata": {},
     "output_type": "execute_result"
    },
    {
     "data": {
      "image/png": "[encoded data removed]",
      "text/plain": [
       "<Figure size 432x288 with 1 Axes>"
      ]
     },
     "metadata": {},
     "output_type": "display_data"
    }
   ],
   "source": [
    "print(data.state.isnull().sum())\n",
    "sns.heatmap(data.isnull(), yticklabels=False, cbar=False, cmap='viridis')"
   ]
  },
  {
   "cell_type": "markdown",
   "metadata": {
    "colab_type": "text",
    "id": "Br02HCV5z9mE"
   },
   "source": [
    "There is nearly not having missing values except ctz column which has 96.1106% missing values in total. My solution is dropping this col. "
   ]
  },
  {
   "cell_type": "code",
   "execution_count": 14,
   "metadata": {
    "colab": {
     "autoexec": {
      "startup": false,
      "wait_interval": 0
     }
    },
    "colab_type": "code",
    "id": "2rPWKRm1tCbr"
   },
   "outputs": [],
   "source": [
    "data.dropna(axis=0, how='any', inplace=True)"
   ]
  },
  {
   "cell_type": "code",
   "execution_count": 15,
   "metadata": {
    "colab": {
     "autoexec": {
      "startup": false,
      "wait_interval": 0
     }
    },
    "colab_type": "code",
    "id": "mIE6HrMptDQC"
   },
   "outputs": [],
   "source": [
    "dfgender= pd.get_dummies(data.gender, drop_first=True)\n",
    "dfcountry = pd.get_dummies(data.country, drop_first=True)\n",
    "data.drop(['country','gender','state','city'],axis=1, inplace=True)"
   ]
  },
  {
   "cell_type": "code",
   "execution_count": 16,
   "metadata": {
    "colab": {
     "autoexec": {
      "startup": false,
      "wait_interval": 0
     }
    },
    "colab_type": "code",
    "id": "yoMRjE7Kwx9t"
   },
   "outputs": [],
   "source": [
    "from sklearn.preprocessing import MinMaxScaler\n",
    "scaler = MinMaxScaler(feature_range= (0,1))\n",
    "X_Scale = scaler.fit_transform(data)"
   ]
  },
  {
   "cell_type": "code",
   "execution_count": 17,
   "metadata": {
    "colab": {
     "autoexec": {
      "startup": false,
      "wait_interval": 0
     }
    },
    "colab_type": "code",
    "id": "w0KWUukZtD8E"
   },
   "outputs": [],
   "source": [
    "data = data.join(dfgender)\n",
    "data = data.join(dfcountry)"
   ]
  },
  {
   "cell_type": "code",
   "execution_count": 18,
   "metadata": {
    "colab": {
     "autoexec": {
      "startup": false,
      "wait_interval": 0
     },
     "base_uri": "https://localhost:8080/",
     "height": 224
    },
    "colab_type": "code",
    "executionInfo": {
     "elapsed": 4414,
     "status": "ok",
     "timestamp": 1527234214366,
     "user": {
      "displayName": "Trinh Phuc",
      "photoUrl": "https://lh3.googleusercontent.com/a/default-user=s128",
      "userId": "117763058204935570065"
     },
     "user_tz": -420
    },
    "id": "6Y65VRU4DORf",
    "outputId": "b09de7a7-b62b-4bfa-8e75-40efc68c0eb7"
   },
   "outputs": [
    {
     "name": "stdout",
     "output_type": "stream",
     "text": [
      "(29103, 16)\n"
     ]
    },
    {
     "data": {
      "text/html": [
       "<div>\n",
       "<style scoped>\n",
       "    .dataframe tbody tr th:only-of-type {\n",
       "        vertical-align: middle;\n",
       "    }\n",
       "\n",
       "    .dataframe tbody tr th {\n",
       "        vertical-align: top;\n",
       "    }\n",
       "\n",
       "    .dataframe thead th {\n",
       "        text-align: right;\n",
       "    }\n",
       "</style>\n",
       "<table border=\"1\" class=\"dataframe\">\n",
       "  <thead>\n",
       "    <tr style=\"text-align: right;\">\n",
       "      <th></th>\n",
       "      <th>10k</th>\n",
       "      <th>division</th>\n",
       "      <th>25k</th>\n",
       "      <th>age</th>\n",
       "      <th>official</th>\n",
       "      <th>genderdiv</th>\n",
       "      <th>35k</th>\n",
       "      <th>overall</th>\n",
       "      <th>pace</th>\n",
       "      <th>30k</th>\n",
       "      <th>5k</th>\n",
       "      <th>half</th>\n",
       "      <th>20k</th>\n",
       "      <th>40k</th>\n",
       "      <th>M</th>\n",
       "      <th>USA</th>\n",
       "    </tr>\n",
       "  </thead>\n",
       "  <tbody>\n",
       "    <tr>\n",
       "      <th>9</th>\n",
       "      <td>30.48</td>\n",
       "      <td>20</td>\n",
       "      <td>77.68</td>\n",
       "      <td>31.0</td>\n",
       "      <td>137.83</td>\n",
       "      <td>20</td>\n",
       "      <td>112.27</td>\n",
       "      <td>20.0</td>\n",
       "      <td>5.27</td>\n",
       "      <td>94.78</td>\n",
       "      <td>15.15</td>\n",
       "      <td>65.23</td>\n",
       "      <td>61.78</td>\n",
       "      <td>129.83</td>\n",
       "      <td>1</td>\n",
       "      <td>1</td>\n",
       "    </tr>\n",
       "    <tr>\n",
       "      <th>14</th>\n",
       "      <td>17.12</td>\n",
       "      <td>13</td>\n",
       "      <td>48.88</td>\n",
       "      <td>29.0</td>\n",
       "      <td>87.40</td>\n",
       "      <td>13</td>\n",
       "      <td>72.83</td>\n",
       "      <td>13.0</td>\n",
       "      <td>3.35</td>\n",
       "      <td>60.82</td>\n",
       "      <td>8.02</td>\n",
       "      <td>40.20</td>\n",
       "      <td>38.02</td>\n",
       "      <td>82.38</td>\n",
       "      <td>1</td>\n",
       "      <td>0</td>\n",
       "    </tr>\n",
       "    <tr>\n",
       "      <th>15</th>\n",
       "      <td>33.93</td>\n",
       "      <td>10</td>\n",
       "      <td>85.03</td>\n",
       "      <td>30.0</td>\n",
       "      <td>143.90</td>\n",
       "      <td>10</td>\n",
       "      <td>119.68</td>\n",
       "      <td>46.0</td>\n",
       "      <td>5.50</td>\n",
       "      <td>102.40</td>\n",
       "      <td>16.92</td>\n",
       "      <td>71.68</td>\n",
       "      <td>67.92</td>\n",
       "      <td>136.47</td>\n",
       "      <td>0</td>\n",
       "      <td>1</td>\n",
       "    </tr>\n",
       "  </tbody>\n",
       "</table>\n",
       "</div>"
      ],
      "text/plain": [
       "      10k  division    25k   age  official  genderdiv     35k  overall  pace  \\\n",
       "9   30.48        20  77.68  31.0    137.83         20  112.27     20.0  5.27   \n",
       "14  17.12        13  48.88  29.0     87.40         13   72.83     13.0  3.35   \n",
       "15  33.93        10  85.03  30.0    143.90         10  119.68     46.0  5.50   \n",
       "\n",
       "       30k     5k   half    20k     40k  M  USA  \n",
       "9    94.78  15.15  65.23  61.78  129.83  1    1  \n",
       "14   60.82   8.02  40.20  38.02   82.38  1    0  \n",
       "15  102.40  16.92  71.68  67.92  136.47  0    1  "
      ]
     },
     "execution_count": 18,
     "metadata": {},
     "output_type": "execute_result"
    }
   ],
   "source": [
    "print(data.shape)\n",
    "data.head(3)"
   ]
  },
  {
   "cell_type": "code",
   "execution_count": 19,
   "metadata": {},
   "outputs": [],
   "source": [
    "data[['10k','division','25k','age','official','genderdiv','35k','overall','pace','30k','5k','half','20k','40k']] = X_Scale"
   ]
  },
  {
   "cell_type": "code",
   "execution_count": 20,
   "metadata": {},
   "outputs": [
    {
     "data": {
      "text/html": [
       "<div>\n",
       "<style scoped>\n",
       "    .dataframe tbody tr th:only-of-type {\n",
       "        vertical-align: middle;\n",
       "    }\n",
       "\n",
       "    .dataframe tbody tr th {\n",
       "        vertical-align: top;\n",
       "    }\n",
       "\n",
       "    .dataframe thead th {\n",
       "        text-align: right;\n",
       "    }\n",
       "</style>\n",
       "<table border=\"1\" class=\"dataframe\">\n",
       "  <thead>\n",
       "    <tr style=\"text-align: right;\">\n",
       "      <th></th>\n",
       "      <th>10k</th>\n",
       "      <th>division</th>\n",
       "      <th>25k</th>\n",
       "      <th>age</th>\n",
       "      <th>official</th>\n",
       "      <th>genderdiv</th>\n",
       "      <th>35k</th>\n",
       "      <th>overall</th>\n",
       "      <th>pace</th>\n",
       "      <th>30k</th>\n",
       "      <th>5k</th>\n",
       "      <th>half</th>\n",
       "      <th>20k</th>\n",
       "      <th>40k</th>\n",
       "      <th>M</th>\n",
       "      <th>USA</th>\n",
       "    </tr>\n",
       "  </thead>\n",
       "  <tbody>\n",
       "    <tr>\n",
       "      <th>9</th>\n",
       "      <td>0.140248</td>\n",
       "      <td>0.002723</td>\n",
       "      <td>0.121138</td>\n",
       "      <td>0.206349</td>\n",
       "      <td>0.116747</td>\n",
       "      <td>0.001081</td>\n",
       "      <td>0.109485</td>\n",
       "      <td>0.000595</td>\n",
       "      <td>0.116628</td>\n",
       "      <td>0.110578</td>\n",
       "      <td>0.090333</td>\n",
       "      <td>0.127399</td>\n",
       "      <td>0.127516</td>\n",
       "      <td>0.115959</td>\n",
       "      <td>1</td>\n",
       "      <td>1</td>\n",
       "    </tr>\n",
       "    <tr>\n",
       "      <th>14</th>\n",
       "      <td>0.000000</td>\n",
       "      <td>0.001720</td>\n",
       "      <td>0.001372</td>\n",
       "      <td>0.174603</td>\n",
       "      <td>0.005682</td>\n",
       "      <td>0.000683</td>\n",
       "      <td>0.005284</td>\n",
       "      <td>0.000376</td>\n",
       "      <td>0.005774</td>\n",
       "      <td>0.003316</td>\n",
       "      <td>0.000000</td>\n",
       "      <td>0.000000</td>\n",
       "      <td>0.000000</td>\n",
       "      <td>0.005138</td>\n",
       "      <td>1</td>\n",
       "      <td>0</td>\n",
       "    </tr>\n",
       "  </tbody>\n",
       "</table>\n",
       "</div>"
      ],
      "text/plain": [
       "         10k  division       25k       age  official  genderdiv       35k  \\\n",
       "9   0.140248  0.002723  0.121138  0.206349  0.116747   0.001081  0.109485   \n",
       "14  0.000000  0.001720  0.001372  0.174603  0.005682   0.000683  0.005284   \n",
       "\n",
       "     overall      pace       30k        5k      half       20k       40k  M  \\\n",
       "9   0.000595  0.116628  0.110578  0.090333  0.127399  0.127516  0.115959  1   \n",
       "14  0.000376  0.005774  0.003316  0.000000  0.000000  0.000000  0.005138  1   \n",
       "\n",
       "    USA  \n",
       "9     1  \n",
       "14    0  "
      ]
     },
     "execution_count": 20,
     "metadata": {},
     "output_type": "execute_result"
    }
   ],
   "source": [
    "data.head(2)"
   ]
  },
  {
   "cell_type": "markdown",
   "metadata": {
    "colab_type": "text",
    "id": "UirYWWhw1Dep"
   },
   "source": [
    "# Determining the optimal number of clusters"
   ]
  },
  {
   "cell_type": "markdown",
   "metadata": {
    "colab_type": "text",
    "id": "FoN4tV9E4_4O"
   },
   "source": [
    "## Silhouette Analysis"
   ]
  },
  {
   "cell_type": "code",
   "execution_count": null,
   "metadata": {
    "colab": {
     "autoexec": {
      "startup": false,
      "wait_interval": 0
     }
    },
    "colab_type": "code",
    "id": "lKS2lgPsOYiA"
   },
   "outputs": [],
   "source": [
    "from sklearn.metrics import silhouette_samples, silhouette_score"
   ]
  },
  {
   "cell_type": "code",
   "execution_count": null,
   "metadata": {
    "colab": {
     "autoexec": {
      "startup": false,
      "wait_interval": 0
     }
    },
    "colab_type": "code",
    "id": "Ex1FL0ig5Rdb"
   },
   "outputs": [],
   "source": [
    "for n_clusters in  range(2,6):\n",
    "    clusterer = KMeans(n_clusters=n_clusters, random_state=42)\n",
    "    cluster_labels = clusterer.fit_predict(data)\n",
    "    # The silhouette_score gives the average value for all the samples.\n",
    "    # This gives a perspective into the density and separation of the formed\n",
    "    silhouette_avg = silhouette_score(data, cluster_labels)\n",
    "    print(\"For n_clusters =\", n_clusters,\n",
    "        \"The average silhouette_score is :\", silhouette_avg)"
   ]
  },
  {
   "cell_type": "markdown",
   "metadata": {
    "colab_type": "text",
    "id": "koGxKYr3Hanz"
   },
   "source": [
    "Runtime died :("
   ]
  },
  {
   "cell_type": "markdown",
   "metadata": {
    "colab_type": "text",
    "id": "W4sNb95p1Ope"
   },
   "source": [
    "## Elbow Analysis"
   ]
  },
  {
   "cell_type": "markdown",
   "metadata": {
    "colab_type": "text",
    "id": "a6ygvxpj4T96"
   },
   "source": [
    "The Elbow method is a method of interpretation and validation of consistency within cluster analysis designed to help finding the appropriate number of clusters in a dataset."
   ]
  },
  {
   "cell_type": "code",
   "execution_count": 21,
   "metadata": {
    "colab": {
     "autoexec": {
      "startup": false,
      "wait_interval": 0
     }
    },
    "colab_type": "code",
    "id": "SdehDwRu4pgG"
   },
   "outputs": [],
   "source": [
    "cluster_range = range( 1, 20 )\n",
    "cluster_errors = []\n",
    "for num_clusters in cluster_range:\n",
    "    clusters = KMeans( num_clusters )\n",
    "    clusters.fit(data)\n",
    "    cluster_errors.append( clusters.inertia_)"
   ]
  },
  {
   "cell_type": "code",
   "execution_count": 22,
   "metadata": {
    "colab": {
     "autoexec": {
      "startup": false,
      "wait_interval": 0
     },
     "base_uri": "https://localhost:8080/",
     "height": 359
    },
    "colab_type": "code",
    "executionInfo": {
     "elapsed": 828,
     "status": "ok",
     "timestamp": 1527062940585,
     "user": {
      "displayName": "Trinh Phuc",
      "photoUrl": "https://lh3.googleusercontent.com/a/default-user=s128",
      "userId": "117763058204935570065"
     },
     "user_tz": -420
    },
    "id": "qWXnQlo9CSgo",
    "outputId": "7adaf2d6-557a-4276-c2d5-ac62660865d0"
   },
   "outputs": [
    {
     "data": {
      "text/html": [
       "<div>\n",
       "<style scoped>\n",
       "    .dataframe tbody tr th:only-of-type {\n",
       "        vertical-align: middle;\n",
       "    }\n",
       "\n",
       "    .dataframe tbody tr th {\n",
       "        vertical-align: top;\n",
       "    }\n",
       "\n",
       "    .dataframe thead th {\n",
       "        text-align: right;\n",
       "    }\n",
       "</style>\n",
       "<table border=\"1\" class=\"dataframe\">\n",
       "  <thead>\n",
       "    <tr style=\"text-align: right;\">\n",
       "      <th></th>\n",
       "      <th>num_clusters</th>\n",
       "      <th>cluster_errors</th>\n",
       "    </tr>\n",
       "  </thead>\n",
       "  <tbody>\n",
       "    <tr>\n",
       "      <th>0</th>\n",
       "      <td>1</td>\n",
       "      <td>19523.187556</td>\n",
       "    </tr>\n",
       "    <tr>\n",
       "      <th>1</th>\n",
       "      <td>2</td>\n",
       "      <td>11836.803081</td>\n",
       "    </tr>\n",
       "    <tr>\n",
       "      <th>2</th>\n",
       "      <td>3</td>\n",
       "      <td>8491.394493</td>\n",
       "    </tr>\n",
       "    <tr>\n",
       "      <th>3</th>\n",
       "      <td>4</td>\n",
       "      <td>6349.896940</td>\n",
       "    </tr>\n",
       "    <tr>\n",
       "      <th>4</th>\n",
       "      <td>5</td>\n",
       "      <td>5079.953724</td>\n",
       "    </tr>\n",
       "    <tr>\n",
       "      <th>5</th>\n",
       "      <td>6</td>\n",
       "      <td>4417.833500</td>\n",
       "    </tr>\n",
       "    <tr>\n",
       "      <th>6</th>\n",
       "      <td>7</td>\n",
       "      <td>3785.982529</td>\n",
       "    </tr>\n",
       "    <tr>\n",
       "      <th>7</th>\n",
       "      <td>8</td>\n",
       "      <td>3232.589558</td>\n",
       "    </tr>\n",
       "    <tr>\n",
       "      <th>8</th>\n",
       "      <td>9</td>\n",
       "      <td>2889.859419</td>\n",
       "    </tr>\n",
       "    <tr>\n",
       "      <th>9</th>\n",
       "      <td>10</td>\n",
       "      <td>2575.685247</td>\n",
       "    </tr>\n",
       "  </tbody>\n",
       "</table>\n",
       "</div>"
      ],
      "text/plain": [
       "   num_clusters  cluster_errors\n",
       "0             1    19523.187556\n",
       "1             2    11836.803081\n",
       "2             3     8491.394493\n",
       "3             4     6349.896940\n",
       "4             5     5079.953724\n",
       "5             6     4417.833500\n",
       "6             7     3785.982529\n",
       "7             8     3232.589558\n",
       "8             9     2889.859419\n",
       "9            10     2575.685247"
      ]
     },
     "execution_count": 22,
     "metadata": {},
     "output_type": "execute_result"
    }
   ],
   "source": [
    "clusters_df = pd.DataFrame( { \"num_clusters\":cluster_range, \"cluster_errors\":cluster_errors } )\n",
    "clusters_df[0:10]"
   ]
  },
  {
   "cell_type": "code",
   "execution_count": 23,
   "metadata": {
    "colab": {
     "autoexec": {
      "startup": false,
      "wait_interval": 0
     },
     "base_uri": "https://localhost:8080/",
     "height": 391
    },
    "colab_type": "code",
    "executionInfo": {
     "elapsed": 852,
     "status": "ok",
     "timestamp": 1527062339808,
     "user": {
      "displayName": "Trinh Phuc",
      "photoUrl": "https://lh3.googleusercontent.com/a/default-user=s128",
      "userId": "117763058204935570065"
     },
     "user_tz": -420
    },
    "id": "iRpfQPDe4ryd",
    "outputId": "8241283c-d10c-4e8b-a211-ebac636803e2"
   },
   "outputs": [
    {
     "data": {
      "text/plain": [
       "[<matplotlib.lines.Line2D at 0x4fdf51e278>]"
      ]
     },
     "execution_count": 23,
     "metadata": {},
     "output_type": "execute_result"
    },
    {
     "data": {
      "image/png": "[encoded data removed]",
      "text/plain": [
       "<Figure size 864x432 with 1 Axes>"
      ]
     },
     "metadata": {},
     "output_type": "display_data"
    }
   ],
   "source": [
    "plt.figure(figsize=(12,6))\n",
    "plt.plot( clusters_df.num_clusters, clusters_df.cluster_errors, marker = \"o\" )"
   ]
  },
  {
   "cell_type": "markdown",
   "metadata": {
    "colab_type": "text",
    "id": "eTczt5WfBuAN"
   },
   "source": [
    "The elbow diagram shows that the gain in explained variance reduces significantly from 2 to 3. So, optimal number of clusters could either 2 or 3. \n"
   ]
  },
  {
   "cell_type": "markdown",
   "metadata": {
    "colab_type": "text",
    "id": "EFeHE9Oi5Ec6"
   },
   "source": [
    "* The silhouette value is a measure of how similar an object is to its own cluster (cohesion) compared to other clusters (separation).\n",
    "* The silhouette ranges from -1 to 1, where a high value indicates that the object is well matched to its own cluster and poorly matched to neighboring clusters.\n",
    "* If most objects have a high value, then the clustering configuration is appropriate. If many points have a low or negative value, then the clustering configuration may have too many or too few clusters.\n",
    "* The silhouette can be calculated with any distance metric, such as the Euclidean distance or the Manhattan distance."
   ]
  },
  {
   "cell_type": "markdown",
   "metadata": {
    "colab_type": "text",
    "id": "8_Eg-47ZHd2K"
   },
   "source": [
    "# Clustering with K-means"
   ]
  },
  {
   "cell_type": "code",
   "execution_count": 24,
   "metadata": {
    "colab": {
     "autoexec": {
      "startup": false,
      "wait_interval": 0
     },
     "base_uri": "https://localhost:8080/",
     "height": 34
    },
    "colab_type": "code",
    "executionInfo": {
     "elapsed": 53467,
     "status": "ok",
     "timestamp": 1527241208412,
     "user": {
      "displayName": "Trinh Phuc",
      "photoUrl": "https://lh3.googleusercontent.com/a/default-user=s128",
      "userId": "117763058204935570065"
     },
     "user_tz": -420
    },
    "id": "tA4mDC5ItJkW",
    "outputId": "5befe55d-423a-4ffd-daa5-503e7fc2c182"
   },
   "outputs": [
    {
     "data": {
      "text/plain": [
       "array([1, 1, 0, ..., 0, 0, 1])"
      ]
     },
     "execution_count": 24,
     "metadata": {},
     "output_type": "execute_result"
    }
   ],
   "source": [
    "from sklearn.cluster import KMeans\n",
    "kmean = KMeans(n_clusters=2, random_state=42).fit(data)\n",
    "kmean.labels_"
   ]
  },
  {
   "cell_type": "code",
   "execution_count": 25,
   "metadata": {},
   "outputs": [],
   "source": [
    "data['Group'] = kmean.labels_"
   ]
  },
  {
   "cell_type": "code",
   "execution_count": 26,
   "metadata": {},
   "outputs": [
    {
     "data": {
      "text/plain": [
       "<matplotlib.axes._subplots.AxesSubplot at 0x4fdc96de48>"
      ]
     },
     "execution_count": 26,
     "metadata": {},
     "output_type": "execute_result"
    },
    {
     "data": {
      "image/png": "[encoded data removed]",
      "text/plain": [
       "<Figure size 432x288 with 1 Axes>"
      ]
     },
     "metadata": {},
     "output_type": "display_data"
    }
   ],
   "source": [
    "data.Group.value_counts().plot(kind='bar')"
   ]
  },
  {
   "cell_type": "code",
   "execution_count": 27,
   "metadata": {},
   "outputs": [],
   "source": [
    "grouped_data = data.groupby('Group').mean()"
   ]
  },
  {
   "cell_type": "code",
   "execution_count": 28,
   "metadata": {},
   "outputs": [
    {
     "data": {
      "text/plain": [
       "<matplotlib.axes._subplots.AxesSubplot at 0x4fdc9ebb70>"
      ]
     },
     "execution_count": 28,
     "metadata": {},
     "output_type": "execute_result"
    },
    {
     "data": {
      "image/png": "[encoded data removed]",
      "text/plain": [
       "<Figure size 3600x1080 with 1 Axes>"
      ]
     },
     "metadata": {},
     "output_type": "display_data"
    }
   ],
   "source": [
    "grouped_data[['overall','age','pace','M','USA']].plot.bar(figsize=(50,15),grid=True)"
   ]
  },
  {
   "cell_type": "markdown",
   "metadata": {},
   "source": [
    "##### Conclusion: After plotting the clusters, We can get some insights like this: the rate of female Americans having overall point and pace in marathon competition are higher than male Americans with the condition that the average of age is lower"
   ]
  }
 ],
 "metadata": {
  "accelerator": "GPU",
  "colab": {
   "collapsed_sections": [],
   "default_view": {},
   "name": "",
   "provenance": [],
   "version": "0.3.2",
   "views": {}
  },
  "kernelspec": {
   "display_name": "Python 3",
   "language": "python",
   "name": "python3"
  },
  "language_info": {
   "codemirror_mode": {
    "name": "ipython",
    "version": 3
   },
   "file_extension": ".py",
   "mimetype": "text/x-python",
   "name": "python",
   "nbconvert_exporter": "python",
   "pygments_lexer": "ipython3",
   "version": "3.6.5"
  }
 },
 "nbformat": 4,
 "nbformat_minor": 1
}
