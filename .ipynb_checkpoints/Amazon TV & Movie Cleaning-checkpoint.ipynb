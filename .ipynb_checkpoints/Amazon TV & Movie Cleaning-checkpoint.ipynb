{
 "cells": [
  {
   "cell_type": "code",
   "execution_count": 1,
   "metadata": {
    "collapsed": true
   },
   "outputs": [],
   "source": [
    "import pandas as pd #thư viện pandas lưu data dưới dạng dataframe\n",
    "import gzip #thư viện để extract file .gz"
   ]
  },
  {
   "cell_type": "code",
   "execution_count": 2,
   "metadata": {
    "collapsed": true
   },
   "outputs": [],
   "source": [
    "def parse(path):\n",
    "    '''\n",
    "    Extract .gz file and import to dataframe by using Pandas\n",
    "    '''\n",
    "    g = gzip.open(path, 'rb')\n",
    "    for l in g:\n",
    "        yield eval(l)\n",
    "\n",
    "def getDF(path):\n",
    "    i = 0\n",
    "    df = {}\n",
    "    for d in parse(path):\n",
    "        df[i] = d\n",
    "        i += 1\n",
    "    return pd.DataFrame.from_dict(df, orient='index')\n",
    "\n",
    "df = getDF('reviews_Movies_and_TV_5.json.gz')"
   ]
  },
  {
   "cell_type": "code",
   "execution_count": 3,
   "metadata": {
    "collapsed": false
   },
   "outputs": [
    {
     "data": {
      "text/html": [
       "<div>\n",
       "<table border=\"1\" class=\"dataframe\">\n",
       "  <thead>\n",
       "    <tr style=\"text-align: right;\">\n",
       "      <th></th>\n",
       "      <th>reviewerID</th>\n",
       "      <th>asin</th>\n",
       "      <th>reviewerName</th>\n",
       "      <th>helpful</th>\n",
       "      <th>reviewText</th>\n",
       "      <th>overall</th>\n",
       "      <th>summary</th>\n",
       "      <th>unixReviewTime</th>\n",
       "      <th>reviewTime</th>\n",
       "    </tr>\n",
       "  </thead>\n",
       "  <tbody>\n",
       "    <tr>\n",
       "      <th>0</th>\n",
       "      <td>ADZPIG9QOCDG5</td>\n",
       "      <td>0005019281</td>\n",
       "      <td>Alice L. Larson \"alice-loves-books\"</td>\n",
       "      <td>[0, 0]</td>\n",
       "      <td>This is a charming version of the classic Dick...</td>\n",
       "      <td>4.0</td>\n",
       "      <td>good version of a classic</td>\n",
       "      <td>1203984000</td>\n",
       "      <td>02 26, 2008</td>\n",
       "    </tr>\n",
       "    <tr>\n",
       "      <th>1</th>\n",
       "      <td>A35947ZP82G7JH</td>\n",
       "      <td>0005019281</td>\n",
       "      <td>Amarah Strack</td>\n",
       "      <td>[0, 0]</td>\n",
       "      <td>It was good but not as emotionally moving as t...</td>\n",
       "      <td>3.0</td>\n",
       "      <td>Good but not as moving</td>\n",
       "      <td>1388361600</td>\n",
       "      <td>12 30, 2013</td>\n",
       "    </tr>\n",
       "    <tr>\n",
       "      <th>2</th>\n",
       "      <td>A3UORV8A9D5L2E</td>\n",
       "      <td>0005019281</td>\n",
       "      <td>Amazon Customer</td>\n",
       "      <td>[0, 0]</td>\n",
       "      <td>Don't get me wrong, Winkler is a wonderful cha...</td>\n",
       "      <td>3.0</td>\n",
       "      <td>Winkler's Performance was ok at best!</td>\n",
       "      <td>1388361600</td>\n",
       "      <td>12 30, 2013</td>\n",
       "    </tr>\n",
       "  </tbody>\n",
       "</table>\n",
       "</div>"
      ],
      "text/plain": [
       "       reviewerID        asin                         reviewerName helpful  \\\n",
       "0   ADZPIG9QOCDG5  0005019281  Alice L. Larson \"alice-loves-books\"  [0, 0]   \n",
       "1  A35947ZP82G7JH  0005019281                        Amarah Strack  [0, 0]   \n",
       "2  A3UORV8A9D5L2E  0005019281                      Amazon Customer  [0, 0]   \n",
       "\n",
       "                                          reviewText  overall  \\\n",
       "0  This is a charming version of the classic Dick...      4.0   \n",
       "1  It was good but not as emotionally moving as t...      3.0   \n",
       "2  Don't get me wrong, Winkler is a wonderful cha...      3.0   \n",
       "\n",
       "                                 summary  unixReviewTime   reviewTime  \n",
       "0              good version of a classic      1203984000  02 26, 2008  \n",
       "1                 Good but not as moving      1388361600  12 30, 2013  \n",
       "2  Winkler's Performance was ok at best!      1388361600  12 30, 2013  "
      ]
     },
     "execution_count": 3,
     "metadata": {},
     "output_type": "execute_result"
    }
   ],
   "source": [
    "df.head(3) #basically show how dataset looks like"
   ]
  },
  {
   "cell_type": "markdown",
   "metadata": {},
   "source": [
    "##### Data structure:\n",
    "\n",
    "* reviewerID - ID of the reviewer, e.g. A2SUAM1J3GNN3B\n",
    "\n",
    "* asin - ID of the product, e.g. 0000013714\n",
    "\n",
    "* reviewerName - name of the reviewer\n",
    "\n",
    "* helpful - helpfulness rating of the review, e.g. 2/3\n",
    "\n",
    "* reviewText - text of the review\n",
    "\n",
    "* overall - rating of the product\n",
    "\n",
    "* summary - summary of the review\n",
    "\n",
    "* unixReviewTime - time of the review (unix time)\n",
    "\n",
    "* reviewTime - time of the review (raw)\n",
    "\n",
    "##### Here, we just concern these features:\n",
    "\n",
    "* asin - ID of the product\n",
    "\n",
    "* overall - rating of the product\n",
    "\n",
    "* summary - summary of the review\n",
    "\n",
    "* reviewText - text of the review\n"
   ]
  },
  {
   "cell_type": "code",
   "execution_count": 9,
   "metadata": {
    "collapsed": false
   },
   "outputs": [
    {
     "name": "stdout",
     "output_type": "stream",
     "text": [
      "[nltk_data] Downloading package stopwords to\n",
      "[nltk_data]     C:\\Users\\USER\\AppData\\Roaming\\nltk_data...\n",
      "[nltk_data]   Package stopwords is already up-to-date!\n"
     ]
    }
   ],
   "source": [
    "import nltk # NLTK is a leading platform for building Python programs to work with human language data\n",
    "nltk.download('stopwords') #download list of stopwords\n",
    "from nltk.corpus import stopwords #unzip stopwords list"
   ]
  },
  {
   "cell_type": "code",
   "execution_count": 10,
   "metadata": {
    "collapsed": true
   },
   "outputs": [],
   "source": [
    "def meaningful_words(review):\n",
    "    \"\"\"\n",
    "    Function to convert a raw review to a string of words\n",
    "    :param review\n",
    "    :return: meaningful_words\n",
    "    \"\"\"\n",
    "    # 1. Convert to lower case, split into individual words\n",
    "    words = review.lower().split()\n",
    "    \n",
    "    # 2. In Python, searching a set is much faster than searching\n",
    "    #   a list, so convert the stop words to a set\n",
    "    stops = set(stopwords.words(\"english\"))\n",
    "    \n",
    "    # 3. Remove stop words\n",
    "    meaningful_words = [w for w in words if not w in stops]\n",
    "    \n",
    "    # 4. Join the words back into one string separated by space,\n",
    "    # and return the result.\n",
    "    return \" \".join(meaningful_words)"
   ]
  },
  {
   "cell_type": "code",
   "execution_count": 13,
   "metadata": {
    "collapsed": true
   },
   "outputs": [],
   "source": [
    "#import time libs\n",
    "import datetime\n",
    "import time"
   ]
  },
  {
   "cell_type": "code",
   "execution_count": 75,
   "metadata": {
    "collapsed": true
   },
   "outputs": [],
   "source": [
    "def time_diff_str(t1, t2):\n",
    "    \"\"\"\n",
    "    Calculates time durations.\n",
    "    \"\"\"\n",
    "    diff = t2 - t1\n",
    "    mins = int(diff / 60)\n",
    "    secs = round(diff % 60, 2)\n",
    "    return str(mins) + \" mins and \" + str(secs) + \" seconds\"\n",
    "\n",
    "reviewText_new = []\n",
    "\n",
    "def cleaning_data(dataset):\n",
    "    \"\"\"\n",
    "    doing features selection and saving to Tv&Movies.csv file\n",
    "    \n",
    "    \"\"\"\n",
    "    \n",
    "    t0 = time.time()\n",
    "\n",
    "    # Get the number of reviewText based on the dataframe column size\n",
    "    num_reviews = dataset[\"reviewText\"].size\n",
    "    # Loop over each review\n",
    "    for i in range(0, num_reviews):\n",
    "        # If the index is evenly divisible by 1000, print a message\n",
    "        if (i + 1) % 100000 == 0:\n",
    "            print (\"Review %d of %d and the percentage completement is %0.2f percent\\n\" % (i + 1, num_reviews,(i+1)/num_reviews*100))\n",
    "        \n",
    "        reviewText_new.append(meaningful_words(dataset.reviewText[i]))\n",
    "    print(\"Done!\")\n"
   ]
  },
  {
   "cell_type": "code",
   "execution_count": 76,
   "metadata": {
    "collapsed": false
   },
   "outputs": [
    {
     "name": "stdout",
     "output_type": "stream",
     "text": [
      "Review 100000 of 1697533 and the percentage completement is 5.89 percent\n",
      "\n",
      "Review 200000 of 1697533 and the percentage completement is 11.78 percent\n",
      "\n",
      "Review 300000 of 1697533 and the percentage completement is 17.67 percent\n",
      "\n",
      "Review 400000 of 1697533 and the percentage completement is 23.56 percent\n",
      "\n",
      "Review 500000 of 1697533 and the percentage completement is 29.45 percent\n",
      "\n",
      "Review 600000 of 1697533 and the percentage completement is 35.35 percent\n",
      "\n",
      "Review 700000 of 1697533 and the percentage completement is 41.24 percent\n",
      "\n",
      "Review 800000 of 1697533 and the percentage completement is 47.13 percent\n",
      "\n",
      "Review 900000 of 1697533 and the percentage completement is 53.02 percent\n",
      "\n",
      "Review 1000000 of 1697533 and the percentage completement is 58.91 percent\n",
      "\n",
      "Review 1100000 of 1697533 and the percentage completement is 64.80 percent\n",
      "\n",
      "Review 1200000 of 1697533 and the percentage completement is 70.69 percent\n",
      "\n",
      "Review 1300000 of 1697533 and the percentage completement is 76.58 percent\n",
      "\n",
      "Review 1400000 of 1697533 and the percentage completement is 82.47 percent\n",
      "\n",
      "Review 1500000 of 1697533 and the percentage completement is 88.36 percent\n",
      "\n",
      "Review 1600000 of 1697533 and the percentage completement is 94.25 percent\n",
      "\n",
      "Done!\n"
     ]
    }
   ],
   "source": [
    "cleaning_data(df) #call cleaning_data function"
   ]
  },
  {
   "cell_type": "code",
   "execution_count": 79,
   "metadata": {
    "collapsed": false
   },
   "outputs": [],
   "source": [
    "df.reviewText_new = reviewText_new #replace reviewText_new column value with the value of reviewText_new array which contains a string not including stopwords"
   ]
  },
  {
   "cell_type": "code",
   "execution_count": 81,
   "metadata": {
    "collapsed": false
   },
   "outputs": [
    {
     "data": {
      "text/html": [
       "<div>\n",
       "<table border=\"1\" class=\"dataframe\">\n",
       "  <thead>\n",
       "    <tr style=\"text-align: right;\">\n",
       "      <th></th>\n",
       "      <th>reviewerID</th>\n",
       "      <th>asin</th>\n",
       "      <th>reviewerName</th>\n",
       "      <th>helpful</th>\n",
       "      <th>reviewText</th>\n",
       "      <th>overall</th>\n",
       "      <th>summary</th>\n",
       "      <th>unixReviewTime</th>\n",
       "      <th>reviewTime</th>\n",
       "      <th>reviewText_new</th>\n",
       "    </tr>\n",
       "  </thead>\n",
       "  <tbody>\n",
       "    <tr>\n",
       "      <th>0</th>\n",
       "      <td>ADZPIG9QOCDG5</td>\n",
       "      <td>0005019281</td>\n",
       "      <td>Alice L. Larson \"alice-loves-books\"</td>\n",
       "      <td>[0, 0]</td>\n",
       "      <td>This is a charming version of the classic Dick...</td>\n",
       "      <td>4.0</td>\n",
       "      <td>good version of a classic</td>\n",
       "      <td>1203984000</td>\n",
       "      <td>02 26, 2008</td>\n",
       "      <td>charming version classic dicken's tale. henry ...</td>\n",
       "    </tr>\n",
       "    <tr>\n",
       "      <th>1</th>\n",
       "      <td>A35947ZP82G7JH</td>\n",
       "      <td>0005019281</td>\n",
       "      <td>Amarah Strack</td>\n",
       "      <td>[0, 0]</td>\n",
       "      <td>It was good but not as emotionally moving as t...</td>\n",
       "      <td>3.0</td>\n",
       "      <td>Good but not as moving</td>\n",
       "      <td>1388361600</td>\n",
       "      <td>12 30, 2013</td>\n",
       "      <td>good emotionally moving christmas carol dicken...</td>\n",
       "    </tr>\n",
       "    <tr>\n",
       "      <th>2</th>\n",
       "      <td>A3UORV8A9D5L2E</td>\n",
       "      <td>0005019281</td>\n",
       "      <td>Amazon Customer</td>\n",
       "      <td>[0, 0]</td>\n",
       "      <td>Don't get me wrong, Winkler is a wonderful cha...</td>\n",
       "      <td>3.0</td>\n",
       "      <td>Winkler's Performance was ok at best!</td>\n",
       "      <td>1388361600</td>\n",
       "      <td>12 30, 2013</td>\n",
       "      <td>get wrong, winkler wonderful character actor w...</td>\n",
       "    </tr>\n",
       "  </tbody>\n",
       "</table>\n",
       "</div>"
      ],
      "text/plain": [
       "       reviewerID        asin                         reviewerName helpful  \\\n",
       "0   ADZPIG9QOCDG5  0005019281  Alice L. Larson \"alice-loves-books\"  [0, 0]   \n",
       "1  A35947ZP82G7JH  0005019281                        Amarah Strack  [0, 0]   \n",
       "2  A3UORV8A9D5L2E  0005019281                      Amazon Customer  [0, 0]   \n",
       "\n",
       "                                          reviewText  overall  \\\n",
       "0  This is a charming version of the classic Dick...      4.0   \n",
       "1  It was good but not as emotionally moving as t...      3.0   \n",
       "2  Don't get me wrong, Winkler is a wonderful cha...      3.0   \n",
       "\n",
       "                                 summary  unixReviewTime   reviewTime  \\\n",
       "0              good version of a classic      1203984000  02 26, 2008   \n",
       "1                 Good but not as moving      1388361600  12 30, 2013   \n",
       "2  Winkler's Performance was ok at best!      1388361600  12 30, 2013   \n",
       "\n",
       "                                      reviewText_new  \n",
       "0  charming version classic dicken's tale. henry ...  \n",
       "1  good emotionally moving christmas carol dicken...  \n",
       "2  get wrong, winkler wonderful character actor w...  "
      ]
     },
     "execution_count": 81,
     "metadata": {},
     "output_type": "execute_result"
    }
   ],
   "source": [
    "df.head(3) #review dataframe after adding reviewText_new column getting rid of all stopwords"
   ]
  },
  {
   "cell_type": "code",
   "execution_count": 88,
   "metadata": {
    "collapsed": false
   },
   "outputs": [],
   "source": [
    "#Save dataframe as CSV file with perfectly_TV.csv named\n",
    "df[['asin','overall','summary','reviewText','reviewText_new']].to_csv('perfectly_TV&Music', sep='\\t')"
   ]
  }
 ],
 "metadata": {
  "kernelspec": {
   "display_name": "Python 3",
   "language": "python",
   "name": "python3"
  },
  "language_info": {
   "codemirror_mode": {
    "name": "ipython",
    "version": 3
   },
   "file_extension": ".py",
   "mimetype": "text/x-python",
   "name": "python",
   "nbconvert_exporter": "python",
   "pygments_lexer": "ipython3",
   "version": "3.6.0"
  }
 },
 "nbformat": 4,
 "nbformat_minor": 2
}
