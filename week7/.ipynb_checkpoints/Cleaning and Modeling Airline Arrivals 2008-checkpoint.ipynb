{
 "cells": [
  {
   "cell_type": "markdown",
   "metadata": {},
   "source": [
    "# <center><span style=\"color:blue\">AIRLINE ARRIVALS 2008</span></center>"
   ]
  },
  {
   "cell_type": "markdown",
   "metadata": {},
   "source": [
    "###### Use this dataset of airline arrival information to predict how late flights will be. A flight only counts as late if it is more than 30 minutes late.\n",
    "    1. The project should follow guideline as previous projects.\n",
    "    2. Apply models in Naïve Bayes, Logistic Regression, Decision Tree, Random Forest, Gradient Boosting and SVM.\n",
    "    3. Apply PCA, SelectKBest and RFE for feature selections.\n",
    "    4. Using gridsearchCV to obtain best parameters for models.\n",
    "    5. Compare performances among models, write up analysis why the model is good or bad in the algorithmic approach (explain why the algorithm is good or bad for the dataset structure, can you do something to improve the model?)\n",
    "    6. Include the conclusions"
   ]
  },
  {
   "cell_type": "markdown",
   "metadata": {},
   "source": [
    "    Each entry of this file corresponds to a flight and we see that more than 7.009.728 flights have been recordeed in 2008. These fights are described by 29 variables. A description of these variables are\n",
    "\n",
    "#### Name\tDescription\n",
    "\n",
    "    * 1 Year\t1987-2008\n",
    "\n",
    "    * 2\tMonth\t1-12\n",
    "\n",
    "    * 3\tDayofMonth\t1-31\n",
    "\n",
    "    * 4\tDayOfWeek\t1 (Monday) - 7 (Sunday)\n",
    "\n",
    "    * 5\tDepTime\tactual departure time (local, hhmm)\n",
    "\n",
    "    * 6\tCRSDepTime\tscheduled departure time (local, hhmm)\n",
    "\n",
    "    * 7\tArrTime\tactual arrival time (local, hhmm)\n",
    "\n",
    "    * 8\tCRSArrTime\tscheduled arrival time (local, hhmm)\n",
    "\n",
    "    * 9\tUniqueCarrier\tunique carrier code\n",
    "\n",
    "    * 10\tFlightNum\tflight number\n",
    "\n",
    "    * 11\tTailNum\tplane tail number\n",
    "\n",
    "    * 12\tActualElapsedTime\tin minutes\n",
    "\n",
    "    * 13\tCRSElapsedTime\tin minutes\n",
    "\n",
    "    * 14\tAirTime\tin minutes\n",
    "\n",
    "    * 15\tArrDelay\tarrival delay, in minutes\n",
    "\n",
    "    * 16\tDepDelay\tdeparture delay, in minutes\n",
    "\n",
    "    * 17\tOrigin\torigin IATA airport code\n",
    "\n",
    "    * 18\tDest\tdestination IATA airport code\n",
    "\n",
    "    * 19\tDistance\tin miles\n",
    "\n",
    "    * 20\tTaxiIn\ttaxi in time, in minutes\n",
    "\n",
    "    * 21\tTaxiOut\ttaxi out time in minutes\n",
    "    \n",
    "    * 22\tCancelled\twas the flight cancelled?\n",
    "\n",
    "    * 23\tCancellationCode\treason for cancellation (A = carrier, B = weather, C = NAS, D = security)\n",
    "\n",
    "    * 24\tDiverted\t1 = yes, 0 = no\n",
    "\n",
    "    * 25\tCarrierDelay\tin minutes\n",
    "\n",
    "    * 26\tWeatherDelay\tin minutes\n",
    "\n",
    "    * 27\tNASDelay\tin minutes\n",
    "\n",
    "    * 28\tSecurityDelay\tin minutes\n",
    "\n",
    "    * 29\tLateAircraftDelay\tin minutes\n",
    "http://stat-computing.org/dataexpo/2009/the-data.html\n",
    "    "
   ]
  },
  {
   "cell_type": "code",
   "execution_count": 1,
   "metadata": {
    "collapsed": true
   },
   "outputs": [],
   "source": [
    "import pandas as pd\n",
    "import matplotlib.pyplot as plt\n",
    "import numpy as np\n",
    "import seaborn as sns\n",
    "import warnings\n",
    "warnings.simplefilter('ignore')\n",
    "%matplotlib inline"
   ]
  },
  {
   "cell_type": "code",
   "execution_count": 2,
   "metadata": {
    "collapsed": true
   },
   "outputs": [],
   "source": [
    "data= pd.read_csv('Airline_Arrivals_Cleaned1.csv',sep='\\t')"
   ]
  },
  {
   "cell_type": "code",
   "execution_count": 3,
   "metadata": {
    "collapsed": false
   },
   "outputs": [
    {
     "data": {
      "text/plain": [
       "Index(['Unnamed: 0', 'DepTime', 'CRSDepTime', 'ArrTime', 'CRSArrTime',\n",
       "       'UniqueCarrier', 'FlightNum', 'TailNum', 'ActualElapsedTime',\n",
       "       'CRSElapsedTime', 'AirTime', 'ArrDelay', 'DepDelay', 'Origin', 'Dest',\n",
       "       'Distance', 'Cancelled', 'CancellationCode', 'Diverted', 'CarrierDelay',\n",
       "       'WeatherDelay', 'NASDelay', 'SecurityDelay', 'LateAircraftDelay', 'Day',\n",
       "       'Date'],\n",
       "      dtype='object')"
      ]
     },
     "execution_count": 3,
     "metadata": {},
     "output_type": "execute_result"
    }
   ],
   "source": [
    "data.columns"
   ]
  },
  {
   "cell_type": "code",
   "execution_count": 4,
   "metadata": {
    "collapsed": false
   },
   "outputs": [
    {
     "data": {
      "text/html": [
       "<div>\n",
       "<table border=\"1\" class=\"dataframe\">\n",
       "  <thead>\n",
       "    <tr style=\"text-align: right;\">\n",
       "      <th></th>\n",
       "      <th>Unnamed: 0</th>\n",
       "      <th>DepTime</th>\n",
       "      <th>CRSDepTime</th>\n",
       "      <th>ArrTime</th>\n",
       "      <th>CRSArrTime</th>\n",
       "      <th>UniqueCarrier</th>\n",
       "      <th>FlightNum</th>\n",
       "      <th>TailNum</th>\n",
       "      <th>ActualElapsedTime</th>\n",
       "      <th>CRSElapsedTime</th>\n",
       "      <th>...</th>\n",
       "      <th>Cancelled</th>\n",
       "      <th>CancellationCode</th>\n",
       "      <th>Diverted</th>\n",
       "      <th>CarrierDelay</th>\n",
       "      <th>WeatherDelay</th>\n",
       "      <th>NASDelay</th>\n",
       "      <th>SecurityDelay</th>\n",
       "      <th>LateAircraftDelay</th>\n",
       "      <th>Day</th>\n",
       "      <th>Date</th>\n",
       "    </tr>\n",
       "  </thead>\n",
       "  <tbody>\n",
       "    <tr>\n",
       "      <th>0</th>\n",
       "      <td>0</td>\n",
       "      <td>20:03:00</td>\n",
       "      <td>2008-01-03 19:55:00</td>\n",
       "      <td>22:11:00</td>\n",
       "      <td>22:25:00</td>\n",
       "      <td>WN</td>\n",
       "      <td>335</td>\n",
       "      <td>N712SW</td>\n",
       "      <td>128.0</td>\n",
       "      <td>150.0</td>\n",
       "      <td>...</td>\n",
       "      <td>0</td>\n",
       "      <td>NaN</td>\n",
       "      <td>0</td>\n",
       "      <td>NaN</td>\n",
       "      <td>NaN</td>\n",
       "      <td>NaN</td>\n",
       "      <td>NaN</td>\n",
       "      <td>NaN</td>\n",
       "      <td>3</td>\n",
       "      <td>2008-01-03 00:00:00</td>\n",
       "    </tr>\n",
       "    <tr>\n",
       "      <th>1</th>\n",
       "      <td>1</td>\n",
       "      <td>07:54:00</td>\n",
       "      <td>2008-01-03 07:35:00</td>\n",
       "      <td>10:02:00</td>\n",
       "      <td>10:00:00</td>\n",
       "      <td>WN</td>\n",
       "      <td>3231</td>\n",
       "      <td>N772SW</td>\n",
       "      <td>128.0</td>\n",
       "      <td>145.0</td>\n",
       "      <td>...</td>\n",
       "      <td>0</td>\n",
       "      <td>NaN</td>\n",
       "      <td>0</td>\n",
       "      <td>NaN</td>\n",
       "      <td>NaN</td>\n",
       "      <td>NaN</td>\n",
       "      <td>NaN</td>\n",
       "      <td>NaN</td>\n",
       "      <td>3</td>\n",
       "      <td>2008-01-03 00:00:00</td>\n",
       "    </tr>\n",
       "    <tr>\n",
       "      <th>2</th>\n",
       "      <td>2</td>\n",
       "      <td>06:28:00</td>\n",
       "      <td>2008-01-03 06:20:00</td>\n",
       "      <td>08:04:00</td>\n",
       "      <td>07:50:00</td>\n",
       "      <td>WN</td>\n",
       "      <td>448</td>\n",
       "      <td>N428WN</td>\n",
       "      <td>96.0</td>\n",
       "      <td>90.0</td>\n",
       "      <td>...</td>\n",
       "      <td>0</td>\n",
       "      <td>NaN</td>\n",
       "      <td>0</td>\n",
       "      <td>NaN</td>\n",
       "      <td>NaN</td>\n",
       "      <td>NaN</td>\n",
       "      <td>NaN</td>\n",
       "      <td>NaN</td>\n",
       "      <td>3</td>\n",
       "      <td>2008-01-03 00:00:00</td>\n",
       "    </tr>\n",
       "  </tbody>\n",
       "</table>\n",
       "<p>3 rows × 26 columns</p>\n",
       "</div>"
      ],
      "text/plain": [
       "   Unnamed: 0   DepTime           CRSDepTime   ArrTime CRSArrTime  \\\n",
       "0           0  20:03:00  2008-01-03 19:55:00  22:11:00   22:25:00   \n",
       "1           1  07:54:00  2008-01-03 07:35:00  10:02:00   10:00:00   \n",
       "2           2  06:28:00  2008-01-03 06:20:00  08:04:00   07:50:00   \n",
       "\n",
       "  UniqueCarrier  FlightNum TailNum  ActualElapsedTime  CRSElapsedTime  \\\n",
       "0            WN        335  N712SW              128.0           150.0   \n",
       "1            WN       3231  N772SW              128.0           145.0   \n",
       "2            WN        448  N428WN               96.0            90.0   \n",
       "\n",
       "          ...           Cancelled  CancellationCode  Diverted CarrierDelay  \\\n",
       "0         ...                   0               NaN         0          NaN   \n",
       "1         ...                   0               NaN         0          NaN   \n",
       "2         ...                   0               NaN         0          NaN   \n",
       "\n",
       "  WeatherDelay  NASDelay  SecurityDelay LateAircraftDelay  Day  \\\n",
       "0          NaN       NaN            NaN               NaN    3   \n",
       "1          NaN       NaN            NaN               NaN    3   \n",
       "2          NaN       NaN            NaN               NaN    3   \n",
       "\n",
       "                  Date  \n",
       "0  2008-01-03 00:00:00  \n",
       "1  2008-01-03 00:00:00  \n",
       "2  2008-01-03 00:00:00  \n",
       "\n",
       "[3 rows x 26 columns]"
      ]
     },
     "execution_count": 4,
     "metadata": {},
     "output_type": "execute_result"
    }
   ],
   "source": [
    "data.head(3)"
   ]
  },
  {
   "cell_type": "markdown",
   "metadata": {},
   "source": [
    "# Data Cleaning"
   ]
  },
  {
   "cell_type": "code",
   "execution_count": 5,
   "metadata": {
    "collapsed": true
   },
   "outputs": [],
   "source": [
    "df = data[['ArrDelay','ActualElapsedTime','CRSArrTime','ArrTime','DepTime','CRSDepTime','Origin','DepDelay','Cancelled','Dest','Date','Distance','FlightNum','UniqueCarrier','Diverted']]"
   ]
  },
  {
   "cell_type": "code",
   "execution_count": 6,
   "metadata": {
    "collapsed": false
   },
   "outputs": [
    {
     "data": {
      "text/html": [
       "<div>\n",
       "<table border=\"1\" class=\"dataframe\">\n",
       "  <thead>\n",
       "    <tr style=\"text-align: right;\">\n",
       "      <th></th>\n",
       "      <th>ArrDelay</th>\n",
       "      <th>ActualElapsedTime</th>\n",
       "      <th>CRSArrTime</th>\n",
       "      <th>ArrTime</th>\n",
       "      <th>DepTime</th>\n",
       "      <th>CRSDepTime</th>\n",
       "      <th>Origin</th>\n",
       "      <th>DepDelay</th>\n",
       "      <th>Cancelled</th>\n",
       "      <th>Dest</th>\n",
       "      <th>Date</th>\n",
       "      <th>Distance</th>\n",
       "      <th>FlightNum</th>\n",
       "      <th>UniqueCarrier</th>\n",
       "      <th>Diverted</th>\n",
       "    </tr>\n",
       "  </thead>\n",
       "  <tbody>\n",
       "    <tr>\n",
       "      <th>0</th>\n",
       "      <td>-14.0</td>\n",
       "      <td>128.0</td>\n",
       "      <td>22:25:00</td>\n",
       "      <td>22:11:00</td>\n",
       "      <td>20:03:00</td>\n",
       "      <td>2008-01-03 19:55:00</td>\n",
       "      <td>IAD</td>\n",
       "      <td>8.0</td>\n",
       "      <td>0</td>\n",
       "      <td>TPA</td>\n",
       "      <td>2008-01-03 00:00:00</td>\n",
       "      <td>810</td>\n",
       "      <td>335</td>\n",
       "      <td>WN</td>\n",
       "      <td>0</td>\n",
       "    </tr>\n",
       "    <tr>\n",
       "      <th>1</th>\n",
       "      <td>2.0</td>\n",
       "      <td>128.0</td>\n",
       "      <td>10:00:00</td>\n",
       "      <td>10:02:00</td>\n",
       "      <td>07:54:00</td>\n",
       "      <td>2008-01-03 07:35:00</td>\n",
       "      <td>IAD</td>\n",
       "      <td>19.0</td>\n",
       "      <td>0</td>\n",
       "      <td>TPA</td>\n",
       "      <td>2008-01-03 00:00:00</td>\n",
       "      <td>810</td>\n",
       "      <td>3231</td>\n",
       "      <td>WN</td>\n",
       "      <td>0</td>\n",
       "    </tr>\n",
       "    <tr>\n",
       "      <th>2</th>\n",
       "      <td>14.0</td>\n",
       "      <td>96.0</td>\n",
       "      <td>07:50:00</td>\n",
       "      <td>08:04:00</td>\n",
       "      <td>06:28:00</td>\n",
       "      <td>2008-01-03 06:20:00</td>\n",
       "      <td>IND</td>\n",
       "      <td>8.0</td>\n",
       "      <td>0</td>\n",
       "      <td>BWI</td>\n",
       "      <td>2008-01-03 00:00:00</td>\n",
       "      <td>515</td>\n",
       "      <td>448</td>\n",
       "      <td>WN</td>\n",
       "      <td>0</td>\n",
       "    </tr>\n",
       "  </tbody>\n",
       "</table>\n",
       "</div>"
      ],
      "text/plain": [
       "   ArrDelay  ActualElapsedTime CRSArrTime   ArrTime   DepTime  \\\n",
       "0     -14.0              128.0   22:25:00  22:11:00  20:03:00   \n",
       "1       2.0              128.0   10:00:00  10:02:00  07:54:00   \n",
       "2      14.0               96.0   07:50:00  08:04:00  06:28:00   \n",
       "\n",
       "            CRSDepTime Origin  DepDelay  Cancelled Dest                 Date  \\\n",
       "0  2008-01-03 19:55:00    IAD       8.0          0  TPA  2008-01-03 00:00:00   \n",
       "1  2008-01-03 07:35:00    IAD      19.0          0  TPA  2008-01-03 00:00:00   \n",
       "2  2008-01-03 06:20:00    IND       8.0          0  BWI  2008-01-03 00:00:00   \n",
       "\n",
       "   Distance  FlightNum UniqueCarrier  Diverted  \n",
       "0       810        335            WN         0  \n",
       "1       810       3231            WN         0  \n",
       "2       515        448            WN         0  "
      ]
     },
     "execution_count": 6,
     "metadata": {},
     "output_type": "execute_result"
    }
   ],
   "source": [
    "df.head(3)"
   ]
  },
  {
   "cell_type": "code",
   "execution_count": 7,
   "metadata": {
    "collapsed": false
   },
   "outputs": [
    {
     "data": {
      "text/html": [
       "<div>\n",
       "<table border=\"1\" class=\"dataframe\">\n",
       "  <thead>\n",
       "    <tr style=\"text-align: right;\">\n",
       "      <th></th>\n",
       "      <th>variables</th>\n",
       "      <th>missing values</th>\n",
       "      <th>filling factor (%)</th>\n",
       "    </tr>\n",
       "  </thead>\n",
       "  <tbody>\n",
       "    <tr>\n",
       "      <th>0</th>\n",
       "      <td>ArrDelay</td>\n",
       "      <td>154699</td>\n",
       "      <td>97.793081</td>\n",
       "    </tr>\n",
       "    <tr>\n",
       "      <th>1</th>\n",
       "      <td>ActualElapsedTime</td>\n",
       "      <td>154699</td>\n",
       "      <td>97.793081</td>\n",
       "    </tr>\n",
       "    <tr>\n",
       "      <th>2</th>\n",
       "      <td>ArrTime</td>\n",
       "      <td>151649</td>\n",
       "      <td>97.836592</td>\n",
       "    </tr>\n",
       "    <tr>\n",
       "      <th>3</th>\n",
       "      <td>DepTime</td>\n",
       "      <td>136246</td>\n",
       "      <td>98.056330</td>\n",
       "    </tr>\n",
       "    <tr>\n",
       "      <th>4</th>\n",
       "      <td>DepDelay</td>\n",
       "      <td>136246</td>\n",
       "      <td>98.056330</td>\n",
       "    </tr>\n",
       "    <tr>\n",
       "      <th>5</th>\n",
       "      <td>CRSArrTime</td>\n",
       "      <td>0</td>\n",
       "      <td>100.000000</td>\n",
       "    </tr>\n",
       "    <tr>\n",
       "      <th>6</th>\n",
       "      <td>CRSDepTime</td>\n",
       "      <td>0</td>\n",
       "      <td>100.000000</td>\n",
       "    </tr>\n",
       "    <tr>\n",
       "      <th>7</th>\n",
       "      <td>Origin</td>\n",
       "      <td>0</td>\n",
       "      <td>100.000000</td>\n",
       "    </tr>\n",
       "    <tr>\n",
       "      <th>8</th>\n",
       "      <td>Cancelled</td>\n",
       "      <td>0</td>\n",
       "      <td>100.000000</td>\n",
       "    </tr>\n",
       "    <tr>\n",
       "      <th>9</th>\n",
       "      <td>Dest</td>\n",
       "      <td>0</td>\n",
       "      <td>100.000000</td>\n",
       "    </tr>\n",
       "    <tr>\n",
       "      <th>10</th>\n",
       "      <td>Date</td>\n",
       "      <td>0</td>\n",
       "      <td>100.000000</td>\n",
       "    </tr>\n",
       "    <tr>\n",
       "      <th>11</th>\n",
       "      <td>Distance</td>\n",
       "      <td>0</td>\n",
       "      <td>100.000000</td>\n",
       "    </tr>\n",
       "    <tr>\n",
       "      <th>12</th>\n",
       "      <td>FlightNum</td>\n",
       "      <td>0</td>\n",
       "      <td>100.000000</td>\n",
       "    </tr>\n",
       "    <tr>\n",
       "      <th>13</th>\n",
       "      <td>UniqueCarrier</td>\n",
       "      <td>0</td>\n",
       "      <td>100.000000</td>\n",
       "    </tr>\n",
       "    <tr>\n",
       "      <th>14</th>\n",
       "      <td>Diverted</td>\n",
       "      <td>0</td>\n",
       "      <td>100.000000</td>\n",
       "    </tr>\n",
       "  </tbody>\n",
       "</table>\n",
       "</div>"
      ],
      "text/plain": [
       "            variables  missing values  filling factor (%)\n",
       "0            ArrDelay          154699           97.793081\n",
       "1   ActualElapsedTime          154699           97.793081\n",
       "2             ArrTime          151649           97.836592\n",
       "3             DepTime          136246           98.056330\n",
       "4            DepDelay          136246           98.056330\n",
       "5          CRSArrTime               0          100.000000\n",
       "6          CRSDepTime               0          100.000000\n",
       "7              Origin               0          100.000000\n",
       "8           Cancelled               0          100.000000\n",
       "9                Dest               0          100.000000\n",
       "10               Date               0          100.000000\n",
       "11           Distance               0          100.000000\n",
       "12          FlightNum               0          100.000000\n",
       "13      UniqueCarrier               0          100.000000\n",
       "14           Diverted               0          100.000000"
      ]
     },
     "execution_count": 7,
     "metadata": {},
     "output_type": "execute_result"
    }
   ],
   "source": [
    "missing_df = df.isnull().sum(axis=0).reset_index()\n",
    "missing_df.columns = ['variables','missing values']\n",
    "missing_df['filling factor (%)'] = (df.shape[0]-missing_df['missing values'])/df.shape[0]*100\n",
    "missing_df.sort_values('filling factor (%)').reset_index(drop=True)"
   ]
  },
  {
   "cell_type": "markdown",
   "metadata": {},
   "source": [
    "        We see that the variables filling factor is quite good (> 97%). Since the scope of this work is not to establish the state-of-the-art in predicting flight delays, I decide to proceed without trying to impute what's missing and I simply remove the entries that contain missing values:"
   ]
  },
  {
   "cell_type": "code",
   "execution_count": 8,
   "metadata": {
    "collapsed": false
   },
   "outputs": [],
   "source": [
    "df.dropna(inplace = True)"
   ]
  },
  {
   "cell_type": "markdown",
   "metadata": {},
   "source": [
    "        Check again"
   ]
  },
  {
   "cell_type": "code",
   "execution_count": 9,
   "metadata": {
    "collapsed": false
   },
   "outputs": [
    {
     "data": {
      "text/html": [
       "<div>\n",
       "<table border=\"1\" class=\"dataframe\">\n",
       "  <thead>\n",
       "    <tr style=\"text-align: right;\">\n",
       "      <th></th>\n",
       "      <th>variables</th>\n",
       "      <th>missing values</th>\n",
       "      <th>filling factor (%)</th>\n",
       "    </tr>\n",
       "  </thead>\n",
       "  <tbody>\n",
       "    <tr>\n",
       "      <th>0</th>\n",
       "      <td>ArrDelay</td>\n",
       "      <td>0</td>\n",
       "      <td>100.0</td>\n",
       "    </tr>\n",
       "    <tr>\n",
       "      <th>1</th>\n",
       "      <td>ActualElapsedTime</td>\n",
       "      <td>0</td>\n",
       "      <td>100.0</td>\n",
       "    </tr>\n",
       "    <tr>\n",
       "      <th>2</th>\n",
       "      <td>CRSArrTime</td>\n",
       "      <td>0</td>\n",
       "      <td>100.0</td>\n",
       "    </tr>\n",
       "    <tr>\n",
       "      <th>3</th>\n",
       "      <td>ArrTime</td>\n",
       "      <td>0</td>\n",
       "      <td>100.0</td>\n",
       "    </tr>\n",
       "    <tr>\n",
       "      <th>4</th>\n",
       "      <td>DepTime</td>\n",
       "      <td>0</td>\n",
       "      <td>100.0</td>\n",
       "    </tr>\n",
       "    <tr>\n",
       "      <th>5</th>\n",
       "      <td>CRSDepTime</td>\n",
       "      <td>0</td>\n",
       "      <td>100.0</td>\n",
       "    </tr>\n",
       "    <tr>\n",
       "      <th>6</th>\n",
       "      <td>Origin</td>\n",
       "      <td>0</td>\n",
       "      <td>100.0</td>\n",
       "    </tr>\n",
       "    <tr>\n",
       "      <th>7</th>\n",
       "      <td>DepDelay</td>\n",
       "      <td>0</td>\n",
       "      <td>100.0</td>\n",
       "    </tr>\n",
       "    <tr>\n",
       "      <th>8</th>\n",
       "      <td>Cancelled</td>\n",
       "      <td>0</td>\n",
       "      <td>100.0</td>\n",
       "    </tr>\n",
       "    <tr>\n",
       "      <th>9</th>\n",
       "      <td>Dest</td>\n",
       "      <td>0</td>\n",
       "      <td>100.0</td>\n",
       "    </tr>\n",
       "    <tr>\n",
       "      <th>10</th>\n",
       "      <td>Date</td>\n",
       "      <td>0</td>\n",
       "      <td>100.0</td>\n",
       "    </tr>\n",
       "    <tr>\n",
       "      <th>11</th>\n",
       "      <td>Distance</td>\n",
       "      <td>0</td>\n",
       "      <td>100.0</td>\n",
       "    </tr>\n",
       "    <tr>\n",
       "      <th>12</th>\n",
       "      <td>FlightNum</td>\n",
       "      <td>0</td>\n",
       "      <td>100.0</td>\n",
       "    </tr>\n",
       "    <tr>\n",
       "      <th>13</th>\n",
       "      <td>UniqueCarrier</td>\n",
       "      <td>0</td>\n",
       "      <td>100.0</td>\n",
       "    </tr>\n",
       "    <tr>\n",
       "      <th>14</th>\n",
       "      <td>Diverted</td>\n",
       "      <td>0</td>\n",
       "      <td>100.0</td>\n",
       "    </tr>\n",
       "  </tbody>\n",
       "</table>\n",
       "</div>"
      ],
      "text/plain": [
       "            variables  missing values  filling factor (%)\n",
       "0            ArrDelay               0               100.0\n",
       "1   ActualElapsedTime               0               100.0\n",
       "2          CRSArrTime               0               100.0\n",
       "3             ArrTime               0               100.0\n",
       "4             DepTime               0               100.0\n",
       "5          CRSDepTime               0               100.0\n",
       "6              Origin               0               100.0\n",
       "7            DepDelay               0               100.0\n",
       "8           Cancelled               0               100.0\n",
       "9                Dest               0               100.0\n",
       "10               Date               0               100.0\n",
       "11           Distance               0               100.0\n",
       "12          FlightNum               0               100.0\n",
       "13      UniqueCarrier               0               100.0\n",
       "14           Diverted               0               100.0"
      ]
     },
     "execution_count": 9,
     "metadata": {},
     "output_type": "execute_result"
    }
   ],
   "source": [
    "missing_df = df.isnull().sum(axis=0).reset_index()\n",
    "missing_df.columns = ['variables','missing values']\n",
    "missing_df['filling factor (%)'] = (df.shape[0]-missing_df['missing values'])/df.shape[0]*100\n",
    "missing_df.sort_values('filling factor (%)').reset_index(drop=True)"
   ]
  },
  {
   "cell_type": "markdown",
   "metadata": {},
   "source": [
    "        Great! Now, we dont have any NaN values anymore! "
   ]
  },
  {
   "cell_type": "markdown",
   "metadata": {
    "collapsed": false
   },
   "source": [
    "---------------------------------"
   ]
  },
  {
   "cell_type": "markdown",
   "metadata": {},
   "source": [
    "# Apply PCA, SelectKBest and RFE for feature selections."
   ]
  },
  {
   "cell_type": "code",
   "execution_count": null,
   "metadata": {
    "collapsed": true
   },
   "outputs": [],
   "source": [
    "from sklearn.decomposition import PCA\n",
    "from sklearn.feature_selection import SelectKBest\n",
    "from sklearn.pipeline import Pipeline\n",
    "from sklearn.feature_selection import f_regression\n",
    "from sklearn.feature_selection import RFE \n",
    "\n",
    "# RFE is to select features by recursively considering smaller and smaller sets of features. First, the estimator is trained on the initial set of features and the importance of each feature is obtained either through a coef_ attribute or through a feature_importances_ attribute. Then, the least important features are pruned from current set of features. That procedure is recursively repeated on the pruned set until the desired number of features to select is eventually reached.\n",
    "#SelectKBest, Function taking two arrays X and y, and returning a pair of arrays (scores, pvalues) or a single array with scores. Default is f_classif (see below “See also”). The default function only works with classification tasks.\n",
    "\n",
    "k_filter = SelectKBest(f_regression,k=10)\n",
    "pipe_lr = Pipeline([('PCA', PCA(n_components=2,svd_solver='full')),\n",
    "                    ('SelectKBest', k_filter),\n",
    "                    ('RFE', RFE())\n",
    "                   ])"
   ]
  },
  {
   "cell_type": "code",
   "execution_count": null,
   "metadata": {
    "collapsed": true
   },
   "outputs": [],
   "source": []
  },
  {
   "cell_type": "code",
   "execution_count": null,
   "metadata": {
    "collapsed": true
   },
   "outputs": [],
   "source": []
  },
  {
   "cell_type": "code",
   "execution_count": null,
   "metadata": {
    "collapsed": true
   },
   "outputs": [],
   "source": []
  },
  {
   "cell_type": "markdown",
   "metadata": {},
   "source": [
    "# Apply models in Naïve Bayes, Logistic Regression, Decision Tree, Random Forest and SVM."
   ]
  },
  {
   "cell_type": "code",
   "execution_count": 12,
   "metadata": {
    "collapsed": true
   },
   "outputs": [],
   "source": [
    "from sklearn.naive_bayes import MultinomialNB\n",
    "from sklearn.svm import SVC\n",
    "from sklearn.linear_model import LogisticRegression\n",
    "from sklearn import tree\n",
    "from sklearn.ensemble import RandomForestClassifier"
   ]
  },
  {
   "cell_type": "code",
   "execution_count": null,
   "metadata": {
    "collapsed": true
   },
   "outputs": [],
   "source": []
  },
  {
   "cell_type": "code",
   "execution_count": null,
   "metadata": {
    "collapsed": true
   },
   "outputs": [],
   "source": []
  },
  {
   "cell_type": "markdown",
   "metadata": {},
   "source": [
    "# Compare performances among models, write up analysis why the model is good or bad in the algorithmic approach"
   ]
  },
  {
   "cell_type": "code",
   "execution_count": null,
   "metadata": {
    "collapsed": true
   },
   "outputs": [],
   "source": []
  },
  {
   "cell_type": "code",
   "execution_count": null,
   "metadata": {
    "collapsed": true
   },
   "outputs": [],
   "source": []
  },
  {
   "cell_type": "code",
   "execution_count": null,
   "metadata": {
    "collapsed": true
   },
   "outputs": [],
   "source": []
  },
  {
   "cell_type": "markdown",
   "metadata": {},
   "source": [
    "# Conclusion"
   ]
  },
  {
   "cell_type": "code",
   "execution_count": null,
   "metadata": {
    "collapsed": true
   },
   "outputs": [],
   "source": []
  }
 ],
 "metadata": {
  "kernelspec": {
   "display_name": "Python 3",
   "language": "python",
   "name": "python3"
  },
  "language_info": {
   "codemirror_mode": {
    "name": "ipython",
    "version": 3
   },
   "file_extension": ".py",
   "mimetype": "text/x-python",
   "name": "python",
   "nbconvert_exporter": "python",
   "pygments_lexer": "ipython3",
   "version": "3.6.0"
  }
 },
 "nbformat": 4,
 "nbformat_minor": 2
}
