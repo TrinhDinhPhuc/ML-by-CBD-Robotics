{
 "cells": [
  {
   "cell_type": "markdown",
   "metadata": {},
   "source": [
    "# Đối với dữ liệu nhỏ"
   ]
  },
  {
   "cell_type": "markdown",
   "metadata": {},
   "source": [
    "### T-Statistics"
   ]
  },
  {
   "cell_type": "markdown",
   "metadata": {},
   "source": [
    "Áp dụng khi kích thước mẫu n < 30, ngược lại ta dùng z-score. Khi kích thước mẫu càng lớn thì t-score xấp xỉ z-score.\n",
    "\n",
    "* Z-Test so sánh mẫu thu thập với quần thể  (Sample vs Population)\n",
    "* T-Test So sánh 2 mẫu thu thập độc lập  (Sample1  vs sample2, curve_1 vs curve_2 )"
   ]
  },
  {
   "cell_type": "code",
   "execution_count": 4,
   "metadata": {
    "collapsed": true
   },
   "outputs": [],
   "source": [
    "# import libraries\n",
    "from scipy import stats  #Import thư viện thống kê từ Scipy\n",
    "import math\n",
    "import numpy as np\n",
    "import matplotlib.pyplot as plt\n",
    "import seaborn as sns\n",
    "%matplotlib inline"
   ]
  },
  {
   "cell_type": "code",
   "execution_count": 10,
   "metadata": {
    "collapsed": false
   },
   "outputs": [
    {
     "name": "stdout",
     "output_type": "stream",
     "text": [
      "T-Test cho từng n\n",
      "n = 3:  4.30265272991\n",
      "n = 10:  2.26215716274\n",
      "n = 20:  2.09302405441\n",
      "n = 100:  1.98421695151\n",
      "\n",
      "Z-Score 1.95996398454\n"
     ]
    }
   ],
   "source": [
    "print (\"T-Test cho từng n\")\n",
    "print (\"n = 3: \",stats.t.ppf(0.975,2)) #ppf(q, df, loc=0, scale=1)\tPercent point function (inverse of cdf — percentiles).\n",
    "print (\"n = 10: \",stats.t.ppf(0.975,9)) \n",
    "print (\"n = 20: \",stats.t.ppf(0.975,19))\n",
    "print (\"n = 100: \",stats.t.ppf(0.975,99))\n",
    "print(\"\\nZ-Score\", stats.norm.ppf(0.975))"
   ]
  },
  {
   "cell_type": "code",
   "execution_count": null,
   "metadata": {
    "collapsed": true
   },
   "outputs": [],
   "source": [
    "sadsa"
   ]
  },
  {
   "cell_type": "code",
   "execution_count": null,
   "metadata": {
    "collapsed": true
   },
   "outputs": [],
   "source": []
  },
  {
   "cell_type": "code",
   "execution_count": null,
   "metadata": {
    "collapsed": true
   },
   "outputs": [],
   "source": []
  }
 ],
 "metadata": {
  "kernelspec": {
   "display_name": "Python 3",
   "language": "python",
   "name": "python3"
  },
  "language_info": {
   "codemirror_mode": {
    "name": "ipython",
    "version": 3
   },
   "file_extension": ".py",
   "mimetype": "text/x-python",
   "name": "python",
   "nbconvert_exporter": "python",
   "pygments_lexer": "ipython3",
   "version": "3.6.0"
  }
 },
 "nbformat": 4,
 "nbformat_minor": 2
}
