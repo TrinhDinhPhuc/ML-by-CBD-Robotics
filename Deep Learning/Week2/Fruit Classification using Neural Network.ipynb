{
 "cells": [
  {
   "cell_type": "markdown",
   "metadata": {},
   "source": [
    "# <center>Fruit Classification using Neural Network</center>"
   ]
  },
  {
   "cell_type": "code",
   "execution_count": 129,
   "metadata": {},
   "outputs": [],
   "source": [
    "import warnings\n",
    "warnings.filterwarnings(\"ignore\")\n",
    "import keras\n",
    "import numpy as np \n",
    "from keras.datasets.cifar10 import load_data\n",
    "import glob\n",
    "import os\n",
    "import keras \n",
    "import cv2\n",
    "import pandas as pd\n",
    "from sklearn.decomposition import PCA\n",
    "from sklearn.manifold import TSNE\n",
    "from sklearn.preprocessing import StandardScaler\n",
    "import keras\n",
    "import matplotlib.pyplot as plt\n",
    "%matplotlib inline"
   ]
  },
  {
   "cell_type": "markdown",
   "metadata": {},
   "source": [
    "# Trainning set"
   ]
  },
  {
   "cell_type": "code",
   "execution_count": 75,
   "metadata": {},
   "outputs": [],
   "source": [
    "fruit_images = []\n",
    "labels = []\n",
    "for fruit_dir_path in glob.glob(\"F:/data/fruits-360/Training/*\"):\n",
    "    fruit_label = fruit_dir_path.split(\"/\") #['F:', 'data', 'fruits-360', 'Training\\\\Apple Braeburn']\n",
    "    fruit_label = fruit_label[3]\n",
    "    for image_path in glob.glob(os.path.join(fruit_dir_path,\"*.jpg\")): #['F:/data/fruits-360/Training\\\\Apple Braeburn\\\\0_100.jpg', 'F:/data/fruits-360/Training\\\\Apple Braeburn\\\\100_100.jpg',\n",
    "        image = cv2.imread(image_path,cv2.IMREAD_COLOR) # cv2.imread() to read an image\n",
    "        image = cv2.resize(image,(45,45)) # Loads a color image\n",
    "        image = cv2.cvtColor(image,cv2.COLOR_RGB2BGR) # conver RGB to BGR \n",
    "        fruit_images.append(image)\n",
    "        labels.append(fruit_label)\n",
    "fruit_images_ARR = np.array(fruit_images)\n",
    "labels_ARR = np.array(labels)"
   ]
  },
  {
   "cell_type": "code",
   "execution_count": 112,
   "metadata": {},
   "outputs": [
    {
     "data": {
      "text/plain": [
       "array([[[254, 255, 255],\n",
       "        [254, 255, 255],\n",
       "        [255, 255, 255],\n",
       "        ...,\n",
       "        [255, 253, 254],\n",
       "        [255, 255, 255],\n",
       "        [255, 255, 255]],\n",
       "\n",
       "       [[254, 255, 255],\n",
       "        [254, 255, 255],\n",
       "        [255, 255, 255],\n",
       "        ...,\n",
       "        [255, 255, 255],\n",
       "        [255, 255, 255],\n",
       "        [255, 255, 255]],\n",
       "\n",
       "       [[255, 255, 255],\n",
       "        [255, 255, 255],\n",
       "        [255, 255, 255],\n",
       "        ...,\n",
       "        [254, 255, 255],\n",
       "        [255, 255, 255],\n",
       "        [255, 255, 255]],\n",
       "\n",
       "       ...,\n",
       "\n",
       "       [[252, 255, 251],\n",
       "        [255, 253, 254],\n",
       "        [255, 255, 255],\n",
       "        ...,\n",
       "        [255, 255, 255],\n",
       "        [255, 255, 255],\n",
       "        [255, 255, 255]],\n",
       "\n",
       "       [[255, 255, 255],\n",
       "        [255, 255, 255],\n",
       "        [255, 255, 255],\n",
       "        ...,\n",
       "        [255, 255, 255],\n",
       "        [255, 255, 255],\n",
       "        [255, 255, 255]],\n",
       "\n",
       "       [[255, 255, 255],\n",
       "        [255, 255, 255],\n",
       "        [255, 255, 255],\n",
       "        ...,\n",
       "        [255, 255, 255],\n",
       "        [255, 255, 255],\n",
       "        [255, 255, 255]]], dtype=uint8)"
      ]
     },
     "execution_count": 112,
     "metadata": {},
     "output_type": "execute_result"
    }
   ],
   "source": [
    "fruit_images[0]"
   ]
  },
  {
   "cell_type": "code",
   "execution_count": 111,
   "metadata": {},
   "outputs": [
    {
     "data": {
      "text/plain": [
       "35625"
      ]
     },
     "execution_count": 111,
     "metadata": {},
     "output_type": "execute_result"
    }
   ],
   "source": [
    "len(fruit_images)"
   ]
  },
  {
   "cell_type": "code",
   "execution_count": 109,
   "metadata": {},
   "outputs": [
    {
     "data": {
      "text/plain": [
       "35625"
      ]
     },
     "execution_count": 109,
     "metadata": {},
     "output_type": "execute_result"
    }
   ],
   "source": [
    "len(labels)"
   ]
  },
  {
   "cell_type": "code",
   "execution_count": 76,
   "metadata": {},
   "outputs": [
    {
     "data": {
      "text/plain": [
       "(45, 45)"
      ]
     },
     "execution_count": 76,
     "metadata": {},
     "output_type": "execute_result"
    }
   ],
   "source": [
    "len(fruit_images[0]),len(fruit_images_ARR[0])"
   ]
  },
  {
   "cell_type": "code",
   "execution_count": 77,
   "metadata": {},
   "outputs": [
    {
     "data": {
      "text/plain": [
       "False"
      ]
     },
     "execution_count": 77,
     "metadata": {},
     "output_type": "execute_result"
    }
   ],
   "source": [
    "fruit_images[0].all()==fruit_images_ARR[0].all() is True #just to check whether or not there is a different between list and array here =))"
   ]
  },
  {
   "cell_type": "code",
   "execution_count": 78,
   "metadata": {},
   "outputs": [
    {
     "data": {
      "text/plain": [
       "array(['Training\\\\Apple Braeburn', 'Training\\\\Apple Braeburn',\n",
       "       'Training\\\\Apple Braeburn', ..., 'Training\\\\Tangelo',\n",
       "       'Training\\\\Tangelo', 'Training\\\\Tangelo'], dtype='<U28')"
      ]
     },
     "execution_count": 78,
     "metadata": {},
     "output_type": "execute_result"
    }
   ],
   "source": [
    "labels_ARR"
   ]
  },
  {
   "cell_type": "code",
   "execution_count": 98,
   "metadata": {},
   "outputs": [],
   "source": [
    "label_id_Dict = {key:value for value,key in enumerate(np.unique(labels_ARR))} #add index 0,1,2... to be keys of the values\n",
    "id_label_Dict = {key:value for value,key in label_id_Dict.items()}"
   ]
  },
  {
   "cell_type": "code",
   "execution_count": 99,
   "metadata": {},
   "outputs": [
    {
     "data": {
      "text/plain": [
       "{0: 'Training\\\\Apple Braeburn',\n",
       " 1: 'Training\\\\Apple Golden 1',\n",
       " 2: 'Training\\\\Apple Golden 2',\n",
       " 3: 'Training\\\\Apple Golden 3',\n",
       " 4: 'Training\\\\Apple Granny Smith',\n",
       " 5: 'Training\\\\Apple Red 1',\n",
       " 6: 'Training\\\\Apple Red 2',\n",
       " 7: 'Training\\\\Apple Red 3',\n",
       " 8: 'Training\\\\Apple Red Delicious',\n",
       " 9: 'Training\\\\Apple Red Yellow',\n",
       " 10: 'Training\\\\Apricot',\n",
       " 11: 'Training\\\\Avocado',\n",
       " 12: 'Training\\\\Avocado ripe',\n",
       " 13: 'Training\\\\Banana',\n",
       " 14: 'Training\\\\Banana Red',\n",
       " 15: 'Training\\\\Cactus fruit',\n",
       " 16: 'Training\\\\Cantaloupe 1',\n",
       " 17: 'Training\\\\Cantaloupe 2',\n",
       " 18: 'Training\\\\Carambula',\n",
       " 19: 'Training\\\\Cherry 1',\n",
       " 20: 'Training\\\\Cherry 2',\n",
       " 21: 'Training\\\\Cherry Rainier',\n",
       " 22: 'Training\\\\Clementine',\n",
       " 23: 'Training\\\\Cocos',\n",
       " 24: 'Training\\\\Dates',\n",
       " 25: 'Training\\\\Granadilla',\n",
       " 26: 'Training\\\\Grape Pink',\n",
       " 27: 'Training\\\\Grape White',\n",
       " 28: 'Training\\\\Grape White 2',\n",
       " 29: 'Training\\\\Grapefruit Pink',\n",
       " 30: 'Training\\\\Grapefruit White',\n",
       " 31: 'Training\\\\Guava',\n",
       " 32: 'Training\\\\Huckleberry',\n",
       " 33: 'Training\\\\Kaki',\n",
       " 34: 'Training\\\\Kiwi',\n",
       " 35: 'Training\\\\Kumquats',\n",
       " 36: 'Training\\\\Lemon',\n",
       " 37: 'Training\\\\Lemon Meyer',\n",
       " 38: 'Training\\\\Limes',\n",
       " 39: 'Training\\\\Lychee',\n",
       " 40: 'Training\\\\Mandarine',\n",
       " 41: 'Training\\\\Mango',\n",
       " 42: 'Training\\\\Maracuja',\n",
       " 43: 'Training\\\\Melon Piel de Sapo',\n",
       " 44: 'Training\\\\Mulberry',\n",
       " 45: 'Training\\\\Nectarine',\n",
       " 46: 'Training\\\\Orange',\n",
       " 47: 'Training\\\\Papaya',\n",
       " 48: 'Training\\\\Passion Fruit',\n",
       " 49: 'Training\\\\Peach',\n",
       " 50: 'Training\\\\Peach Flat',\n",
       " 51: 'Training\\\\Pear',\n",
       " 52: 'Training\\\\Pear Abate',\n",
       " 53: 'Training\\\\Pear Monster',\n",
       " 54: 'Training\\\\Pear Williams',\n",
       " 55: 'Training\\\\Pepino',\n",
       " 56: 'Training\\\\Physalis',\n",
       " 57: 'Training\\\\Physalis with Husk',\n",
       " 58: 'Training\\\\Pineapple',\n",
       " 59: 'Training\\\\Pineapple Mini',\n",
       " 60: 'Training\\\\Pitahaya Red',\n",
       " 61: 'Training\\\\Plum',\n",
       " 62: 'Training\\\\Pomegranate',\n",
       " 63: 'Training\\\\Quince',\n",
       " 64: 'Training\\\\Rambutan',\n",
       " 65: 'Training\\\\Raspberry',\n",
       " 66: 'Training\\\\Salak',\n",
       " 67: 'Training\\\\Strawberry',\n",
       " 68: 'Training\\\\Strawberry Wedge',\n",
       " 69: 'Training\\\\Tamarillo',\n",
       " 70: 'Training\\\\Tangelo'}"
      ]
     },
     "execution_count": 99,
     "metadata": {},
     "output_type": "execute_result"
    }
   ],
   "source": [
    "id_label_Dict"
   ]
  },
  {
   "cell_type": "code",
   "execution_count": 114,
   "metadata": {},
   "outputs": [
    {
     "data": {
      "text/plain": [
       "{'Training\\\\Apple Braeburn': 0,\n",
       " 'Training\\\\Apple Golden 1': 1,\n",
       " 'Training\\\\Apple Golden 2': 2,\n",
       " 'Training\\\\Apple Golden 3': 3,\n",
       " 'Training\\\\Apple Granny Smith': 4,\n",
       " 'Training\\\\Apple Red 1': 5,\n",
       " 'Training\\\\Apple Red 2': 6,\n",
       " 'Training\\\\Apple Red 3': 7,\n",
       " 'Training\\\\Apple Red Delicious': 8,\n",
       " 'Training\\\\Apple Red Yellow': 9,\n",
       " 'Training\\\\Apricot': 10,\n",
       " 'Training\\\\Avocado': 11,\n",
       " 'Training\\\\Avocado ripe': 12,\n",
       " 'Training\\\\Banana': 13,\n",
       " 'Training\\\\Banana Red': 14,\n",
       " 'Training\\\\Cactus fruit': 15,\n",
       " 'Training\\\\Cantaloupe 1': 16,\n",
       " 'Training\\\\Cantaloupe 2': 17,\n",
       " 'Training\\\\Carambula': 18,\n",
       " 'Training\\\\Cherry 1': 19,\n",
       " 'Training\\\\Cherry 2': 20,\n",
       " 'Training\\\\Cherry Rainier': 21,\n",
       " 'Training\\\\Clementine': 22,\n",
       " 'Training\\\\Cocos': 23,\n",
       " 'Training\\\\Dates': 24,\n",
       " 'Training\\\\Granadilla': 25,\n",
       " 'Training\\\\Grape Pink': 26,\n",
       " 'Training\\\\Grape White': 27,\n",
       " 'Training\\\\Grape White 2': 28,\n",
       " 'Training\\\\Grapefruit Pink': 29,\n",
       " 'Training\\\\Grapefruit White': 30,\n",
       " 'Training\\\\Guava': 31,\n",
       " 'Training\\\\Huckleberry': 32,\n",
       " 'Training\\\\Kaki': 33,\n",
       " 'Training\\\\Kiwi': 34,\n",
       " 'Training\\\\Kumquats': 35,\n",
       " 'Training\\\\Lemon': 36,\n",
       " 'Training\\\\Lemon Meyer': 37,\n",
       " 'Training\\\\Limes': 38,\n",
       " 'Training\\\\Lychee': 39,\n",
       " 'Training\\\\Mandarine': 40,\n",
       " 'Training\\\\Mango': 41,\n",
       " 'Training\\\\Maracuja': 42,\n",
       " 'Training\\\\Melon Piel de Sapo': 43,\n",
       " 'Training\\\\Mulberry': 44,\n",
       " 'Training\\\\Nectarine': 45,\n",
       " 'Training\\\\Orange': 46,\n",
       " 'Training\\\\Papaya': 47,\n",
       " 'Training\\\\Passion Fruit': 48,\n",
       " 'Training\\\\Peach': 49,\n",
       " 'Training\\\\Peach Flat': 50,\n",
       " 'Training\\\\Pear': 51,\n",
       " 'Training\\\\Pear Abate': 52,\n",
       " 'Training\\\\Pear Monster': 53,\n",
       " 'Training\\\\Pear Williams': 54,\n",
       " 'Training\\\\Pepino': 55,\n",
       " 'Training\\\\Physalis': 56,\n",
       " 'Training\\\\Physalis with Husk': 57,\n",
       " 'Training\\\\Pineapple': 58,\n",
       " 'Training\\\\Pineapple Mini': 59,\n",
       " 'Training\\\\Pitahaya Red': 60,\n",
       " 'Training\\\\Plum': 61,\n",
       " 'Training\\\\Pomegranate': 62,\n",
       " 'Training\\\\Quince': 63,\n",
       " 'Training\\\\Rambutan': 64,\n",
       " 'Training\\\\Raspberry': 65,\n",
       " 'Training\\\\Salak': 66,\n",
       " 'Training\\\\Strawberry': 67,\n",
       " 'Training\\\\Strawberry Wedge': 68,\n",
       " 'Training\\\\Tamarillo': 69,\n",
       " 'Training\\\\Tangelo': 70}"
      ]
     },
     "execution_count": 114,
     "metadata": {},
     "output_type": "execute_result"
    }
   ],
   "source": [
    "label_id_Dict"
   ]
  },
  {
   "cell_type": "code",
   "execution_count": 102,
   "metadata": {},
   "outputs": [],
   "source": [
    "label_ids = np.array([label_id_Dict[x] for x in labels_ARR])"
   ]
  },
  {
   "cell_type": "code",
   "execution_count": 103,
   "metadata": {},
   "outputs": [
    {
     "data": {
      "text/plain": [
       "array([ 0,  0,  0, ..., 70, 70, 70])"
      ]
     },
     "execution_count": 103,
     "metadata": {},
     "output_type": "execute_result"
    }
   ],
   "source": [
    "label_ids"
   ]
  },
  {
   "cell_type": "code",
   "execution_count": 106,
   "metadata": {},
   "outputs": [
    {
     "data": {
      "text/plain": [
       "((35625, 45, 45, 3), (35625,), (35625,))"
      ]
     },
     "execution_count": 106,
     "metadata": {},
     "output_type": "execute_result"
    }
   ],
   "source": [
    "fruit_images_ARR.shape, label_ids.shape, labels_ARR.shape"
   ]
  },
  {
   "cell_type": "markdown",
   "metadata": {},
   "source": [
    "# Test set"
   ]
  },
  {
   "cell_type": "code",
   "execution_count": 113,
   "metadata": {},
   "outputs": [],
   "source": [
    "validation_fruit_images = []\n",
    "validation_labels = [] \n",
    "for fruit_dir_path in glob.glob(\"F:/data/fruits-360/Training/*\"):\n",
    "    fruit_label = fruit_dir_path.split(\"/\")[-1]\n",
    "    for image_path in glob.glob(os.path.join(fruit_dir_path, \"*.jpg\")):\n",
    "        image = cv2.imread(image_path, cv2.IMREAD_COLOR)\n",
    "        \n",
    "        image = cv2.resize(image, (45, 45))\n",
    "        image = cv2.cvtColor(image, cv2.COLOR_RGB2BGR)\n",
    "        \n",
    "        validation_fruit_images.append(image)\n",
    "        validation_labels.append(fruit_label)\n",
    "validation_fruit_images = np.array(validation_fruit_images)\n",
    "validation_labels = np.array(validation_labels)"
   ]
  },
  {
   "cell_type": "code",
   "execution_count": 115,
   "metadata": {},
   "outputs": [],
   "source": [
    "validation_label_ids = np.array([label_id_Dict[x] for x in validation_labels])"
   ]
  },
  {
   "cell_type": "code",
   "execution_count": 116,
   "metadata": {},
   "outputs": [
    {
     "data": {
      "text/plain": [
       "array([ 0,  0,  0, ..., 70, 70, 70])"
      ]
     },
     "execution_count": 116,
     "metadata": {},
     "output_type": "execute_result"
    }
   ],
   "source": [
    "validation_label_ids"
   ]
  },
  {
   "cell_type": "code",
   "execution_count": 117,
   "metadata": {},
   "outputs": [
    {
     "data": {
      "text/plain": [
       "((35625, 45, 45, 3), (35625,))"
      ]
     },
     "execution_count": 117,
     "metadata": {},
     "output_type": "execute_result"
    }
   ],
   "source": [
    "validation_fruit_images.shape, validation_label_ids.shape"
   ]
  },
  {
   "cell_type": "markdown",
   "metadata": {},
   "source": [
    "# Splitting the Data"
   ]
  },
  {
   "cell_type": "code",
   "execution_count": 118,
   "metadata": {},
   "outputs": [],
   "source": [
    "X_train, X_test = fruit_images_ARR, validation_fruit_images\n",
    "Y_train, Y_test = label_ids, validation_label_ids"
   ]
  },
  {
   "cell_type": "code",
   "execution_count": 119,
   "metadata": {},
   "outputs": [
    {
     "data": {
      "text/plain": [
       "array([[[[0.99607843, 1.        , 1.        ],\n",
       "         [0.99607843, 1.        , 1.        ],\n",
       "         [1.        , 1.        , 1.        ],\n",
       "         ...,\n",
       "         [1.        , 0.99215686, 0.99607843],\n",
       "         [1.        , 1.        , 1.        ],\n",
       "         [1.        , 1.        , 1.        ]],\n",
       "\n",
       "        [[0.99607843, 1.        , 1.        ],\n",
       "         [0.99607843, 1.        , 1.        ],\n",
       "         [1.        , 1.        , 1.        ],\n",
       "         ...,\n",
       "         [1.        , 1.        , 1.        ],\n",
       "         [1.        , 1.        , 1.        ],\n",
       "         [1.        , 1.        , 1.        ]],\n",
       "\n",
       "        [[1.        , 1.        , 1.        ],\n",
       "         [1.        , 1.        , 1.        ],\n",
       "         [1.        , 1.        , 1.        ],\n",
       "         ...,\n",
       "         [0.99607843, 1.        , 1.        ],\n",
       "         [1.        , 1.        , 1.        ],\n",
       "         [1.        , 1.        , 1.        ]],\n",
       "\n",
       "        ...,\n",
       "\n",
       "        [[0.98823529, 1.        , 0.98431373],\n",
       "         [1.        , 0.99215686, 0.99607843],\n",
       "         [1.        , 1.        , 1.        ],\n",
       "         ...,\n",
       "         [1.        , 1.        , 1.        ],\n",
       "         [1.        , 1.        , 1.        ],\n",
       "         [1.        , 1.        , 1.        ]],\n",
       "\n",
       "        [[1.        , 1.        , 1.        ],\n",
       "         [1.        , 1.        , 1.        ],\n",
       "         [1.        , 1.        , 1.        ],\n",
       "         ...,\n",
       "         [1.        , 1.        , 1.        ],\n",
       "         [1.        , 1.        , 1.        ],\n",
       "         [1.        , 1.        , 1.        ]],\n",
       "\n",
       "        [[1.        , 1.        , 1.        ],\n",
       "         [1.        , 1.        , 1.        ],\n",
       "         [1.        , 1.        , 1.        ],\n",
       "         ...,\n",
       "         [1.        , 1.        , 1.        ],\n",
       "         [1.        , 1.        , 1.        ],\n",
       "         [1.        , 1.        , 1.        ]]],\n",
       "\n",
       "\n",
       "       [[[0.99215686, 1.        , 0.98823529],\n",
       "         [1.        , 0.98823529, 0.99607843],\n",
       "         [1.        , 0.99607843, 1.        ],\n",
       "         ...,\n",
       "         [1.        , 0.99215686, 0.99607843],\n",
       "         [1.        , 1.        , 1.        ],\n",
       "         [1.        , 1.        , 1.        ]],\n",
       "\n",
       "        [[0.97647059, 1.        , 0.99215686],\n",
       "         [1.        , 0.98823529, 1.        ],\n",
       "         [1.        , 0.98823529, 1.        ],\n",
       "         ...,\n",
       "         [0.99607843, 1.        , 1.        ],\n",
       "         [1.        , 1.        , 1.        ],\n",
       "         [1.        , 1.        , 1.        ]],\n",
       "\n",
       "        [[0.98039216, 1.        , 1.        ],\n",
       "         [1.        , 0.99215686, 1.        ],\n",
       "         [1.        , 0.99607843, 1.        ],\n",
       "         ...,\n",
       "         [0.98823529, 1.        , 1.        ],\n",
       "         [1.        , 1.        , 1.        ],\n",
       "         [1.        , 1.        , 1.        ]],\n",
       "\n",
       "        ...,\n",
       "\n",
       "        [[1.        , 0.99215686, 0.99607843],\n",
       "         [1.        , 1.        , 1.        ],\n",
       "         [0.98823529, 1.        , 1.        ],\n",
       "         ...,\n",
       "         [0.99607843, 1.        , 1.        ],\n",
       "         [1.        , 1.        , 1.        ],\n",
       "         [1.        , 1.        , 1.        ]],\n",
       "\n",
       "        [[1.        , 1.        , 1.        ],\n",
       "         [1.        , 1.        , 1.        ],\n",
       "         [1.        , 1.        , 1.        ],\n",
       "         ...,\n",
       "         [1.        , 1.        , 1.        ],\n",
       "         [1.        , 1.        , 1.        ],\n",
       "         [1.        , 1.        , 1.        ]],\n",
       "\n",
       "        [[1.        , 1.        , 1.        ],\n",
       "         [1.        , 1.        , 1.        ],\n",
       "         [1.        , 1.        , 1.        ],\n",
       "         ...,\n",
       "         [1.        , 1.        , 1.        ],\n",
       "         [1.        , 1.        , 1.        ],\n",
       "         [1.        , 1.        , 1.        ]]],\n",
       "\n",
       "\n",
       "       [[[0.99215686, 1.        , 0.98431373],\n",
       "         [1.        , 0.98823529, 0.99607843],\n",
       "         [1.        , 0.99215686, 1.        ],\n",
       "         ...,\n",
       "         [0.99607843, 1.        , 1.        ],\n",
       "         [1.        , 1.        , 1.        ],\n",
       "         [1.        , 1.        , 1.        ]],\n",
       "\n",
       "        [[0.97647059, 1.        , 0.99215686],\n",
       "         [1.        , 0.98823529, 1.        ],\n",
       "         [1.        , 0.98823529, 1.        ],\n",
       "         ...,\n",
       "         [0.98039216, 1.        , 0.99607843],\n",
       "         [1.        , 1.        , 1.        ],\n",
       "         [1.        , 1.        , 1.        ]],\n",
       "\n",
       "        [[0.98039216, 0.99607843, 1.        ],\n",
       "         [1.        , 0.98823529, 1.        ],\n",
       "         [1.        , 0.99215686, 0.99607843],\n",
       "         ...,\n",
       "         [0.98039216, 1.        , 0.99607843],\n",
       "         [1.        , 1.        , 1.        ],\n",
       "         [1.        , 1.        , 1.        ]],\n",
       "\n",
       "        ...,\n",
       "\n",
       "        [[1.        , 0.99215686, 0.99607843],\n",
       "         [1.        , 1.        , 1.        ],\n",
       "         [0.98823529, 1.        , 1.        ],\n",
       "         ...,\n",
       "         [0.99607843, 1.        , 1.        ],\n",
       "         [1.        , 1.        , 1.        ],\n",
       "         [1.        , 1.        , 1.        ]],\n",
       "\n",
       "        [[1.        , 1.        , 1.        ],\n",
       "         [1.        , 1.        , 1.        ],\n",
       "         [1.        , 1.        , 1.        ],\n",
       "         ...,\n",
       "         [1.        , 1.        , 1.        ],\n",
       "         [1.        , 1.        , 1.        ],\n",
       "         [1.        , 1.        , 1.        ]],\n",
       "\n",
       "        [[1.        , 1.        , 1.        ],\n",
       "         [1.        , 1.        , 1.        ],\n",
       "         [1.        , 1.        , 1.        ],\n",
       "         ...,\n",
       "         [1.        , 1.        , 1.        ],\n",
       "         [1.        , 1.        , 1.        ],\n",
       "         [1.        , 1.        , 1.        ]]],\n",
       "\n",
       "\n",
       "       ...,\n",
       "\n",
       "\n",
       "       [[[1.        , 1.        , 1.        ],\n",
       "         [1.        , 1.        , 1.        ],\n",
       "         [1.        , 1.        , 1.        ],\n",
       "         ...,\n",
       "         [1.        , 0.99607843, 1.        ],\n",
       "         [1.        , 1.        , 1.        ],\n",
       "         [1.        , 1.        , 1.        ]],\n",
       "\n",
       "        [[1.        , 1.        , 1.        ],\n",
       "         [1.        , 1.        , 1.        ],\n",
       "         [1.        , 1.        , 1.        ],\n",
       "         ...,\n",
       "         [1.        , 1.        , 1.        ],\n",
       "         [1.        , 1.        , 1.        ],\n",
       "         [1.        , 1.        , 1.        ]],\n",
       "\n",
       "        [[1.        , 1.        , 1.        ],\n",
       "         [1.        , 1.        , 1.        ],\n",
       "         [1.        , 1.        , 1.        ],\n",
       "         ...,\n",
       "         [0.99607843, 1.        , 1.        ],\n",
       "         [1.        , 1.        , 1.        ],\n",
       "         [1.        , 1.        , 1.        ]],\n",
       "\n",
       "        ...,\n",
       "\n",
       "        [[1.        , 1.        , 0.99215686],\n",
       "         [1.        , 1.        , 1.        ],\n",
       "         [1.        , 1.        , 1.        ],\n",
       "         ...,\n",
       "         [0.99607843, 1.        , 0.99215686],\n",
       "         [1.        , 1.        , 1.        ],\n",
       "         [1.        , 1.        , 1.        ]],\n",
       "\n",
       "        [[1.        , 1.        , 1.        ],\n",
       "         [1.        , 1.        , 1.        ],\n",
       "         [1.        , 1.        , 1.        ],\n",
       "         ...,\n",
       "         [1.        , 1.        , 1.        ],\n",
       "         [1.        , 1.        , 1.        ],\n",
       "         [1.        , 1.        , 1.        ]],\n",
       "\n",
       "        [[1.        , 1.        , 1.        ],\n",
       "         [1.        , 1.        , 1.        ],\n",
       "         [1.        , 1.        , 1.        ],\n",
       "         ...,\n",
       "         [1.        , 1.        , 1.        ],\n",
       "         [1.        , 1.        , 1.        ],\n",
       "         [1.        , 1.        , 1.        ]]],\n",
       "\n",
       "\n",
       "       [[[1.        , 1.        , 1.        ],\n",
       "         [1.        , 1.        , 1.        ],\n",
       "         [1.        , 1.        , 1.        ],\n",
       "         ...,\n",
       "         [1.        , 0.99607843, 1.        ],\n",
       "         [1.        , 1.        , 1.        ],\n",
       "         [1.        , 1.        , 1.        ]],\n",
       "\n",
       "        [[1.        , 1.        , 1.        ],\n",
       "         [1.        , 1.        , 1.        ],\n",
       "         [1.        , 1.        , 1.        ],\n",
       "         ...,\n",
       "         [1.        , 1.        , 1.        ],\n",
       "         [1.        , 1.        , 1.        ],\n",
       "         [1.        , 1.        , 1.        ]],\n",
       "\n",
       "        [[1.        , 1.        , 1.        ],\n",
       "         [1.        , 1.        , 1.        ],\n",
       "         [1.        , 1.        , 1.        ],\n",
       "         ...,\n",
       "         [0.99607843, 1.        , 1.        ],\n",
       "         [1.        , 1.        , 1.        ],\n",
       "         [1.        , 1.        , 1.        ]],\n",
       "\n",
       "        ...,\n",
       "\n",
       "        [[1.        , 1.        , 0.98823529],\n",
       "         [1.        , 1.        , 0.99607843],\n",
       "         [1.        , 0.99607843, 1.        ],\n",
       "         ...,\n",
       "         [1.        , 1.        , 1.        ],\n",
       "         [1.        , 1.        , 1.        ],\n",
       "         [1.        , 1.        , 1.        ]],\n",
       "\n",
       "        [[1.        , 1.        , 1.        ],\n",
       "         [1.        , 1.        , 1.        ],\n",
       "         [1.        , 1.        , 1.        ],\n",
       "         ...,\n",
       "         [1.        , 1.        , 1.        ],\n",
       "         [1.        , 1.        , 1.        ],\n",
       "         [1.        , 1.        , 1.        ]],\n",
       "\n",
       "        [[1.        , 1.        , 1.        ],\n",
       "         [1.        , 1.        , 1.        ],\n",
       "         [1.        , 1.        , 1.        ],\n",
       "         ...,\n",
       "         [1.        , 1.        , 1.        ],\n",
       "         [1.        , 1.        , 1.        ],\n",
       "         [1.        , 1.        , 1.        ]]],\n",
       "\n",
       "\n",
       "       [[[1.        , 1.        , 1.        ],\n",
       "         [1.        , 1.        , 1.        ],\n",
       "         [1.        , 1.        , 1.        ],\n",
       "         ...,\n",
       "         [1.        , 0.99607843, 1.        ],\n",
       "         [1.        , 1.        , 1.        ],\n",
       "         [1.        , 1.        , 1.        ]],\n",
       "\n",
       "        [[1.        , 1.        , 1.        ],\n",
       "         [1.        , 1.        , 1.        ],\n",
       "         [1.        , 1.        , 1.        ],\n",
       "         ...,\n",
       "         [0.99607843, 1.        , 1.        ],\n",
       "         [1.        , 1.        , 1.        ],\n",
       "         [1.        , 1.        , 1.        ]],\n",
       "\n",
       "        [[1.        , 1.        , 1.        ],\n",
       "         [1.        , 1.        , 1.        ],\n",
       "         [1.        , 1.        , 1.        ],\n",
       "         ...,\n",
       "         [0.98823529, 1.        , 1.        ],\n",
       "         [1.        , 1.        , 1.        ],\n",
       "         [1.        , 1.        , 1.        ]],\n",
       "\n",
       "        ...,\n",
       "\n",
       "        [[1.        , 1.        , 1.        ],\n",
       "         [1.        , 1.        , 1.        ],\n",
       "         [1.        , 1.        , 1.        ],\n",
       "         ...,\n",
       "         [0.98823529, 1.        , 1.        ],\n",
       "         [1.        , 1.        , 1.        ],\n",
       "         [1.        , 1.        , 1.        ]],\n",
       "\n",
       "        [[1.        , 1.        , 1.        ],\n",
       "         [1.        , 1.        , 1.        ],\n",
       "         [1.        , 1.        , 1.        ],\n",
       "         ...,\n",
       "         [1.        , 1.        , 1.        ],\n",
       "         [1.        , 1.        , 1.        ],\n",
       "         [1.        , 1.        , 1.        ]],\n",
       "\n",
       "        [[1.        , 1.        , 1.        ],\n",
       "         [1.        , 1.        , 1.        ],\n",
       "         [1.        , 1.        , 1.        ],\n",
       "         ...,\n",
       "         [1.        , 1.        , 1.        ],\n",
       "         [1.        , 1.        , 1.        ],\n",
       "         [1.        , 1.        , 1.        ]]]])"
      ]
     },
     "execution_count": 119,
     "metadata": {},
     "output_type": "execute_result"
    }
   ],
   "source": [
    "X_train/255"
   ]
  },
  {
   "cell_type": "code",
   "execution_count": 120,
   "metadata": {},
   "outputs": [],
   "source": [
    "#Normalize color values to between 0 and 1\n",
    "X_train = X_train/255\n",
    "X_test = X_test/255"
   ]
  },
  {
   "cell_type": "code",
   "execution_count": 123,
   "metadata": {},
   "outputs": [
    {
     "data": {
      "text/plain": [
       "array([[[0.99607843, 1.        , 1.        ],\n",
       "        [0.99607843, 1.        , 1.        ],\n",
       "        [1.        , 1.        , 1.        ],\n",
       "        ...,\n",
       "        [1.        , 0.99215686, 0.99607843],\n",
       "        [1.        , 1.        , 1.        ],\n",
       "        [1.        , 1.        , 1.        ]],\n",
       "\n",
       "       [[0.99607843, 1.        , 1.        ],\n",
       "        [0.99607843, 1.        , 1.        ],\n",
       "        [1.        , 1.        , 1.        ],\n",
       "        ...,\n",
       "        [1.        , 1.        , 1.        ],\n",
       "        [1.        , 1.        , 1.        ],\n",
       "        [1.        , 1.        , 1.        ]],\n",
       "\n",
       "       [[1.        , 1.        , 1.        ],\n",
       "        [1.        , 1.        , 1.        ],\n",
       "        [1.        , 1.        , 1.        ],\n",
       "        ...,\n",
       "        [0.99607843, 1.        , 1.        ],\n",
       "        [1.        , 1.        , 1.        ],\n",
       "        [1.        , 1.        , 1.        ]],\n",
       "\n",
       "       ...,\n",
       "\n",
       "       [[0.98823529, 1.        , 0.98431373],\n",
       "        [1.        , 0.99215686, 0.99607843],\n",
       "        [1.        , 1.        , 1.        ],\n",
       "        ...,\n",
       "        [1.        , 1.        , 1.        ],\n",
       "        [1.        , 1.        , 1.        ],\n",
       "        [1.        , 1.        , 1.        ]],\n",
       "\n",
       "       [[1.        , 1.        , 1.        ],\n",
       "        [1.        , 1.        , 1.        ],\n",
       "        [1.        , 1.        , 1.        ],\n",
       "        ...,\n",
       "        [1.        , 1.        , 1.        ],\n",
       "        [1.        , 1.        , 1.        ],\n",
       "        [1.        , 1.        , 1.        ]],\n",
       "\n",
       "       [[1.        , 1.        , 1.        ],\n",
       "        [1.        , 1.        , 1.        ],\n",
       "        [1.        , 1.        , 1.        ],\n",
       "        ...,\n",
       "        [1.        , 1.        , 1.        ],\n",
       "        [1.        , 1.        , 1.        ],\n",
       "        [1.        , 1.        , 1.        ]]])"
      ]
     },
     "execution_count": 123,
     "metadata": {},
     "output_type": "execute_result"
    }
   ],
   "source": [
    "X_train[0]"
   ]
  },
  {
   "cell_type": "code",
   "execution_count": 124,
   "metadata": {},
   "outputs": [
    {
     "data": {
      "text/plain": [
       "(35625, 45, 45, 3)"
      ]
     },
     "execution_count": 124,
     "metadata": {},
     "output_type": "execute_result"
    }
   ],
   "source": [
    "X_train.shape"
   ]
  },
  {
   "cell_type": "code",
   "execution_count": 128,
   "metadata": {},
   "outputs": [
    {
     "data": {
      "text/plain": [
       "6075"
      ]
     },
     "execution_count": 128,
     "metadata": {},
     "output_type": "execute_result"
    }
   ],
   "source": [
    "45*45*3"
   ]
  },
  {
   "cell_type": "code",
   "execution_count": 125,
   "metadata": {},
   "outputs": [],
   "source": [
    "#Make a flattened version for some of our models\n",
    "X_flat_train = X_train.reshape(X_train.shape[0], 45*45*3)\n",
    "X_flat_test = X_test.reshape(X_test.shape[0], 45*45*3)\n"
   ]
  },
  {
   "cell_type": "code",
   "execution_count": 126,
   "metadata": {},
   "outputs": [
    {
     "data": {
      "text/plain": [
       "array([0.99607843, 1.        , 1.        , ..., 1.        , 1.        ,\n",
       "       1.        ])"
      ]
     },
     "execution_count": 126,
     "metadata": {},
     "output_type": "execute_result"
    }
   ],
   "source": [
    "X_flat_train[0]"
   ]
  },
  {
   "cell_type": "code",
   "execution_count": 134,
   "metadata": {},
   "outputs": [
    {
     "data": {
      "text/plain": [
       "((35625,), (35625,))"
      ]
     },
     "execution_count": 134,
     "metadata": {},
     "output_type": "execute_result"
    }
   ],
   "source": [
    "label_ids.shape, validation_label_ids.shape"
   ]
  },
  {
   "cell_type": "code",
   "execution_count": 135,
   "metadata": {},
   "outputs": [
    {
     "data": {
      "text/plain": [
       "((35625,), (35625,))"
      ]
     },
     "execution_count": 135,
     "metadata": {},
     "output_type": "execute_result"
    }
   ],
   "source": [
    "Y_train.shape,Y_test.shape"
   ]
  },
  {
   "cell_type": "code",
   "execution_count": 136,
   "metadata": {},
   "outputs": [],
   "source": [
    "import numpy as np\n",
    "from keras.utils import to_categorical"
   ]
  },
  {
   "cell_type": "code",
   "execution_count": 139,
   "metadata": {},
   "outputs": [
    {
     "name": "stdout",
     "output_type": "stream",
     "text": [
      "Shape of data (BEFORE encode): (4,)\n",
      "Shape of data (AFTER  encode): (4, 9)\n",
      "\n",
      "[[0. 1. 0. 0. 0. 0. 0. 0. 0.]\n",
      " [0. 0. 0. 0. 0. 1. 0. 0. 0.]\n",
      " [0. 0. 0. 1. 0. 0. 0. 0. 0.]\n",
      " [0. 0. 0. 0. 0. 0. 0. 0. 1.]]\n",
      "index: 0\n",
      "encoded datum: [0. 1. 0. 0. 0. 0. 0. 0. 0.]\n",
      "decoded datum: 1\n",
      "\n",
      "index: 1\n",
      "encoded datum: [0. 0. 0. 0. 0. 1. 0. 0. 0.]\n",
      "decoded datum: 5\n",
      "\n",
      "index: 2\n",
      "encoded datum: [0. 0. 0. 1. 0. 0. 0. 0. 0.]\n",
      "decoded datum: 3\n",
      "\n",
      "index: 3\n",
      "encoded datum: [0. 0. 0. 0. 0. 0. 0. 0. 1.]\n",
      "decoded datum: 8\n",
      "\n"
     ]
    }
   ],
   "source": [
    "data = np.array([1, 5, 3, 8])\n",
    "def encode(data):\n",
    "    print('Shape of data (BEFORE encode): %s' % str(data.shape))\n",
    "    encoded = to_categorical(data)\n",
    "    print('Shape of data (AFTER  encode): %s\\n' % str(encoded.shape))\n",
    "    return encoded\n",
    "encoded_data = encode(data)\n",
    "print(encoded_data)\n",
    "def decode(datum):\n",
    "    return np.argmax(datum)\n",
    "for i in range(encoded_data.shape[0]):\n",
    "    datum = encoded_data[i]\n",
    "    print('index: %d' % i)\n",
    "    print('encoded datum: %s' % datum)\n",
    "    decoded_datum = decode(encoded_data[i])\n",
    "    print('decoded datum: %s' % decoded_datum)\n",
    "    print()"
   ]
  },
  {
   "cell_type": "code",
   "execution_count": 140,
   "metadata": {},
   "outputs": [
    {
     "name": "stdout",
     "output_type": "stream",
     "text": [
      "Original Sizes: (35625, 45, 45, 3) (35625, 45, 45, 3) (35625, 71) (35625, 71)\n",
      "Flattened: (35625, 6075) (35625, 6075)\n"
     ]
    }
   ],
   "source": [
    "#One Hot Encode the Output\n",
    "Y_train = to_categorical(Y_train)\n",
    "Y_test = to_categorical(Y_test)\n",
    "\n",
    "print('Original Sizes:', X_train.shape, X_test.shape, Y_train.shape, Y_test.shape)\n",
    "print('Flattened:', X_flat_train.shape, X_flat_test.shape)"
   ]
  },
  {
   "cell_type": "code",
   "execution_count": 148,
   "metadata": {},
   "outputs": [
    {
     "name": "stdout",
     "output_type": "stream",
     "text": [
      "(45, 45, 3)\n"
     ]
    },
    {
     "data": {
      "image/png": "[encoded data removed]",
      "text/plain": [
       "<Figure size 432x288 with 1 Axes>"
      ]
     },
     "metadata": {},
     "output_type": "display_data"
    }
   ],
   "source": [
    "print(X_train[13000].shape)\n",
    "plt.imshow(X_train[13000])\n",
    "plt.show()"
   ]
  },
  {
   "cell_type": "markdown",
   "metadata": {},
   "source": [
    "# Setting Up Our Neural Network\n"
   ]
  },
  {
   "cell_type": "code",
   "execution_count": 149,
   "metadata": {},
   "outputs": [],
   "source": [
    "from keras.models import Sequential\n",
    "from keras.layers import Dense, Dropout, Flatten, Conv2D, MaxPooling2D\n",
    "from keras.layers import LSTM, Input, TimeDistributed\n",
    "from keras.models import Model\n",
    "from keras.optimizers import RMSprop, SGD\n",
    "\n",
    "# Import the backend\n",
    "from keras import backend as K"
   ]
  },
  {
   "cell_type": "markdown",
   "metadata": {},
   "source": [
    "# A basic model (2 dense layers (256-128 nodes))"
   ]
  },
  {
   "cell_type": "code",
   "execution_count": 154,
   "metadata": {},
   "outputs": [
    {
     "name": "stdout",
     "output_type": "stream",
     "text": [
      "_________________________________________________________________\n",
      "Layer (type)                 Output Shape              Param #   \n",
      "=================================================================\n",
      "dense_7 (Dense)              (None, 256)               1555456   \n",
      "_________________________________________________________________\n",
      "dropout_5 (Dropout)          (None, 256)               0         \n",
      "_________________________________________________________________\n",
      "dense_8 (Dense)              (None, 128)               32896     \n",
      "_________________________________________________________________\n",
      "dropout_6 (Dropout)          (None, 128)               0         \n",
      "_________________________________________________________________\n",
      "dense_9 (Dense)              (None, 71)                9159      \n",
      "=================================================================\n",
      "Total params: 1,597,511\n",
      "Trainable params: 1,597,511\n",
      "Non-trainable params: 0\n",
      "_________________________________________________________________\n"
     ]
    }
   ],
   "source": [
    "model_dense = Sequential()\n",
    "\n",
    "# Add dense layers to create a fully connected MLP\n",
    "# Note that we specify an input shape for the first layer, but only the first layer.\n",
    "# Relu is the activation function used\n",
    "model_dense.add(Dense(256, activation='relu', input_shape=(X_flat_train.shape[1],)))\n",
    "# Dropout layers remove features and fight overfitting\n",
    "model_dense.add(Dropout(0.1))\n",
    "model_dense.add(Dense(128, activation='relu'))\n",
    "model_dense.add(Dropout(0.1))\n",
    "# End with a number of units equal to the number of classes we have for our outcome\n",
    "model_dense.add(Dense(71, activation='softmax'))\n",
    "\n",
    "model_dense.summary()\n",
    "\n",
    "# Compile the model to put it all together.\n",
    "model_dense.compile(loss='categorical_crossentropy',\n",
    "              optimizer=RMSprop(),\n",
    "              metrics=['accuracy'])\n"
   ]
  },
  {
   "cell_type": "code",
   "execution_count": 155,
   "metadata": {},
   "outputs": [
    {
     "name": "stdout",
     "output_type": "stream",
     "text": [
      "Train on 35625 samples, validate on 35625 samples\n",
      "Epoch 1/10\n",
      "35625/35625 [==============================] - 604s 17ms/step - loss: 2.9655 - acc: 0.2404 - val_loss: 1.3148 - val_acc: 0.6233\n",
      "Epoch 2/10\n",
      "35625/35625 [==============================] - 29s 822us/step - loss: 1.3641 - acc: 0.5610 - val_loss: 0.6677 - val_acc: 0.7901\n",
      "Epoch 3/10\n",
      "35625/35625 [==============================] - 28s 784us/step - loss: 0.9483 - acc: 0.6878 - val_loss: 0.4354 - val_acc: 0.8712\n",
      "Epoch 4/10\n",
      "35625/35625 [==============================] - 28s 798us/step - loss: 0.7381 - acc: 0.7543 - val_loss: 0.4527 - val_acc: 0.8431\n",
      "Epoch 5/10\n",
      "35625/35625 [==============================] - 29s 810us/step - loss: 0.6032 - acc: 0.8020 - val_loss: 0.4014 - val_acc: 0.8644\n",
      "Epoch 6/10\n",
      "35625/35625 [==============================] - 28s 778us/step - loss: 0.5184 - acc: 0.8285 - val_loss: 0.2030 - val_acc: 0.9407\n",
      "Epoch 7/10\n",
      "35625/35625 [==============================] - 28s 780us/step - loss: 0.4498 - acc: 0.8505 - val_loss: 0.1345 - val_acc: 0.9650\n",
      "Epoch 8/10\n",
      "35625/35625 [==============================] - 29s 807us/step - loss: 0.3922 - acc: 0.8696 - val_loss: 0.2034 - val_acc: 0.9287\n",
      "Epoch 9/10\n",
      "35625/35625 [==============================] - 29s 802us/step - loss: 0.3675 - acc: 0.8787 - val_loss: 0.3888 - val_acc: 0.8649\n",
      "Epoch 10/10\n",
      "35625/35625 [==============================] - 28s 798us/step - loss: 0.3476 - acc: 0.8862 - val_loss: 0.0602 - val_acc: 0.9835\n",
      "Test loss: 0.06019232223366526\n",
      "Test accuracy: 0.9834947368421053\n"
     ]
    }
   ],
   "source": [
    "model_denseloss='categorical_crossentropy'\n",
    "\n",
    "history_dense = model_dense.fit(X_flat_train, Y_train,\n",
    "                          batch_size=128,\n",
    "                          epochs=10,\n",
    "                          verbose=1,\n",
    "                          validation_data=(X_flat_test, Y_test))\n",
    "score = model_dense.evaluate(X_flat_test, Y_test, verbose=0)\n",
    "print('Test loss:', score[0])\n",
    "print('Test accuracy:', score[1])"
   ]
  },
  {
   "cell_type": "markdown",
   "metadata": {},
   "source": [
    "### Test accuracy: 0.9834947368421053 on the test set using a neural network with two dense layers (256 nodes and 128 nodes) and dropout = 0.1(to reduce overfitting)"
   ]
  },
  {
   "cell_type": "markdown",
   "metadata": {},
   "source": [
    "## A deeper network (5 dense layers (256-128-128-128-128 nodes))"
   ]
  },
  {
   "cell_type": "code",
   "execution_count": 156,
   "metadata": {},
   "outputs": [
    {
     "name": "stdout",
     "output_type": "stream",
     "text": [
      "_________________________________________________________________\n",
      "Layer (type)                 Output Shape              Param #   \n",
      "=================================================================\n",
      "dense_10 (Dense)             (None, 256)               1555456   \n",
      "_________________________________________________________________\n",
      "dropout_7 (Dropout)          (None, 256)               0         \n",
      "_________________________________________________________________\n",
      "dense_11 (Dense)             (None, 128)               32896     \n",
      "_________________________________________________________________\n",
      "dropout_8 (Dropout)          (None, 128)               0         \n",
      "_________________________________________________________________\n",
      "dense_12 (Dense)             (None, 128)               16512     \n",
      "_________________________________________________________________\n",
      "dropout_9 (Dropout)          (None, 128)               0         \n",
      "_________________________________________________________________\n",
      "dense_13 (Dense)             (None, 128)               16512     \n",
      "_________________________________________________________________\n",
      "dropout_10 (Dropout)         (None, 128)               0         \n",
      "_________________________________________________________________\n",
      "dense_14 (Dense)             (None, 128)               16512     \n",
      "_________________________________________________________________\n",
      "dropout_11 (Dropout)         (None, 128)               0         \n",
      "_________________________________________________________________\n",
      "dense_15 (Dense)             (None, 71)                9159      \n",
      "=================================================================\n",
      "Total params: 1,647,047\n",
      "Trainable params: 1,647,047\n",
      "Non-trainable params: 0\n",
      "_________________________________________________________________\n",
      "Train on 35625 samples, validate on 35625 samples\n",
      "Epoch 1/10\n",
      "35625/35625 [==============================] - 29s 808us/step - loss: 2.9985 - acc: 0.1828 - val_loss: 1.6192 - val_acc: 0.4512\n",
      "Epoch 2/10\n",
      "35625/35625 [==============================] - 29s 801us/step - loss: 1.4866 - acc: 0.5079 - val_loss: 1.0322 - val_acc: 0.6430\n",
      "Epoch 3/10\n",
      "35625/35625 [==============================] - 28s 797us/step - loss: 0.9747 - acc: 0.6764 - val_loss: 0.4360 - val_acc: 0.8558\n",
      "Epoch 4/10\n",
      "35625/35625 [==============================] - 28s 788us/step - loss: 0.7180 - acc: 0.7581 - val_loss: 0.3211 - val_acc: 0.8883\n",
      "Epoch 5/10\n",
      "35625/35625 [==============================] - 29s 811us/step - loss: 0.5442 - acc: 0.8153 - val_loss: 0.2308 - val_acc: 0.9178\n",
      "Epoch 6/10\n",
      "35625/35625 [==============================] - 29s 810us/step - loss: 0.4456 - acc: 0.8559 - val_loss: 0.3237 - val_acc: 0.8832\n",
      "Epoch 7/10\n",
      "35625/35625 [==============================] - 29s 817us/step - loss: 0.3693 - acc: 0.8752 - val_loss: 0.3110 - val_acc: 0.8847\n",
      "Epoch 8/10\n",
      "35625/35625 [==============================] - 28s 799us/step - loss: 0.3218 - acc: 0.8968 - val_loss: 0.0557 - val_acc: 0.9821\n",
      "Epoch 9/10\n",
      "35625/35625 [==============================] - 31s 857us/step - loss: 0.2637 - acc: 0.9133 - val_loss: 0.7523 - val_acc: 0.7926\n",
      "Epoch 10/10\n",
      "35625/35625 [==============================] - 29s 815us/step - loss: 0.2507 - acc: 0.9204 - val_loss: 0.0554 - val_acc: 0.9798\n",
      "Test loss: 0.05540531318712597\n",
      "Test accuracy: 0.9798456140350877\n"
     ]
    }
   ],
   "source": [
    "model_deep = Sequential()\n",
    "\n",
    "# Add dense layers to create a fully connected MLP\n",
    "# Note that we specify an input shape for the first layer, but only the first layer.\n",
    "# Relu is the activation function used\n",
    "model_deep.add(Dense(256, activation='relu', input_shape=(X_flat_train.shape[1],)))\n",
    "# Dropout layers remove features and fight overfitting\n",
    "model_deep.add(Dropout(0.05))\n",
    "model_deep.add(Dense(128, activation='relu'))\n",
    "model_deep.add(Dropout(0.05))\n",
    "model_deep.add(Dense(128, activation='relu'))\n",
    "model_deep.add(Dropout(0.05))\n",
    "model_deep.add(Dense(128, activation='relu'))\n",
    "model_deep.add(Dropout(0.05))\n",
    "model_deep.add(Dense(128, activation='relu'))\n",
    "model_deep.add(Dropout(0.05))\n",
    "# End with a number of units equal to the number of classes we have for our outcome\n",
    "model_deep.add(Dense(71, activation='softmax'))\n",
    "\n",
    "model_deep.summary()\n",
    "\n",
    "# Compile the model to put it all together.\n",
    "model_deep.compile(loss='categorical_crossentropy',\n",
    "              optimizer=RMSprop(),\n",
    "              metrics=['accuracy'])\n",
    "\n",
    "history_deep = model_deep.fit(X_flat_train, Y_train,\n",
    "                          batch_size=128,\n",
    "                          epochs=10,\n",
    "                          verbose=1,\n",
    "                          validation_data=(X_flat_test, Y_test))\n",
    "score = model_deep.evaluate(X_flat_test, Y_test, verbose=0)\n",
    "print('Test loss:', score[0])\n",
    "print('Test accuracy:', score[1])"
   ]
  },
  {
   "cell_type": "markdown",
   "metadata": {},
   "source": [
    "# CNN model"
   ]
  },
  {
   "cell_type": "code",
   "execution_count": null,
   "metadata": {},
   "outputs": [
    {
     "name": "stdout",
     "output_type": "stream",
     "text": [
      "Train on 35625 samples, validate on 35625 samples\n",
      "Epoch 1/1\n",
      " 6272/35625 [====>.........................] - ETA: 6:26 - loss: 3.9543 - acc: 0.0719"
     ]
    }
   ],
   "source": [
    "model_cnn = Sequential()\n",
    "# First convolutional layer, note the specification of shape\n",
    "model_cnn.add(Conv2D(32, kernel_size=(3, 3),\n",
    "                 activation='relu',\n",
    "                 input_shape=(45, 45, 3)))\n",
    "model_cnn.add(Conv2D(64, (3, 3), activation='relu'))\n",
    "model_cnn.add(MaxPooling2D(pool_size=(2, 2)))\n",
    "model_cnn.add(Dropout(0.25))\n",
    "model_cnn.add(Flatten())\n",
    "model_cnn.add(Dense(128, activation='relu'))\n",
    "model_cnn.add(Dropout(0.5))\n",
    "model_cnn.add(Dense(71, activation='softmax'))\n",
    "\n",
    "model_cnn.compile(loss=keras.losses.categorical_crossentropy,\n",
    "              optimizer=keras.optimizers.Adadelta(),\n",
    "              metrics=['accuracy'])\n",
    "\n",
    "model_cnn.fit(X_train, Y_train,\n",
    "          batch_size=128,\n",
    "          epochs=1,\n",
    "          verbose=1,\n",
    "          validation_data=(X_test, Y_test))\n",
    "score = model_cnn.evaluate(X_test, Y_test, verbose=0)\n",
    "print('Test loss:', score[0])\n",
    "print('Test accuracy:', score[1])"
   ]
  },
  {
   "cell_type": "code",
   "execution_count": null,
   "metadata": {},
   "outputs": [],
   "source": [
    "model_cnn.fit(X_train, Y_train,\n",
    "          batch_size=128,\n",
    "          epochs=10,\n",
    "          verbose=1,\n",
    "          validation_data=(X_test, Y_test))\n",
    "score = model_cnn.evaluate(X_test, Y_test, verbose=0)\n",
    "print('Test loss:', score[0])\n",
    "print('Test accuracy:', score[1])"
   ]
  },
  {
   "cell_type": "code",
   "execution_count": null,
   "metadata": {},
   "outputs": [],
   "source": []
  }
 ],
 "metadata": {
  "kernelspec": {
   "display_name": "Python 3",
   "language": "python",
   "name": "python3"
  },
  "language_info": {
   "codemirror_mode": {
    "name": "ipython",
    "version": 3
   },
   "file_extension": ".py",
   "mimetype": "text/x-python",
   "name": "python",
   "nbconvert_exporter": "python",
   "pygments_lexer": "ipython3",
   "version": "3.6.5"
  }
 },
 "nbformat": 4,
 "nbformat_minor": 2
}
