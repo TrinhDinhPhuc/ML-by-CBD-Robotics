{
 "cells": [
  {
   "cell_type": "markdown",
   "metadata": {},
   "source": [
    "# <center>Fruit Classification using Neural Network</center>"
   ]
  },
  {
   "cell_type": "code",
   "execution_count": 1,
   "metadata": {},
   "outputs": [
    {
     "name": "stderr",
     "output_type": "stream",
     "text": [
      "Using TensorFlow backend.\n"
     ]
    }
   ],
   "source": [
    "import warnings\n",
    "warnings.filterwarnings(\"ignore\")\n",
    "import keras\n",
    "import numpy as np \n",
    "from keras.datasets.cifar10 import load_data\n",
    "import glob\n",
    "import os\n",
    "import keras \n",
    "import cv2\n",
    "import pandas as pd\n",
    "from sklearn.decomposition import PCA\n",
    "from sklearn.manifold import TSNE\n",
    "from sklearn.preprocessing import StandardScaler\n",
    "import keras\n",
    "import matplotlib.pyplot as plt\n",
    "%matplotlib inline"
   ]
  },
  {
   "cell_type": "markdown",
   "metadata": {},
   "source": [
    "# Trainning set"
   ]
  },
  {
   "cell_type": "code",
   "execution_count": 2,
   "metadata": {},
   "outputs": [],
   "source": [
    "fruit_images = []\n",
    "labels = []\n",
    "for fruit_dir_path in glob.glob(\"F:/data/fruits-360/Training/*\"):\n",
    "    fruit_label = fruit_dir_path.split(\"/\") #['F:', 'data', 'fruits-360', 'Training\\\\Apple Braeburn']\n",
    "    fruit_label = fruit_label[3]\n",
    "    for image_path in glob.glob(os.path.join(fruit_dir_path,\"*.jpg\")): #['F:/data/fruits-360/Training\\\\Apple Braeburn\\\\0_100.jpg', 'F:/data/fruits-360/Training\\\\Apple Braeburn\\\\100_100.jpg',\n",
    "        image = cv2.imread(image_path,cv2.IMREAD_COLOR) # cv2.imread() to read an image\n",
    "        image = cv2.resize(image,(45,45)) # Loads a color image\n",
    "        image = cv2.cvtColor(image,cv2.COLOR_RGB2BGR) # conver RGB to BGR \n",
    "        fruit_images.append(image)\n",
    "        labels.append(fruit_label)\n",
    "fruit_images_ARR = np.array(fruit_images)\n",
    "labels_ARR = np.array(labels)"
   ]
  },
  {
   "cell_type": "code",
   "execution_count": 3,
   "metadata": {},
   "outputs": [
    {
     "data": {
      "text/plain": [
       "array([[[254, 255, 255],\n",
       "        [254, 255, 255],\n",
       "        [255, 255, 255],\n",
       "        ...,\n",
       "        [255, 253, 254],\n",
       "        [255, 255, 255],\n",
       "        [255, 255, 255]],\n",
       "\n",
       "       [[254, 255, 255],\n",
       "        [254, 255, 255],\n",
       "        [255, 255, 255],\n",
       "        ...,\n",
       "        [255, 255, 255],\n",
       "        [255, 255, 255],\n",
       "        [255, 255, 255]],\n",
       "\n",
       "       [[255, 255, 255],\n",
       "        [255, 255, 255],\n",
       "        [255, 255, 255],\n",
       "        ...,\n",
       "        [254, 255, 255],\n",
       "        [255, 255, 255],\n",
       "        [255, 255, 255]],\n",
       "\n",
       "       ...,\n",
       "\n",
       "       [[252, 255, 251],\n",
       "        [255, 253, 254],\n",
       "        [255, 255, 255],\n",
       "        ...,\n",
       "        [255, 255, 255],\n",
       "        [255, 255, 255],\n",
       "        [255, 255, 255]],\n",
       "\n",
       "       [[255, 255, 255],\n",
       "        [255, 255, 255],\n",
       "        [255, 255, 255],\n",
       "        ...,\n",
       "        [255, 255, 255],\n",
       "        [255, 255, 255],\n",
       "        [255, 255, 255]],\n",
       "\n",
       "       [[255, 255, 255],\n",
       "        [255, 255, 255],\n",
       "        [255, 255, 255],\n",
       "        ...,\n",
       "        [255, 255, 255],\n",
       "        [255, 255, 255],\n",
       "        [255, 255, 255]]], dtype=uint8)"
      ]
     },
     "execution_count": 3,
     "metadata": {},
     "output_type": "execute_result"
    }
   ],
   "source": [
    "fruit_images[0]"
   ]
  },
  {
   "cell_type": "code",
   "execution_count": 4,
   "metadata": {},
   "outputs": [
    {
     "data": {
      "text/plain": [
       "35625"
      ]
     },
     "execution_count": 4,
     "metadata": {},
     "output_type": "execute_result"
    }
   ],
   "source": [
    "len(fruit_images)"
   ]
  },
  {
   "cell_type": "code",
   "execution_count": 5,
   "metadata": {},
   "outputs": [
    {
     "data": {
      "text/plain": [
       "35625"
      ]
     },
     "execution_count": 5,
     "metadata": {},
     "output_type": "execute_result"
    }
   ],
   "source": [
    "len(labels)"
   ]
  },
  {
   "cell_type": "code",
   "execution_count": 6,
   "metadata": {},
   "outputs": [
    {
     "data": {
      "text/plain": [
       "(45, 45)"
      ]
     },
     "execution_count": 6,
     "metadata": {},
     "output_type": "execute_result"
    }
   ],
   "source": [
    "len(fruit_images[0]),len(fruit_images_ARR[0])"
   ]
  },
  {
   "cell_type": "code",
   "execution_count": 105,
   "metadata": {},
   "outputs": [
    {
     "name": "stdout",
     "output_type": "stream",
     "text": [
      "<class 'list'>\n",
      "<class 'numpy.ndarray'>\n"
     ]
    }
   ],
   "source": [
    "print(type(fruit_images))\n",
    "print(type(fruit_images_ARR))"
   ]
  },
  {
   "cell_type": "code",
   "execution_count": 8,
   "metadata": {},
   "outputs": [
    {
     "data": {
      "text/plain": [
       "array(['Training\\\\Apple Braeburn', 'Training\\\\Apple Braeburn',\n",
       "       'Training\\\\Apple Braeburn', ..., 'Training\\\\Tangelo',\n",
       "       'Training\\\\Tangelo', 'Training\\\\Tangelo'], dtype='<U28')"
      ]
     },
     "execution_count": 8,
     "metadata": {},
     "output_type": "execute_result"
    }
   ],
   "source": [
    "labels_ARR"
   ]
  },
  {
   "cell_type": "code",
   "execution_count": 9,
   "metadata": {},
   "outputs": [],
   "source": [
    "label_id_Dict = {key:value for value,key in enumerate(np.unique(labels_ARR))} #add index 0,1,2... to be keys of the values\n",
    "id_label_Dict = {key:value for value,key in label_id_Dict.items()}"
   ]
  },
  {
   "cell_type": "code",
   "execution_count": 10,
   "metadata": {},
   "outputs": [
    {
     "data": {
      "text/plain": [
       "{0: 'Training\\\\Apple Braeburn',\n",
       " 1: 'Training\\\\Apple Golden 1',\n",
       " 2: 'Training\\\\Apple Golden 2',\n",
       " 3: 'Training\\\\Apple Golden 3',\n",
       " 4: 'Training\\\\Apple Granny Smith',\n",
       " 5: 'Training\\\\Apple Red 1',\n",
       " 6: 'Training\\\\Apple Red 2',\n",
       " 7: 'Training\\\\Apple Red 3',\n",
       " 8: 'Training\\\\Apple Red Delicious',\n",
       " 9: 'Training\\\\Apple Red Yellow',\n",
       " 10: 'Training\\\\Apricot',\n",
       " 11: 'Training\\\\Avocado',\n",
       " 12: 'Training\\\\Avocado ripe',\n",
       " 13: 'Training\\\\Banana',\n",
       " 14: 'Training\\\\Banana Red',\n",
       " 15: 'Training\\\\Cactus fruit',\n",
       " 16: 'Training\\\\Cantaloupe 1',\n",
       " 17: 'Training\\\\Cantaloupe 2',\n",
       " 18: 'Training\\\\Carambula',\n",
       " 19: 'Training\\\\Cherry 1',\n",
       " 20: 'Training\\\\Cherry 2',\n",
       " 21: 'Training\\\\Cherry Rainier',\n",
       " 22: 'Training\\\\Clementine',\n",
       " 23: 'Training\\\\Cocos',\n",
       " 24: 'Training\\\\Dates',\n",
       " 25: 'Training\\\\Granadilla',\n",
       " 26: 'Training\\\\Grape Pink',\n",
       " 27: 'Training\\\\Grape White',\n",
       " 28: 'Training\\\\Grape White 2',\n",
       " 29: 'Training\\\\Grapefruit Pink',\n",
       " 30: 'Training\\\\Grapefruit White',\n",
       " 31: 'Training\\\\Guava',\n",
       " 32: 'Training\\\\Huckleberry',\n",
       " 33: 'Training\\\\Kaki',\n",
       " 34: 'Training\\\\Kiwi',\n",
       " 35: 'Training\\\\Kumquats',\n",
       " 36: 'Training\\\\Lemon',\n",
       " 37: 'Training\\\\Lemon Meyer',\n",
       " 38: 'Training\\\\Limes',\n",
       " 39: 'Training\\\\Lychee',\n",
       " 40: 'Training\\\\Mandarine',\n",
       " 41: 'Training\\\\Mango',\n",
       " 42: 'Training\\\\Maracuja',\n",
       " 43: 'Training\\\\Melon Piel de Sapo',\n",
       " 44: 'Training\\\\Mulberry',\n",
       " 45: 'Training\\\\Nectarine',\n",
       " 46: 'Training\\\\Orange',\n",
       " 47: 'Training\\\\Papaya',\n",
       " 48: 'Training\\\\Passion Fruit',\n",
       " 49: 'Training\\\\Peach',\n",
       " 50: 'Training\\\\Peach Flat',\n",
       " 51: 'Training\\\\Pear',\n",
       " 52: 'Training\\\\Pear Abate',\n",
       " 53: 'Training\\\\Pear Monster',\n",
       " 54: 'Training\\\\Pear Williams',\n",
       " 55: 'Training\\\\Pepino',\n",
       " 56: 'Training\\\\Physalis',\n",
       " 57: 'Training\\\\Physalis with Husk',\n",
       " 58: 'Training\\\\Pineapple',\n",
       " 59: 'Training\\\\Pineapple Mini',\n",
       " 60: 'Training\\\\Pitahaya Red',\n",
       " 61: 'Training\\\\Plum',\n",
       " 62: 'Training\\\\Pomegranate',\n",
       " 63: 'Training\\\\Quince',\n",
       " 64: 'Training\\\\Rambutan',\n",
       " 65: 'Training\\\\Raspberry',\n",
       " 66: 'Training\\\\Salak',\n",
       " 67: 'Training\\\\Strawberry',\n",
       " 68: 'Training\\\\Strawberry Wedge',\n",
       " 69: 'Training\\\\Tamarillo',\n",
       " 70: 'Training\\\\Tangelo'}"
      ]
     },
     "execution_count": 10,
     "metadata": {},
     "output_type": "execute_result"
    }
   ],
   "source": [
    "id_label_Dict"
   ]
  },
  {
   "cell_type": "code",
   "execution_count": 11,
   "metadata": {},
   "outputs": [
    {
     "data": {
      "text/plain": [
       "{'Training\\\\Apple Braeburn': 0,\n",
       " 'Training\\\\Apple Golden 1': 1,\n",
       " 'Training\\\\Apple Golden 2': 2,\n",
       " 'Training\\\\Apple Golden 3': 3,\n",
       " 'Training\\\\Apple Granny Smith': 4,\n",
       " 'Training\\\\Apple Red 1': 5,\n",
       " 'Training\\\\Apple Red 2': 6,\n",
       " 'Training\\\\Apple Red 3': 7,\n",
       " 'Training\\\\Apple Red Delicious': 8,\n",
       " 'Training\\\\Apple Red Yellow': 9,\n",
       " 'Training\\\\Apricot': 10,\n",
       " 'Training\\\\Avocado': 11,\n",
       " 'Training\\\\Avocado ripe': 12,\n",
       " 'Training\\\\Banana': 13,\n",
       " 'Training\\\\Banana Red': 14,\n",
       " 'Training\\\\Cactus fruit': 15,\n",
       " 'Training\\\\Cantaloupe 1': 16,\n",
       " 'Training\\\\Cantaloupe 2': 17,\n",
       " 'Training\\\\Carambula': 18,\n",
       " 'Training\\\\Cherry 1': 19,\n",
       " 'Training\\\\Cherry 2': 20,\n",
       " 'Training\\\\Cherry Rainier': 21,\n",
       " 'Training\\\\Clementine': 22,\n",
       " 'Training\\\\Cocos': 23,\n",
       " 'Training\\\\Dates': 24,\n",
       " 'Training\\\\Granadilla': 25,\n",
       " 'Training\\\\Grape Pink': 26,\n",
       " 'Training\\\\Grape White': 27,\n",
       " 'Training\\\\Grape White 2': 28,\n",
       " 'Training\\\\Grapefruit Pink': 29,\n",
       " 'Training\\\\Grapefruit White': 30,\n",
       " 'Training\\\\Guava': 31,\n",
       " 'Training\\\\Huckleberry': 32,\n",
       " 'Training\\\\Kaki': 33,\n",
       " 'Training\\\\Kiwi': 34,\n",
       " 'Training\\\\Kumquats': 35,\n",
       " 'Training\\\\Lemon': 36,\n",
       " 'Training\\\\Lemon Meyer': 37,\n",
       " 'Training\\\\Limes': 38,\n",
       " 'Training\\\\Lychee': 39,\n",
       " 'Training\\\\Mandarine': 40,\n",
       " 'Training\\\\Mango': 41,\n",
       " 'Training\\\\Maracuja': 42,\n",
       " 'Training\\\\Melon Piel de Sapo': 43,\n",
       " 'Training\\\\Mulberry': 44,\n",
       " 'Training\\\\Nectarine': 45,\n",
       " 'Training\\\\Orange': 46,\n",
       " 'Training\\\\Papaya': 47,\n",
       " 'Training\\\\Passion Fruit': 48,\n",
       " 'Training\\\\Peach': 49,\n",
       " 'Training\\\\Peach Flat': 50,\n",
       " 'Training\\\\Pear': 51,\n",
       " 'Training\\\\Pear Abate': 52,\n",
       " 'Training\\\\Pear Monster': 53,\n",
       " 'Training\\\\Pear Williams': 54,\n",
       " 'Training\\\\Pepino': 55,\n",
       " 'Training\\\\Physalis': 56,\n",
       " 'Training\\\\Physalis with Husk': 57,\n",
       " 'Training\\\\Pineapple': 58,\n",
       " 'Training\\\\Pineapple Mini': 59,\n",
       " 'Training\\\\Pitahaya Red': 60,\n",
       " 'Training\\\\Plum': 61,\n",
       " 'Training\\\\Pomegranate': 62,\n",
       " 'Training\\\\Quince': 63,\n",
       " 'Training\\\\Rambutan': 64,\n",
       " 'Training\\\\Raspberry': 65,\n",
       " 'Training\\\\Salak': 66,\n",
       " 'Training\\\\Strawberry': 67,\n",
       " 'Training\\\\Strawberry Wedge': 68,\n",
       " 'Training\\\\Tamarillo': 69,\n",
       " 'Training\\\\Tangelo': 70}"
      ]
     },
     "execution_count": 11,
     "metadata": {},
     "output_type": "execute_result"
    }
   ],
   "source": [
    "label_id_Dict"
   ]
  },
  {
   "cell_type": "code",
   "execution_count": 12,
   "metadata": {},
   "outputs": [],
   "source": [
    "label_ids = np.array([label_id_Dict[x] for x in labels_ARR])"
   ]
  },
  {
   "cell_type": "code",
   "execution_count": 13,
   "metadata": {},
   "outputs": [
    {
     "data": {
      "text/plain": [
       "array([ 0,  0,  0, ..., 70, 70, 70])"
      ]
     },
     "execution_count": 13,
     "metadata": {},
     "output_type": "execute_result"
    }
   ],
   "source": [
    "label_ids"
   ]
  },
  {
   "cell_type": "code",
   "execution_count": 14,
   "metadata": {},
   "outputs": [
    {
     "data": {
      "text/plain": [
       "((35625, 45, 45, 3), (35625,), (35625,))"
      ]
     },
     "execution_count": 14,
     "metadata": {},
     "output_type": "execute_result"
    }
   ],
   "source": [
    "fruit_images_ARR.shape, label_ids.shape, labels_ARR.shape"
   ]
  },
  {
   "cell_type": "markdown",
   "metadata": {},
   "source": [
    "# Test set"
   ]
  },
  {
   "cell_type": "code",
   "execution_count": 15,
   "metadata": {},
   "outputs": [],
   "source": [
    "validation_fruit_images = []\n",
    "validation_labels = [] \n",
    "for fruit_dir_path in glob.glob(\"F:/data/fruits-360/Training/*\"):\n",
    "    fruit_label = fruit_dir_path.split(\"/\")[-1]\n",
    "    for image_path in glob.glob(os.path.join(fruit_dir_path, \"*.jpg\")):\n",
    "        image = cv2.imread(image_path, cv2.IMREAD_COLOR)\n",
    "        \n",
    "        image = cv2.resize(image, (45, 45))\n",
    "        image = cv2.cvtColor(image, cv2.COLOR_RGB2BGR)\n",
    "        \n",
    "        validation_fruit_images.append(image)\n",
    "        validation_labels.append(fruit_label)\n",
    "validation_fruit_images = np.array(validation_fruit_images)\n",
    "validation_labels = np.array(validation_labels)"
   ]
  },
  {
   "cell_type": "code",
   "execution_count": 16,
   "metadata": {},
   "outputs": [],
   "source": [
    "validation_label_ids = np.array([label_id_Dict[x] for x in validation_labels])"
   ]
  },
  {
   "cell_type": "code",
   "execution_count": 17,
   "metadata": {},
   "outputs": [
    {
     "data": {
      "text/plain": [
       "array([ 0,  0,  0, ..., 70, 70, 70])"
      ]
     },
     "execution_count": 17,
     "metadata": {},
     "output_type": "execute_result"
    }
   ],
   "source": [
    "validation_label_ids"
   ]
  },
  {
   "cell_type": "code",
   "execution_count": 18,
   "metadata": {},
   "outputs": [
    {
     "data": {
      "text/plain": [
       "((35625, 45, 45, 3), (35625,))"
      ]
     },
     "execution_count": 18,
     "metadata": {},
     "output_type": "execute_result"
    }
   ],
   "source": [
    "validation_fruit_images.shape, validation_label_ids.shape"
   ]
  },
  {
   "cell_type": "markdown",
   "metadata": {},
   "source": [
    "# Splitting the Data"
   ]
  },
  {
   "cell_type": "code",
   "execution_count": 19,
   "metadata": {},
   "outputs": [],
   "source": [
    "X_train, X_test = fruit_images_ARR, validation_fruit_images\n",
    "Y_train, Y_test = label_ids, validation_label_ids"
   ]
  },
  {
   "cell_type": "code",
   "execution_count": 20,
   "metadata": {},
   "outputs": [
    {
     "data": {
      "text/plain": [
       "array([[[[0.99607843, 1.        , 1.        ],\n",
       "         [0.99607843, 1.        , 1.        ],\n",
       "         [1.        , 1.        , 1.        ],\n",
       "         ...,\n",
       "         [1.        , 0.99215686, 0.99607843],\n",
       "         [1.        , 1.        , 1.        ],\n",
       "         [1.        , 1.        , 1.        ]],\n",
       "\n",
       "        [[0.99607843, 1.        , 1.        ],\n",
       "         [0.99607843, 1.        , 1.        ],\n",
       "         [1.        , 1.        , 1.        ],\n",
       "         ...,\n",
       "         [1.        , 1.        , 1.        ],\n",
       "         [1.        , 1.        , 1.        ],\n",
       "         [1.        , 1.        , 1.        ]],\n",
       "\n",
       "        [[1.        , 1.        , 1.        ],\n",
       "         [1.        , 1.        , 1.        ],\n",
       "         [1.        , 1.        , 1.        ],\n",
       "         ...,\n",
       "         [0.99607843, 1.        , 1.        ],\n",
       "         [1.        , 1.        , 1.        ],\n",
       "         [1.        , 1.        , 1.        ]],\n",
       "\n",
       "        ...,\n",
       "\n",
       "        [[0.98823529, 1.        , 0.98431373],\n",
       "         [1.        , 0.99215686, 0.99607843],\n",
       "         [1.        , 1.        , 1.        ],\n",
       "         ...,\n",
       "         [1.        , 1.        , 1.        ],\n",
       "         [1.        , 1.        , 1.        ],\n",
       "         [1.        , 1.        , 1.        ]],\n",
       "\n",
       "        [[1.        , 1.        , 1.        ],\n",
       "         [1.        , 1.        , 1.        ],\n",
       "         [1.        , 1.        , 1.        ],\n",
       "         ...,\n",
       "         [1.        , 1.        , 1.        ],\n",
       "         [1.        , 1.        , 1.        ],\n",
       "         [1.        , 1.        , 1.        ]],\n",
       "\n",
       "        [[1.        , 1.        , 1.        ],\n",
       "         [1.        , 1.        , 1.        ],\n",
       "         [1.        , 1.        , 1.        ],\n",
       "         ...,\n",
       "         [1.        , 1.        , 1.        ],\n",
       "         [1.        , 1.        , 1.        ],\n",
       "         [1.        , 1.        , 1.        ]]],\n",
       "\n",
       "\n",
       "       [[[0.99215686, 1.        , 0.98823529],\n",
       "         [1.        , 0.98823529, 0.99607843],\n",
       "         [1.        , 0.99607843, 1.        ],\n",
       "         ...,\n",
       "         [1.        , 0.99215686, 0.99607843],\n",
       "         [1.        , 1.        , 1.        ],\n",
       "         [1.        , 1.        , 1.        ]],\n",
       "\n",
       "        [[0.97647059, 1.        , 0.99215686],\n",
       "         [1.        , 0.98823529, 1.        ],\n",
       "         [1.        , 0.98823529, 1.        ],\n",
       "         ...,\n",
       "         [0.99607843, 1.        , 1.        ],\n",
       "         [1.        , 1.        , 1.        ],\n",
       "         [1.        , 1.        , 1.        ]],\n",
       "\n",
       "        [[0.98039216, 1.        , 1.        ],\n",
       "         [1.        , 0.99215686, 1.        ],\n",
       "         [1.        , 0.99607843, 1.        ],\n",
       "         ...,\n",
       "         [0.98823529, 1.        , 1.        ],\n",
       "         [1.        , 1.        , 1.        ],\n",
       "         [1.        , 1.        , 1.        ]],\n",
       "\n",
       "        ...,\n",
       "\n",
       "        [[1.        , 0.99215686, 0.99607843],\n",
       "         [1.        , 1.        , 1.        ],\n",
       "         [0.98823529, 1.        , 1.        ],\n",
       "         ...,\n",
       "         [0.99607843, 1.        , 1.        ],\n",
       "         [1.        , 1.        , 1.        ],\n",
       "         [1.        , 1.        , 1.        ]],\n",
       "\n",
       "        [[1.        , 1.        , 1.        ],\n",
       "         [1.        , 1.        , 1.        ],\n",
       "         [1.        , 1.        , 1.        ],\n",
       "         ...,\n",
       "         [1.        , 1.        , 1.        ],\n",
       "         [1.        , 1.        , 1.        ],\n",
       "         [1.        , 1.        , 1.        ]],\n",
       "\n",
       "        [[1.        , 1.        , 1.        ],\n",
       "         [1.        , 1.        , 1.        ],\n",
       "         [1.        , 1.        , 1.        ],\n",
       "         ...,\n",
       "         [1.        , 1.        , 1.        ],\n",
       "         [1.        , 1.        , 1.        ],\n",
       "         [1.        , 1.        , 1.        ]]],\n",
       "\n",
       "\n",
       "       [[[0.99215686, 1.        , 0.98431373],\n",
       "         [1.        , 0.98823529, 0.99607843],\n",
       "         [1.        , 0.99215686, 1.        ],\n",
       "         ...,\n",
       "         [0.99607843, 1.        , 1.        ],\n",
       "         [1.        , 1.        , 1.        ],\n",
       "         [1.        , 1.        , 1.        ]],\n",
       "\n",
       "        [[0.97647059, 1.        , 0.99215686],\n",
       "         [1.        , 0.98823529, 1.        ],\n",
       "         [1.        , 0.98823529, 1.        ],\n",
       "         ...,\n",
       "         [0.98039216, 1.        , 0.99607843],\n",
       "         [1.        , 1.        , 1.        ],\n",
       "         [1.        , 1.        , 1.        ]],\n",
       "\n",
       "        [[0.98039216, 0.99607843, 1.        ],\n",
       "         [1.        , 0.98823529, 1.        ],\n",
       "         [1.        , 0.99215686, 0.99607843],\n",
       "         ...,\n",
       "         [0.98039216, 1.        , 0.99607843],\n",
       "         [1.        , 1.        , 1.        ],\n",
       "         [1.        , 1.        , 1.        ]],\n",
       "\n",
       "        ...,\n",
       "\n",
       "        [[1.        , 0.99215686, 0.99607843],\n",
       "         [1.        , 1.        , 1.        ],\n",
       "         [0.98823529, 1.        , 1.        ],\n",
       "         ...,\n",
       "         [0.99607843, 1.        , 1.        ],\n",
       "         [1.        , 1.        , 1.        ],\n",
       "         [1.        , 1.        , 1.        ]],\n",
       "\n",
       "        [[1.        , 1.        , 1.        ],\n",
       "         [1.        , 1.        , 1.        ],\n",
       "         [1.        , 1.        , 1.        ],\n",
       "         ...,\n",
       "         [1.        , 1.        , 1.        ],\n",
       "         [1.        , 1.        , 1.        ],\n",
       "         [1.        , 1.        , 1.        ]],\n",
       "\n",
       "        [[1.        , 1.        , 1.        ],\n",
       "         [1.        , 1.        , 1.        ],\n",
       "         [1.        , 1.        , 1.        ],\n",
       "         ...,\n",
       "         [1.        , 1.        , 1.        ],\n",
       "         [1.        , 1.        , 1.        ],\n",
       "         [1.        , 1.        , 1.        ]]],\n",
       "\n",
       "\n",
       "       ...,\n",
       "\n",
       "\n",
       "       [[[1.        , 1.        , 1.        ],\n",
       "         [1.        , 1.        , 1.        ],\n",
       "         [1.        , 1.        , 1.        ],\n",
       "         ...,\n",
       "         [1.        , 0.99607843, 1.        ],\n",
       "         [1.        , 1.        , 1.        ],\n",
       "         [1.        , 1.        , 1.        ]],\n",
       "\n",
       "        [[1.        , 1.        , 1.        ],\n",
       "         [1.        , 1.        , 1.        ],\n",
       "         [1.        , 1.        , 1.        ],\n",
       "         ...,\n",
       "         [1.        , 1.        , 1.        ],\n",
       "         [1.        , 1.        , 1.        ],\n",
       "         [1.        , 1.        , 1.        ]],\n",
       "\n",
       "        [[1.        , 1.        , 1.        ],\n",
       "         [1.        , 1.        , 1.        ],\n",
       "         [1.        , 1.        , 1.        ],\n",
       "         ...,\n",
       "         [0.99607843, 1.        , 1.        ],\n",
       "         [1.        , 1.        , 1.        ],\n",
       "         [1.        , 1.        , 1.        ]],\n",
       "\n",
       "        ...,\n",
       "\n",
       "        [[1.        , 1.        , 0.99215686],\n",
       "         [1.        , 1.        , 1.        ],\n",
       "         [1.        , 1.        , 1.        ],\n",
       "         ...,\n",
       "         [0.99607843, 1.        , 0.99215686],\n",
       "         [1.        , 1.        , 1.        ],\n",
       "         [1.        , 1.        , 1.        ]],\n",
       "\n",
       "        [[1.        , 1.        , 1.        ],\n",
       "         [1.        , 1.        , 1.        ],\n",
       "         [1.        , 1.        , 1.        ],\n",
       "         ...,\n",
       "         [1.        , 1.        , 1.        ],\n",
       "         [1.        , 1.        , 1.        ],\n",
       "         [1.        , 1.        , 1.        ]],\n",
       "\n",
       "        [[1.        , 1.        , 1.        ],\n",
       "         [1.        , 1.        , 1.        ],\n",
       "         [1.        , 1.        , 1.        ],\n",
       "         ...,\n",
       "         [1.        , 1.        , 1.        ],\n",
       "         [1.        , 1.        , 1.        ],\n",
       "         [1.        , 1.        , 1.        ]]],\n",
       "\n",
       "\n",
       "       [[[1.        , 1.        , 1.        ],\n",
       "         [1.        , 1.        , 1.        ],\n",
       "         [1.        , 1.        , 1.        ],\n",
       "         ...,\n",
       "         [1.        , 0.99607843, 1.        ],\n",
       "         [1.        , 1.        , 1.        ],\n",
       "         [1.        , 1.        , 1.        ]],\n",
       "\n",
       "        [[1.        , 1.        , 1.        ],\n",
       "         [1.        , 1.        , 1.        ],\n",
       "         [1.        , 1.        , 1.        ],\n",
       "         ...,\n",
       "         [1.        , 1.        , 1.        ],\n",
       "         [1.        , 1.        , 1.        ],\n",
       "         [1.        , 1.        , 1.        ]],\n",
       "\n",
       "        [[1.        , 1.        , 1.        ],\n",
       "         [1.        , 1.        , 1.        ],\n",
       "         [1.        , 1.        , 1.        ],\n",
       "         ...,\n",
       "         [0.99607843, 1.        , 1.        ],\n",
       "         [1.        , 1.        , 1.        ],\n",
       "         [1.        , 1.        , 1.        ]],\n",
       "\n",
       "        ...,\n",
       "\n",
       "        [[1.        , 1.        , 0.98823529],\n",
       "         [1.        , 1.        , 0.99607843],\n",
       "         [1.        , 0.99607843, 1.        ],\n",
       "         ...,\n",
       "         [1.        , 1.        , 1.        ],\n",
       "         [1.        , 1.        , 1.        ],\n",
       "         [1.        , 1.        , 1.        ]],\n",
       "\n",
       "        [[1.        , 1.        , 1.        ],\n",
       "         [1.        , 1.        , 1.        ],\n",
       "         [1.        , 1.        , 1.        ],\n",
       "         ...,\n",
       "         [1.        , 1.        , 1.        ],\n",
       "         [1.        , 1.        , 1.        ],\n",
       "         [1.        , 1.        , 1.        ]],\n",
       "\n",
       "        [[1.        , 1.        , 1.        ],\n",
       "         [1.        , 1.        , 1.        ],\n",
       "         [1.        , 1.        , 1.        ],\n",
       "         ...,\n",
       "         [1.        , 1.        , 1.        ],\n",
       "         [1.        , 1.        , 1.        ],\n",
       "         [1.        , 1.        , 1.        ]]],\n",
       "\n",
       "\n",
       "       [[[1.        , 1.        , 1.        ],\n",
       "         [1.        , 1.        , 1.        ],\n",
       "         [1.        , 1.        , 1.        ],\n",
       "         ...,\n",
       "         [1.        , 0.99607843, 1.        ],\n",
       "         [1.        , 1.        , 1.        ],\n",
       "         [1.        , 1.        , 1.        ]],\n",
       "\n",
       "        [[1.        , 1.        , 1.        ],\n",
       "         [1.        , 1.        , 1.        ],\n",
       "         [1.        , 1.        , 1.        ],\n",
       "         ...,\n",
       "         [0.99607843, 1.        , 1.        ],\n",
       "         [1.        , 1.        , 1.        ],\n",
       "         [1.        , 1.        , 1.        ]],\n",
       "\n",
       "        [[1.        , 1.        , 1.        ],\n",
       "         [1.        , 1.        , 1.        ],\n",
       "         [1.        , 1.        , 1.        ],\n",
       "         ...,\n",
       "         [0.98823529, 1.        , 1.        ],\n",
       "         [1.        , 1.        , 1.        ],\n",
       "         [1.        , 1.        , 1.        ]],\n",
       "\n",
       "        ...,\n",
       "\n",
       "        [[1.        , 1.        , 1.        ],\n",
       "         [1.        , 1.        , 1.        ],\n",
       "         [1.        , 1.        , 1.        ],\n",
       "         ...,\n",
       "         [0.98823529, 1.        , 1.        ],\n",
       "         [1.        , 1.        , 1.        ],\n",
       "         [1.        , 1.        , 1.        ]],\n",
       "\n",
       "        [[1.        , 1.        , 1.        ],\n",
       "         [1.        , 1.        , 1.        ],\n",
       "         [1.        , 1.        , 1.        ],\n",
       "         ...,\n",
       "         [1.        , 1.        , 1.        ],\n",
       "         [1.        , 1.        , 1.        ],\n",
       "         [1.        , 1.        , 1.        ]],\n",
       "\n",
       "        [[1.        , 1.        , 1.        ],\n",
       "         [1.        , 1.        , 1.        ],\n",
       "         [1.        , 1.        , 1.        ],\n",
       "         ...,\n",
       "         [1.        , 1.        , 1.        ],\n",
       "         [1.        , 1.        , 1.        ],\n",
       "         [1.        , 1.        , 1.        ]]]])"
      ]
     },
     "execution_count": 20,
     "metadata": {},
     "output_type": "execute_result"
    }
   ],
   "source": [
    "X_train/255"
   ]
  },
  {
   "cell_type": "code",
   "execution_count": null,
   "metadata": {},
   "outputs": [],
   "source": [
    "#Normalize color values to between 0 and 1\n",
    "X_train = X_train/255\n",
    "X_test = X_test/255"
   ]
  },
  {
   "cell_type": "code",
   "execution_count": null,
   "metadata": {},
   "outputs": [],
   "source": [
    "X_train[0]"
   ]
  },
  {
   "cell_type": "code",
   "execution_count": null,
   "metadata": {},
   "outputs": [
    {
     "data": {
      "text/plain": [
       "(35625, 45, 45, 3)"
      ]
     },
     "execution_count": 23,
     "metadata": {},
     "output_type": "execute_result"
    }
   ],
   "source": [
    "X_train.shape"
   ]
  },
  {
   "cell_type": "code",
   "execution_count": null,
   "metadata": {},
   "outputs": [
    {
     "data": {
      "text/plain": [
       "6075"
      ]
     },
     "execution_count": 24,
     "metadata": {},
     "output_type": "execute_result"
    }
   ],
   "source": [
    "45*45*3"
   ]
  },
  {
   "cell_type": "code",
   "execution_count": null,
   "metadata": {},
   "outputs": [],
   "source": [
    "#Make a flattened version for some of our models\n",
    "X_flat_train = X_train.reshape(X_train.shape[0], 45*45*3)\n",
    "X_flat_test = X_test.reshape(X_test.shape[0], 45*45*3)"
   ]
  },
  {
   "cell_type": "code",
   "execution_count": null,
   "metadata": {},
   "outputs": [
    {
     "data": {
      "text/plain": [
       "array([0.99607843, 1.        , 1.        , ..., 1.        , 1.        ,\n",
       "       1.        ])"
      ]
     },
     "execution_count": 26,
     "metadata": {},
     "output_type": "execute_result"
    }
   ],
   "source": [
    "X_flat_train[0]"
   ]
  },
  {
   "cell_type": "code",
   "execution_count": 27,
   "metadata": {},
   "outputs": [
    {
     "data": {
      "text/plain": [
       "((35625,), (35625,))"
      ]
     },
     "execution_count": 27,
     "metadata": {},
     "output_type": "execute_result"
    }
   ],
   "source": [
    "label_ids.shape, validation_label_ids.shape"
   ]
  },
  {
   "cell_type": "code",
   "execution_count": 28,
   "metadata": {},
   "outputs": [
    {
     "data": {
      "text/plain": [
       "((35625,), (35625,))"
      ]
     },
     "execution_count": 28,
     "metadata": {},
     "output_type": "execute_result"
    }
   ],
   "source": [
    "Y_train.shape,Y_test.shape"
   ]
  },
  {
   "cell_type": "code",
   "execution_count": 29,
   "metadata": {},
   "outputs": [],
   "source": [
    "import numpy as np\n",
    "from keras.utils import to_categorical"
   ]
  },
  {
   "cell_type": "code",
   "execution_count": 30,
   "metadata": {},
   "outputs": [
    {
     "name": "stdout",
     "output_type": "stream",
     "text": [
      "Shape of data (BEFORE encode): (4,)\n",
      "Shape of data (AFTER  encode): (4, 9)\n",
      "\n",
      "[[0. 1. 0. 0. 0. 0. 0. 0. 0.]\n",
      " [0. 0. 0. 0. 0. 1. 0. 0. 0.]\n",
      " [0. 0. 0. 1. 0. 0. 0. 0. 0.]\n",
      " [0. 0. 0. 0. 0. 0. 0. 0. 1.]]\n",
      "index: 0\n",
      "encoded datum: [0. 1. 0. 0. 0. 0. 0. 0. 0.]\n",
      "decoded datum: 1\n",
      "\n",
      "index: 1\n",
      "encoded datum: [0. 0. 0. 0. 0. 1. 0. 0. 0.]\n",
      "decoded datum: 5\n",
      "\n",
      "index: 2\n",
      "encoded datum: [0. 0. 0. 1. 0. 0. 0. 0. 0.]\n",
      "decoded datum: 3\n",
      "\n",
      "index: 3\n",
      "encoded datum: [0. 0. 0. 0. 0. 0. 0. 0. 1.]\n",
      "decoded datum: 8\n",
      "\n"
     ]
    }
   ],
   "source": [
    "data = np.array([1, 5, 3, 8])\n",
    "def encode(data):\n",
    "    print('Shape of data (BEFORE encode): %s' % str(data.shape))\n",
    "    encoded = to_categorical(data)\n",
    "    print('Shape of data (AFTER  encode): %s\\n' % str(encoded.shape))\n",
    "    return encoded\n",
    "encoded_data = encode(data)\n",
    "print(encoded_data)\n",
    "def decode(datum):\n",
    "    return np.argmax(datum)\n",
    "for i in range(encoded_data.shape[0]):\n",
    "    datum = encoded_data[i]\n",
    "    print('index: %d' % i)\n",
    "    print('encoded datum: %s' % datum)\n",
    "    decoded_datum = decode(encoded_data[i])\n",
    "    print('decoded datum: %s' % decoded_datum)\n",
    "    print()"
   ]
  },
  {
   "cell_type": "code",
   "execution_count": 31,
   "metadata": {},
   "outputs": [
    {
     "name": "stdout",
     "output_type": "stream",
     "text": [
      "Original Sizes: (35625, 45, 45, 3) (35625, 45, 45, 3) (35625, 71) (35625, 71)\n",
      "Flattened: (35625, 6075) (35625, 6075)\n"
     ]
    }
   ],
   "source": [
    "#One Hot Encode the Output\n",
    "Y_train = to_categorical(Y_train)\n",
    "Y_test = to_categorical(Y_test)\n",
    "\n",
    "print('Original Sizes:', X_train.shape, X_test.shape, Y_train.shape, Y_test.shape)\n",
    "print('Flattened:', X_flat_train.shape, X_flat_test.shape)"
   ]
  },
  {
   "cell_type": "code",
   "execution_count": 32,
   "metadata": {},
   "outputs": [
    {
     "name": "stdout",
     "output_type": "stream",
     "text": [
      "(45, 45, 3)\n"
     ]
    },
    {
     "data": {
      "image/png": "[encoded data removed]",
      "text/plain": [
       "<Figure size 432x288 with 1 Axes>"
      ]
     },
     "metadata": {},
     "output_type": "display_data"
    }
   ],
   "source": [
    "print(X_train[13000].shape)\n",
    "plt.imshow(X_train[13000])\n",
    "plt.show()"
   ]
  },
  {
   "cell_type": "markdown",
   "metadata": {},
   "source": [
    "# Setting Up Our Neural Network\n"
   ]
  },
  {
   "cell_type": "code",
   "execution_count": 62,
   "metadata": {},
   "outputs": [],
   "source": [
    "from keras.models import Sequential\n",
    "from keras.layers import Dense, Dropout, Flatten, Conv2D, MaxPooling2D\n",
    "from keras.layers import LSTM, Input, TimeDistributed\n",
    "from keras.models import Model\n",
    "from keras.optimizers import RMSprop, SGD\n",
    "from keras.models import model_from_yaml\n",
    "\n",
    "# Import the backend\n",
    "from keras import backend as K"
   ]
  },
  {
   "cell_type": "code",
   "execution_count": 61,
   "metadata": {},
   "outputs": [
    {
     "name": "stdout",
     "output_type": "stream",
     "text": [
      "keras version:2.1.6\n"
     ]
    }
   ],
   "source": [
    "print('keras version:' + keras.__version__)"
   ]
  },
  {
   "cell_type": "markdown",
   "metadata": {},
   "source": [
    "##  Summarize the construction of deep learning models in Keras\n",
    "* 1. Define your model. Create a Sequential model and add configured layers.\n",
    "* 2. Compile your model. Specify loss function and optimizers and call the compile() function on the model.\n",
    "* 3. Fit your model. Train the model on a sample of data by calling the fit() function on the model.\n",
    "* 4. Make predictions. Use the model to generate predictions on new data by calling functions such as evaluate() or predict() on the model."
   ]
  },
  {
   "cell_type": "markdown",
   "metadata": {},
   "source": [
    "# A basic model (2 dense layers (256-128 nodes))"
   ]
  },
  {
   "cell_type": "code",
   "execution_count": 34,
   "metadata": {},
   "outputs": [
    {
     "name": "stdout",
     "output_type": "stream",
     "text": [
      "_________________________________________________________________\n",
      "Layer (type)                 Output Shape              Param #   \n",
      "=================================================================\n",
      "dense_1 (Dense)              (None, 256)               1555456   \n",
      "_________________________________________________________________\n",
      "dropout_1 (Dropout)          (None, 256)               0         \n",
      "_________________________________________________________________\n",
      "dense_2 (Dense)              (None, 128)               32896     \n",
      "_________________________________________________________________\n",
      "dropout_2 (Dropout)          (None, 128)               0         \n",
      "_________________________________________________________________\n",
      "dense_3 (Dense)              (None, 71)                9159      \n",
      "=================================================================\n",
      "Total params: 1,597,511\n",
      "Trainable params: 1,597,511\n",
      "Non-trainable params: 0\n",
      "_________________________________________________________________\n"
     ]
    }
   ],
   "source": [
    "'''\n",
    "Step1: Create a Sequential and add layers to it in the order that you wish for the computation to be performed\n",
    "'''\n",
    "model_dense = Sequential() # the main type of model is a sequence of layers which is a linear stack of layer\n",
    "'''\n",
    "Step2: add layers to the Sequential in the order that you wish for the computation to be performed\n",
    "'''\n",
    "# Add dense layers to create a fully connected MLP Dense implements the operation: output = activation(dot(input, kernel) + bias)\n",
    "# Note that we specify an input shape for the first layer, but only the first layer.\n",
    "model_dense.add(Dense(256, activation='relu', input_shape=(X_flat_train.shape[1],)))\n",
    "# Dropout layers remove features and fight overfitting\n",
    "model_dense.add(Dropout(0.1))\n",
    "model_dense.add(Dense(128, activation='relu'))\n",
    "model_dense.add(Dropout(0.1))\n",
    "# End with a number of units equal to the number of classes we have for our outcome\n",
    "model_dense.add(Dense(71, activation='softmax'))\n",
    "\n",
    "model_dense.summary()\n",
    "\n",
    "'''\n",
    "Step3: Once defined, you compile the model which makes use of the underlying framework to optimize the computation to be\n",
    "performed by your model.\n",
    "In this you can specify the loss function and the optimizer to be used.\n",
    "'''\n",
    "# Compile the model to put it all together.\n",
    "model_dense.compile(loss='categorical_crossentropy',\n",
    "              optimizer=RMSprop(),     \n",
    "                    #An optimizer is one of the two arguments required for compiling a Keras model: \n",
    "                    #keras.optimizers.RMSprop(lr=0.001, rho=0.9, epsilon=None, decay=0.0)\n",
    "              metrics=['accuracy'])"
   ]
  },
  {
   "cell_type": "code",
   "execution_count": 35,
   "metadata": {},
   "outputs": [
    {
     "name": "stdout",
     "output_type": "stream",
     "text": [
      "Train on 35625 samples, validate on 35625 samples\n",
      "Epoch 1/10\n",
      "35625/35625 [==============================] - 3821s 107ms/step - loss: 3.0883 - acc: 0.2122 - val_loss: 1.5815 - val_acc: 0.5156\n",
      "Epoch 2/10\n",
      "35625/35625 [==============================] - 32s 888us/step - loss: 1.5598 - acc: 0.5061 - val_loss: 0.8573 - val_acc: 0.7441\n",
      "Epoch 3/10\n",
      "35625/35625 [==============================] - 32s 885us/step - loss: 1.1845 - acc: 0.6158 - val_loss: 0.5872 - val_acc: 0.8346\n",
      "Epoch 4/10\n",
      "35625/35625 [==============================] - 31s 882us/step - loss: 0.9632 - acc: 0.6860 - val_loss: 0.5478 - val_acc: 0.8335\n",
      "Epoch 5/10\n",
      "35625/35625 [==============================] - 34s 951us/step - loss: 0.8042 - acc: 0.7372 - val_loss: 0.2839 - val_acc: 0.9210\n",
      "Epoch 6/10\n",
      "35625/35625 [==============================] - 31s 868us/step - loss: 0.7093 - acc: 0.7696 - val_loss: 0.3194 - val_acc: 0.9007\n",
      "Epoch 7/10\n",
      "35625/35625 [==============================] - 32s 900us/step - loss: 0.6282 - acc: 0.7959 - val_loss: 0.2049 - val_acc: 0.9449\n",
      "Epoch 8/10\n",
      "35625/35625 [==============================] - 32s 910us/step - loss: 0.5578 - acc: 0.8194 - val_loss: 0.2878 - val_acc: 0.9021\n",
      "Epoch 9/10\n",
      "35625/35625 [==============================] - 33s 919us/step - loss: 0.5099 - acc: 0.8344 - val_loss: 0.2699 - val_acc: 0.9079\n",
      "Epoch 10/10\n",
      "35625/35625 [==============================] - 31s 864us/step - loss: 0.4637 - acc: 0.8505 - val_loss: 0.2887 - val_acc: 0.8996\n",
      "Test loss: 0.28874155637549354\n",
      "Test accuracy: 0.899621052631579\n"
     ]
    }
   ],
   "source": [
    "model_denseloss='categorical_crossentropy'\n",
    "'''\n",
    "Step4: Once compiled, the model must be fit to data. This can be done one batch of data at a time or by firing off the entire model training regime.\n",
    "This can be done one batch of data at a time or by firing off (quickly response) the entire model training regime(chế độ)\n",
    "'''\n",
    "history_dense = model_dense.fit(X_flat_train, Y_train,\n",
    "                          batch_size=128,\n",
    "# one epoch = one forward pass and one backward pass of all the training examples\n",
    "# batch size = the number of training examples in one forward/backward pass. The higher the batch size, the more memory space you'll need.\n",
    "                                \n",
    "                          epochs=10,\n",
    "                          verbose=1, #verbose: Integer 0 = silent, 1 = progress bar, 2 = one line per epoch.\n",
    "                          validation_data=(X_flat_test, Y_test))\n",
    "score = model_dense.evaluate(X_flat_test, Y_test, verbose=0) #Returns the loss value & metrics values for the model in test mode.\n",
    "print('Test loss:', score[0])\n",
    "print('Test accuracy:', score[1])"
   ]
  },
  {
   "cell_type": "code",
   "execution_count": 107,
   "metadata": {},
   "outputs": [
    {
     "data": {
      "text/plain": [
       "[0.28874155637549354, 0.899621052631579]"
      ]
     },
     "execution_count": 107,
     "metadata": {},
     "output_type": "execute_result"
    }
   ],
   "source": [
    "score"
   ]
  },
  {
   "cell_type": "code",
   "execution_count": 36,
   "metadata": {},
   "outputs": [
    {
     "name": "stdout",
     "output_type": "stream",
     "text": [
      "dict_keys(['val_loss', 'val_acc', 'loss', 'acc'])\n"
     ]
    },
    {
     "data": {
      "image/png": "[encoded data removed]",
      "text/plain": [
       "<Figure size 432x288 with 1 Axes>"
      ]
     },
     "metadata": {},
     "output_type": "display_data"
    },
    {
     "data": {
      "image/png": "[encoded data removed]",
      "text/plain": [
       "<Figure size 432x288 with 1 Axes>"
      ]
     },
     "metadata": {},
     "output_type": "display_data"
    }
   ],
   "source": [
    "print(history_dense.history.keys())\n",
    "# summarize history for accuracy\n",
    "plt.plot(history_dense.history['acc'])\n",
    "plt.plot(history_dense.history['val_acc'])\n",
    "plt.title('model accuracy')\n",
    "plt.ylabel('accuracy')\n",
    "plt.xlabel('epoch')\n",
    "plt.legend(['train', 'test'], loc='upper left')\n",
    "plt.show()\n",
    "# summarize history for loss\n",
    "plt.plot(history_dense.history['loss'])\n",
    "plt.plot(history_dense.history['val_loss'])\n",
    "plt.title('model loss')\n",
    "plt.ylabel('loss')\n",
    "plt.xlabel('epoch')\n",
    "plt.legend(['train', 'test'], loc='upper left')\n",
    "plt.show()"
   ]
  },
  {
   "cell_type": "markdown",
   "metadata": {},
   "source": [
    "### Test accuracy: 0.9834947368421053 on the test set using a neural network with two dense layers (256 nodes and 128 nodes) and dropout = 0.1(to reduce overfitting)"
   ]
  },
  {
   "cell_type": "markdown",
   "metadata": {},
   "source": [
    "### Save model"
   ]
  },
  {
   "cell_type": "code",
   "execution_count": 65,
   "metadata": {},
   "outputs": [
    {
     "name": "stdout",
     "output_type": "stream",
     "text": [
      "Saved model to disk\n"
     ]
    }
   ],
   "source": [
    "# serialize model to YAML\n",
    "model_yaml = model_dense.to_yaml()\n",
    "with open(\"model.yaml\", \"w\") as yaml_file:\n",
    "    yaml_file.write(model_yaml)\n",
    "# serialize weights to HDF5\n",
    "model_dense.save_weights(\"model.h5\")\n",
    "print(\"Saved model to disk\")"
   ]
  },
  {
   "cell_type": "markdown",
   "metadata": {},
   "source": [
    "### Load model"
   ]
  },
  {
   "cell_type": "code",
   "execution_count": 66,
   "metadata": {},
   "outputs": [
    {
     "name": "stdout",
     "output_type": "stream",
     "text": [
      "Loaded model from disk\n"
     ]
    }
   ],
   "source": [
    "# load YAML and create model\n",
    "yaml_file = open('model.yaml', 'r')\n",
    "loaded_model_yaml = yaml_file.read()\n",
    "yaml_file.close()\n",
    "loaded_model = model_from_yaml(loaded_model_yaml)\n",
    "# load weights into new model\n",
    "loaded_model.load_weights(\"model.h5\")\n",
    "print(\"Loaded model from disk\")"
   ]
  },
  {
   "cell_type": "markdown",
   "metadata": {},
   "source": [
    "### Predict kind of fruit as the given image"
   ]
  },
  {
   "cell_type": "code",
   "execution_count": 108,
   "metadata": {},
   "outputs": [
    {
     "data": {
      "image/png": "[encoded data removed]",
      "text/plain": [
       "<Figure size 432x288 with 1 Axes>"
      ]
     },
     "metadata": {},
     "output_type": "display_data"
    }
   ],
   "source": [
    "image_to_predict = \"F:/data/fruits-360/test-multiple_fruits/apple_pear.jpg\"\n",
    "image_to_predict = cv2.imread(image_to_predict,cv2.IMREAD_COLOR) # cv2.imread() to read an image\n",
    "image_to_predict = cv2.resize(image_to_predict, (45, 45))\n",
    "image_to_predict = cv2.cvtColor(image_to_predict, cv2.COLOR_RGB2BGR)\n",
    "plt.imshow(image_to_predict)\n",
    "plt.show()"
   ]
  },
  {
   "cell_type": "code",
   "execution_count": 103,
   "metadata": {},
   "outputs": [
    {
     "name": "stdout",
     "output_type": "stream",
     "text": [
      "The dimension:  (45, 45, 3)\n"
     ]
    }
   ],
   "source": [
    "print(\"The dimension: \",image_to_predict.shape)\n",
    "image_to_predict = np.array(image_to_predict)\n",
    "image_to_predict = image_to_predict/255"
   ]
  },
  {
   "cell_type": "code",
   "execution_count": 106,
   "metadata": {},
   "outputs": [
    {
     "name": "stdout",
     "output_type": "stream",
     "text": [
      "Flattened: (35625, 6075) (35625, 6075)\n"
     ]
    }
   ],
   "source": [
    "print('Flattened:', X_flat_train.shape, X_flat_test.shape)"
   ]
  },
  {
   "cell_type": "code",
   "execution_count": 104,
   "metadata": {},
   "outputs": [
    {
     "ename": "ValueError",
     "evalue": "Error when checking : expected dense_1_input to have 2 dimensions, but got array with shape (45, 45, 3)",
     "output_type": "error",
     "traceback": [
      "\u001b[1;31m---------------------------------------------------------------------------\u001b[0m",
      "\u001b[1;31mValueError\u001b[0m                                Traceback (most recent call last)",
      "\u001b[1;32m<ipython-input-104-a18ed28aa49d>\u001b[0m in \u001b[0;36m<module>\u001b[1;34m()\u001b[0m\n\u001b[1;32m----> 1\u001b[1;33m \u001b[0mloaded_model\u001b[0m\u001b[1;33m.\u001b[0m\u001b[0mpredict_classes\u001b[0m\u001b[1;33m(\u001b[0m\u001b[0mimage_to_predict\u001b[0m\u001b[1;33m)\u001b[0m\u001b[1;33m\u001b[0m\u001b[0m\n\u001b[0m",
      "\u001b[1;32m~\\Anaconda3\\lib\\site-packages\\keras\\models.py\u001b[0m in \u001b[0;36mpredict_classes\u001b[1;34m(self, x, batch_size, verbose, steps)\u001b[0m\n\u001b[0;32m   1175\u001b[0m         \"\"\"\n\u001b[0;32m   1176\u001b[0m         proba = self.predict(x, batch_size=batch_size, verbose=verbose,\n\u001b[1;32m-> 1177\u001b[1;33m                              steps=steps)\n\u001b[0m\u001b[0;32m   1178\u001b[0m         \u001b[1;32mif\u001b[0m \u001b[0mproba\u001b[0m\u001b[1;33m.\u001b[0m\u001b[0mshape\u001b[0m\u001b[1;33m[\u001b[0m\u001b[1;33m-\u001b[0m\u001b[1;36m1\u001b[0m\u001b[1;33m]\u001b[0m \u001b[1;33m>\u001b[0m \u001b[1;36m1\u001b[0m\u001b[1;33m:\u001b[0m\u001b[1;33m\u001b[0m\u001b[0m\n\u001b[0;32m   1179\u001b[0m             \u001b[1;32mreturn\u001b[0m \u001b[0mproba\u001b[0m\u001b[1;33m.\u001b[0m\u001b[0margmax\u001b[0m\u001b[1;33m(\u001b[0m\u001b[0maxis\u001b[0m\u001b[1;33m=\u001b[0m\u001b[1;33m-\u001b[0m\u001b[1;36m1\u001b[0m\u001b[1;33m)\u001b[0m\u001b[1;33m\u001b[0m\u001b[0m\n",
      "\u001b[1;32m~\\Anaconda3\\lib\\site-packages\\keras\\models.py\u001b[0m in \u001b[0;36mpredict\u001b[1;34m(self, x, batch_size, verbose, steps)\u001b[0m\n\u001b[0;32m   1062\u001b[0m             \u001b[0mself\u001b[0m\u001b[1;33m.\u001b[0m\u001b[0mbuild\u001b[0m\u001b[1;33m(\u001b[0m\u001b[1;33m)\u001b[0m\u001b[1;33m\u001b[0m\u001b[0m\n\u001b[0;32m   1063\u001b[0m         return self.model.predict(x, batch_size=batch_size, verbose=verbose,\n\u001b[1;32m-> 1064\u001b[1;33m                                   steps=steps)\n\u001b[0m\u001b[0;32m   1065\u001b[0m \u001b[1;33m\u001b[0m\u001b[0m\n\u001b[0;32m   1066\u001b[0m     \u001b[1;32mdef\u001b[0m \u001b[0mpredict_on_batch\u001b[0m\u001b[1;33m(\u001b[0m\u001b[0mself\u001b[0m\u001b[1;33m,\u001b[0m \u001b[0mx\u001b[0m\u001b[1;33m)\u001b[0m\u001b[1;33m:\u001b[0m\u001b[1;33m\u001b[0m\u001b[0m\n",
      "\u001b[1;32m~\\Anaconda3\\lib\\site-packages\\keras\\engine\\training.py\u001b[0m in \u001b[0;36mpredict\u001b[1;34m(self, x, batch_size, verbose, steps)\u001b[0m\n\u001b[0;32m   1815\u001b[0m         x = _standardize_input_data(x, self._feed_input_names,\n\u001b[0;32m   1816\u001b[0m                                     \u001b[0mself\u001b[0m\u001b[1;33m.\u001b[0m\u001b[0m_feed_input_shapes\u001b[0m\u001b[1;33m,\u001b[0m\u001b[1;33m\u001b[0m\u001b[0m\n\u001b[1;32m-> 1817\u001b[1;33m                                     check_batch_axis=False)\n\u001b[0m\u001b[0;32m   1818\u001b[0m         \u001b[1;32mif\u001b[0m \u001b[0mself\u001b[0m\u001b[1;33m.\u001b[0m\u001b[0mstateful\u001b[0m\u001b[1;33m:\u001b[0m\u001b[1;33m\u001b[0m\u001b[0m\n\u001b[0;32m   1819\u001b[0m             \u001b[1;32mif\u001b[0m \u001b[0mx\u001b[0m\u001b[1;33m[\u001b[0m\u001b[1;36m0\u001b[0m\u001b[1;33m]\u001b[0m\u001b[1;33m.\u001b[0m\u001b[0mshape\u001b[0m\u001b[1;33m[\u001b[0m\u001b[1;36m0\u001b[0m\u001b[1;33m]\u001b[0m \u001b[1;33m>\u001b[0m \u001b[0mbatch_size\u001b[0m \u001b[1;32mand\u001b[0m \u001b[0mx\u001b[0m\u001b[1;33m[\u001b[0m\u001b[1;36m0\u001b[0m\u001b[1;33m]\u001b[0m\u001b[1;33m.\u001b[0m\u001b[0mshape\u001b[0m\u001b[1;33m[\u001b[0m\u001b[1;36m0\u001b[0m\u001b[1;33m]\u001b[0m \u001b[1;33m%\u001b[0m \u001b[0mbatch_size\u001b[0m \u001b[1;33m!=\u001b[0m \u001b[1;36m0\u001b[0m\u001b[1;33m:\u001b[0m\u001b[1;33m\u001b[0m\u001b[0m\n",
      "\u001b[1;32m~\\Anaconda3\\lib\\site-packages\\keras\\engine\\training.py\u001b[0m in \u001b[0;36m_standardize_input_data\u001b[1;34m(data, names, shapes, check_batch_axis, exception_prefix)\u001b[0m\n\u001b[0;32m    111\u001b[0m                         \u001b[1;34m': expected '\u001b[0m \u001b[1;33m+\u001b[0m \u001b[0mnames\u001b[0m\u001b[1;33m[\u001b[0m\u001b[0mi\u001b[0m\u001b[1;33m]\u001b[0m \u001b[1;33m+\u001b[0m \u001b[1;34m' to have '\u001b[0m \u001b[1;33m+\u001b[0m\u001b[1;33m\u001b[0m\u001b[0m\n\u001b[0;32m    112\u001b[0m                         \u001b[0mstr\u001b[0m\u001b[1;33m(\u001b[0m\u001b[0mlen\u001b[0m\u001b[1;33m(\u001b[0m\u001b[0mshape\u001b[0m\u001b[1;33m)\u001b[0m\u001b[1;33m)\u001b[0m \u001b[1;33m+\u001b[0m \u001b[1;34m' dimensions, but got array '\u001b[0m\u001b[1;33m\u001b[0m\u001b[0m\n\u001b[1;32m--> 113\u001b[1;33m                         'with shape ' + str(data_shape))\n\u001b[0m\u001b[0;32m    114\u001b[0m                 \u001b[1;32mif\u001b[0m \u001b[1;32mnot\u001b[0m \u001b[0mcheck_batch_axis\u001b[0m\u001b[1;33m:\u001b[0m\u001b[1;33m\u001b[0m\u001b[0m\n\u001b[0;32m    115\u001b[0m                     \u001b[0mdata_shape\u001b[0m \u001b[1;33m=\u001b[0m \u001b[0mdata_shape\u001b[0m\u001b[1;33m[\u001b[0m\u001b[1;36m1\u001b[0m\u001b[1;33m:\u001b[0m\u001b[1;33m]\u001b[0m\u001b[1;33m\u001b[0m\u001b[0m\n",
      "\u001b[1;31mValueError\u001b[0m: Error when checking : expected dense_1_input to have 2 dimensions, but got array with shape (45, 45, 3)"
     ]
    }
   ],
   "source": [
    "loaded_model.predict_classes(image_to_predict)"
   ]
  },
  {
   "cell_type": "markdown",
   "metadata": {},
   "source": [
    "## A deeper network (5 dense layers (256-128-128-128-128 nodes))"
   ]
  },
  {
   "cell_type": "code",
   "execution_count": 37,
   "metadata": {},
   "outputs": [
    {
     "name": "stdout",
     "output_type": "stream",
     "text": [
      "_________________________________________________________________\n",
      "Layer (type)                 Output Shape              Param #   \n",
      "=================================================================\n",
      "dense_4 (Dense)              (None, 256)               1555456   \n",
      "_________________________________________________________________\n",
      "dropout_3 (Dropout)          (None, 256)               0         \n",
      "_________________________________________________________________\n",
      "dense_5 (Dense)              (None, 128)               32896     \n",
      "_________________________________________________________________\n",
      "dropout_4 (Dropout)          (None, 128)               0         \n",
      "_________________________________________________________________\n",
      "dense_6 (Dense)              (None, 128)               16512     \n",
      "_________________________________________________________________\n",
      "dropout_5 (Dropout)          (None, 128)               0         \n",
      "_________________________________________________________________\n",
      "dense_7 (Dense)              (None, 128)               16512     \n",
      "_________________________________________________________________\n",
      "dropout_6 (Dropout)          (None, 128)               0         \n",
      "_________________________________________________________________\n",
      "dense_8 (Dense)              (None, 128)               16512     \n",
      "_________________________________________________________________\n",
      "dropout_7 (Dropout)          (None, 128)               0         \n",
      "_________________________________________________________________\n",
      "dense_9 (Dense)              (None, 71)                9159      \n",
      "=================================================================\n",
      "Total params: 1,647,047\n",
      "Trainable params: 1,647,047\n",
      "Non-trainable params: 0\n",
      "_________________________________________________________________\n",
      "Train on 35625 samples, validate on 35625 samples\n",
      "Epoch 1/10\n",
      "35625/35625 [==============================] - 29s 815us/step - loss: 3.0341 - acc: 0.1710 - val_loss: 2.0598 - val_acc: 0.3143\n",
      "Epoch 2/10\n",
      "35625/35625 [==============================] - 27s 768us/step - loss: 1.5807 - acc: 0.4763 - val_loss: 0.7445 - val_acc: 0.7439\n",
      "Epoch 3/10\n",
      "35625/35625 [==============================] - 27s 769us/step - loss: 1.0196 - acc: 0.6612 - val_loss: 0.6104 - val_acc: 0.8036\n",
      "Epoch 4/10\n",
      "35625/35625 [==============================] - 27s 769us/step - loss: 0.7346 - acc: 0.7556 - val_loss: 0.6163 - val_acc: 0.7964\n",
      "Epoch 5/10\n",
      "35625/35625 [==============================] - 28s 772us/step - loss: 0.5654 - acc: 0.8152 - val_loss: 0.3143 - val_acc: 0.8927\n",
      "Epoch 6/10\n",
      "35625/35625 [==============================] - 28s 776us/step - loss: 0.4574 - acc: 0.8478 - val_loss: 0.1500 - val_acc: 0.9538\n",
      "Epoch 7/10\n",
      "35625/35625 [==============================] - 28s 772us/step - loss: 0.3784 - acc: 0.8755 - val_loss: 0.2434 - val_acc: 0.9239\n",
      "Epoch 8/10\n",
      "35625/35625 [==============================] - 28s 773us/step - loss: 0.3241 - acc: 0.8957 - val_loss: 0.1051 - val_acc: 0.9632\n",
      "Epoch 9/10\n",
      "35625/35625 [==============================] - 28s 778us/step - loss: 0.2821 - acc: 0.9092 - val_loss: 0.0842 - val_acc: 0.9729\n",
      "Epoch 10/10\n",
      "35625/35625 [==============================] - 28s 794us/step - loss: 0.2518 - acc: 0.9202 - val_loss: 0.0342 - val_acc: 0.9868\n",
      "Test loss: 0.03416597273086556\n",
      "Test accuracy: 0.9867508771929825\n"
     ]
    }
   ],
   "source": [
    "model_deep = Sequential()\n",
    "\n",
    "# Add dense layers to create a fully connected MLP\n",
    "# Note that we specify an input shape for the first layer, but only the first layer.\n",
    "# Relu is the activation function used\n",
    "model_deep.add(Dense(256, activation='relu', input_shape=(X_flat_train.shape[1],)))\n",
    "# Dropout layers remove features and fight overfitting\n",
    "model_deep.add(Dropout(0.05))\n",
    "model_deep.add(Dense(128, activation='relu'))\n",
    "model_deep.add(Dropout(0.05))\n",
    "model_deep.add(Dense(128, activation='relu'))\n",
    "model_deep.add(Dropout(0.05))\n",
    "model_deep.add(Dense(128, activation='relu'))\n",
    "model_deep.add(Dropout(0.05))\n",
    "model_deep.add(Dense(128, activation='relu'))\n",
    "model_deep.add(Dropout(0.05))\n",
    "# End with a number of units equal to the number of classes we have for our outcome\n",
    "model_deep.add(Dense(71, activation='softmax'))\n",
    "\n",
    "model_deep.summary()\n",
    "\n",
    "# Compile the model to put it all together.\n",
    "model_deep.compile(loss='categorical_crossentropy',\n",
    "              optimizer=RMSprop(),\n",
    "              metrics=['accuracy'])\n",
    "\n",
    "history_deep = model_deep.fit(X_flat_train, Y_train,\n",
    "                          batch_size=128,\n",
    "                          epochs=10,\n",
    "                          verbose=1,\n",
    "                          validation_data=(X_flat_test, Y_test))\n",
    "score = model_deep.evaluate(X_flat_test, Y_test, verbose=0)\n",
    "print('Test loss:', score[0])\n",
    "print('Test accuracy:', score[1])"
   ]
  },
  {
   "cell_type": "markdown",
   "metadata": {},
   "source": [
    "# CNN model"
   ]
  },
  {
   "cell_type": "code",
   "execution_count": 38,
   "metadata": {},
   "outputs": [
    {
     "name": "stdout",
     "output_type": "stream",
     "text": [
      "Train on 35625 samples, validate on 35625 samples\n",
      "Epoch 1/1\n",
      "35625/35625 [==============================] - 582s 16ms/step - loss: 2.0147 - acc: 0.4647 - val_loss: 0.2621 - val_acc: 0.9258\n",
      "Test loss: 0.26209085524682235\n",
      "Test accuracy: 0.9258385964914372\n"
     ]
    }
   ],
   "source": [
    "model_cnn = Sequential()\n",
    "# First convolutional layer, note the specification of shape\n",
    "model_cnn.add(Conv2D(32, kernel_size=(3, 3),\n",
    "                 activation='relu',\n",
    "                 input_shape=(45, 45, 3)))\n",
    "model_cnn.add(Conv2D(64, (3, 3), activation='relu'))\n",
    "model_cnn.add(MaxPooling2D(pool_size=(2, 2)))\n",
    "model_cnn.add(Dropout(0.25))\n",
    "model_cnn.add(Flatten())\n",
    "model_cnn.add(Dense(128, activation='relu')) #Fully connected layers are defined using the Dense class.\n",
    "model_cnn.add(Dropout(0.5)) \n",
    "model_cnn.add(Dense(71, activation='softmax'))\n",
    "\n",
    "model_cnn.compile(loss=keras.losses.categorical_crossentropy,\n",
    "              optimizer=keras.optimizers.Adadelta(),\n",
    "              metrics=['accuracy'])\n",
    "\n",
    "model_cnn.fit(X_train, Y_train,\n",
    "          batch_size=128,\n",
    "          epochs=1,\n",
    "          verbose=1,\n",
    "          validation_data=(X_test, Y_test))\n",
    "score = model_cnn.evaluate(X_test, Y_test, verbose=0)\n",
    "print('Test loss:', score[0])\n",
    "print('Test accuracy:', score[1])"
   ]
  },
  {
   "cell_type": "code",
   "execution_count": 40,
   "metadata": {},
   "outputs": [
    {
     "name": "stdout",
     "output_type": "stream",
     "text": [
      "Train on 35625 samples, validate on 35625 samples\n",
      "Epoch 1/10\n",
      "35625/35625 [==============================] - 610s 17ms/step - loss: 0.0367 - acc: 0.9846 - val_loss: 0.0096 - val_acc: 0.9939\n",
      "Epoch 2/10\n",
      "35625/35625 [==============================] - 653s 18ms/step - loss: 0.0315 - acc: 0.9866 - val_loss: 0.0094 - val_acc: 0.9938\n",
      "Epoch 3/10\n",
      "35625/35625 [==============================] - 659s 18ms/step - loss: 0.0300 - acc: 0.9867 - val_loss: 0.0093 - val_acc: 0.9939\n",
      "Epoch 4/10\n",
      "35625/35625 [==============================] - 661s 19ms/step - loss: 0.0311 - acc: 0.9862 - val_loss: 0.0100 - val_acc: 0.9935\n",
      "Epoch 5/10\n",
      "35625/35625 [==============================] - 664s 19ms/step - loss: 0.0304 - acc: 0.9873 - val_loss: 0.0093 - val_acc: 0.9939\n",
      "Epoch 6/10\n",
      "35625/35625 [==============================] - 634s 18ms/step - loss: 0.0283 - acc: 0.9882 - val_loss: 0.0113 - val_acc: 0.9938\n",
      "Epoch 7/10\n",
      "35625/35625 [==============================] - 665s 19ms/step - loss: 0.0261 - acc: 0.9880 - val_loss: 0.0089 - val_acc: 0.9940\n",
      "Epoch 8/10\n",
      "35625/35625 [==============================] - 670s 19ms/step - loss: 0.0276 - acc: 0.9871 - val_loss: 0.0092 - val_acc: 0.9939\n",
      "Epoch 9/10\n",
      "35625/35625 [==============================] - 670s 19ms/step - loss: 0.0261 - acc: 0.9884 - val_loss: 0.0100 - val_acc: 0.9938\n",
      "Epoch 10/10\n",
      "35625/35625 [==============================] - 674s 19ms/step - loss: 0.0250 - acc: 0.9891 - val_loss: 0.0086 - val_acc: 0.9940\n",
      "Test loss: 0.008551101721336862\n",
      "Test accuracy: 0.9940210526315789\n"
     ]
    }
   ],
   "source": [
    "model_cnn.fit(X_train, Y_train,\n",
    "          batch_size=128,\n",
    "          epochs=10,\n",
    "          verbose=1,\n",
    "          validation_data=(X_test, Y_test))\n",
    "score = model_cnn.evaluate(X_test, Y_test, verbose=0)\n",
    "print('Test loss:', score[0])\n",
    "print('Test accuracy:', score[1])\n"
   ]
  },
  {
   "cell_type": "markdown",
   "metadata": {},
   "source": [
    "# Tunning the model"
   ]
  },
  {
   "cell_type": "code",
   "execution_count": 33,
   "metadata": {},
   "outputs": [],
   "source": [
    "from keras.wrappers.scikit_learn import KerasClassifier\n",
    "from sklearn.model_selection import GridSearchCV\n",
    "from keras.models import Sequential\n",
    "from keras.layers import Dense\n",
    "def build_classifier(optimizer):\n",
    "    classifier = Sequential()\n",
    "    classifier.add(Dense(output_dim = 6, init = 'uniform', activation='relu', input_dim=11))\n",
    "    classifier.add(Dense(output_dim = 6, init = 'uniform', activation='relu'))\n",
    "    classifier.add(Dense(output_dim = 1, init = 'uniform', activation='sigmoid'))\n",
    "    classifier.compile(optimizer =optimizer, loss='binary_crossentropy', metrics=['accuracy'])\n",
    "    return classifier\n",
    "classifier = KerasClassifier(build_fn=build_classifier)\n",
    "parameters = {'batch_size':[25,32],\n",
    "              'nb_epoch':[1,10],\n",
    "              'optimizer':['adam','rmsprop']}\n",
    "grid_search = GridSearchCV(estimator=classifier,\n",
    "                          param_grid = parameters,\n",
    "                          scoring='accuracy',\n",
    "                          cv=10)\n",
    "grid_search = grid_search.fit(X_flat_train, Y_train)\n",
    "best_parameters = grid_search.best_params_\n",
    "best_accuracy = grid_search.best_score_"
   ]
  },
  {
   "cell_type": "markdown",
   "metadata": {},
   "source": [
    "# Prediction"
   ]
  },
  {
   "cell_type": "code",
   "execution_count": null,
   "metadata": {},
   "outputs": [],
   "source": []
  }
 ],
 "metadata": {
  "kernelspec": {
   "display_name": "Python 3",
   "language": "python",
   "name": "python3"
  },
  "language_info": {
   "codemirror_mode": {
    "name": "ipython",
    "version": 3
   },
   "file_extension": ".py",
   "mimetype": "text/x-python",
   "name": "python",
   "nbconvert_exporter": "python",
   "pygments_lexer": "ipython3",
   "version": "3.6.5"
  }
 },
 "nbformat": 4,
 "nbformat_minor": 2
}
