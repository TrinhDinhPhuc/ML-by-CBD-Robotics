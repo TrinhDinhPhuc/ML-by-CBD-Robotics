{
 "cells": [
  {
   "cell_type": "code",
   "execution_count": 117,
   "metadata": {
    "ExecuteTime": {
     "end_time": "2018-11-07T13:57:18.987942Z",
     "start_time": "2018-11-07T13:57:16.949346Z"
    }
   },
   "outputs": [],
   "source": [
    "from bs4 import BeautifulSoup\n",
    "import requests\n",
    "import re"
   ]
  },
  {
   "cell_type": "code",
   "execution_count": 104,
   "metadata": {},
   "outputs": [
    {
     "name": "stdout",
     "output_type": "stream",
     "text": [
      "2.7.15 |Anaconda, Inc.| (default, May  1 2018, 18:37:09) [MSC v.1500 64 bit (AMD64)]\n"
     ]
    }
   ],
   "source": [
    "import sys\n",
    "print (sys.version)"
   ]
  },
  {
   "cell_type": "code",
   "execution_count": 110,
   "metadata": {},
   "outputs": [
    {
     "data": {
      "text/plain": [
       "['Stage I cancers', 'Other limited stage cancers']"
      ]
     },
     "execution_count": 110,
     "metadata": {},
     "output_type": "execute_result"
    }
   ],
   "source": [
    "re.findall(\"<h3>(.*?)</h3>\",str(h3))"
   ]
  },
  {
   "cell_type": "code",
   "execution_count": 133,
   "metadata": {},
   "outputs": [
    {
     "data": {
      "text/plain": [
       "['</h3>\\n<p>For most people with limited stage SCLC, surgery is not an option because the tumor is too large, it\\xe2\\x80\\x99s in a place that can\\xe2\\x80\\x99t be removed easily, or it has spread to nearby lymph nodes or other places in the\\n     lung. If you are in good health, the standard treatment is <a href=\"/cancer/small-cell-lung-cancer/treating/chemotherapy.html\">chemo</a> plus <a href=\"/cancer/small-cell-lung-cancer/treating/radiation-therapy.html\">radiation</a> to the chest given at the same time (called <em>concurrent chemoradiation</em>). The chemo drugs used are usually etoposide plus either cisplatin or carboplatin.</p>\\n<p>Concurrent chemoradiation can help people with limited stage SCLC live longer and give them a better chance at cure than giving one treatment (or one treatment at a time). The downside is that this combination has more side effects than either chemo or radiation alone, and it can be hard to take.</p>\\n<p>People who aren\\xe2\\x80\\x99t healthy enough for chemoradiation are usually treated with chemo by itself. This may be followed by radiation to the chest.</p>\\n<p>If no measures are taken to prevent it, about half of people with SCLC will have cancer spread to their brain. If your cancer has responded well to initial treatment, you may be given radiation therapy to the head (called <em>prophylactic cranial irradiation</em>, or PCI) to try to prevent this. The radiation is usually given in lower doses than what is used if the cancer had already spread to brain, but some patients may still have <a href=\"/cancer/small-cell-lung-cancer/treating/radiation-therapy.html\">side effects</a> from the radiation.</p>\\n<p>Most people treated with chemo (with or without radiation) for limited stage SCLC will have their tumors shrink significantly. In many, the cancer will shrink to the point where it can no longer be seen on imaging tests. Unfortunately, for most people, the cancer will return at some point.</p>\\n<p>Because these cancers are hard to cure, <a href=\"/treatment/treatments-and-side-effects/clinical-trials.html\">clinical trials</a> of newer treatments may be a good option for some people. If you think you might want to take part in a clinical trial, talk to your doctor.</p>\\n']"
      ]
     },
     "execution_count": 133,
     "metadata": {},
     "output_type": "execute_result"
    }
   ],
   "source": [
    "re.findall(\"(?s)(?<=Other limited stage cancers).*?(?=<h2>)\",str(h3))"
   ]
  },
  {
   "cell_type": "code",
   "execution_count": 131,
   "metadata": {},
   "outputs": [
    {
     "data": {
      "text/plain": [
       "['</h3>\\n<p>For most people with limited stage SCLC, surgery is not an option because the tumor is too large, it\\xe2\\x80\\x99s in a place that can\\xe2\\x80\\x99t be removed easily, or it has spread to nearby lymph nodes or other places in the\\n     lung. If you are in good health, the standard treatment is <a href=\"/cancer/small-cell-lung-cancer/treating/chemotherapy.html\">chemo</a> plus <a href=\"/cancer/small-cell-lung-cancer/treating/radiation-therapy.html\">radiation</a> to the chest given at the same time (called <em>concurrent chemoradiation</em>). The chemo drugs used are usually etoposide plus either cisplatin or carboplatin.</p>\\n<p>Concurrent chemoradiation can help people with limited stage SCLC live longer and give them a better chance at cure than giving one treatment (or one treatment at a time). The downside is that this combination has more side effects than either chemo or radiation alone, and it can be hard to take.</p>\\n<p>People who aren\\xe2\\x80\\x99t healthy enough for chemoradiation are usually treated with chemo by itself. This may be followed by radiation to the chest.</p>\\n<p>If no measures are taken to prevent it, about half of people with SCLC will have cancer spread to their brain. If your cancer has responded well to initial treatment, you may be given radiation therapy to the head (called <em>prophylactic cranial irradiation</em>, or PCI) to try to prevent this. The radiation is usually given in lower doses than what is used if the cancer had already spread to brain, but some patients may still have <a href=\"/cancer/small-cell-lung-cancer/treating/radiation-therapy.html\">side effects</a> from the radiation.</p>\\n<p>Most people treated with chemo (with or without radiation) for limited stage SCLC will have their tumors shrink significantly. In many, the cancer will shrink to the point where it can no longer be seen on imaging tests. Unfortunately, for most people, the cancer will return at some point.</p>\\n<p>Because these cancers are hard to cure, <a href=\"/treatment/treatments-and-side-effects/clinical-trials.html\">clinical trials</a> of newer treatments may be a good option for some people. If you think you might want to take part in a clinical trial, talk to your doctor.</p>\\n<h2>Treating extensive stage SCLC</h2>\\n<p>Extensive stage SCLC has spread too far for surgery or radiation therapy to be useful as the initial treatment. If you have extensive SCLC and are in fairly good health, <a href=\"/cancer/small-cell-lung-cancer/treating/chemotherapy.html\">chemotherapy</a> (chemo) can often shrink the cancer, treat your symptoms, and help you live longer.</p>\\n<p>The most common chemo combination is etoposide plus either cisplatin or carboplatin. Most people will have their cancer shrink significantly with chemo, and in some the cancer may no longer be seen on imaging tests. Unfortunately, the cancer will still return at some point in almost all people with extensive stage SCLC.</p>\\n<p>If the cancer responds well to chemo, <a href=\"/cancer/small-cell-lung-cancer/treating/radiation-therapy.html\">radiation treatments</a> to the chest may be given. This can help people with extensive stage SCLC live longer. Radiation to the brain (known as <em>prophylactic cranial irradiation</em>, or PCI) may also be considered to help prevent cancer progression in the brain.</p>\\n<p>Because these cancers are hard to treat, <a href=\"/treatment/treatments-and-side-effects/clinical-trials.html\">clinical trials</a> of chemotherapy drugs and combinations, as well as other new treatments, may be a good option for some people. If you think you might be interested in taking part in a clinical trial, talk to your doctor.</p>\\n<p>If cancer growth within the lungs is causing symptoms such as shortness of breath or bleeding, radiation therapy or other types of treatment, such as laser surgery, can sometimes be helpful radiation therapy can also be used to relieve symptoms if the cancer has spread to the bones or brain.</p>\\n<p>If your overall health is poor, you might not be able to withstand the side effects of standard doses of chemo. If this is the case, your doctor may treat you with lower doses of chemo or <a href=\"/treatment/treatments-and-side-effects/palliative-care.html\">palliative/supportive care</a> alone. This would include treatment of any <a href=\"/treatment/treatments-and-side-effects/physical-side-effects/pain.html\">pain</a>, breathing problems, or other symptoms you might have.</p>\\n<h2>Cancer that progresses or recurs after treatment</h2>\\n<p>If the cancer continues to grow during treatment or comes back, any further treatment will depend on the location and extent of the cancer, what treatments you\\xe2\\x80\\x99ve had, and on your health and desire for further treatment. It\\xe2\\x80\\x99s always important to understand the goal of any further treatment before it starts \\xe2\\x80\\x93 if it\\xe2\\x80\\x99s to try to cure the cancer, to slow its growth, or to help relieve symptoms \\xe2\\x80\\x93 as well as the likelihood of benefits and risks.</p>\\n<p>If a cancer continues to grow during chemotherapy, another type of chemo may be tried, although it may be less likely to be effective. For cancers that come back after initial treatment is finished, the choice of chemo drugs depends on how long the cancer was in remission (see <a href=\"/cancer/small-cell-lung-cancer/treating/chemotherapy.html\">Chemotherapy for Small Cell Lung Cancer</a>). Another option for people whose cancer continues to grow after two or more systemic treatments (including carboplatin or cisplatin) is the <a href=\"/cancer/small-cell-lung-cancer/treating/immunotherapy.html\">immunotherapy </a>drug, nivolumab.\\n     \\xc2\\xa0</p>\\n<p>For more on dealing with a recurrence, see <a href=\"/treatment/survivorship-during-and-after-treatment/understanding-recurrence/coping-with-cancer-recurrence.html\"><em>Coping With Cancer </em></a>.</p>\\n<div>\\n<em>The treatment information in this document is not official policy of the American Cancer Society and is not intended as medical advice to replace the expertise and judgment of your cancer care team. It is intended to help you and your family make informed decisions, together with your doctor. Your doctor may have reasons for suggesting a treatment plan different from these general treatment options. Don\\'t hesitate to ask him or her questions about your treatment options.</em>\\n</div>\\n</div>\\n</div>\\n<div class=\"footnote-tabs parbase section\"><div class=\"footnote-tabs component \">\\n<ul class=\"nav nav-tabs \">\\n<li class=\"active\">\\n<a href=\"#written_by\">Written by</a>\\n</li>\\n<li>\\n<a href=\"#references\">References</a>\\n</li>\\n</ul>\\n<div class=\"tab-content\">\\n<div class=\"tab-pane active\" id=\"written_by\">\\n<div><div class=\"reference parbase section\"><div class=\"cq-dd-paragraph\"><div class=\"footnote_author_copy footnote parbase\"><div>\\n<div class=\"footnote component\">\\n<div class=\"logo-block\">\\n<div class=\"logo\">\\n<div class=\"logo-img\"><div>\\n<img alt=\"\" class=\"cq-dd-image\" data-emptytext=\"Image\" src=\"/cancer-control-reference-components/footnote-elements/_jcr_content/par/footnote_tabs/written_by/footnote_author_copy/image.img.png/1484857626458.png\"/>\\n</div></div>\\n</div>\\n<div class=\"logo-info rich-content\"><p><a href=\"/cancer/acs-medical-content-and-news-staff.html\">The American Cancer Society medical and editorial content team<br/>\\n</a>Our team is made up of doctors and master\\'s-prepared nurses with deep knowledge of cancer care as well as journalists, editors, and translators with extensive experience in medical writing.</p>\\n</div>\\n</div>\\n</div>\\n</div></div>\\n</div>\\n</div>\\n</div>\\n</div>\\n<div class=\"tab-pane \" id=\"references\">\\n<div><div class=\"reference parbase section\"><div class=\"cq-dd-paragraph\"><div class=\"footnote parbase\"><div>\\n<div class=\"footnote component\">\\n<div class=\"logo-block\">\\n<div class=\"logo-info rich-content\"><p><a href=\"/cancer/small-cell-lung-cancer/references.html\">See all references for Small Cell Lung Cancer</a></p>\\n</div>\\n</div>\\n</div>\\n</div></div>\\n</div>\\n</div>\\n</div>\\n</div>\\n</div>\\n<div class=\"content-review\">\\n<p><span class=\"review detail\">Last Medical Review: February 22, 2016</span> <span class=\"revised detail\">Last Revised: August 20, 2018</span><br/>\\n</p>\\n</div>\\n</div></div>\\n<div class=\"reference parbase section\"><div class=\"cq-dd-paragraph\"><div class=\"text_copy text parbase\">\\n<p>American Cancer Society medical information is copyrighted\\xc2\\xa0material. For reprint requests, please see our <a href=\"/about-us/policies/content-usage.html\">Content Usage Policy</a>.</p>\\n</div>\\n</div>\\n</div>\\n</div>\\n</div>\\n</section></div>']"
      ]
     },
     "execution_count": 131,
     "metadata": {},
     "output_type": "execute_result"
    }
   ],
   "source": [
    "re.findall(\"(?s)(?<=Other limited stage cancers).*?(.*)\",str(h3))"
   ]
  },
  {
   "cell_type": "code",
   "execution_count": 21,
   "metadata": {},
   "outputs": [
    {
     "name": "stdout",
     "output_type": "stream",
     "text": [
      "[<h3>\\n<a href=\"/cancer/small-cell-lung-cancer/treating.html\">Treating Small Cell Lung Cancer</a>\\n</h3>, <h3>Stage I cancers</h3>, <h3>Other limited stage cancers</h3>, <h3>\\n<a href=\"/cancer/small-cell-lung-cancer/treating.html\">Treating Small Cell Lung Cancer</a>\\n</h3>, <h3 class=\"contact-number\"><a href=\"tel:800.227.2345\">800.227.2345</a></h3>]\n"
     ]
    }
   ],
   "source": [
    "selector = \"h3\"\n",
    "\n",
    "# find elements that contain the data we want\n",
    "found = soup.select(selector)\n",
    "print(found)"
   ]
  },
  {
   "cell_type": "code",
   "execution_count": 26,
   "metadata": {
    "ExecuteTime": {
     "end_time": "2018-11-07T14:48:23.005614Z",
     "start_time": "2018-11-07T14:48:22.994604Z"
    },
    "scrolled": false
   },
   "outputs": [
    {
     "name": "stdout",
     "output_type": "stream",
     "text": [
      "[<p>If you only have one small tumor in your lung and there is no evidence of cancer in lymph nodes or elsewhere, your doctors may recommend <a href=\"/cancer/small-cell-lung-cancer/treating/surgery.html\">surgery</a> to remove the tumor and the nearby lymph nodes.</p>, <p>Very few patients with SCLC are treated this way. This is only an option if you are in fairly good health and can withstand having all or part of a lung removed.</p>, <p>Before the operation, the lymph nodes in your chest will be checked for cancer spread with <a href=\"/cancer/small-cell-lung-cancer/detection-diagnosis-staging/how-diagnosed.html\">mediastinoscopy or other tests</a>, because surgery is unlikely to be a good option if the cancer has spread.</p>, <p>Surgery is generally followed by <a href=\"/cancer/small-cell-lung-cancer/treating/chemotherapy.html\">chemotherapy</a>. If cancer is found in the lymph nodes that were removed, radiation therapy to the chest is usually advised as well. The radiation is often given at the same time as the chemo. Although this increases the side effects of treatment, it appears to be more effective than giving one treatment after the other. You might not be given radiation therapy if you already have severe lung disease (in addition to your cancer) or other serious health problems.</p>, <p>In about half of people with SCLC, the cancer will eventually spread to the brain if no preventive measures are taken. For this reason, you may be given <a href=\"/treatment/treatments-and-side-effects/treatment-types/radiation.html\">radiation therapy</a> to the head (called <em>prophylactic cranial irradiation</em>, or PCI) to try to prevent this. The radiation is usually given in low doses. Still, some patients may have side effects from the radiation.</p>, <p>For most people with limited stage SCLC, surgery is not an option because the tumor is too large, it\\u2019s in a place that can\\u2019t be removed easily, or it has spread to nearby lymph nodes or other places in the\\n     lung. If you are in good health, the standard treatment is <a href=\"/cancer/small-cell-lung-cancer/treating/chemotherapy.html\">chemo</a> plus <a href=\"/cancer/small-cell-lung-cancer/treating/radiation-therapy.html\">radiation</a> to the chest given at the same time (called <em>concurrent chemoradiation</em>). The chemo drugs used are usually etoposide plus either cisplatin or carboplatin.</p>, <p>Concurrent chemoradiation can help people with limited stage SCLC live longer and give them a better chance at cure than giving one treatment (or one treatment at a time). The downside is that this combination has more side effects than either chemo or radiation alone, and it can be hard to take.</p>, <p>People who aren\\u2019t healthy enough for chemoradiation are usually treated with chemo by itself. This may be followed by radiation to the chest.</p>, <p>If no measures are taken to prevent it, about half of people with SCLC will have cancer spread to their brain. If your cancer has responded well to initial treatment, you may be given radiation therapy to the head (called <em>prophylactic cranial irradiation</em>, or PCI) to try to prevent this. The radiation is usually given in lower doses than what is used if the cancer had already spread to brain, but some patients may still have <a href=\"/cancer/small-cell-lung-cancer/treating/radiation-therapy.html\">side effects</a> from the radiation.</p>, <p>Most people treated with chemo (with or without radiation) for limited stage SCLC will have their tumors shrink significantly. In many, the cancer will shrink to the point where it can no longer be seen on imaging tests. Unfortunately, for most people, the cancer will return at some point.</p>, <p>Because these cancers are hard to cure, <a href=\"/treatment/treatments-and-side-effects/clinical-trials.html\">clinical trials</a> of newer treatments may be a good option for some people. If you think you might want to take part in a clinical trial, talk to your doctor.</p>, <p>Extensive stage SCLC has spread too far for surgery or radiation therapy to be useful as the initial treatment. If you have extensive SCLC and are in fairly good health, <a href=\"/cancer/small-cell-lung-cancer/treating/chemotherapy.html\">chemotherapy</a> (chemo) can often shrink the cancer, treat your symptoms, and help you live longer.</p>, <p>The most common chemo combination is etoposide plus either cisplatin or carboplatin. Most people will have their cancer shrink significantly with chemo, and in some the cancer may no longer be seen on imaging tests. Unfortunately, the cancer will still return at some point in almost all people with extensive stage SCLC.</p>, <p>If the cancer responds well to chemo, <a href=\"/cancer/small-cell-lung-cancer/treating/radiation-therapy.html\">radiation treatments</a> to the chest may be given. This can help people with extensive stage SCLC live longer. Radiation to the brain (known as <em>prophylactic cranial irradiation</em>, or PCI) may also be considered to help prevent cancer progression in the brain.</p>, <p>Because these cancers are hard to treat, <a href=\"/treatment/treatments-and-side-effects/clinical-trials.html\">clinical trials</a> of chemotherapy drugs and combinations, as well as other new treatments, may be a good option for some people. If you think you might be interested in taking part in a clinical trial, talk to your doctor.</p>, <p>If cancer growth within the lungs is causing symptoms such as shortness of breath or bleeding, radiation therapy or other types of treatment, such as laser surgery, can sometimes be helpful radiation therapy can also be used to relieve symptoms if the cancer has spread to the bones or brain.</p>, <p>If your overall health is poor, you might not be able to withstand the side effects of standard doses of chemo. If this is the case, your doctor may treat you with lower doses of chemo or <a href=\"/treatment/treatments-and-side-effects/palliative-care.html\">palliative/supportive care</a> alone. This would include treatment of any <a href=\"/treatment/treatments-and-side-effects/physical-side-effects/pain.html\">pain</a>, breathing problems, or other symptoms you might have.</p>, <p>If the cancer continues to grow during treatment or comes back, any further treatment will depend on the location and extent of the cancer, what treatments you\\u2019ve had, and on your health and desire for further treatment. It\\u2019s always important to understand the goal of any further treatment before it starts \\u2013 if it\\u2019s to try to cure the cancer, to slow its growth, or to help relieve symptoms \\u2013 as well as the likelihood of benefits and risks.</p>, <p>If a cancer continues to grow during chemotherapy, another type of chemo may be tried, although it may be less likely to be effective. For cancers that come back after initial treatment is finished, the choice of chemo drugs depends on how long the cancer was in remission (see <a href=\"/cancer/small-cell-lung-cancer/treating/chemotherapy.html\">Chemotherapy for Small Cell Lung Cancer</a>). Another option for people whose cancer continues to grow after two or more systemic treatments (including carboplatin or cisplatin) is the <a href=\"/cancer/small-cell-lung-cancer/treating/immunotherapy.html\">immunotherapy </a>drug, nivolumab.\\n     \\xa0</p>, <p>For more on dealing with a recurrence, see <a href=\"/treatment/survivorship-during-and-after-treatment/understanding-recurrence/coping-with-cancer-recurrence.html\"><em>Coping With Cancer </em></a>.</p>]\n"
     ]
    }
   ],
   "source": [
    "selector = ' h3 ~ p '\n",
    "\n",
    "# find elements that contain the data we want\n",
    "found = soup.select(selector)\n",
    "print(found)"
   ]
  },
  {
   "cell_type": "code",
   "execution_count": 121,
   "metadata": {
    "ExecuteTime": {
     "end_time": "2018-11-07T14:47:03.413407Z",
     "start_time": "2018-11-07T14:47:02.987895Z"
    }
   },
   "outputs": [
    {
     "name": "stdout",
     "output_type": "stream",
     "text": [
      "There are 2 treatments:\n",
      "\t - Stage I cancers\n",
      "\t - Other limited stage cancers\n"
     ]
    },
    {
     "data": {
      "text/plain": [
       "['</h3>\\n<p>If you only have one small tumor in your lung and there is no evidence of cancer in lymph nodes or elsewhere, your doctors may recommend <a href=\"/cancer/small-cell-lung-cancer/treating/surgery.html\">surgery</a> to remove the tumor and the nearby lymph nodes.</p>\\n<p>Very few patients with SCLC are treated this way. This is only an option if you are in fairly good health and can withstand having all or part of a lung removed.</p>\\n<p>Before the operation, the lymph nodes in your chest will be checked for cancer spread with <a href=\"/cancer/small-cell-lung-cancer/detection-diagnosis-staging/how-diagnosed.html\">mediastinoscopy or other tests</a>, because surgery is unlikely to be a good option if the cancer has spread.</p>\\n<p>Surgery is generally followed by <a href=\"/cancer/small-cell-lung-cancer/treating/chemotherapy.html\">chemotherapy</a>. If cancer is found in the lymph nodes that were removed, radiation therapy to the chest is usually advised as well. The radiation is often given at the same time as the chemo. Although this increases the side effects of treatment, it appears to be more effective than giving one treatment after the other. You might not be given radiation therapy if you already have severe lung disease (in addition to your cancer) or other serious health problems.</p>\\n<p>In about half of people with SCLC, the cancer will eventually spread to the brain if no preventive measures are taken. For this reason, you may be given <a href=\"/treatment/treatments-and-side-effects/treatment-types/radiation.html\">radiation therapy</a> to the head (called <em>prophylactic cranial irradiation</em>, or PCI) to try to prevent this. The radiation is usually given in low doses. Still, some patients may have side effects from the radiation.</p>\\n<h3>']"
      ]
     },
     "execution_count": 121,
     "metadata": {},
     "output_type": "execute_result"
    }
   ],
   "source": [
    "website_url = requests.get(\"https://www.cancer.org/cancer/small-cell-lung-cancer/treating/by-stage.html\").text\n",
    "soup = BeautifulSoup(website_url,'lxml')\n",
    "h3 = (soup.find('div',{'class':'col-md-10 col-sm-10 col-xs-10 col-print-12'}))\n",
    "title= re.findall(\"(?i)<h3[^>]*>(.*)</h3>\",str(h3))\n",
    "print(\"There are {0} treatments:\".format(len(title)))\n",
    "for til in range(0,len(title),1):\n",
    "    print(\"\\t - \"+title[til])\n",
    "re.findall(\"(?s)(?<=\"+title[0]+\").*?(?=\"+title[1]+\")\",str(h3))"
   ]
  },
  {
   "cell_type": "code",
   "execution_count": 3,
   "metadata": {
    "ExecuteTime": {
     "end_time": "2018-11-07T14:31:12.114605Z",
     "start_time": "2018-11-07T14:31:11.206768Z"
    }
   },
   "outputs": [
    {
     "name": "stdout",
     "output_type": "stream",
     "text": [
      "There are 6 treatments:\n",
      "\t - Surgery\n",
      "\t - Radiofrequency Ablation\n",
      "\t - Radiation\n",
      "\t - Chemotherapy\n",
      "\t - Other Treatments\n",
      "\t - Home Care After Treatment\n"
     ]
    }
   ],
   "source": [
    "website_url = requests.get(\"https://www.webmd.com/lung-cancer/lung-cancer-treatment#1\").text\n",
    "soup = BeautifulSoup(website_url,'lxml')\n",
    "h2 = (soup.find('div',{'class':'article-body'}))\n",
    "title= re.findall(\"(?i)<h2[^>]*>(.*)</h2>\",str(h2))\n",
    "print(\"There are {0} treatments:\".format(len(title)))\n",
    "for til in range(0,len(title),1):\n",
    "    print(\"\\t - \"+title[til])"
   ]
  },
  {
   "cell_type": "code",
   "execution_count": null,
   "metadata": {},
   "outputs": [],
   "source": []
  },
  {
   "cell_type": "code",
   "execution_count": null,
   "metadata": {},
   "outputs": [],
   "source": []
  },
  {
   "cell_type": "markdown",
   "metadata": {},
   "source": [
    "# Nếu kết quả khối u là giai đoạn 1"
   ]
  },
  {
   "cell_type": "code",
   "execution_count": 2,
   "metadata": {
    "ExecuteTime": {
     "end_time": "2018-11-07T13:57:24.621703Z",
     "start_time": "2018-11-07T13:57:23.608049Z"
    }
   },
   "outputs": [
    {
     "data": {
      "text/plain": [
       "'If you only have one small tumor in your lung and there is no evidence of cancer in lymph nodes or elsewhere, your doctors may recommend surgery to remove the tumor and the nearby lymph nodes.Very few patients with SCLC are treated this way. This is only an option if you are in fairly good health and can withstand having all or part of a lung removed.Before the operation, the lymph nodes in your chest will be checked for cancer spread with mediastinoscopy or other tests, because surgery is unlikely to be a good option if the cancer has spread.Surgery is generally followed by chemotherapy. If cancer is found in the lymph nodes that were removed, radiation therapy to the chest is usually advised as well. The radiation is often given at the same time as the chemo. Although this increases the side effects of treatment, it appears to be more effective than giving one treatment after the other. You might not be given radiation therapy if you already have severe lung disease in addition to your cancer or other serious health problems.In about half of people with SCLC, the cancer will eventually spread to the brain if no preventive measures are taken. For this reason, you may be given radiation therapy to the head called prophylactic cranial irradiation, or PCI to try to prevent this. The radiation is usually given in low doses. Still, some patients may have side effects from the radiation.'"
      ]
     },
     "execution_count": 2,
     "metadata": {},
     "output_type": "execute_result"
    }
   ],
   "source": [
    "website_url = requests.get(\"https://www.cancer.org/cancer/small-cell-lung-cancer/treating/by-stage.html\").text\n",
    "soup = BeautifulSoup(website_url,'lxml')\n",
    "all_texts = (soup.find('div',{'class':'col-md-9 col-sm-12'}))\n",
    "state_1 = \"\".join(list(map(lambda a:all_texts.find_all('p')[a].text,[3,4,5,6,7]))).replace(\"\\n\",\"\")\n",
    "re.sub(r'[?|$|!|)|#|@|!|$|%|^|&|*|_|;|\\|<|>|~|`|{|]|[|}|/|\"|=|:|(|-]|   +',r'',state_1)"
   ]
  },
  {
   "cell_type": "markdown",
   "metadata": {},
   "source": [
    "# Nếu kết quả khối u là giai đoạn 2"
   ]
  },
  {
   "cell_type": "code",
   "execution_count": 3,
   "metadata": {
    "ExecuteTime": {
     "end_time": "2018-11-07T13:57:24.901082Z",
     "start_time": "2018-11-07T13:57:24.705875Z"
    }
   },
   "outputs": [
    {
     "data": {
      "text/plain": [
       "'For most people with limited stage SCLC, surgery is not an option because the tumor is too large, it’s in a place that can’t be removed easily, or it has spread to nearby lymph nodes or other places in thelung. If you are in good health, the standard treatment is chemo plus radiation to the chest given at the same time called concurrent chemoradiation. The chemo drugs used are usually etoposide plus either cisplatin or carboplatin.Concurrent chemoradiation can help people with limited stage SCLC live longer and give them a better chance at cure than giving one treatment or one treatment at a time. The downside is that this combination has more side effects than either chemo or radiation alone, and it can be hard to take.People who aren’t healthy enough for chemoradiation are usually treated with chemo by itself. This may be followed by radiation to the chest.If no measures are taken to prevent it, about half of people with SCLC will have cancer spread to their brain. If your cancer has responded well to initial treatment, you may be given radiation therapy to the head called prophylactic cranial irradiation, or PCI to try to prevent this. The radiation is usually given in lower doses than what is used if the cancer had already spread to brain, but some patients may still have side effects from the radiation.Most people treated with chemo with or without radiation for limited stage SCLC will have their tumors shrink significantly. In many, the cancer will shrink to the point where it can no longer be seen on imaging tests. Unfortunately, for most people, the cancer will return at some point.Because these cancers are hard to cure, clinical trials of newer treatments may be a good option for some people. If you think you might want to take part in a clinical trial, talk to your doctor.'"
      ]
     },
     "execution_count": 3,
     "metadata": {},
     "output_type": "execute_result"
    }
   ],
   "source": [
    "website_url = requests.get(\"https://www.cancer.org/cancer/small-cell-lung-cancer/treating/by-stage.html\").text\n",
    "soup = BeautifulSoup(website_url,'lxml')\n",
    "all_texts = (soup.find('div',{'class':'col-md-9 col-sm-12'}))\n",
    "state_2 = \"\".join(list(map(lambda a:all_texts.find_all('p')[a].text,[8,9,10,11,12,13]))).replace(\"\\n\",\"\")\n",
    "re.sub(r'[?|$|!|)|#|@|!|$|%|^|&|*|_|;|\\|<|>|~|`|{|]|[|}|/|\"|=|:|(|-]|   +',r'',state_2)"
   ]
  },
  {
   "cell_type": "code",
   "execution_count": 83,
   "metadata": {
    "ExecuteTime": {
     "end_time": "2018-11-07T14:46:00.461018Z",
     "start_time": "2018-11-07T14:46:00.452012Z"
    }
   },
   "outputs": [
    {
     "name": "stdout",
     "output_type": "stream",
     "text": [
      "[<div><i class=\"fa user\"></i>  NAME</div>, <div><i class=\"fa phone\"></i>  MOBILE</div>, <div><i class=\"fa mobile-phone fa-2\"></i>   NUMBER</div>, <div><i class=\"fa address\"></i>   XYZ_ADDRESS</div>]\n"
     ]
    }
   ],
   "source": [
    "\n",
    "import bs4\n",
    "\n",
    "page= \"\"\"\n",
    "<div class=\"box effect\">\n",
    "<div class=\"row\">\n",
    "<div class=\"col-lg-10\">\n",
    "    <h3>HEADING</h3>\n",
    "    <div><i class=\"fa user\"></i>&nbsp;&nbsp;NAME</div>\n",
    "    <div><i class=\"fa phone\"></i>&nbsp;&nbsp;MOBILE</div>\n",
    "    <div><i class=\"fa mobile-phone fa-2\"></i>&nbsp;&nbsp;&nbsp;NUMBER</div>\n",
    "    <div><i class=\"fa address\"></i>&nbsp;&nbsp;&nbsp;XYZ_ADDRESS</div>\n",
    "</div>\n",
    "</div>\n",
    "</div>\n",
    "\"\"\"\n",
    "\n",
    "soup = bs4.BeautifulSoup(page, 'lxml')\n",
    "\n",
    "# find all div elements that are inside a div element\n",
    "# and are proceeded by an h3 element\n",
    "selector = 'div > h3 ~ div'\n",
    "\n",
    "# find elements that contain the data we want\n",
    "found = soup.select(selector)\n",
    "print(found)\n",
    "# # Extract data from the found elements\n",
    "# data = [x.text.split(';')[-1].strip() for x in found]\n",
    "\n",
    "# for x in data:\n",
    "#     print(x)"
   ]
  },
  {
   "cell_type": "code",
   "execution_count": null,
   "metadata": {},
   "outputs": [],
   "source": []
  }
 ],
 "metadata": {
  "hide_input": false,
  "kernelspec": {
   "display_name": "Python 2",
   "language": "python",
   "name": "python2"
  },
  "language_info": {
   "codemirror_mode": {
    "name": "ipython",
    "version": 2
   },
   "file_extension": ".py",
   "mimetype": "text/x-python",
   "name": "python",
   "nbconvert_exporter": "python",
   "pygments_lexer": "ipython2",
   "version": "2.7.15"
  }
 },
 "nbformat": 4,
 "nbformat_minor": 2
}
