{
 "cells": [
  {
   "cell_type": "code",
   "execution_count": 77,
   "metadata": {
    "ExecuteTime": {
     "end_time": "2018-11-05T15:03:22.474788Z",
     "start_time": "2018-11-05T15:03:22.471786Z"
    }
   },
   "outputs": [],
   "source": [
    "from bs4 import BeautifulSoup\n",
    "import requests\n",
    "import re"
   ]
  },
  {
   "cell_type": "markdown",
   "metadata": {},
   "source": [
    "# Nếu kết quả khối u là giai đoạn 1"
   ]
  },
  {
   "cell_type": "code",
   "execution_count": 78,
   "metadata": {
    "ExecuteTime": {
     "end_time": "2018-11-05T15:03:23.010049Z",
     "start_time": "2018-11-05T15:03:22.828115Z"
    }
   },
   "outputs": [
    {
     "data": {
      "text/plain": [
       "'If you only have one small tumor in your lung and there is no evidence of cancer in lymph nodes or elsewhere, your doctors may recommend surgery to remove the tumor and the nearby lymph nodes.Very few patients with SCLC are treated this way. This is only an option if you are in fairly good health and can withstand having all or part of a lung removed.Before the operation, the lymph nodes in your chest will be checked for cancer spread with mediastinoscopy or other tests, because surgery is unlikely to be a good option if the cancer has spread.Surgery is generally followed by chemotherapy. If cancer is found in the lymph nodes that were removed, radiation therapy to the chest is usually advised as well. The radiation is often given at the same time as the chemo. Although this increases the side effects of treatment, it appears to be more effective than giving one treatment after the other. You might not be given radiation therapy if you already have severe lung disease in addition to your cancer or other serious health problems.In about half of people with SCLC, the cancer will eventually spread to the brain if no preventive measures are taken. For this reason, you may be given radiation therapy to the head called prophylactic cranial irradiation, or PCI to try to prevent this. The radiation is usually given in low doses. Still, some patients may have side effects from the radiation.'"
      ]
     },
     "execution_count": 78,
     "metadata": {},
     "output_type": "execute_result"
    }
   ],
   "source": [
    "website_url = requests.get(\"https://www.cancer.org/cancer/small-cell-lung-cancer/treating/by-stage.html\").text\n",
    "soup = BeautifulSoup(website_url,'lxml')\n",
    "all_texts = (soup.find('div',{'class':'col-md-9 col-sm-12'}))\n",
    "state_1 = \"\".join(list(map(lambda a:all_texts.find_all('p')[a].text,[3,4,5,6,7]))).replace(\"\\n\",\"\")\n",
    "re.sub(r'[?|$|!|)|#|@|!|$|%|^|&|*|_|;|\\|<|>|~|`|{|]|[|}|/|\"|=|:|(|-]|   +',r'',state_1)"
   ]
  },
  {
   "cell_type": "markdown",
   "metadata": {},
   "source": [
    "# Nếu kết quả khối u là giai đoạn 2"
   ]
  },
  {
   "cell_type": "code",
   "execution_count": 76,
   "metadata": {
    "ExecuteTime": {
     "end_time": "2018-11-05T15:02:55.738350Z",
     "start_time": "2018-11-05T15:02:55.543801Z"
    }
   },
   "outputs": [
    {
     "data": {
      "text/plain": [
       "'For most people with limited stage SCLC, surgery is not an option because the tumor is too large, it’s in a place that can’t be removed easily, or it has spread to nearby lymph nodes or other places in thelung. If you are in good health, the standard treatment is chemo plus radiation to the chest given at the same time called concurrent chemoradiation. The chemo drugs used are usually etoposide plus either cisplatin or carboplatin.Concurrent chemoradiation can help people with limited stage SCLC live longer and give them a better chance at cure than giving one treatment or one treatment at a time. The downside is that this combination has more side effects than either chemo or radiation alone, and it can be hard to take.People who aren’t healthy enough for chemoradiation are usually treated with chemo by itself. This may be followed by radiation to the chest.If no measures are taken to prevent it, about half of people with SCLC will have cancer spread to their brain. If your cancer has responded well to initial treatment, you may be given radiation therapy to the head called prophylactic cranial irradiation, or PCI to try to prevent this. The radiation is usually given in lower doses than what is used if the cancer had already spread to brain, but some patients may still have side effects from the radiation.Most people treated with chemo with or without radiation for limited stage SCLC will have their tumors shrink significantly. In many, the cancer will shrink to the point where it can no longer be seen on imaging tests. Unfortunately, for most people, the cancer will return at some point.Because these cancers are hard to cure, clinical trials of newer treatments may be a good option for some people. If you think you might want to take part in a clinical trial, talk to your doctor.'"
      ]
     },
     "execution_count": 76,
     "metadata": {},
     "output_type": "execute_result"
    }
   ],
   "source": [
    "website_url = requests.get(\"https://www.cancer.org/cancer/small-cell-lung-cancer/treating/by-stage.html\").text\n",
    "soup = BeautifulSoup(website_url,'lxml')\n",
    "all_texts = (soup.find('div',{'class':'col-md-9 col-sm-12'}))\n",
    "state_2 = \"\".join(list(map(lambda a:all_texts.find_all('p')[a].text,[8,9,10,11,12,13]))).replace(\"\\n\",\"\")\n",
    "re.sub(r'[?|$|!|)|#|@|!|$|%|^|&|*|_|;|\\|<|>|~|`|{|]|[|}|/|\"|=|:|(|-]|   +',r'',state_2)"
   ]
  }
 ],
 "metadata": {
  "hide_input": false,
  "kernelspec": {
   "display_name": "Python 3",
   "language": "python",
   "name": "python3"
  },
  "language_info": {
   "codemirror_mode": {
    "name": "ipython",
    "version": 3
   },
   "file_extension": ".py",
   "mimetype": "text/x-python",
   "name": "python",
   "nbconvert_exporter": "python",
   "pygments_lexer": "ipython3",
   "version": "3.6.5"
  }
 },
 "nbformat": 4,
 "nbformat_minor": 2
}
