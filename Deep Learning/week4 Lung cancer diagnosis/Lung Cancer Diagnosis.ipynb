{
 "cells": [
  {
   "cell_type": "markdown",
   "metadata": {},
   "source": [
    "<br><br><center><h1 style=\"font-size:40px;color:#20B2AA\">Lung Cancer Diagnosis </h1></center>\n",
    "![](https://luna16.grand-challenge.org/serve/public_html/luna16_header.png/)"
   ]
  },
  {
   "cell_type": "code",
   "execution_count": 3,
   "metadata": {},
   "outputs": [],
   "source": [
    "import pydicom \n",
    "import os\n",
    "import numpy\n",
    "from matplotlib import pyplot, cm"
   ]
  },
  {
   "cell_type": "code",
   "execution_count": 12,
   "metadata": {},
   "outputs": [],
   "source": [
    "PathDicom = \"F:\\\\data\\\\Luna Analysis\\\\subset0\"\n",
    "lstFilesDCM = []  # create an empty list\n",
    "for dirName, subdirList, fileList in os.walk(PathDicom):\n",
    "    for filename in fileList:\n",
    "        if \".mhd\" in filename.lower():  # check whether the file's DICOM\n",
    "            lstFilesDCM.append(os.path.join(dirName,filename))"
   ]
  },
  {
   "cell_type": "code",
   "execution_count": 28,
   "metadata": {},
   "outputs": [
    {
     "data": {
      "text/plain": [
       "['F:\\\\data\\\\Luna Analysis\\\\subset0\\\\1.3.6.1.4.1.14519.5.2.1.6279.6001.105756658031515062000744821260.mhd',\n",
       " 'F:\\\\data\\\\Luna Analysis\\\\subset0\\\\1.3.6.1.4.1.14519.5.2.1.6279.6001.108197895896446896160048741492.mhd',\n",
       " 'F:\\\\data\\\\Luna Analysis\\\\subset0\\\\1.3.6.1.4.1.14519.5.2.1.6279.6001.109002525524522225658609808059.mhd',\n",
       " 'F:\\\\data\\\\Luna Analysis\\\\subset0\\\\1.3.6.1.4.1.14519.5.2.1.6279.6001.111172165674661221381920536987.mhd',\n",
       " 'F:\\\\data\\\\Luna Analysis\\\\subset0\\\\1.3.6.1.4.1.14519.5.2.1.6279.6001.122763913896761494371822656720.mhd',\n",
       " 'F:\\\\data\\\\Luna Analysis\\\\subset0\\\\1.3.6.1.4.1.14519.5.2.1.6279.6001.124154461048929153767743874565.mhd',\n",
       " 'F:\\\\data\\\\Luna Analysis\\\\subset0\\\\1.3.6.1.4.1.14519.5.2.1.6279.6001.126121460017257137098781143514.mhd',\n",
       " 'F:\\\\data\\\\Luna Analysis\\\\subset0\\\\1.3.6.1.4.1.14519.5.2.1.6279.6001.126264578931778258890371755354.mhd',\n",
       " 'F:\\\\data\\\\Luna Analysis\\\\subset0\\\\1.3.6.1.4.1.14519.5.2.1.6279.6001.128023902651233986592378348912.mhd',\n",
       " 'F:\\\\data\\\\Luna Analysis\\\\subset0\\\\1.3.6.1.4.1.14519.5.2.1.6279.6001.129055977637338639741695800950.mhd',\n",
       " 'F:\\\\data\\\\Luna Analysis\\\\subset0\\\\1.3.6.1.4.1.14519.5.2.1.6279.6001.130438550890816550994739120843.mhd',\n",
       " 'F:\\\\data\\\\Luna Analysis\\\\subset0\\\\1.3.6.1.4.1.14519.5.2.1.6279.6001.134996872583497382954024478441.mhd',\n",
       " 'F:\\\\data\\\\Luna Analysis\\\\subset0\\\\1.3.6.1.4.1.14519.5.2.1.6279.6001.137763212752154081977261297097.mhd',\n",
       " 'F:\\\\data\\\\Luna Analysis\\\\subset0\\\\1.3.6.1.4.1.14519.5.2.1.6279.6001.138080888843357047811238713686.mhd',\n",
       " 'F:\\\\data\\\\Luna Analysis\\\\subset0\\\\1.3.6.1.4.1.14519.5.2.1.6279.6001.139258777898746693365877042411.mhd',\n",
       " 'F:\\\\data\\\\Luna Analysis\\\\subset0\\\\1.3.6.1.4.1.14519.5.2.1.6279.6001.139713436241461669335487719526.mhd',\n",
       " 'F:\\\\data\\\\Luna Analysis\\\\subset0\\\\1.3.6.1.4.1.14519.5.2.1.6279.6001.141069661700670042960678408762.mhd',\n",
       " 'F:\\\\data\\\\Luna Analysis\\\\subset0\\\\1.3.6.1.4.1.14519.5.2.1.6279.6001.144438612068946916340281098509.mhd',\n",
       " 'F:\\\\data\\\\Luna Analysis\\\\subset0\\\\1.3.6.1.4.1.14519.5.2.1.6279.6001.146429221666426688999739595820.mhd',\n",
       " 'F:\\\\data\\\\Luna Analysis\\\\subset0\\\\1.3.6.1.4.1.14519.5.2.1.6279.6001.154677396354641150280013275227.mhd',\n",
       " 'F:\\\\data\\\\Luna Analysis\\\\subset0\\\\1.3.6.1.4.1.14519.5.2.1.6279.6001.187451715205085403623595258748.mhd',\n",
       " 'F:\\\\data\\\\Luna Analysis\\\\subset0\\\\1.3.6.1.4.1.14519.5.2.1.6279.6001.188209889686363159853715266493.mhd',\n",
       " 'F:\\\\data\\\\Luna Analysis\\\\subset0\\\\1.3.6.1.4.1.14519.5.2.1.6279.6001.188376349804761988217597754952.mhd',\n",
       " 'F:\\\\data\\\\Luna Analysis\\\\subset0\\\\1.3.6.1.4.1.14519.5.2.1.6279.6001.194440094986948071643661798326.mhd',\n",
       " 'F:\\\\data\\\\Luna Analysis\\\\subset0\\\\1.3.6.1.4.1.14519.5.2.1.6279.6001.194465340552956447447896167830.mhd',\n",
       " 'F:\\\\data\\\\Luna Analysis\\\\subset0\\\\1.3.6.1.4.1.14519.5.2.1.6279.6001.202811684116768680758082619196.mhd',\n",
       " 'F:\\\\data\\\\Luna Analysis\\\\subset0\\\\1.3.6.1.4.1.14519.5.2.1.6279.6001.210837812047373739447725050963.mhd',\n",
       " 'F:\\\\data\\\\Luna Analysis\\\\subset0\\\\1.3.6.1.4.1.14519.5.2.1.6279.6001.213140617640021803112060161074.mhd',\n",
       " 'F:\\\\data\\\\Luna Analysis\\\\subset0\\\\1.3.6.1.4.1.14519.5.2.1.6279.6001.216882370221919561230873289517.mhd',\n",
       " 'F:\\\\data\\\\Luna Analysis\\\\subset0\\\\1.3.6.1.4.1.14519.5.2.1.6279.6001.219087313261026510628926082729.mhd',\n",
       " 'F:\\\\data\\\\Luna Analysis\\\\subset0\\\\1.3.6.1.4.1.14519.5.2.1.6279.6001.219909753224298157409438012179.mhd',\n",
       " 'F:\\\\data\\\\Luna Analysis\\\\subset0\\\\1.3.6.1.4.1.14519.5.2.1.6279.6001.227962600322799211676960828223.mhd',\n",
       " 'F:\\\\data\\\\Luna Analysis\\\\subset0\\\\1.3.6.1.4.1.14519.5.2.1.6279.6001.231645134739451754302647733304.mhd',\n",
       " 'F:\\\\data\\\\Luna Analysis\\\\subset0\\\\1.3.6.1.4.1.14519.5.2.1.6279.6001.238522526736091851696274044574.mhd',\n",
       " 'F:\\\\data\\\\Luna Analysis\\\\subset0\\\\1.3.6.1.4.1.14519.5.2.1.6279.6001.241570579760883349458693655367.mhd',\n",
       " 'F:\\\\data\\\\Luna Analysis\\\\subset0\\\\1.3.6.1.4.1.14519.5.2.1.6279.6001.249530219848512542668813996730.mhd',\n",
       " 'F:\\\\data\\\\Luna Analysis\\\\subset0\\\\1.3.6.1.4.1.14519.5.2.1.6279.6001.250438451287314206124484591986.mhd',\n",
       " 'F:\\\\data\\\\Luna Analysis\\\\subset0\\\\1.3.6.1.4.1.14519.5.2.1.6279.6001.250863365157630276148828903732.mhd',\n",
       " 'F:\\\\data\\\\Luna Analysis\\\\subset0\\\\1.3.6.1.4.1.14519.5.2.1.6279.6001.269689294231892620436462818860.mhd',\n",
       " 'F:\\\\data\\\\Luna Analysis\\\\subset0\\\\1.3.6.1.4.1.14519.5.2.1.6279.6001.272042302501586336192628818865.mhd',\n",
       " 'F:\\\\data\\\\Luna Analysis\\\\subset0\\\\1.3.6.1.4.1.14519.5.2.1.6279.6001.277445975068759205899107114231.mhd',\n",
       " 'F:\\\\data\\\\Luna Analysis\\\\subset0\\\\1.3.6.1.4.1.14519.5.2.1.6279.6001.278660284797073139172446973682.mhd',\n",
       " 'F:\\\\data\\\\Luna Analysis\\\\subset0\\\\1.3.6.1.4.1.14519.5.2.1.6279.6001.280972147860943609388015648430.mhd',\n",
       " 'F:\\\\data\\\\Luna Analysis\\\\subset0\\\\1.3.6.1.4.1.14519.5.2.1.6279.6001.281489753704424911132261151767.mhd',\n",
       " 'F:\\\\data\\\\Luna Analysis\\\\subset0\\\\1.3.6.1.4.1.14519.5.2.1.6279.6001.293757615532132808762625441831.mhd',\n",
       " 'F:\\\\data\\\\Luna Analysis\\\\subset0\\\\1.3.6.1.4.1.14519.5.2.1.6279.6001.294188507421106424248264912111.mhd',\n",
       " 'F:\\\\data\\\\Luna Analysis\\\\subset0\\\\1.3.6.1.4.1.14519.5.2.1.6279.6001.295298571102631191572192562523.mhd',\n",
       " 'F:\\\\data\\\\Luna Analysis\\\\subset0\\\\1.3.6.1.4.1.14519.5.2.1.6279.6001.295420274214095686326263147663.mhd',\n",
       " 'F:\\\\data\\\\Luna Analysis\\\\subset0\\\\1.3.6.1.4.1.14519.5.2.1.6279.6001.302134342469412607966016057827.mhd',\n",
       " 'F:\\\\data\\\\Luna Analysis\\\\subset0\\\\1.3.6.1.4.1.14519.5.2.1.6279.6001.303421828981831854739626597495.mhd',\n",
       " 'F:\\\\data\\\\Luna Analysis\\\\subset0\\\\1.3.6.1.4.1.14519.5.2.1.6279.6001.305858704835252413616501469037.mhd',\n",
       " 'F:\\\\data\\\\Luna Analysis\\\\subset0\\\\1.3.6.1.4.1.14519.5.2.1.6279.6001.310548927038333190233889983845.mhd',\n",
       " 'F:\\\\data\\\\Luna Analysis\\\\subset0\\\\1.3.6.1.4.1.14519.5.2.1.6279.6001.310626494937915759224334597176.mhd',\n",
       " 'F:\\\\data\\\\Luna Analysis\\\\subset0\\\\1.3.6.1.4.1.14519.5.2.1.6279.6001.311981398931043315779172047718.mhd',\n",
       " 'F:\\\\data\\\\Luna Analysis\\\\subset0\\\\1.3.6.1.4.1.14519.5.2.1.6279.6001.313334055029671473836954456733.mhd',\n",
       " 'F:\\\\data\\\\Luna Analysis\\\\subset0\\\\1.3.6.1.4.1.14519.5.2.1.6279.6001.313605260055394498989743099991.mhd',\n",
       " 'F:\\\\data\\\\Luna Analysis\\\\subset0\\\\1.3.6.1.4.1.14519.5.2.1.6279.6001.313835996725364342034830119490.mhd',\n",
       " 'F:\\\\data\\\\Luna Analysis\\\\subset0\\\\1.3.6.1.4.1.14519.5.2.1.6279.6001.317087518531899043292346860596.mhd',\n",
       " 'F:\\\\data\\\\Luna Analysis\\\\subset0\\\\1.3.6.1.4.1.14519.5.2.1.6279.6001.323302986710576400812869264321.mhd',\n",
       " 'F:\\\\data\\\\Luna Analysis\\\\subset0\\\\1.3.6.1.4.1.14519.5.2.1.6279.6001.323859712968543712594665815359.mhd',\n",
       " 'F:\\\\data\\\\Luna Analysis\\\\subset0\\\\1.3.6.1.4.1.14519.5.2.1.6279.6001.332453873575389860371315979768.mhd',\n",
       " 'F:\\\\data\\\\Luna Analysis\\\\subset0\\\\1.3.6.1.4.1.14519.5.2.1.6279.6001.333145094436144085379032922488.mhd',\n",
       " 'F:\\\\data\\\\Luna Analysis\\\\subset0\\\\1.3.6.1.4.1.14519.5.2.1.6279.6001.334517907433161353885866806005.mhd',\n",
       " 'F:\\\\data\\\\Luna Analysis\\\\subset0\\\\1.3.6.1.4.1.14519.5.2.1.6279.6001.395623571499047043765181005112.mhd',\n",
       " 'F:\\\\data\\\\Luna Analysis\\\\subset0\\\\1.3.6.1.4.1.14519.5.2.1.6279.6001.397062004302272014259317520874.mhd',\n",
       " 'F:\\\\data\\\\Luna Analysis\\\\subset0\\\\1.3.6.1.4.1.14519.5.2.1.6279.6001.404364125369979066736354549484.mhd',\n",
       " 'F:\\\\data\\\\Luna Analysis\\\\subset0\\\\1.3.6.1.4.1.14519.5.2.1.6279.6001.417815314896088956784723476543.mhd',\n",
       " 'F:\\\\data\\\\Luna Analysis\\\\subset0\\\\1.3.6.1.4.1.14519.5.2.1.6279.6001.430109407146633213496148200410.mhd',\n",
       " 'F:\\\\data\\\\Luna Analysis\\\\subset0\\\\1.3.6.1.4.1.14519.5.2.1.6279.6001.450501966058662668272378865145.mhd',\n",
       " 'F:\\\\data\\\\Luna Analysis\\\\subset0\\\\1.3.6.1.4.1.14519.5.2.1.6279.6001.511347030803753100045216493273.mhd',\n",
       " 'F:\\\\data\\\\Luna Analysis\\\\subset0\\\\1.3.6.1.4.1.14519.5.2.1.6279.6001.525937963993475482158828421281.mhd',\n",
       " 'F:\\\\data\\\\Luna Analysis\\\\subset0\\\\1.3.6.1.4.1.14519.5.2.1.6279.6001.534006575256943390479252771547.mhd',\n",
       " 'F:\\\\data\\\\Luna Analysis\\\\subset0\\\\1.3.6.1.4.1.14519.5.2.1.6279.6001.534083630500464995109143618896.mhd',\n",
       " 'F:\\\\data\\\\Luna Analysis\\\\subset0\\\\1.3.6.1.4.1.14519.5.2.1.6279.6001.564534197011295112247542153557.mhd',\n",
       " 'F:\\\\data\\\\Luna Analysis\\\\subset0\\\\1.3.6.1.4.1.14519.5.2.1.6279.6001.566816709786169715745131047975.mhd',\n",
       " 'F:\\\\data\\\\Luna Analysis\\\\subset0\\\\1.3.6.1.4.1.14519.5.2.1.6279.6001.621916089407825046337959219998.mhd',\n",
       " 'F:\\\\data\\\\Luna Analysis\\\\subset0\\\\1.3.6.1.4.1.14519.5.2.1.6279.6001.640729228179368154416184318668.mhd',\n",
       " 'F:\\\\data\\\\Luna Analysis\\\\subset0\\\\1.3.6.1.4.1.14519.5.2.1.6279.6001.657775098760536289051744981056.mhd',\n",
       " 'F:\\\\data\\\\Luna Analysis\\\\subset0\\\\1.3.6.1.4.1.14519.5.2.1.6279.6001.716498695101447665580610403574.mhd',\n",
       " 'F:\\\\data\\\\Luna Analysis\\\\subset0\\\\1.3.6.1.4.1.14519.5.2.1.6279.6001.724251104254976962355686318345.mhd',\n",
       " 'F:\\\\data\\\\Luna Analysis\\\\subset0\\\\1.3.6.1.4.1.14519.5.2.1.6279.6001.752756872840730509471096155114.mhd',\n",
       " 'F:\\\\data\\\\Luna Analysis\\\\subset0\\\\1.3.6.1.4.1.14519.5.2.1.6279.6001.805925269324902055566754756843.mhd',\n",
       " 'F:\\\\data\\\\Luna Analysis\\\\subset0\\\\1.3.6.1.4.1.14519.5.2.1.6279.6001.826812708000318290301835871780.mhd',\n",
       " 'F:\\\\data\\\\Luna Analysis\\\\subset0\\\\1.3.6.1.4.1.14519.5.2.1.6279.6001.832260670372728970918746541371.mhd',\n",
       " 'F:\\\\data\\\\Luna Analysis\\\\subset0\\\\1.3.6.1.4.1.14519.5.2.1.6279.6001.868211851413924881662621747734.mhd',\n",
       " 'F:\\\\data\\\\Luna Analysis\\\\subset0\\\\1.3.6.1.4.1.14519.5.2.1.6279.6001.898642529028521482602829374444.mhd',\n",
       " 'F:\\\\data\\\\Luna Analysis\\\\subset0\\\\1.3.6.1.4.1.14519.5.2.1.6279.6001.905371958588660410240398317235.mhd',\n",
       " 'F:\\\\data\\\\Luna Analysis\\\\subset0\\\\1.3.6.1.4.1.14519.5.2.1.6279.6001.975254950136384517744116790879.mhd',\n",
       " 'F:\\\\data\\\\Luna Analysis\\\\subset0\\\\1.3.6.1.4.1.14519.5.2.1.6279.6001.979083010707182900091062408058.mhd']"
      ]
     },
     "execution_count": 28,
     "metadata": {},
     "output_type": "execute_result"
    }
   ],
   "source": [
    "lstFilesDCM"
   ]
  },
  {
   "cell_type": "code",
   "execution_count": 27,
   "metadata": {},
   "outputs": [
    {
     "data": {
      "text/plain": [
       "(624f, 656a) Private tag data                    UN: b'pe = Image\\nNDims = 3\\nBinaryData = True\\nBinaryDataByteOrderMSB = False\\nCompressedData = False\\nTransformMatrix = 1 0 0 0 1 0 0 0 1\\nOffset = -198.10000600000001 -195 -335.209991\\nCenterOfRotation = 0 0 0\\nAnatomicalOrientation = RAI\\nElementSpacing = 0.7617189884185791 0.7617189884185791 2.5\\nDimSize = 512 512 121\\nElementType = MET_SHORT\\nElementDataFile = 1.3.6.1.4.1.14519.5.2.1.6279.6001.105756658031515062000744821260.raw\\n'"
      ]
     },
     "execution_count": 27,
     "metadata": {},
     "output_type": "execute_result"
    }
   ],
   "source": [
    "pydicom.read_file(lstFilesDCM[0],force=True)"
   ]
  },
  {
   "cell_type": "code",
   "execution_count": 26,
   "metadata": {},
   "outputs": [
    {
     "ename": "ModuleNotFoundError",
     "evalue": "No module named '_SimpleITK'",
     "output_type": "error",
     "traceback": [
      "\u001b[1;31m---------------------------------------------------------------------------\u001b[0m",
      "\u001b[1;31mImportError\u001b[0m                               Traceback (most recent call last)",
      "\u001b[1;32m~\\Anaconda3\\lib\\site-packages\\SimpleITK\\SimpleITK.py\u001b[0m in \u001b[0;36mswig_import_helper\u001b[1;34m()\u001b[0m\n\u001b[0;32m     13\u001b[0m         \u001b[1;32mtry\u001b[0m\u001b[1;33m:\u001b[0m\u001b[1;33m\u001b[0m\u001b[0m\n\u001b[1;32m---> 14\u001b[1;33m             \u001b[1;32mreturn\u001b[0m \u001b[0mimportlib\u001b[0m\u001b[1;33m.\u001b[0m\u001b[0mimport_module\u001b[0m\u001b[1;33m(\u001b[0m\u001b[0mmname\u001b[0m\u001b[1;33m)\u001b[0m\u001b[1;33m\u001b[0m\u001b[0m\n\u001b[0m\u001b[0;32m     15\u001b[0m         \u001b[1;32mexcept\u001b[0m \u001b[0mImportError\u001b[0m\u001b[1;33m:\u001b[0m\u001b[1;33m\u001b[0m\u001b[0m\n",
      "\u001b[1;32m~\\Anaconda3\\lib\\importlib\\__init__.py\u001b[0m in \u001b[0;36mimport_module\u001b[1;34m(name, package)\u001b[0m\n\u001b[0;32m    125\u001b[0m             \u001b[0mlevel\u001b[0m \u001b[1;33m+=\u001b[0m \u001b[1;36m1\u001b[0m\u001b[1;33m\u001b[0m\u001b[0m\n\u001b[1;32m--> 126\u001b[1;33m     \u001b[1;32mreturn\u001b[0m \u001b[0m_bootstrap\u001b[0m\u001b[1;33m.\u001b[0m\u001b[0m_gcd_import\u001b[0m\u001b[1;33m(\u001b[0m\u001b[0mname\u001b[0m\u001b[1;33m[\u001b[0m\u001b[0mlevel\u001b[0m\u001b[1;33m:\u001b[0m\u001b[1;33m]\u001b[0m\u001b[1;33m,\u001b[0m \u001b[0mpackage\u001b[0m\u001b[1;33m,\u001b[0m \u001b[0mlevel\u001b[0m\u001b[1;33m)\u001b[0m\u001b[1;33m\u001b[0m\u001b[0m\n\u001b[0m\u001b[0;32m    127\u001b[0m \u001b[1;33m\u001b[0m\u001b[0m\n",
      "\u001b[1;32m~\\Anaconda3\\lib\\importlib\\_bootstrap.py\u001b[0m in \u001b[0;36m_gcd_import\u001b[1;34m(name, package, level)\u001b[0m\n",
      "\u001b[1;32m~\\Anaconda3\\lib\\importlib\\_bootstrap.py\u001b[0m in \u001b[0;36m_find_and_load\u001b[1;34m(name, import_)\u001b[0m\n",
      "\u001b[1;32m~\\Anaconda3\\lib\\importlib\\_bootstrap.py\u001b[0m in \u001b[0;36m_find_and_load_unlocked\u001b[1;34m(name, import_)\u001b[0m\n",
      "\u001b[1;32m~\\Anaconda3\\lib\\importlib\\_bootstrap.py\u001b[0m in \u001b[0;36m_load_unlocked\u001b[1;34m(spec)\u001b[0m\n",
      "\u001b[1;32m~\\Anaconda3\\lib\\importlib\\_bootstrap.py\u001b[0m in \u001b[0;36mmodule_from_spec\u001b[1;34m(spec)\u001b[0m\n",
      "\u001b[1;32m~\\Anaconda3\\lib\\importlib\\_bootstrap_external.py\u001b[0m in \u001b[0;36mcreate_module\u001b[1;34m(self, spec)\u001b[0m\n",
      "\u001b[1;32m~\\Anaconda3\\lib\\importlib\\_bootstrap.py\u001b[0m in \u001b[0;36m_call_with_frames_removed\u001b[1;34m(f, *args, **kwds)\u001b[0m\n",
      "\u001b[1;31mImportError\u001b[0m: DLL load failed: The specified module could not be found.",
      "\nDuring handling of the above exception, another exception occurred:\n",
      "\u001b[1;31mModuleNotFoundError\u001b[0m                       Traceback (most recent call last)",
      "\u001b[1;32m<ipython-input-26-6208dad868d6>\u001b[0m in \u001b[0;36m<module>\u001b[1;34m()\u001b[0m\n\u001b[1;32m----> 1\u001b[1;33m \u001b[1;32mimport\u001b[0m \u001b[0mSimpleITK\u001b[0m \u001b[1;32mas\u001b[0m \u001b[0msitk\u001b[0m\u001b[1;33m\u001b[0m\u001b[0m\n\u001b[0m\u001b[0;32m      2\u001b[0m \u001b[1;32mimport\u001b[0m \u001b[0mnumpy\u001b[0m \u001b[1;32mas\u001b[0m \u001b[0mnp\u001b[0m\u001b[1;33m\u001b[0m\u001b[0m\n\u001b[0;32m      3\u001b[0m \u001b[1;32mimport\u001b[0m \u001b[0mcsv\u001b[0m\u001b[1;33m\u001b[0m\u001b[0m\n\u001b[0;32m      4\u001b[0m \u001b[1;32mimport\u001b[0m \u001b[0mos\u001b[0m\u001b[1;33m\u001b[0m\u001b[0m\n\u001b[0;32m      5\u001b[0m \u001b[1;32mfrom\u001b[0m \u001b[0mPIL\u001b[0m \u001b[1;32mimport\u001b[0m \u001b[0mImage\u001b[0m\u001b[1;33m\u001b[0m\u001b[0m\n",
      "\u001b[1;32m~\\Anaconda3\\lib\\site-packages\\SimpleITK\\__init__.py\u001b[0m in \u001b[0;36m<module>\u001b[1;34m()\u001b[0m\n\u001b[1;32m----> 1\u001b[1;33m \u001b[1;32mfrom\u001b[0m \u001b[1;33m.\u001b[0m\u001b[0mSimpleITK\u001b[0m \u001b[1;32mimport\u001b[0m \u001b[1;33m*\u001b[0m\u001b[1;33m\u001b[0m\u001b[0m\n\u001b[0m",
      "\u001b[1;32m~\\Anaconda3\\lib\\site-packages\\SimpleITK\\SimpleITK.py\u001b[0m in \u001b[0;36m<module>\u001b[1;34m()\u001b[0m\n\u001b[0;32m     15\u001b[0m         \u001b[1;32mexcept\u001b[0m \u001b[0mImportError\u001b[0m\u001b[1;33m:\u001b[0m\u001b[1;33m\u001b[0m\u001b[0m\n\u001b[0;32m     16\u001b[0m             \u001b[1;32mreturn\u001b[0m \u001b[0mimportlib\u001b[0m\u001b[1;33m.\u001b[0m\u001b[0mimport_module\u001b[0m\u001b[1;33m(\u001b[0m\u001b[1;34m'_SimpleITK'\u001b[0m\u001b[1;33m)\u001b[0m\u001b[1;33m\u001b[0m\u001b[0m\n\u001b[1;32m---> 17\u001b[1;33m     \u001b[0m_SimpleITK\u001b[0m \u001b[1;33m=\u001b[0m \u001b[0mswig_import_helper\u001b[0m\u001b[1;33m(\u001b[0m\u001b[1;33m)\u001b[0m\u001b[1;33m\u001b[0m\u001b[0m\n\u001b[0m\u001b[0;32m     18\u001b[0m     \u001b[1;32mdel\u001b[0m \u001b[0mswig_import_helper\u001b[0m\u001b[1;33m\u001b[0m\u001b[0m\n\u001b[0;32m     19\u001b[0m \u001b[1;32melif\u001b[0m \u001b[0m_swig_python_version_info\u001b[0m \u001b[1;33m>=\u001b[0m \u001b[1;33m(\u001b[0m\u001b[1;36m2\u001b[0m\u001b[1;33m,\u001b[0m \u001b[1;36m6\u001b[0m\u001b[1;33m,\u001b[0m \u001b[1;36m0\u001b[0m\u001b[1;33m)\u001b[0m\u001b[1;33m:\u001b[0m\u001b[1;33m\u001b[0m\u001b[0m\n",
      "\u001b[1;32m~\\Anaconda3\\lib\\site-packages\\SimpleITK\\SimpleITK.py\u001b[0m in \u001b[0;36mswig_import_helper\u001b[1;34m()\u001b[0m\n\u001b[0;32m     14\u001b[0m             \u001b[1;32mreturn\u001b[0m \u001b[0mimportlib\u001b[0m\u001b[1;33m.\u001b[0m\u001b[0mimport_module\u001b[0m\u001b[1;33m(\u001b[0m\u001b[0mmname\u001b[0m\u001b[1;33m)\u001b[0m\u001b[1;33m\u001b[0m\u001b[0m\n\u001b[0;32m     15\u001b[0m         \u001b[1;32mexcept\u001b[0m \u001b[0mImportError\u001b[0m\u001b[1;33m:\u001b[0m\u001b[1;33m\u001b[0m\u001b[0m\n\u001b[1;32m---> 16\u001b[1;33m             \u001b[1;32mreturn\u001b[0m \u001b[0mimportlib\u001b[0m\u001b[1;33m.\u001b[0m\u001b[0mimport_module\u001b[0m\u001b[1;33m(\u001b[0m\u001b[1;34m'_SimpleITK'\u001b[0m\u001b[1;33m)\u001b[0m\u001b[1;33m\u001b[0m\u001b[0m\n\u001b[0m\u001b[0;32m     17\u001b[0m     \u001b[0m_SimpleITK\u001b[0m \u001b[1;33m=\u001b[0m \u001b[0mswig_import_helper\u001b[0m\u001b[1;33m(\u001b[0m\u001b[1;33m)\u001b[0m\u001b[1;33m\u001b[0m\u001b[0m\n\u001b[0;32m     18\u001b[0m     \u001b[1;32mdel\u001b[0m \u001b[0mswig_import_helper\u001b[0m\u001b[1;33m\u001b[0m\u001b[0m\n",
      "\u001b[1;32m~\\Anaconda3\\lib\\importlib\\__init__.py\u001b[0m in \u001b[0;36mimport_module\u001b[1;34m(name, package)\u001b[0m\n\u001b[0;32m    124\u001b[0m                 \u001b[1;32mbreak\u001b[0m\u001b[1;33m\u001b[0m\u001b[0m\n\u001b[0;32m    125\u001b[0m             \u001b[0mlevel\u001b[0m \u001b[1;33m+=\u001b[0m \u001b[1;36m1\u001b[0m\u001b[1;33m\u001b[0m\u001b[0m\n\u001b[1;32m--> 126\u001b[1;33m     \u001b[1;32mreturn\u001b[0m \u001b[0m_bootstrap\u001b[0m\u001b[1;33m.\u001b[0m\u001b[0m_gcd_import\u001b[0m\u001b[1;33m(\u001b[0m\u001b[0mname\u001b[0m\u001b[1;33m[\u001b[0m\u001b[0mlevel\u001b[0m\u001b[1;33m:\u001b[0m\u001b[1;33m]\u001b[0m\u001b[1;33m,\u001b[0m \u001b[0mpackage\u001b[0m\u001b[1;33m,\u001b[0m \u001b[0mlevel\u001b[0m\u001b[1;33m)\u001b[0m\u001b[1;33m\u001b[0m\u001b[0m\n\u001b[0m\u001b[0;32m    127\u001b[0m \u001b[1;33m\u001b[0m\u001b[0m\n\u001b[0;32m    128\u001b[0m \u001b[1;33m\u001b[0m\u001b[0m\n",
      "\u001b[1;31mModuleNotFoundError\u001b[0m: No module named '_SimpleITK'"
     ]
    }
   ],
   "source": [
    "import SimpleITK as sitk\n",
    "import numpy as np\n",
    "import csv\n",
    "import os\n",
    "from PIL import Image\n",
    "import matplotlib.pyplot as plt\n",
    "%matplotlib inline"
   ]
  },
  {
   "cell_type": "code",
   "execution_count": null,
   "metadata": {},
   "outputs": [],
   "source": []
  }
 ],
 "metadata": {
  "kernelspec": {
   "display_name": "Python 3",
   "language": "python",
   "name": "python3"
  },
  "language_info": {
   "codemirror_mode": {
    "name": "ipython",
    "version": 3
   },
   "file_extension": ".py",
   "mimetype": "text/x-python",
   "name": "python",
   "nbconvert_exporter": "python",
   "pygments_lexer": "ipython3",
   "version": "3.6.5"
  }
 },
 "nbformat": 4,
 "nbformat_minor": 2
}
