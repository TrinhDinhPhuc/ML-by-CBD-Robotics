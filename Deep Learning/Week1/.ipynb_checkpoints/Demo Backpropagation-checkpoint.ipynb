{
 "cells": [
  {
   "cell_type": "code",
   "execution_count": 1,
   "metadata": {},
   "outputs": [],
   "source": [
    "import pandas as pd\n",
    "import numpy as np"
   ]
  },
  {
   "cell_type": "code",
   "execution_count": 2,
   "metadata": {},
   "outputs": [
    {
     "name": "stdout",
     "output_type": "stream",
     "text": [
      "x=\n",
      " [[0 0 1]\n",
      " [0 1 1]\n",
      " [1 0 1]\n",
      " [1 1 1]]\n",
      "\n",
      "y=\n",
      "[[0]\n",
      " [1]\n",
      " [1]\n",
      " [0]]\n"
     ]
    }
   ],
   "source": [
    "#step1 collect data\n",
    "x  = np.array([[0,0,1],[0,1,1],[1,0,1],[1,1,1]])\n",
    "y = np.array([[0],[1],[1],[0]])\n",
    "print (\"x=\\n {}\\n\\ny=\\n{}\".format(x,y))"
   ]
  },
  {
   "cell_type": "code",
   "execution_count": 3,
   "metadata": {},
   "outputs": [
    {
     "name": "stdout",
     "output_type": "stream",
     "text": [
      "syn0= \n",
      "[[ 0.95103555 -0.31660376  0.16581839  0.57239062]\n",
      " [-0.80289735 -0.26210493 -0.38367053  0.37091851]\n",
      " [ 0.26287691 -0.88442575 -0.03023311 -0.0854063 ]]\n",
      "\n",
      "syn1=\n",
      "[[0.44499754]\n",
      " [0.0165374 ]\n",
      " [0.70264428]\n",
      " [0.07349569]]\n"
     ]
    }
   ],
   "source": [
    "#step2 build model\n",
    "num_epochs = 150000\n",
    "#initialize weights\n",
    "syn0 = 2*np.random.random((3,4)) - 1\n",
    "syn1 = 2*np.random.random((4,1)) - 1\n",
    "print (\"syn0= \\n{}\\n\\nsyn1=\\n{}\".format(syn0,syn1))"
   ]
  },
  {
   "cell_type": "markdown",
   "metadata": {},
   "source": [
    "![](https://cdn-images-1.medium.com/max/1200/1*Vo7UFksa_8Ne5HcfEzHNWQ.png)\n",
    "Other activation functions: https://towardsdatascience.com/activation-functions-neural-networks-1cbd9f8d91d6"
   ]
  },
  {
   "cell_type": "code",
   "execution_count": 4,
   "metadata": {},
   "outputs": [],
   "source": [
    "def sig_moid(x,deriv=False):\n",
    "    if(deriv==True):\n",
    "        return x*(1-x)\n",
    "    return 1/(1+np.exp(-x))"
   ]
  },
  {
   "cell_type": "code",
   "execution_count": 6,
   "metadata": {},
   "outputs": [
    {
     "name": "stdout",
     "output_type": "stream",
     "text": [
      "Error:0.5009510292349898\n",
      "Error:0.010817861798292305\n",
      "Error:0.007442627984403794\n",
      "Error:0.006008190193934582\n",
      "Error:0.005168769040784508\n",
      "Error:0.00460225283259651\n",
      "Error:0.004187250261468756\n",
      "Error:0.003866535385672995\n",
      "Error:0.0036091587608803525\n",
      "Error:0.003396735116801672\n",
      "Error:0.003217568383045952\n",
      "Error:0.003063818090165331\n",
      "Error:0.002930006457807619\n",
      "Error:0.002812175913181697\n",
      "Error:0.0027073867442787124\n"
     ]
    }
   ],
   "source": [
    "#Step 3 Train Model\n",
    "\n",
    "for j in range(num_epochs):\n",
    "    #feed forward through layers 0,1, and 2\n",
    "    k0 = x\n",
    "    k1 = sig_moid(np.dot(k0, syn0))\n",
    "    k2 = sig_moid(np.dot(k1, syn1))\n",
    "    #how much did we miss the target value?\n",
    "    k2_error = y - k2\n",
    "    \n",
    "    if (j% 10000) == 0:\n",
    "        print (\"Error:\" + str(np.mean(np.abs(k2_error))))\n",
    "    \n",
    "    #in what direction is the target value?\n",
    "    k2_delta = k2_error*sig_moid(k2, deriv=True)\n",
    "    \n",
    "    #how much did each k1 value contribute to k2 error\n",
    "    k1_error = k2_delta.dot(syn1.T)\n",
    "    \n",
    "    k1_delta= k1_error * sig_moid(k1,deriv=True)\n",
    "    \n",
    "    syn1 += k1.T.dot(k2_delta)\n",
    "    syn0 += k0.T.dot(k1_delta)"
   ]
  },
  {
   "cell_type": "code",
   "execution_count": 7,
   "metadata": {},
   "outputs": [
    {
     "data": {
      "text/plain": [
       "array([[0, 0, 1],\n",
       "       [0, 1, 1],\n",
       "       [1, 0, 1],\n",
       "       [1, 1, 1]])"
      ]
     },
     "execution_count": 7,
     "metadata": {},
     "output_type": "execute_result"
    }
   ],
   "source": [
    "k0"
   ]
  },
  {
   "cell_type": "code",
   "execution_count": 8,
   "metadata": {},
   "outputs": [
    {
     "data": {
      "text/plain": [
       "array([[9.14086969e-01, 2.64369883e-01, 9.73214976e-02, 5.83588743e-01],\n",
       "       [2.76533252e-02, 3.06589539e-02, 5.98761419e-05, 9.80661828e-01],\n",
       "       [9.99963326e-01, 3.28351932e-02, 9.60127425e-01, 9.76706638e-01],\n",
       "       [9.86465045e-01, 2.97900783e-03, 1.31974188e-02, 9.99341338e-01]])"
      ]
     },
     "execution_count": 8,
     "metadata": {},
     "output_type": "execute_result"
    }
   ],
   "source": [
    "k1"
   ]
  },
  {
   "cell_type": "code",
   "execution_count": 9,
   "metadata": {},
   "outputs": [
    {
     "data": {
      "text/plain": [
       "array([[0.00119541],\n",
       "       [0.99687631],\n",
       "       [0.99737833],\n",
       "       [0.00351288]])"
      ]
     },
     "execution_count": 9,
     "metadata": {},
     "output_type": "execute_result"
    }
   ],
   "source": [
    "k2"
   ]
  }
 ],
 "metadata": {
  "kernelspec": {
   "display_name": "Python 3",
   "language": "python",
   "name": "python3"
  },
  "language_info": {
   "codemirror_mode": {
    "name": "ipython",
    "version": 3
   },
   "file_extension": ".py",
   "mimetype": "text/x-python",
   "name": "python",
   "nbconvert_exporter": "python",
   "pygments_lexer": "ipython3",
   "version": "3.6.5"
  }
 },
 "nbformat": 4,
 "nbformat_minor": 2
}
