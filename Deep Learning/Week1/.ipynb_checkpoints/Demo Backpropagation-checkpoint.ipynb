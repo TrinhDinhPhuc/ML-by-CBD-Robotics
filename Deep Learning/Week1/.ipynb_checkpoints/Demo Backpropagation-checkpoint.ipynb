{
 "cells": [
  {
   "cell_type": "code",
   "execution_count": 1,
   "metadata": {},
   "outputs": [],
   "source": [
    "import pandas as pd\n",
    "import numpy as np"
   ]
  },
  {
   "cell_type": "code",
   "execution_count": 21,
   "metadata": {},
   "outputs": [
    {
     "name": "stdout",
     "output_type": "stream",
     "text": [
      "x=\n",
      " [[0 0 1]\n",
      " [0 1 1]\n",
      " [1 0 1]\n",
      " [1 1 1]]\n",
      "\n",
      "y=\n",
      "[[0]\n",
      " [1]\n",
      " [1]\n",
      " [0]]\n"
     ]
    }
   ],
   "source": [
    "#step1 collect data\n",
    "x  = np.array([[0,0,1],[0,1,1],[1,0,1],[1,1,1]])\n",
    "y = np.array([[0],[1],[1],[0]])\n",
    "print (\"x=\\n {}\\n\\ny=\\n{}\".format(x,y))"
   ]
  },
  {
   "cell_type": "code",
   "execution_count": 33,
   "metadata": {},
   "outputs": [
    {
     "name": "stdout",
     "output_type": "stream",
     "text": [
      "syn0= \n",
      "[[ 0.41641306  0.573101   -0.11214239 -0.45317131]\n",
      " [-0.8114427   0.30949139 -0.96540964  0.18737874]\n",
      " [ 0.1167194  -0.6235088   0.76741879 -0.17083819]]\n",
      "\n",
      "syn1=\n",
      "[[ 0.36383235]\n",
      " [ 0.6325093 ]\n",
      " [-0.89991568]\n",
      " [ 0.70400017]]\n"
     ]
    }
   ],
   "source": [
    "#step2 build model\n",
    "num_epochs = 150000\n",
    "#initialize weights\n",
    "syn0 = 2*np.random.random((3,4)) - 1\n",
    "syn1 = 2*np.random.random((4,1)) - 1\n",
    "print (\"syn0= \\n{}\\n\\nsyn1=\\n{}\".format(syn0,syn1))"
   ]
  },
  {
   "cell_type": "markdown",
   "metadata": {},
   "source": [
    "![](https://cdn-images-1.medium.com/max/1200/1*Vo7UFksa_8Ne5HcfEzHNWQ.png)\n",
    "Other activation functions: https://towardsdatascience.com/activation-functions-neural-networks-1cbd9f8d91d6"
   ]
  },
  {
   "cell_type": "code",
   "execution_count": 34,
   "metadata": {},
   "outputs": [],
   "source": [
    "def sig_moid(x,deriv=False):\n",
    "    if(deriv==True):\n",
    "        return x*(1-x)\n",
    "    return 1/(1+np.exp(-x))"
   ]
  },
  {
   "cell_type": "code",
   "execution_count": 35,
   "metadata": {},
   "outputs": [
    {
     "name": "stdout",
     "output_type": "stream",
     "text": [
      "try_= \n",
      "[[ 0.1167194  -0.6235088   0.76741879 -0.17083819]\n",
      " [-0.6947233  -0.31401741 -0.19799085  0.01654055]\n",
      " [ 0.53313247 -0.0504078   0.65527639 -0.6240095 ]\n",
      " [-0.27831024  0.25908359 -0.31013324 -0.43663076]]\n",
      "\n",
      "try_sigmoid=\n",
      "[[0.52914677 0.34898385 0.68296226 0.45739402]\n",
      " [0.33298318 0.42213444 0.45066335 0.50413504]\n",
      " [0.63021341 0.48740072 0.6581985  0.3488701 ]\n",
      " [0.43086809 0.564411   0.42308222 0.39254408]]\n"
     ]
    }
   ],
   "source": [
    "try_=np.dot(k0, syn0)\n",
    "print (\"try_= \\n{}\\n\\ntry_sigmoid=\\n{}\".format(try_,sig_moid(try_)))"
   ]
  },
  {
   "cell_type": "code",
   "execution_count": 36,
   "metadata": {},
   "outputs": [
    {
     "name": "stdout",
     "output_type": "stream",
     "text": [
      "Error:0.4999772415956623\n",
      "Error:0.01023593163473421\n",
      "Error:0.006993978250311977\n",
      "Error:0.0056183545909113146\n",
      "Error:0.004815694353334451\n",
      "Error:0.00427546264616776\n",
      "Error:0.0038806694766358365\n",
      "Error:0.0035762227227926066\n",
      "Error:0.0033323646978845236\n",
      "Error:0.0031314409947711414\n",
      "Error:0.002962234705277379\n",
      "Error:0.002817235685673559\n",
      "Error:0.0026912029897782483\n",
      "Error:0.002580354291471007\n",
      "Error:0.002481882962900566\n"
     ]
    }
   ],
   "source": [
    "#Step 3 Train Model\n",
    "\n",
    "for j in range(num_epochs):\n",
    "    #feed forward through layers 0,1, and 2\n",
    "    k0 = x\n",
    "    k1 = sig_moid(np.dot(k0, syn0))\n",
    "    k2 = sig_moid(np.dot(k1, syn1))\n",
    "    #how much did we miss the target value?\n",
    "    k2_error = y - k2\n",
    "    \n",
    "    if (j% 10000) == 0:\n",
    "        print (\"Error:\" + str(np.mean(np.abs(k2_error))))\n",
    "    \n",
    "    #in what direction is the target value?\n",
    "    k2_delta = k2_error*sig_moid(k2, deriv=True)\n",
    "    \n",
    "    #how much did each k1 value contribute to k2 error\n",
    "    k1_error = k2_delta.dot(syn1.T)\n",
    "    \n",
    "    k1_delta= k1_error * sig_moid(k1,deriv=True)\n",
    "    \n",
    "    syn1 += k1.T.dot(k2_delta)\n",
    "    syn0 += k0.T.dot(k1_delta)"
   ]
  },
  {
   "cell_type": "code",
   "execution_count": 37,
   "metadata": {},
   "outputs": [
    {
     "data": {
      "text/plain": [
       "array([[0, 0, 1],\n",
       "       [0, 1, 1],\n",
       "       [1, 0, 1],\n",
       "       [1, 1, 1]])"
      ]
     },
     "execution_count": 37,
     "metadata": {},
     "output_type": "execute_result"
    }
   ],
   "source": [
    "k0"
   ]
  },
  {
   "cell_type": "code",
   "execution_count": 31,
   "metadata": {},
   "outputs": [
    {
     "data": {
      "text/plain": [
       "array([[1.65694739e-01, 5.23973477e-01, 6.50074488e-01, 8.96050180e-01],\n",
       "       [6.89884274e-05, 9.29905559e-01, 2.31089092e-01, 1.18566382e-02],\n",
       "       [9.65877197e-01, 6.24425330e-04, 9.92268193e-01, 1.01735666e-02],\n",
       "       [9.73755644e-03, 7.47430226e-03, 9.54047813e-01, 1.43067502e-05]])"
      ]
     },
     "execution_count": 31,
     "metadata": {},
     "output_type": "execute_result"
    }
   ],
   "source": [
    "k1"
   ]
  },
  {
   "cell_type": "code",
   "execution_count": 32,
   "metadata": {},
   "outputs": [
    {
     "data": {
      "text/plain": [
       "array([[0.00188447],\n",
       "       [0.99672031],\n",
       "       [0.99563983],\n",
       "       [0.00540046]])"
      ]
     },
     "execution_count": 32,
     "metadata": {},
     "output_type": "execute_result"
    }
   ],
   "source": [
    "k2"
   ]
  },
  {
   "cell_type": "code",
   "execution_count": null,
   "metadata": {},
   "outputs": [],
   "source": []
  }
 ],
 "metadata": {
  "kernelspec": {
   "display_name": "Python 3",
   "language": "python",
   "name": "python3"
  },
  "language_info": {
   "codemirror_mode": {
    "name": "ipython",
    "version": 3
   },
   "file_extension": ".py",
   "mimetype": "text/x-python",
   "name": "python",
   "nbconvert_exporter": "python",
   "pygments_lexer": "ipython3",
   "version": "3.6.5"
  }
 },
 "nbformat": 4,
 "nbformat_minor": 2
}
