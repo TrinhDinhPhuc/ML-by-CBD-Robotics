{
 "cells": [
  {
   "cell_type": "code",
   "execution_count": 24,
   "metadata": {},
   "outputs": [],
   "source": [
    "import nltk\n",
    "import os\n",
    "import matplotlib.pyplot as plt\n",
    "from pathlib import Path\n",
    "from os import listdir"
   ]
  },
  {
   "cell_type": "code",
   "execution_count": 3,
   "metadata": {},
   "outputs": [
    {
     "name": "stdout",
     "output_type": "stream",
     "text": [
      "[nltk_data] Downloading package gutenberg to\n",
      "[nltk_data]     C:\\Users\\PhucCoi\\AppData\\Roaming\\nltk_data...\n",
      "[nltk_data]   Unzipping corpora\\gutenberg.zip.\n"
     ]
    },
    {
     "data": {
      "text/plain": [
       "True"
      ]
     },
     "execution_count": 3,
     "metadata": {},
     "output_type": "execute_result"
    }
   ],
   "source": [
    "nltk.download('gutenberg')"
   ]
  },
  {
   "cell_type": "code",
   "execution_count": 2,
   "metadata": {},
   "outputs": [],
   "source": [
    "emma = nltk.corpus.gutenberg.words('austen-emma.txt')"
   ]
  },
  {
   "cell_type": "code",
   "execution_count": 3,
   "metadata": {},
   "outputs": [
    {
     "data": {
      "text/plain": [
       "['[', 'Emma', 'by', 'Jane', 'Austen', '1816', ']', ...]"
      ]
     },
     "execution_count": 3,
     "metadata": {},
     "output_type": "execute_result"
    }
   ],
   "source": [
    "emma"
   ]
  },
  {
   "cell_type": "code",
   "execution_count": 11,
   "metadata": {},
   "outputs": [],
   "source": [
    "def get_avg_file_length(dir):\n",
    "    \"\"\"\n",
    "    Get the average file length of all files in the passed in directory.\n",
    "    :param dir: <String> path to directory to operate on\n",
    "    :return: <Int> Line count, <Int> File count\n",
    "    \"\"\"\n",
    "    file_count = 0\n",
    "    line_count = 0\n",
    "    for file in os.listdir(dir):\n",
    "        file_count += 1\n",
    "        if \".DS\" in file:\n",
    "            continue\n",
    "        with open(dir + file) as f:\n",
    "            line_count += len(f.readlines())\n",
    "    return line_count / file_count\n"
   ]
  },
  {
   "cell_type": "code",
   "execution_count": 13,
   "metadata": {},
   "outputs": [
    {
     "data": {
      "text/plain": [
       "13532.368421052632"
      ]
     },
     "execution_count": 13,
     "metadata": {},
     "output_type": "execute_result"
    }
   ],
   "source": [
    "get_avg_file_length(\"C:/Users/PhucCoi/AppData/Roaming/nltk_data/corpora/gutenberg/\")"
   ]
  },
  {
   "cell_type": "code",
   "execution_count": 14,
   "metadata": {},
   "outputs": [],
   "source": [
    "def get_avg_character_count(dir):\n",
    "    \"\"\"\n",
    "    Get the average character count of all files in the passed in directory.\n",
    "    :param dir: <String> path to directory to operate on\n",
    "    :return: <Int> character count, <Int> file_count\n",
    "    \"\"\"\n",
    "    file_count = 0\n",
    "    char_count = 0\n",
    "    for file in os.listdir(dir):\n",
    "        file_count += 1\n",
    "        if \".DS\" in file:\n",
    "            continue\n",
    "        with open(dir + file) as f:\n",
    "            char_count += len(f.read())\n",
    "    return char_count / file_count\n"
   ]
  },
  {
   "cell_type": "code",
   "execution_count": 15,
   "metadata": {},
   "outputs": [
    {
     "data": {
      "text/plain": [
       "618644.1578947369"
      ]
     },
     "execution_count": 15,
     "metadata": {},
     "output_type": "execute_result"
    }
   ],
   "source": [
    "get_avg_character_count(\"C:/Users/PhucCoi/AppData/Roaming/nltk_data/corpora/gutenberg/\")"
   ]
  },
  {
   "cell_type": "code",
   "execution_count": 16,
   "metadata": {},
   "outputs": [],
   "source": [
    "\n",
    "def get_line_counts(dir):\n",
    "    \"\"\"\n",
    "    Get the average line count of all files in the passed in directory.\n",
    "    :param dir: <String> path to directory to operate on\n",
    "    :return: <List> line counts\n",
    "    \"\"\"\n",
    "    line_counts = []\n",
    "    for file in os.listdir(dir):\n",
    "        if \".DS\" in file:\n",
    "            continue\n",
    "        if os.path.isdir(dir+file):\n",
    "            path = dir+file+'/'\n",
    "            for file2 in os.listdir(path):\n",
    "                with open(path+file2, encoding='ISO-8859-1') as f:\n",
    "                    line_counts.append(len(f.readlines()))\n",
    "        else:\n",
    "            with open(dir + file) as f:\n",
    "                line_counts.append(len(f.readlines()))\n",
    "    return line_counts"
   ]
  },
  {
   "cell_type": "code",
   "execution_count": 17,
   "metadata": {},
   "outputs": [
    {
     "data": {
      "text/plain": [
       "[16823,\n",
       " 8471,\n",
       " 14796,\n",
       " 99805,\n",
       " 1441,\n",
       " 5538,\n",
       " 1671,\n",
       " 3331,\n",
       " 9548,\n",
       " 7654,\n",
       " 6793,\n",
       " 18297,\n",
       " 22924,\n",
       " 10635,\n",
       " 222,\n",
       " 3523,\n",
       " 4922,\n",
       " 3286,\n",
       " 17435]"
      ]
     },
     "execution_count": 17,
     "metadata": {},
     "output_type": "execute_result"
    }
   ],
   "source": [
    "get_line_counts(\"C:/Users/PhucCoi/AppData/Roaming/nltk_data/corpora/gutenberg/\")"
   ]
  },
  {
   "cell_type": "code",
   "execution_count": 21,
   "metadata": {},
   "outputs": [],
   "source": [
    "def make_line_counts_histogram(line_counts, bins=10):\n",
    "    \"\"\"\n",
    "    Generates a histogram of line counts given a .\n",
    "    :param line_counts: <List> line counts\n",
    "    :param bins: <Int> number of bins to group into in histogram\n",
    "    :return:\n",
    "    \"\"\"\n",
    "    plt.xlabel('Lines')\n",
    "    plt.ylabel('Count')\n",
    "    plt.hist(line_counts, bins=bins, range=(0, 30000))\n",
    "    plt.show()\n"
   ]
  },
  {
   "cell_type": "code",
   "execution_count": 22,
   "metadata": {},
   "outputs": [
    {
     "data": {
      "image/png": "[encoded data removed]",
      "text/plain": [
       "<Figure size 432x288 with 1 Axes>"
      ]
     },
     "metadata": {},
     "output_type": "display_data"
    }
   ],
   "source": [
    "make_line_counts_histogram(get_line_counts(\"C:/Users/PhucCoi/AppData/Roaming/nltk_data/corpora/gutenberg/\"))"
   ]
  },
  {
   "cell_type": "code",
   "execution_count": null,
   "metadata": {},
   "outputs": [],
   "source": []
  },
  {
   "cell_type": "code",
   "execution_count": null,
   "metadata": {},
   "outputs": [],
   "source": []
  }
 ],
 "metadata": {
  "kernelspec": {
   "display_name": "Python 3",
   "language": "python",
   "name": "python3"
  },
  "language_info": {
   "codemirror_mode": {
    "name": "ipython",
    "version": 3
   },
   "file_extension": ".py",
   "mimetype": "text/x-python",
   "name": "python",
   "nbconvert_exporter": "python",
   "pygments_lexer": "ipython3",
   "version": "3.6.5"
  }
 },
 "nbformat": 4,
 "nbformat_minor": 2
}
