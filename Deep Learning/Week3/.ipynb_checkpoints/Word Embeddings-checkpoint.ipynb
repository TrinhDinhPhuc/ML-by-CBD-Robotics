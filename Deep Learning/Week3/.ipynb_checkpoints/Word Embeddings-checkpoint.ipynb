{
 "cells": [
  {
   "cell_type": "markdown",
   "metadata": {},
   "source": [
    "<br><br><center><h1 style=\"font-size:40px;color:#20B2AA\">Word Embedding </h1></center>\n",
    "![](https://www.datascience.com/hs-fs/hubfs/Resources/Articles/nn_embed.png?t=1531342397741&width=1414&height=694&name=nn_embed.png)\n",
    "     * Word embeddings are a set of feature engineering techniques widely used in predictive NLP modeling, particularly in deep learning applications. Word embeddings transform sparse vector representations of words into a dense, continuous vector space, enabling you to identify similarities between words and phrases — on a large scale — based on their context.\n",
    "\n"
   ]
  },
  {
   "cell_type": "code",
   "execution_count": 2,
   "metadata": {},
   "outputs": [
    {
     "name": "stdout",
     "output_type": "stream",
     "text": [
      "[nltk_data] Downloading package stopwords to\n",
      "[nltk_data]     C:\\Users\\PhucCoi\\AppData\\Roaming\\nltk_data...\n",
      "[nltk_data]   Unzipping corpora\\stopwords.zip.\n"
     ]
    }
   ],
   "source": [
    "from nltk.corpus import stopwords\n",
    "import nltk\n",
    "nltk.download('stopwords')\n",
    "# Bring in the default English NLTK stop words\n",
    "stoplist = stopwords.words('english')"
   ]
  },
  {
   "cell_type": "code",
   "execution_count": 5,
   "metadata": {},
   "outputs": [],
   "source": [
    "import pandas as pd"
   ]
  },
  {
   "cell_type": "code",
   "execution_count": 21,
   "metadata": {},
   "outputs": [],
   "source": [
    "stopwords = pd.read_csv('F:/data/stopwords.csv',encoding = \"ISO-8859-1\")"
   ]
  },
  {
   "cell_type": "code",
   "execution_count": 22,
   "metadata": {},
   "outputs": [],
   "source": [
    "stopwords = pd.Series.tolist(stopwords.a)"
   ]
  },
  {
   "cell_type": "code",
   "execution_count": 25,
   "metadata": {},
   "outputs": [
    {
     "data": {
      "text/plain": [
       "'able'"
      ]
     },
     "execution_count": 25,
     "metadata": {},
     "output_type": "execute_result"
    }
   ],
   "source": [
    "stopwords[1]"
   ]
  },
  {
   "cell_type": "code",
   "execution_count": 32,
   "metadata": {},
   "outputs": [],
   "source": [
    "text = ''' A Canticle for Leibowitz opens 600 years after 20th&nbsp;century civilization has been destroyed by a global nuclear war, known as the \"Flame Deluge\". The text reveals that as a result of the war there was a violent backlash against the culture of advanced knowledge and technology that had led to the development of nuclear weapons. During this backlash, called the \"Simplification,\" anyone of learning, and eventually anyone who could even read, was likely to be killed by rampaging mobs, who proudly took on the name of \"Simpletons\". Illiteracy became almost universal, and books were destroyed en masse. Isaac Edward Leibowitz had been a Jewish electrical engineer working for the United States military. Surviving the war, he converted to Roman Catholicism and founded a monastic order, the \"Albertian Order of Leibowitz\", dedicated to preserving knowledge by hiding books, smuggling them to safety (booklegging), memorizing, and copying them. The Order's abbey is located in the American southwestern desert, near the military base where Leibowitz had worked before the war, on an old road that may have been \"a portion of the shortest route from the Great Salt Lake to Old El Paso.\" Leibowitz was eventually betrayed and martyred. Later beatified by the Roman Catholic Church, he became a candidate for sainthood. Centuries after his death, the abbey is still preserving the \"Memorabilia\", the collected writings that have survived the Flame Deluge and the Simplification, in the hope that they will help future generations reclaim forgotten science. The story is structured in three parts titled: \"Fiat Homo\", \"Fiat Lux\", and \"Fiat Voluntas Tua\". The parts are separated by periods of six centuries each. In the 26th&nbsp;century, a 17-year-old novice named Brother Francis Gerard is on a vigil in the desert. While searching for a rock to complete a shelter Brother Francis encounters a Wanderer, apparently looking for the abbey, who inscribes Hebrew on a rock that appears the perfect fit for the shelter. When Brother Francis removes the rock he discovers the entrance to an ancient fallout shelter containing \"relics\", such as handwritten notes on crumbling memo pads bearing cryptic texts resembling a 20th-century shopping list. He soon realizes that these notes appear to have been written by Leibowitz, his order's founder. The discovery of the ancient documents causes an uproar at the monastery, as the other monks speculate that the relics once belonged to Leibowitz. Brother Francis' account of the wanderer, who ultimately never turned up at the abbey, is also greatly embellished by the other monks amid rumours that he was an apparition of Leibowitz himself; Francis strenuously denies the embellishments, but equally persistently refuses to deny that the encounter occurred, despite the lack of other witnesses. Abbot Arkos, the head of the monastery, worries that the discovery of so many potentially holy relics in such a short period may cause delays in Leibowitz's canonization process. Francis is banished back to the desert to complete his vigil and defuse the sensationalism. Many years later the abbey is visited by Monsignors Aguerra (God's Advocate) and Flaught (the Devil's Advocate), the Church's investigators in the case for Leibowitz's sainthood. Leibowitz is eventually canonized as Saint Leibowitz &ndash; based partly on the evidence Francis discovered in the shelter &ndash; and Brother Francis is sent to New Rome to represent the Order at the canonization Mass. He takes the documents found in the shelter and an illumination of one of the documents on which he has spent years working, a gift to the Pope. On route, he is robbed and his illumination taken. Francis completes the journey to New Rome and is granted an audience with the pope. Francis presents the pope with the remaining documents and the pope comforts Francis by giving him gold with which to ransom back the illumination; however, Francis is murdered during his return trip by \"misborn\" people (the \"Pope's children\"), receiving an arrow in the face. The Wanderer discovers and buries Francis's body. (The book then focuses on the vultures who were denied their meal; they fly over the Great Plains and find much food near the Red River until a city-state, based in Texarkana, rises). In 3174, the Albertian Order of St. Leibowitz is still preserving the half-understood knowledge from before the Flame Deluge and the subsequent Age of Simplification. The new Dark Age is ending, however, and a new Renaissance is beginning. Thon Taddeo Pfardentrott, a highly regarded secular scholar, is sent by his cousin Hannegan, Mayor of Texarkana, to the abbey. Thon Taddeo, frequently compared to Albert Einstein, is interested in the Order's preserved collection of Memorabilia. At the abbey, Brother Kornhoer, a talented engineer, has just finished work on a \"generator of electrical essences\", a treadmill-powered electrical generator that powers an arc lamp. He gives credit for the generator to work done by Thon Taddeo. After arriving at the monastery, Thon Taddeo, by studying the Memorabilia, makes several major \"discoveries\", and asks the abbot to allow the Memorabilia to be removed to Texarkana. The Abbot Dom Paulo refuses, stating he can continue his research at the abbey. Before departing, the Thon comments that it could take decades to finish analyzing the Memorabilia. Meanwhile, Hannegan makes an alliance with the kingdom of Laredo and the neighboring, relatively civilized city-states against the threat of attack from the nomadic warriors. Hannegan, however, is manipulating the regional politics to effectively neutralize all of his enemies, leaving him in control of the entire region. Monsignor Apollo, the papal nuncio to Hannegan's court, sends word to New Rome that Hannegan intends to attack the empire of Denver next, and that he intends to use the abbey as a base of operations from which to conduct the campaign. For his actions, Apollo is executed, and Hannegan initiates a church schism, declaring loyalty to the Pope to be punishable by death. The Church excommunicates Hannegan. It is the year 3781, and mankind has nuclear energy and weapons again, as well as starships and extra-solar colonies. Two world superpowers, the Asian Coalition and the Atlantic Confederacy, have been embroiled in a cold war for 50 years. The Leibowitzan Order's mission of preserving the Memorabilia has expanded to the preservation of all knowledge. Rumors that both sides are assembling nuclear weapons in space and that a nuclear weapon has been detonated increase public and international tensions. At the abbey, the current abbot, Dom Jethras Zerchi, recommends to New Rome that the Church reactivate the Quo Peregrinatur Grex Pastor Secum (\"Whither Wanders the Flock, the Shepherd is with Them\") contingency plans involving \"certain vehicles\" the Church has had since 3756. A \"nuclear incident\" occurs in the Asian Coalition city of Itu Wan: an underground nuclear explosion has destroyed the city, and the Atlantic Confederacy counters by firing a \"warning shot\" over the South Pacific. New Rome tells Zerchi to proceed with Quo Peregrinatur and plan for departure within three days. He appoints Brother Joshua as mission leader, telling him that this is an emergency plan for perpetuating the Church on the colony planets in the event of a nuclear war on Earth. The Order's Memorabilia will also accompany the mission. That night the Atlantic Confederacy launches an assault against Asian Coalition space platforms. The Asian Coalition responds by using a nuclear weapon against the Confederacy capital city of Texarkana. A ten-day cease-fire is issued by the World Court. Brother Joshua and the space-trained monks and priests depart on a secret, chartered flight for New Rome, hoping to leave Earth on the starship before the cease-fire ends. During the cease-fire, the abbey offers shelter to refugees fleeing the regions affected by fallout, which results in a battle of wills over euthanasia between the abbot and a doctor from a government emergency response camp. The war resumes and a nuclear explosion occurs near the abbey. Abbot Zerchi tries to flee to safety, bringing with him the abbey's ciborium containing consecrated hosts, but it is too late. He is trapped by the falling walls of the abbey and finds himself lying under tons of rock and bones as the abbey's ancient crypts disgorge their contents. Among them is a skull with an arrow's shaft protruding from its forehead (presumably that of Brother Francis Gerard from the first section of the book). As he lies dying under the abbey's rubble, Zerchi is startled to encounter Mrs Grales/Rachel, a bicephalous tomato peddler and mutant. However, Mrs. Grales has been rendered unconscious by the explosion, and may be dying herself. As Zerchi tries to conditionally baptize Rachel, she refuses, and instead takes the ciborium and administers the Eucharist to him. It is implied that she is, like the Virgin Mary, exempt from original sin. Zerchi soon dies, having witnessed an apparent miracle. After the Abbot's death, the scene flashes to Joshua and the Quo Peregrinatur crew launching as the nuclear explosions begin. Joshua, the last crew member to board the starship, knocks the dirt from his sandals, murmuring \"Sic transit mundus\" (\"Thus passes the world\"). As a coda, there is a final vignette depicting the ecological aspects of the war: seabirds and fish succumb to the poisonous fallout, and a shark evades death only through moving to particularly deep water, where, it is noted, the shark was \"very hungry that season.\"'''"
   ]
  },
  {
   "cell_type": "code",
   "execution_count": 39,
   "metadata": {},
   "outputs": [],
   "source": [
    "filtered_words = [word for word in text if word not in stoplist]\n"
   ]
  },
  {
   "cell_type": "code",
   "execution_count": 40,
   "metadata": {},
   "outputs": [
    {
     "data": {
      "text/plain": [
       "6208"
      ]
     },
     "execution_count": 40,
     "metadata": {},
     "output_type": "execute_result"
    }
   ],
   "source": [
    "len(filtered_words)"
   ]
  },
  {
   "cell_type": "code",
   "execution_count": 41,
   "metadata": {},
   "outputs": [
    {
     "data": {
      "text/plain": [
       "9630"
      ]
     },
     "execution_count": 41,
     "metadata": {},
     "output_type": "execute_result"
    }
   ],
   "source": [
    "len(text)"
   ]
  },
  {
   "cell_type": "code",
   "execution_count": 45,
   "metadata": {},
   "outputs": [
    {
     "name": "stdout",
     "output_type": "stream",
     "text": [
      "[nltk_data] Downloading package punkt to\n",
      "[nltk_data]     C:\\Users\\PhucCoi\\AppData\\Roaming\\nltk_data...\n",
      "[nltk_data]   Unzipping tokenizers\\punkt.zip.\n",
      "['This', 'is', 'a', 'sample', 'sentence', ',', 'showing', 'off', 'the', 'stop', 'words', 'filtration', '.']\n",
      "['This', 'sample', 'sentence', ',', 'showing', 'stop', 'words', 'filtration', '.']\n"
     ]
    }
   ],
   "source": [
    "from nltk.corpus import stopwords\n",
    "from nltk.tokenize import word_tokenize\n",
    "import nltk\n",
    "nltk.download('punkt')\n",
    "example_sent = \"This is a sample sentence, showing off the stop words filtration.\"\n",
    "\n",
    "stop_words = set(stopwords.words('english'))\n",
    "\n",
    "word_tokens = word_tokenize(example_sent)\n",
    "\n",
    "filtered_sentence = [w for w in word_tokens if not w in stop_words]\n",
    "\n",
    "filtered_sentence = []\n",
    "\n",
    "for w in word_tokens:\n",
    "    if w not in stop_words:\n",
    "        filtered_sentence.append(w)\n",
    "\n",
    "print(word_tokens)\n",
    "print(filtered_sentence)"
   ]
  },
  {
   "cell_type": "code",
   "execution_count": null,
   "metadata": {},
   "outputs": [],
   "source": []
  }
 ],
 "metadata": {
  "kernelspec": {
   "display_name": "Python 3",
   "language": "python",
   "name": "python3"
  },
  "language_info": {
   "codemirror_mode": {
    "name": "ipython",
    "version": 3
   },
   "file_extension": ".py",
   "mimetype": "text/x-python",
   "name": "python",
   "nbconvert_exporter": "python",
   "pygments_lexer": "ipython3",
   "version": "3.6.5"
  }
 },
 "nbformat": 4,
 "nbformat_minor": 2
}
