{
 "cells": [
  {
   "cell_type": "markdown",
   "metadata": {},
   "source": [
    "<br><br><center><h1 style=\"font-size:40px;color:#20B2AA\">Calculating TF-IDF scores (by hand) </h1></center>\n",
    "![](https://cdn-images-1.medium.com/max/1600/1*8XpbsR4HdAHBXy5MgpIyug.png)"
   ]
  },
  {
   "cell_type": "markdown",
   "metadata": {},
   "source": [
    "##### Consider the following sentences:\n",
    "1. \"The best Monty Python sketch is the one about the dead parrot, I\n",
    "laughed so hard.\"\n",
    "2. \"I laugh when I think about Python's Ministry of Silly Walks sketch, it is\n",
    "funny, funny, funny, the best!\"\n",
    "3. \"Chocolate is the best ice cream dessert topping, with a great taste.\"\n",
    "\n",
    "    #### Convert the sentences into numeric vectors using tf-idf scores."
   ]
  },
  {
   "cell_type": "markdown",
   "metadata": {},
   "source": [
    "## Khởi tạo 3 văn bản, tính số lần xuất hiện của mỗi từ trong văn bản:"
   ]
  },
  {
   "cell_type": "code",
   "execution_count": 1,
   "metadata": {},
   "outputs": [
    {
     "name": "stdout",
     "output_type": "stream",
     "text": [
      "Các từ trong 2 văn bản là:\n",
      " {'sketch,', 'Python', 'laughed', 'think', 'great', 'Silly', 'cream', 'laugh', 'dead', \"Python's\", 'when', 'best', 'Monty', 'one', 'parrot,', 'Ministry', 'a', 'ice', 'topping,', 'the', 'hard.', 'funny,', 'it', 'Walks', 'about', 'sketch', 'so', 'dessert', 'with', 'taste.', 'Chocolate', 'is', 'I', 'of', 'best!', 'The'}\n",
      "\n",
      "Số từ xuất hiện trong văn bản 1 là:\n",
      " {'sketch,': 0, 'Python': 1, 'laughed': 1, 'think': 0, 'great': 0, 'Silly': 0, 'cream': 0, 'laugh': 0, 'dead': 1, \"Python's\": 0, 'when': 0, 'best': 1, 'Monty': 1, 'one': 1, 'parrot,': 1, 'Ministry': 0, 'a': 0, 'ice': 0, 'topping,': 0, 'the': 2, 'hard.': 1, 'funny,': 0, 'it': 0, 'Walks': 0, 'about': 1, 'sketch': 1, 'so': 1, 'dessert': 0, 'with': 0, 'taste.': 0, 'Chocolate': 0, 'is': 1, 'I': 1, 'of': 0, 'best!': 0, 'The': 1}\n",
      "\n",
      "Số từ xuất hiện trong văn bản 2 là:\n",
      " {'sketch,': 1, 'Python': 0, 'laughed': 0, 'think': 1, 'great': 0, 'Silly': 1, 'cream': 0, 'laugh': 1, 'dead': 0, \"Python's\": 1, 'when': 1, 'best': 0, 'Monty': 0, 'one': 0, 'parrot,': 0, 'Ministry': 1, 'a': 0, 'ice': 0, 'topping,': 0, 'the': 1, 'hard.': 0, 'funny,': 3, 'it': 1, 'Walks': 1, 'about': 1, 'sketch': 0, 'so': 0, 'dessert': 0, 'with': 0, 'taste.': 0, 'Chocolate': 0, 'is': 1, 'I': 2, 'of': 1, 'best!': 1, 'The': 0}\n",
      "\n",
      "Số từ xuất hiện trong văn bản 3 là:\n",
      " {'sketch,': 0, 'Python': 0, 'laughed': 0, 'think': 0, 'great': 1, 'Silly': 0, 'cream': 1, 'laugh': 0, 'dead': 0, \"Python's\": 0, 'when': 0, 'best': 1, 'Monty': 0, 'one': 0, 'parrot,': 0, 'Ministry': 0, 'a': 1, 'ice': 1, 'topping,': 1, 'the': 1, 'hard.': 0, 'funny,': 0, 'it': 0, 'Walks': 0, 'about': 0, 'sketch': 0, 'so': 0, 'dessert': 1, 'with': 1, 'taste.': 1, 'Chocolate': 1, 'is': 1, 'I': 0, 'of': 0, 'best!': 0, 'The': 0}\n"
     ]
    }
   ],
   "source": [
    "# Khởi tạo 2 văn bản text1, text2\n",
    "text1 = \"The best Monty Python sketch is the one about the dead parrot, I laughed so hard.\"\n",
    "text2 = \"I laugh when I think about Python's Ministry of Silly Walks sketch, it is funny, funny, funny, the best!\"\n",
    "text3 = \"Chocolate is the best ice cream dessert topping, with a great taste.\"\n",
    "bowA = text1.split(\" \") # tách từ ở văn bản 1\n",
    "bowB = text2.split(\" \") # tách từ ở văn bản 2\n",
    "bowC = text3.split(\" \") # tách từ ở văn bản 2\n",
    "\n",
    "#Tạo một dictionary\n",
    "word_dict = set(bowA).union(set(bowB)).union(set(bowC))\n",
    "wordDictA = dict.fromkeys(word_dict, 0)\n",
    "wordDictB = dict.fromkeys(word_dict, 0)\n",
    "wordDictC = dict.fromkeys(word_dict, 0)\n",
    "\n",
    "#Đếm số lượng từ\n",
    "for word in bowA:\n",
    "    wordDictA[word]+=1\n",
    "for word in bowB:\n",
    "    wordDictB[word]+=1\n",
    "for word in bowC:\n",
    "    wordDictC[word]+=1\n",
    "print(\"Các từ trong 2 văn bản là:\\n {}\".format(word_dict))\n",
    "print()\n",
    "print(\"Số từ xuất hiện trong văn bản 1 là:\\n {}\\n\\nSố từ xuất hiện trong văn bản 2 là:\\n {}\\n\\nSố từ xuất hiện trong văn bản 3 là:\\n {}\".format(wordDictA,wordDictB,wordDictC))"
   ]
  },
  {
   "cell_type": "markdown",
   "metadata": {},
   "source": [
    "## Tính TF:\n"
   ]
  },
  {
   "cell_type": "code",
   "execution_count": 3,
   "metadata": {},
   "outputs": [
    {
     "name": "stdout",
     "output_type": "stream",
     "text": [
      "\n",
      "Kết quả TF:\n",
      " văn bản 1: {'sketch,': 0.0, 'Python': 0.0625, 'laughed': 0.0625, 'think': 0.0, 'great': 0.0, 'Silly': 0.0, 'cream': 0.0, 'laugh': 0.0, 'dead': 0.0625, \"Python's\": 0.0, 'when': 0.0, 'best': 0.0625, 'Monty': 0.0625, 'one': 0.0625, 'parrot,': 0.0625, 'Ministry': 0.0, 'a': 0.0, 'ice': 0.0, 'topping,': 0.0, 'the': 0.125, 'hard.': 0.0625, 'funny,': 0.0, 'it': 0.0, 'Walks': 0.0, 'about': 0.0625, 'sketch': 0.0625, 'so': 0.0625, 'dessert': 0.0, 'with': 0.0, 'taste.': 0.0, 'Chocolate': 0.0, 'is': 0.0625, 'I': 0.0625, 'of': 0.0, 'best!': 0.0, 'The': 0.0625}\n",
      " văn bản 2 {'sketch,': 0.05263157894736842, 'Python': 0.0, 'laughed': 0.0, 'think': 0.05263157894736842, 'great': 0.0, 'Silly': 0.05263157894736842, 'cream': 0.0, 'laugh': 0.05263157894736842, 'dead': 0.0, \"Python's\": 0.05263157894736842, 'when': 0.05263157894736842, 'best': 0.0, 'Monty': 0.0, 'one': 0.0, 'parrot,': 0.0, 'Ministry': 0.05263157894736842, 'a': 0.0, 'ice': 0.0, 'topping,': 0.0, 'the': 0.05263157894736842, 'hard.': 0.0, 'funny,': 0.15789473684210525, 'it': 0.05263157894736842, 'Walks': 0.05263157894736842, 'about': 0.05263157894736842, 'sketch': 0.0, 'so': 0.0, 'dessert': 0.0, 'with': 0.0, 'taste.': 0.0, 'Chocolate': 0.0, 'is': 0.05263157894736842, 'I': 0.10526315789473684, 'of': 0.05263157894736842, 'best!': 0.05263157894736842, 'The': 0.0}\n",
      " văn bản 3 {'sketch,': 0.0, 'Python': 0.0, 'laughed': 0.0, 'think': 0.0, 'great': 0.08333333333333333, 'Silly': 0.0, 'cream': 0.08333333333333333, 'laugh': 0.0, 'dead': 0.0, \"Python's\": 0.0, 'when': 0.0, 'best': 0.08333333333333333, 'Monty': 0.0, 'one': 0.0, 'parrot,': 0.0, 'Ministry': 0.0, 'a': 0.08333333333333333, 'ice': 0.08333333333333333, 'topping,': 0.08333333333333333, 'the': 0.08333333333333333, 'hard.': 0.0, 'funny,': 0.0, 'it': 0.0, 'Walks': 0.0, 'about': 0.0, 'sketch': 0.0, 'so': 0.0, 'dessert': 0.08333333333333333, 'with': 0.08333333333333333, 'taste.': 0.08333333333333333, 'Chocolate': 0.08333333333333333, 'is': 0.08333333333333333, 'I': 0.0, 'of': 0.0, 'best!': 0.0, 'The': 0.0}\n"
     ]
    }
   ],
   "source": [
    "def compute_TF(word_dict, bow):\n",
    "    tf_dict = {}\n",
    "    bow_count = len(bow)\n",
    "    for word, count in word_dict.items():\n",
    "        tf_dict[word] = count / float(bow_count)\n",
    "    return tf_dict\n",
    "print(\"\\nKết quả TF:\\n văn bản 1: {}\\n văn bản 2 {}\\n văn bản 3 {}\"\n",
    ".format(compute_TF(wordDictA,bowA),compute_TF(wordDictB,bowB),compute_TF(wordDictC,bowC)))"
   ]
  },
  {
   "cell_type": "markdown",
   "metadata": {},
   "source": [
    "# Tính IDF:"
   ]
  },
  {
   "cell_type": "code",
   "execution_count": 5,
   "metadata": {},
   "outputs": [
    {
     "name": "stdout",
     "output_type": "stream",
     "text": [
      "Kết Quả IDF:\n",
      " {'sketch,': 1.0986122886681098, 'Python': 1.0986122886681098, 'laughed': 1.0986122886681098, 'think': 1.0986122886681098, 'great': 1.0986122886681098, 'Silly': 1.0986122886681098, 'cream': 1.0986122886681098, 'laugh': 1.0986122886681098, 'dead': 1.0986122886681098, \"Python's\": 1.0986122886681098, 'when': 1.0986122886681098, 'best': 0.4054651081081644, 'Monty': 1.0986122886681098, 'one': 1.0986122886681098, 'parrot,': 1.0986122886681098, 'Ministry': 1.0986122886681098, 'a': 1.0986122886681098, 'ice': 1.0986122886681098, 'topping,': 1.0986122886681098, 'the': 0.0, 'hard.': 1.0986122886681098, 'funny,': 1.0986122886681098, 'it': 1.0986122886681098, 'Walks': 1.0986122886681098, 'about': 0.4054651081081644, 'sketch': 1.0986122886681098, 'so': 1.0986122886681098, 'dessert': 1.0986122886681098, 'with': 1.0986122886681098, 'taste.': 1.0986122886681098, 'Chocolate': 1.0986122886681098, 'is': 0.0, 'I': 0.4054651081081644, 'of': 1.0986122886681098, 'best!': 1.0986122886681098, 'The': 1.0986122886681098}\n"
     ]
    }
   ],
   "source": [
    "import math #import thư viện math\n",
    "def compute_IDF(doc_list):\n",
    "    idf_dict = {} #tạo một dictionary rỗng\n",
    "    N = len(doc_list) #gán độ dài của list cho biến N\n",
    "    idf_dict = dict.fromkeys(doc_list[0].keys(), 0) #tạo dictionary lưu các keys với value = 0\n",
    "    #lọc ra thành 1 list gồm các từ xuất hiện >=1 lần\n",
    "    for doc in doc_list:\n",
    "        for word, count in doc.items():\n",
    "            if count > 0:\n",
    "                idf_dict[word] += 1\n",
    "    for word, count in idf_dict.items():\n",
    "        idf_dict[word] = math.log(N / float(count))\n",
    "    return idf_dict\n",
    "print(\"Kết Quả IDF:\\n {}\".format(compute_IDF([wordDictA, wordDictB,wordDictC])))"
   ]
  },
  {
   "cell_type": "markdown",
   "metadata": {},
   "source": [
    "# Tính TF-IDF"
   ]
  },
  {
   "cell_type": "code",
   "execution_count": 26,
   "metadata": {},
   "outputs": [],
   "source": [
    "a= [a*b for a,b in zip(list(compute_TF(wordDictA,bowA).values()),list(compute_IDF([wordDictA, wordDictB,wordDictC]).values()))]"
   ]
  },
  {
   "cell_type": "code",
   "execution_count": 29,
   "metadata": {},
   "outputs": [],
   "source": [
    "i=0\n",
    "for key, value in wordDictA.items():\n",
    "    wordDictA[key] = a[i]\n",
    "    i+=1"
   ]
  },
  {
   "cell_type": "code",
   "execution_count": 30,
   "metadata": {},
   "outputs": [
    {
     "data": {
      "text/plain": [
       "{'sketch,': 0.0,\n",
       " 'Python': 0.06866326804175686,\n",
       " 'laughed': 0.06866326804175686,\n",
       " 'think': 0.0,\n",
       " 'great': 0.0,\n",
       " 'Silly': 0.0,\n",
       " 'cream': 0.0,\n",
       " 'laugh': 0.0,\n",
       " 'dead': 0.06866326804175686,\n",
       " \"Python's\": 0.0,\n",
       " 'when': 0.0,\n",
       " 'best': 0.025341569256760274,\n",
       " 'Monty': 0.06866326804175686,\n",
       " 'one': 0.06866326804175686,\n",
       " 'parrot,': 0.06866326804175686,\n",
       " 'Ministry': 0.0,\n",
       " 'a': 0.0,\n",
       " 'ice': 0.0,\n",
       " 'topping,': 0.0,\n",
       " 'the': 0.0,\n",
       " 'hard.': 0.06866326804175686,\n",
       " 'funny,': 0.0,\n",
       " 'it': 0.0,\n",
       " 'Walks': 0.0,\n",
       " 'about': 0.025341569256760274,\n",
       " 'sketch': 0.06866326804175686,\n",
       " 'so': 0.06866326804175686,\n",
       " 'dessert': 0.0,\n",
       " 'with': 0.0,\n",
       " 'taste.': 0.0,\n",
       " 'Chocolate': 0.0,\n",
       " 'is': 0.0,\n",
       " 'I': 0.025341569256760274,\n",
       " 'of': 0.0,\n",
       " 'best!': 0.0,\n",
       " 'The': 0.06866326804175686}"
      ]
     },
     "execution_count": 30,
     "metadata": {},
     "output_type": "execute_result"
    }
   ],
   "source": [
    "wordDictA"
   ]
  },
  {
   "cell_type": "code",
   "execution_count": 31,
   "metadata": {},
   "outputs": [],
   "source": [
    "b= [a*b for a,b in zip(list(compute_TF(wordDictB,bowB).values()),list(compute_IDF([wordDictA, wordDictB,wordDictC]).values()))]"
   ]
  },
  {
   "cell_type": "code",
   "execution_count": 32,
   "metadata": {},
   "outputs": [
    {
     "data": {
      "text/plain": [
       "{'sketch,': 0.0,\n",
       " 'Python': 0.06866326804175686,\n",
       " 'laughed': 0.06866326804175686,\n",
       " 'think': 0.0,\n",
       " 'great': 0.0,\n",
       " 'Silly': 0.0,\n",
       " 'cream': 0.0,\n",
       " 'laugh': 0.0,\n",
       " 'dead': 0.06866326804175686,\n",
       " \"Python's\": 0.0,\n",
       " 'when': 0.0,\n",
       " 'best': 0.025341569256760274,\n",
       " 'Monty': 0.06866326804175686,\n",
       " 'one': 0.06866326804175686,\n",
       " 'parrot,': 0.06866326804175686,\n",
       " 'Ministry': 0.0,\n",
       " 'a': 0.0,\n",
       " 'ice': 0.0,\n",
       " 'topping,': 0.0,\n",
       " 'the': 0.0,\n",
       " 'hard.': 0.06866326804175686,\n",
       " 'funny,': 0.0,\n",
       " 'it': 0.0,\n",
       " 'Walks': 0.0,\n",
       " 'about': 0.025341569256760274,\n",
       " 'sketch': 0.06866326804175686,\n",
       " 'so': 0.06866326804175686,\n",
       " 'dessert': 0.0,\n",
       " 'with': 0.0,\n",
       " 'taste.': 0.0,\n",
       " 'Chocolate': 0.0,\n",
       " 'is': 0.0,\n",
       " 'I': 0.025341569256760274,\n",
       " 'of': 0.0,\n",
       " 'best!': 0.0,\n",
       " 'The': 0.06866326804175686}"
      ]
     },
     "execution_count": 32,
     "metadata": {},
     "output_type": "execute_result"
    }
   ],
   "source": [
    "i=0\n",
    "for key, value in wordDictB.items():\n",
    "    wordDictB[key] = a[i]\n",
    "    i+=1\n",
    "wordDictB"
   ]
  }
 ],
 "metadata": {
  "kernelspec": {
   "display_name": "Python 3",
   "language": "python",
   "name": "python3"
  },
  "language_info": {
   "codemirror_mode": {
    "name": "ipython",
    "version": 3
   },
   "file_extension": ".py",
   "mimetype": "text/x-python",
   "name": "python",
   "nbconvert_exporter": "python",
   "pygments_lexer": "ipython3",
   "version": "3.6.5"
  }
 },
 "nbformat": 4,
 "nbformat_minor": 2
}
